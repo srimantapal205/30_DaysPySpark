{
  "nbformat": 4,
  "nbformat_minor": 0,
  "metadata": {
    "colab": {
      "provenance": [],
      "authorship_tag": "ABX9TyN0I9ysMpkdGD9BMScfsqoe"
    },
    "kernelspec": {
      "name": "python3",
      "display_name": "Python 3"
    },
    "language_info": {
      "name": "python"
    }
  },
  "cells": [
    {
      "cell_type": "markdown",
      "source": [
        "## Import Required Libraries"
      ],
      "metadata": {
        "id": "5yVKUEsvi43U"
      }
    },
    {
      "cell_type": "code",
      "execution_count": 24,
      "metadata": {
        "colab": {
          "base_uri": "https://localhost:8080/"
        },
        "id": "xO2M6ePuDacn",
        "outputId": "aac05e5b-61f7-4ebe-8b94-37695766e7d5"
      },
      "outputs": [
        {
          "output_type": "stream",
          "name": "stdout",
          "text": [
            "Requirement already satisfied: pyspark in /usr/local/lib/python3.11/dist-packages (3.5.4)\n",
            "Requirement already satisfied: py4j==0.10.9.7 in /usr/local/lib/python3.11/dist-packages (from pyspark) (0.10.9.7)\n"
          ]
        }
      ],
      "source": [
        "!pip install pyspark\n",
        "\n",
        "from pyspark.sql import SparkSession\n",
        "from pyspark.sql.types import *\n",
        "spark = SparkSession.builder.getOrCreate()"
      ]
    },
    {
      "cell_type": "code",
      "source": [
        "from google.colab import drive\n",
        "\n",
        "# Mount Google Drive with a longer timeout\n",
        "drive.mount('/content/drive', force_remount=True, timeout_ms=300000)"
      ],
      "metadata": {
        "colab": {
          "base_uri": "https://localhost:8080/"
        },
        "id": "K3dtppCVDxZy",
        "outputId": "00edee7f-cb8a-406a-b1b9-026df1e896da"
      },
      "execution_count": 6,
      "outputs": [
        {
          "output_type": "stream",
          "name": "stdout",
          "text": [
            "Mounted at /content/drive\n"
          ]
        }
      ]
    },
    {
      "cell_type": "code",
      "source": [
        "# File Path\n",
        "path_customer_orders=\"/content/drive/MyDrive/Colab Notebooks/dataSet/customerOrder/customer-orders.csv\"\n",
        "path_order_items=\"/content/drive/MyDrive/Colab Notebooks/dataSet/customerOrder/order_items.csv\"\n",
        "path_orders=\"/content/drive/MyDrive/Colab Notebooks/dataSet/customerOrder/orders.csv\"\n",
        "path_products=\"/content/drive/MyDrive/Colab Notebooks/dataSet/customerOrder/products.csv\"\n",
        "path_stores=\"/content/drive/MyDrive/Colab Notebooks/dataSet/customerOrder/stores.csv\"\n",
        "path_customers=\"/content/drive/MyDrive/Colab Notebooks/dataSet/customerOrder/customers.csv\"\n",
        "\n",
        "# /content/drive/MyDrive/Colab Notebooks/dataSet/AdventureWorksRawData/SalesData/\n",
        "\n",
        "# /content/drive/MyDrive/Colab Notebooks/dataSet/AdventureWorksRawData/AdventureWorks Calendar Lookup.csv\n",
        "# /content/drive/MyDrive/Colab Notebooks/dataSet/AdventureWorksRawData/AdventureWorks Customer Lookup.csv\n",
        "# /content/drive/MyDrive/Colab Notebooks/dataSet/AdventureWorksRawData/AdventureWorks Product Categories Lookup.csv\n",
        "\n"
      ],
      "metadata": {
        "id": "VA19RLMdD1NQ"
      },
      "execution_count": null,
      "outputs": []
    },
    {
      "cell_type": "code",
      "source": [
        "ls drive/MyDrive/'Colab Notebooks'/"
      ],
      "metadata": {
        "id": "JrQJgq6XK1bT",
        "outputId": "15ec0ea5-d34d-4057-ddbd-e1b0dee9309d",
        "colab": {
          "base_uri": "https://localhost:8080/"
        }
      },
      "execution_count": 19,
      "outputs": [
        {
          "output_type": "stream",
          "name": "stdout",
          "text": [
            "'2. Loading Data from CSV File into a DataFrame.ipynb'   programwith_rdd.ipynb\n",
            " \u001b[0m\u001b[01;34mdataSet\u001b[0m/                                                Untitled0.ipynb\n",
            "'Day 1: Creating DataFrames in PySpark.ipynb'            Untitled1.ipynb\n"
          ]
        }
      ]
    },
    {
      "cell_type": "markdown",
      "source": [
        "## Define the Schema"
      ],
      "metadata": {
        "id": "Vg6u3w0Zi7m8"
      }
    },
    {
      "cell_type": "code",
      "source": [
        "df_product = spark.read.csv(path=\"/content/drive/MyDrive/Colab Notebooks/dataSet/customerOrder/products.csv\", header=True, inferSchema=True)\n",
        "df_product.printSchema()"
      ],
      "metadata": {
        "id": "Pd4eat2ZIxYk",
        "outputId": "a8bfdb13-857d-46c0-a8b9-2a41e7397710",
        "colab": {
          "base_uri": "https://localhost:8080/"
        }
      },
      "execution_count": 7,
      "outputs": [
        {
          "output_type": "stream",
          "name": "stdout",
          "text": [
            "root\n",
            " |-- PRODUCT_ID: integer (nullable = true)\n",
            " |-- PRODUCT_NAME: string (nullable = true)\n",
            " |-- UNIT_PRICE: double (nullable = true)\n",
            "\n"
          ]
        }
      ]
    },
    {
      "cell_type": "code",
      "source": [
        "df_customer = spark.read.csv(path=\"/content/drive/MyDrive/Colab Notebooks/dataSet/AdventureWorksRawData/AdventureWorks Customer Lookup.csv\", header=True, inferSchema=True)\n",
        "df_customer.printSchema()\n",
        "df_customer.show()"
      ],
      "metadata": {
        "id": "pngU-fTlLpv2",
        "outputId": "78719100-d008-42d8-b4d4-b3ed93497386",
        "colab": {
          "base_uri": "https://localhost:8080/"
        }
      },
      "execution_count": 22,
      "outputs": [
        {
          "output_type": "stream",
          "name": "stdout",
          "text": [
            "root\n",
            " |-- CustomerKey: string (nullable = true)\n",
            " |-- Prefix: string (nullable = true)\n",
            " |-- FirstName: string (nullable = true)\n",
            " |-- LastName: string (nullable = true)\n",
            " |-- BirthDate: date (nullable = true)\n",
            " |-- MaritalStatus: string (nullable = true)\n",
            " |-- Gender: string (nullable = true)\n",
            " |-- EmailAddress: string (nullable = true)\n",
            " |-- AnnualIncome: integer (nullable = true)\n",
            " |-- TotalChildren: integer (nullable = true)\n",
            " |-- EducationLevel: string (nullable = true)\n",
            " |-- Occupation: string (nullable = true)\n",
            " |-- HomeOwner: string (nullable = true)\n",
            "\n",
            "+-----------+------+---------+--------+----------+-------------+------+--------------------+------------+-------------+---------------+--------------+---------+\n",
            "|CustomerKey|Prefix|FirstName|LastName| BirthDate|MaritalStatus|Gender|        EmailAddress|AnnualIncome|TotalChildren| EducationLevel|    Occupation|HomeOwner|\n",
            "+-----------+------+---------+--------+----------+-------------+------+--------------------+------------+-------------+---------------+--------------+---------+\n",
            "|      11000|   MR.|      JON|    YANG|1966-04-08|            M|     M|jon24@adventure-w...|       90000|            2|      Bachelors|  Professional|        Y|\n",
            "|      11001|   MR.|   EUGENE|   HUANG|1965-05-14|            S|     M|eugene10@adventur...|       60000|            3|      Bachelors|  Professional|        N|\n",
            "|      11002|   MR.|    RUBEN|  TORRES|1965-08-12|            M|     M|ruben35@adventure...|       60000|            3|      Bachelors|  Professional|        Y|\n",
            "|      11003|   MS.|  CHRISTY|     ZHU|1968-02-15|            S|     F|christy12@adventu...|       70000|            0|      Bachelors|  Professional|        N|\n",
            "|      11004|  MRS.|ELIZABETH| JOHNSON|1968-08-08|            S|     F|elizabeth5@advent...|       80000|            5|      Bachelors|  Professional|        Y|\n",
            "|      11005|   MR.|    JULIO|    RUIZ|1965-08-05|            S|     M|julio1@adventure-...|       70000|            0|      Bachelors|  Professional|        Y|\n",
            "|      11007|   MR.|    MARCO|   MEHTA|1964-05-09|            M|     M|marco14@adventure...|       60000|            3|      Bachelors|  Professional|        Y|\n",
            "|      11008|  MRS.|    ROBIN| VERHOFF|1964-07-07|            S|     F|rob4@adventure-wo...|       60000|            4|      Bachelors|  Professional|        Y|\n",
            "|      11009|   MR.|  SHANNON| CARLSON|1964-04-01|            S|     M|shannon38@adventu...|       70000|            0|      Bachelors|  Professional|        N|\n",
            "|      11010|   MS.|JACQUELYN|  SUAREZ|1964-02-06|            S|     F|jacquelyn20@adven...|       70000|            0|      Bachelors|  Professional|        N|\n",
            "|      11011|   MR.|   CURTIS|      LU|1963-11-04|            M|     M|curtis9@adventure...|       60000|            4|      Bachelors|  Professional|        Y|\n",
            "|      11012|  MRS.|   LAUREN|  WALKER|1968-01-18|            M|     F|lauren41@adventur...|      100000|            2|      Bachelors|    Management|        Y|\n",
            "|      11013|   MR.|      IAN| JENKINS|1968-08-06|            M|     M|ian47@adventure-w...|      100000|            2|      Bachelors|    Management|        Y|\n",
            "|      11014|  MRS.|   SYDNEY| BENNETT|1968-05-09|            S|     F|sydney23@adventur...|      100000|            3|      Bachelors|    Management|        N|\n",
            "|      11015|   MS.|    CHLOE|   YOUNG|1979-02-27|            S|     F|chloe23@adventure...|       30000|            0|Partial College|Skilled Manual|        N|\n",
            "|      11016|   MR.|    WYATT|    HILL|1979-04-28|            M|     M|wyatt32@adventure...|       30000|            0|Partial College|Skilled Manual|        Y|\n",
            "|      11017|  MRS.|  SHANNON|    WANG|1944-06-26|            S|     F|shannon1@adventur...|       20000|            4|    High School|Skilled Manual|        Y|\n",
            "|      11018|   MR.| CLARENCE|     RAI|1944-10-09|            S|     M|clarence32@advent...|       30000|            2|Partial College|      Clerical|        Y|\n",
            "|      11019|   MR.|     LUKE|     LAL|1978-03-07|            S|     M|luke18@adventure-...|       40000|            0|    High School|Skilled Manual|        N|\n",
            "|      11020|   MR.|   JORDAN|    KING|1978-09-20|            S|     M|jordan73@adventur...|       40000|            0|    High School|Skilled Manual|        N|\n",
            "+-----------+------+---------+--------+----------+-------------+------+--------------------+------------+-------------+---------------+--------------+---------+\n",
            "only showing top 20 rows\n",
            "\n"
          ]
        }
      ]
    },
    {
      "cell_type": "code",
      "source": [
        "#Define the schema for the CSV file]\n",
        "\n",
        "custom_schema = StructType([\n",
        "    StructField(\"CustomerKey\", IntegerType(), True),\n",
        "    StructField(\"FirstName\", StringType(), True),\n",
        "    StructField(\"LastName\", StringType(), True),\n",
        "    StructField(\"BirthDate\", DateType(), True),\n",
        "    StructField(\"AnnualIncome\", FloatType(), True)\n",
        "])\n",
        "\n",
        "df_customes = spark.read.csv(path_customers, )\n",
        "\n",
        "\n",
        "\n",
        "\n",
        "\n",
        "\n",
        "\n",
        "\n"
      ],
      "metadata": {
        "id": "zyxupiu2Dob5"
      },
      "execution_count": 25,
      "outputs": []
    },
    {
      "cell_type": "code",
      "source": [],
      "metadata": {
        "id": "5ymwmeiSD-4l"
      },
      "execution_count": null,
      "outputs": []
    }
  ]
}