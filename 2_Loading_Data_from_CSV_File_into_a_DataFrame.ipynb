{
  "nbformat": 4,
  "nbformat_minor": 0,
  "metadata": {
    "colab": {
      "provenance": [],
      "authorship_tag": "ABX9TyOzSD8Ec3JNwWe4zWrT4jfd"
    },
    "kernelspec": {
      "name": "python3",
      "display_name": "Python 3"
    },
    "language_info": {
      "name": "python"
    }
  },
  "cells": [
    {
      "cell_type": "markdown",
      "source": [
        "## Import Required Libraries"
      ],
      "metadata": {
        "id": "5yVKUEsvi43U"
      }
    },
    {
      "cell_type": "code",
      "execution_count": 5,
      "metadata": {
        "colab": {
          "base_uri": "https://localhost:8080/"
        },
        "id": "xO2M6ePuDacn",
        "outputId": "7dbced95-3712-4ec0-a32a-0345b0eeb86b"
      },
      "outputs": [
        {
          "output_type": "stream",
          "name": "stdout",
          "text": [
            "Requirement already satisfied: pyspark in /usr/local/lib/python3.11/dist-packages (3.5.4)\n",
            "Requirement already satisfied: py4j==0.10.9.7 in /usr/local/lib/python3.11/dist-packages (from pyspark) (0.10.9.7)\n"
          ]
        }
      ],
      "source": [
        "!pip install pyspark\n",
        "\n",
        "from pyspark.sql import SparkSession\n",
        "from pyspark.sql import *\n",
        "spark = SparkSession.builder.getOrCreate()"
      ]
    },
    {
      "cell_type": "code",
      "source": [
        "from google.colab import drive\n",
        "\n",
        "# Mount Google Drive with a longer timeout\n",
        "drive.mount('/content/drive', force_remount=True, timeout_ms=300000)"
      ],
      "metadata": {
        "id": "K3dtppCVDxZy",
        "outputId": "00edee7f-cb8a-406a-b1b9-026df1e896da",
        "colab": {
          "base_uri": "https://localhost:8080/"
        }
      },
      "execution_count": 6,
      "outputs": [
        {
          "output_type": "stream",
          "name": "stdout",
          "text": [
            "Mounted at /content/drive\n"
          ]
        }
      ]
    },
    {
      "cell_type": "code",
      "source": [
        "# File Path\n",
        "#/content/drive/MyDrive/Colab Notebooks/dataSet/customerOrder/customer-orders.csv\n",
        "#/content/drive/MyDrive/Colab Notebooks/dataSet/customerOrder/order_items.csv\n",
        "#/content/drive/MyDrive/Colab Notebooks/dataSet/customerOrder/orders.csv\n",
        "#/content/drive/MyDrive/Colab Notebooks/dataSet/customerOrder/products.csv\n",
        "#/content/drive/MyDrive/Colab Notebooks/dataSet/customerOrder/stores.csv\n",
        "\n",
        "# /content/drive/MyDrive/Colab Notebooks/dataSet/AdventureWorksRawData/SalesData/\n",
        "\n",
        "# /content/drive/MyDrive/Colab Notebooks/dataSet/AdventureWorksRawData/AdventureWorks Calendar Lookup.csv\n",
        "# /content/drive/MyDrive/Colab Notebooks/dataSet/AdventureWorksRawData/AdventureWorks Customer Lookup.csv\n",
        "# /content/drive/MyDrive/Colab Notebooks/dataSet/AdventureWorksRawData/AdventureWorks Product Categories Lookup.csv\n",
        "\n"
      ],
      "metadata": {
        "id": "VA19RLMdD1NQ"
      },
      "execution_count": null,
      "outputs": []
    },
    {
      "cell_type": "markdown",
      "source": [
        "## Define the Schema"
      ],
      "metadata": {
        "id": "Vg6u3w0Zi7m8"
      }
    },
    {
      "cell_type": "code",
      "source": [
        "# |-- p_brand: string (nullable = true)\n",
        "#  |-- p_cate: string (nullable = true)\n",
        "#  |-- p_image: string (nullable = true)\n",
        "#  |-- p_mall: string (nullable = true)\n",
        "#  |-- p_name: string (nullable = true)\n",
        "#  |-- p_number_reviews: string (nullable = true)\n",
        "#  |-- p_price: string (nullable = true)\n",
        "#  |-- p_rate1star: string (nullable = true)\n",
        "#  |-- p_rate2star: string (nullable = true)\n",
        "#  |-- p_rate3star: string (nullable = true)\n",
        "#  |-- p_rate4star: integer (nullable = true)\n",
        "#  |-- p_rate5star: integer (nullable = true)\n",
        "#  |-- p_rating: double (nullable = true)\n",
        "#  |-- s_name: string (nullable = true)\n",
        "#  |-- s_rating: string (nullable = true)\n",
        "#  |-- s_response_rate: string (nullable = true)\n",
        "#  |-- s_ship_ontime: string (nullable = true)"
      ],
      "metadata": {
        "id": "7LA8ixO_jc7k"
      },
      "execution_count": null,
      "outputs": []
    },
    {
      "cell_type": "code",
      "source": [
        "#Define the schema for the CSV file\n",
        "\n",
        "\n",
        "\n",
        "\n",
        "\n",
        "\n",
        "\n",
        "\n"
      ],
      "metadata": {
        "id": "zyxupiu2Dob5"
      },
      "execution_count": null,
      "outputs": []
    },
    {
      "cell_type": "code",
      "source": [],
      "metadata": {
        "id": "5ymwmeiSD-4l"
      },
      "execution_count": null,
      "outputs": []
    }
  ]
}