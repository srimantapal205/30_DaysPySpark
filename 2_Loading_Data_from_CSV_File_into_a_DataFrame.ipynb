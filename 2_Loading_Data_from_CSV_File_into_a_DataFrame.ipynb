{
  "nbformat": 4,
  "nbformat_minor": 0,
  "metadata": {
    "colab": {
      "provenance": [],
      "authorship_tag": "ABX9TyMzVB0LouvVYHRJlx+93S2v"
    },
    "kernelspec": {
      "name": "python3",
      "display_name": "Python 3"
    },
    "language_info": {
      "name": "python"
    }
  },
  "cells": [
    {
      "cell_type": "markdown",
      "source": [
        "## Import Required Libraries"
      ],
      "metadata": {
        "id": "5yVKUEsvi43U"
      }
    },
    {
      "cell_type": "code",
      "execution_count": 3,
      "metadata": {
        "colab": {
          "base_uri": "https://localhost:8080/"
        },
        "id": "xO2M6ePuDacn",
        "outputId": "9913ede9-2a22-4659-86b0-99437c0974a5"
      },
      "outputs": [
        {
          "output_type": "stream",
          "name": "stdout",
          "text": [
            "Requirement already satisfied: pyspark in /usr/local/lib/python3.11/dist-packages (3.5.4)\n",
            "Requirement already satisfied: py4j==0.10.9.7 in /usr/local/lib/python3.11/dist-packages (from pyspark) (0.10.9.7)\n"
          ]
        }
      ],
      "source": [
        "!pip install pyspark\n",
        "\n",
        "from pyspark.sql import SparkSession\n",
        "from pyspark.sql import *\n",
        "spark = SparkSession.builder.getOrCreate()"
      ]
    },
    {
      "cell_type": "markdown",
      "source": [
        "## Define the Schema"
      ],
      "metadata": {
        "id": "Vg6u3w0Zi7m8"
      }
    },
    {
      "cell_type": "code",
      "source": [
        "# |-- p_brand: string (nullable = true)\n",
        "#  |-- p_cate: string (nullable = true)\n",
        "#  |-- p_image: string (nullable = true)\n",
        "#  |-- p_mall: string (nullable = true)\n",
        "#  |-- p_name: string (nullable = true)\n",
        "#  |-- p_number_reviews: string (nullable = true)\n",
        "#  |-- p_price: string (nullable = true)\n",
        "#  |-- p_rate1star: string (nullable = true)\n",
        "#  |-- p_rate2star: string (nullable = true)\n",
        "#  |-- p_rate3star: string (nullable = true)\n",
        "#  |-- p_rate4star: integer (nullable = true)\n",
        "#  |-- p_rate5star: integer (nullable = true)\n",
        "#  |-- p_rating: double (nullable = true)\n",
        "#  |-- s_name: string (nullable = true)\n",
        "#  |-- s_rating: string (nullable = true)\n",
        "#  |-- s_response_rate: string (nullable = true)\n",
        "#  |-- s_ship_ontime: string (nullable = true)"
      ],
      "metadata": {
        "id": "7LA8ixO_jc7k"
      },
      "execution_count": 4,
      "outputs": []
    },
    {
      "cell_type": "code",
      "source": [
        "#Define the schema for the CSV file\n",
        "\n",
        "\n",
        "\n",
        "\n",
        "\n",
        "\n",
        "\n",
        "\n"
      ],
      "metadata": {
        "id": "zyxupiu2Dob5"
      },
      "execution_count": 5,
      "outputs": []
    },
    {
      "cell_type": "code",
      "source": [],
      "metadata": {
        "id": "5ymwmeiSD-4l"
      },
      "execution_count": null,
      "outputs": []
    }
  ]
}