{
  "nbformat": 4,
  "nbformat_minor": 0,
  "metadata": {
    "colab": {
      "provenance": [],
      "authorship_tag": "ABX9TyMDDuSTe6KEsz0+lg3A58Y+"
    },
    "kernelspec": {
      "name": "python3",
      "display_name": "Python 3"
    },
    "language_info": {
      "name": "python"
    }
  },
  "cells": [
    {
      "cell_type": "markdown",
      "source": [
        "## Import Required Libraries"
      ],
      "metadata": {
        "id": "5yVKUEsvi43U"
      }
    },
    {
      "cell_type": "code",
      "execution_count": 30,
      "metadata": {
        "colab": {
          "base_uri": "https://localhost:8080/"
        },
        "id": "xO2M6ePuDacn",
        "outputId": "bfd52d89-8aed-4c05-c269-16a88f3f7617"
      },
      "outputs": [
        {
          "output_type": "stream",
          "name": "stdout",
          "text": [
            "Requirement already satisfied: pyspark in /usr/local/lib/python3.11/dist-packages (3.5.4)\n",
            "Requirement already satisfied: py4j==0.10.9.7 in /usr/local/lib/python3.11/dist-packages (from pyspark) (0.10.9.7)\n"
          ]
        }
      ],
      "source": [
        "!pip install pyspark\n",
        "\n",
        "from pyspark.sql import SparkSession\n",
        "from pyspark.sql.types import *\n",
        "spark = SparkSession.builder.getOrCreate()"
      ]
    },
    {
      "cell_type": "code",
      "source": [
        "from google.colab import drive\n",
        "\n",
        "# Mount Google Drive with a longer timeout\n",
        "drive.mount('/content/drive', force_remount=True, timeout_ms=300000)"
      ],
      "metadata": {
        "colab": {
          "base_uri": "https://localhost:8080/"
        },
        "id": "K3dtppCVDxZy",
        "outputId": "a4fb302f-4812-4db6-c3ac-1f427ae9f564"
      },
      "execution_count": 31,
      "outputs": [
        {
          "output_type": "stream",
          "name": "stdout",
          "text": [
            "Mounted at /content/drive\n"
          ]
        }
      ]
    },
    {
      "cell_type": "code",
      "source": [
        "# File Path\n",
        "path_customer_orders=\"/content/drive/MyDrive/Colab Notebooks/dataSet/customerOrder/customer-orders.csv\"\n",
        "path_order_items=\"/content/drive/MyDrive/Colab Notebooks/dataSet/customerOrder/order_items.csv\"\n",
        "path_orders=\"/content/drive/MyDrive/Colab Notebooks/dataSet/customerOrder/orders.csv\"\n",
        "path_products=\"/content/drive/MyDrive/Colab Notebooks/dataSet/customerOrder/products.csv\"\n",
        "path_stores=\"/content/drive/MyDrive/Colab Notebooks/dataSet/customerOrder/stores.csv\"\n",
        "path_customers=\"/content/drive/MyDrive/Colab Notebooks/dataSet/customerOrder/customers.csv\"\n",
        "\n",
        "# /content/drive/MyDrive/Colab Notebooks/dataSet/AdventureWorksRawData/SalesData/\n",
        "\n",
        "path_advw_customer=\"/content/drive/MyDrive/Colab Notebooks/dataSet/AdventureWorksRawData/AdventureWorks Customer Lookup.csv\"\n",
        "path_advw_product_catagory=\"/content/drive/MyDrive/Colab Notebooks/dataSet/AdventureWorksRawData/AdventureWorks Product Categories Lookup.csv\"\n",
        "\n"
      ],
      "metadata": {
        "id": "VA19RLMdD1NQ"
      },
      "execution_count": 39,
      "outputs": []
    },
    {
      "cell_type": "code",
      "source": [
        "ls drive/MyDrive/'Colab Notebooks'/"
      ],
      "metadata": {
        "colab": {
          "base_uri": "https://localhost:8080/"
        },
        "id": "JrQJgq6XK1bT",
        "outputId": "6325cb0d-c27d-4a0f-cdd4-664de2dda40b"
      },
      "execution_count": 32,
      "outputs": [
        {
          "output_type": "stream",
          "name": "stdout",
          "text": [
            "'2. Loading Data from CSV File into a DataFrame.ipynb'   programwith_rdd.ipynb\n",
            " \u001b[0m\u001b[01;34mdataSet\u001b[0m/                                                Untitled0.ipynb\n",
            "'Day 1: Creating DataFrames in PySpark.ipynb'            Untitled1.ipynb\n"
          ]
        }
      ]
    },
    {
      "cell_type": "markdown",
      "source": [
        "## Define the Schema"
      ],
      "metadata": {
        "id": "Vg6u3w0Zi7m8"
      }
    },
    {
      "cell_type": "code",
      "source": [
        "df_product = spark.read.csv(path=\"/content/drive/MyDrive/Colab Notebooks/dataSet/customerOrder/products.csv\", header=True, inferSchema=True)\n",
        "df_product.printSchema()"
      ],
      "metadata": {
        "colab": {
          "base_uri": "https://localhost:8080/"
        },
        "id": "Pd4eat2ZIxYk",
        "outputId": "7ee3ec00-3f6c-4c81-f69a-2a2909caeac1"
      },
      "execution_count": 33,
      "outputs": [
        {
          "output_type": "stream",
          "name": "stdout",
          "text": [
            "root\n",
            " |-- PRODUCT_ID: integer (nullable = true)\n",
            " |-- PRODUCT_NAME: string (nullable = true)\n",
            " |-- UNIT_PRICE: double (nullable = true)\n",
            "\n"
          ]
        }
      ]
    },
    {
      "cell_type": "code",
      "source": [
        "df_customer = spark.read.csv(path=\"/content/drive/MyDrive/Colab Notebooks/dataSet/AdventureWorksRawData/AdventureWorks Customer Lookup.csv\", header=True, inferSchema=True)\n",
        "df_customer.printSchema()\n",
        "df_customer.show(5)"
      ],
      "metadata": {
        "id": "pngU-fTlLpv2"
      },
      "execution_count": null,
      "outputs": []
    },
    {
      "cell_type": "code",
      "source": [
        "#Define the schema for the CSV file]\n",
        "\n",
        "custom_schema = StructType([\n",
        "    StructField(\"CustomerKey\", IntegerType(), True),\n",
        "    StructField(\"Prefix\", StringType(), True),\n",
        "    StructField(\"FirstName\", StringType(), True),\n",
        "    StructField(\"LastName\", StringType(), True),\n",
        "    StructField(\"BirthDate\", DateType(), True),\n",
        "    StructField(\"MaritalStatus\", StringType(), True),\n",
        "    StructField(\"Gender\", StringType(), True),\n",
        "    StructField(\"EmailAddress\", StringType(), True),\n",
        "    StructField(\"AnnualIncome\", IntegerType(), True),\n",
        "    StructField(\"TotalChildren\", IntegerType(), True),\n",
        "    StructField(\"EducationLevel\", StringType(), True),\n",
        "    StructField(\"Occupation\", StringType(), True),\n",
        "    StructField(\"HomeOwner\", StringType(), True)\n",
        "])\n",
        "\n",
        "df_customers_data = spark.read.csv(path=\"/content/drive/MyDrive/Colab Notebooks/dataSet/AdventureWorksRawData/AdventureWorks Customer Lookup.csv\", header=True, schema=custom_schema)\n",
        "df_customers_data.show(5)"
      ],
      "metadata": {
        "id": "zyxupiu2Dob5",
        "colab": {
          "base_uri": "https://localhost:8080/"
        },
        "outputId": "b541197f-adcb-45e5-e6d0-42d36bd7cffa"
      },
      "execution_count": 52,
      "outputs": [
        {
          "output_type": "stream",
          "name": "stdout",
          "text": [
            "+-----------+------+---------+--------+----------+-------------+------+--------------------+------------+-------------+--------------+------------+---------+\n",
            "|CustomerKey|Prefix|FirstName|LastName| BirthDate|MaritalStatus|Gender|        EmailAddress|AnnualIncome|TotalChildren|EducationLevel|  Occupation|HomeOwner|\n",
            "+-----------+------+---------+--------+----------+-------------+------+--------------------+------------+-------------+--------------+------------+---------+\n",
            "|      11000|   MR.|      JON|    YANG|1966-04-08|            M|     M|jon24@adventure-w...|       90000|            2|     Bachelors|Professional|        Y|\n",
            "|      11001|   MR.|   EUGENE|   HUANG|1965-05-14|            S|     M|eugene10@adventur...|       60000|            3|     Bachelors|Professional|        N|\n",
            "|      11002|   MR.|    RUBEN|  TORRES|1965-08-12|            M|     M|ruben35@adventure...|       60000|            3|     Bachelors|Professional|        Y|\n",
            "|      11003|   MS.|  CHRISTY|     ZHU|1968-02-15|            S|     F|christy12@adventu...|       70000|            0|     Bachelors|Professional|        N|\n",
            "|      11004|  MRS.|ELIZABETH| JOHNSON|1968-08-08|            S|     F|elizabeth5@advent...|       80000|            5|     Bachelors|Professional|        Y|\n",
            "+-----------+------+---------+--------+----------+-------------+------+--------------------+------------+-------------+--------------+------------+---------+\n",
            "only showing top 5 rows\n",
            "\n"
          ]
        }
      ]
    },
    {
      "cell_type": "code",
      "source": [],
      "metadata": {
        "id": "5ymwmeiSD-4l"
      },
      "execution_count": null,
      "outputs": []
    }
  ]
}