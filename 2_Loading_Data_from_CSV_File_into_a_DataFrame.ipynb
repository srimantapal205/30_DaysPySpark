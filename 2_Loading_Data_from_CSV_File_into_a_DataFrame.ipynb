{
  "nbformat": 4,
  "nbformat_minor": 0,
  "metadata": {
    "colab": {
      "provenance": [],
      "authorship_tag": "ABX9TyN4aS4tzcJtsA42ZzbHcqqv"
    },
    "kernelspec": {
      "name": "python3",
      "display_name": "Python 3"
    },
    "language_info": {
      "name": "python"
    }
  },
  "cells": [
    {
      "cell_type": "markdown",
      "source": [
        "## Import Required Libraries"
      ],
      "metadata": {
        "id": "5yVKUEsvi43U"
      }
    },
    {
      "cell_type": "code",
      "execution_count": 30,
      "metadata": {
        "colab": {
          "base_uri": "https://localhost:8080/"
        },
        "id": "xO2M6ePuDacn",
        "outputId": "bfd52d89-8aed-4c05-c269-16a88f3f7617"
      },
      "outputs": [
        {
          "output_type": "stream",
          "name": "stdout",
          "text": [
            "Requirement already satisfied: pyspark in /usr/local/lib/python3.11/dist-packages (3.5.4)\n",
            "Requirement already satisfied: py4j==0.10.9.7 in /usr/local/lib/python3.11/dist-packages (from pyspark) (0.10.9.7)\n"
          ]
        }
      ],
      "source": [
        "!pip install pyspark\n",
        "\n",
        "from pyspark.sql import SparkSession\n",
        "from pyspark.sql.types import *\n",
        "spark = SparkSession.builder.getOrCreate()"
      ]
    },
    {
      "cell_type": "code",
      "source": [
        "from google.colab import drive\n",
        "\n",
        "# Mount Google Drive with a longer timeout\n",
        "drive.mount('/content/drive', force_remount=True, timeout_ms=300000)"
      ],
      "metadata": {
        "colab": {
          "base_uri": "https://localhost:8080/"
        },
        "id": "K3dtppCVDxZy",
        "outputId": "a4fb302f-4812-4db6-c3ac-1f427ae9f564"
      },
      "execution_count": 31,
      "outputs": [
        {
          "output_type": "stream",
          "name": "stdout",
          "text": [
            "Mounted at /content/drive\n"
          ]
        }
      ]
    },
    {
      "cell_type": "code",
      "source": [
        "# File Path\n",
        "path_customer_orders=\"/content/drive/MyDrive/Colab Notebooks/dataSet/customerOrder/customer-orders.csv\"\n",
        "path_order_items=\"/content/drive/MyDrive/Colab Notebooks/dataSet/customerOrder/order_items.csv\"\n",
        "path_orders=\"/content/drive/MyDrive/Colab Notebooks/dataSet/customerOrder/orders.csv\"\n",
        "path_products=\"/content/drive/MyDrive/Colab Notebooks/dataSet/customerOrder/products.csv\"\n",
        "path_stores=\"/content/drive/MyDrive/Colab Notebooks/dataSet/customerOrder/stores.csv\"\n",
        "path_customers=\"/content/drive/MyDrive/Colab Notebooks/dataSet/customerOrder/customers.csv\"\n",
        "\n",
        "path_advw_customer=\"/content/drive/MyDrive/Colab Notebooks/dataSet/AdventureWorksRawData/AdventureWorks Customer Lookup.csv\"\n",
        "path_advw_product_catagory=\"/content/drive/MyDrive/Colab Notebooks/dataSet/AdventureWorksRawData/AdventureWorks Product Categories Lookup.csv\"\n",
        "\n"
      ],
      "metadata": {
        "id": "VA19RLMdD1NQ"
      },
      "execution_count": 39,
      "outputs": []
    },
    {
      "cell_type": "code",
      "source": [
        "ls drive/MyDrive/'Colab Notebooks'/dataSet/AdventureWorksRawData/SalesData/"
      ],
      "metadata": {
        "colab": {
          "base_uri": "https://localhost:8080/"
        },
        "id": "JrQJgq6XK1bT",
        "outputId": "a0f68e37-4f69-496a-951a-33c15ec47a31"
      },
      "execution_count": 63,
      "outputs": [
        {
          "output_type": "stream",
          "name": "stdout",
          "text": [
            "'AdventureWorks Sales Data 2020.csv'  'AdventureWorks Sales Data 2022.csv'\n",
            "'AdventureWorks Sales Data 2021.csv'\n"
          ]
        }
      ]
    },
    {
      "cell_type": "markdown",
      "source": [
        "## Define the Schema"
      ],
      "metadata": {
        "id": "Vg6u3w0Zi7m8"
      }
    },
    {
      "cell_type": "code",
      "source": [
        "df_product = spark.read.csv(path=\"/content/drive/MyDrive/Colab Notebooks/dataSet/customerOrder/products.csv\", header=True, inferSchema=True)\n",
        "df_product.printSchema()"
      ],
      "metadata": {
        "colab": {
          "base_uri": "https://localhost:8080/"
        },
        "id": "Pd4eat2ZIxYk",
        "outputId": "7ee3ec00-3f6c-4c81-f69a-2a2909caeac1"
      },
      "execution_count": 33,
      "outputs": [
        {
          "output_type": "stream",
          "name": "stdout",
          "text": [
            "root\n",
            " |-- PRODUCT_ID: integer (nullable = true)\n",
            " |-- PRODUCT_NAME: string (nullable = true)\n",
            " |-- UNIT_PRICE: double (nullable = true)\n",
            "\n"
          ]
        }
      ]
    },
    {
      "cell_type": "code",
      "source": [
        "df_customer = spark.read.csv(path=\"/content/drive/MyDrive/Colab Notebooks/dataSet/AdventureWorksRawData/AdventureWorks Customer Lookup.csv\", header=True, inferSchema=True)\n",
        "df_customer.printSchema()\n",
        "df_customer.show(5)"
      ],
      "metadata": {
        "id": "pngU-fTlLpv2"
      },
      "execution_count": null,
      "outputs": []
    },
    {
      "cell_type": "code",
      "source": [
        "#Define the schema for the CSV file]\n",
        "\n",
        "custom_schema = StructType([\n",
        "    StructField(\"CustomerKey\", IntegerType(), True),\n",
        "    StructField(\"Prefix\", StringType(), True),\n",
        "    StructField(\"FirstName\", StringType(), True),\n",
        "    StructField(\"LastName\", StringType(), True),\n",
        "    StructField(\"BirthDate\", DateType(), True),\n",
        "    StructField(\"MaritalStatus\", StringType(), True),\n",
        "    StructField(\"Gender\", StringType(), True),\n",
        "    StructField(\"EmailAddress\", StringType(), True),\n",
        "    StructField(\"AnnualIncome\", FloatType(), True),\n",
        "    StructField(\"TotalChildren\", IntegerType(), True),\n",
        "    StructField(\"EducationLevel\", StringType(), True),\n",
        "    StructField(\"Occupation\", StringType(), True),\n",
        "    StructField(\"HomeOwner\", StringType(), True)\n",
        "])\n",
        "# Read the CSV file with the custom schema\n",
        "df_customers_data = spark.read.csv(path=\"/content/drive/MyDrive/Colab Notebooks/dataSet/AdventureWorksRawData/AdventureWorks Customer Lookup.csv\", header=True, schema=custom_schema)\n",
        "df_customers_data.show(5)"
      ],
      "metadata": {
        "id": "zyxupiu2Dob5",
        "colab": {
          "base_uri": "https://localhost:8080/"
        },
        "outputId": "3bf84f27-ddce-4029-cd60-6833a8a7abcc"
      },
      "execution_count": 53,
      "outputs": [
        {
          "output_type": "stream",
          "name": "stdout",
          "text": [
            "+-----------+------+---------+--------+----------+-------------+------+--------------------+------------+-------------+--------------+------------+---------+\n",
            "|CustomerKey|Prefix|FirstName|LastName| BirthDate|MaritalStatus|Gender|        EmailAddress|AnnualIncome|TotalChildren|EducationLevel|  Occupation|HomeOwner|\n",
            "+-----------+------+---------+--------+----------+-------------+------+--------------------+------------+-------------+--------------+------------+---------+\n",
            "|      11000|   MR.|      JON|    YANG|1966-04-08|            M|     M|jon24@adventure-w...|     90000.0|            2|     Bachelors|Professional|        Y|\n",
            "|      11001|   MR.|   EUGENE|   HUANG|1965-05-14|            S|     M|eugene10@adventur...|     60000.0|            3|     Bachelors|Professional|        N|\n",
            "|      11002|   MR.|    RUBEN|  TORRES|1965-08-12|            M|     M|ruben35@adventure...|     60000.0|            3|     Bachelors|Professional|        Y|\n",
            "|      11003|   MS.|  CHRISTY|     ZHU|1968-02-15|            S|     F|christy12@adventu...|     70000.0|            0|     Bachelors|Professional|        N|\n",
            "|      11004|  MRS.|ELIZABETH| JOHNSON|1968-08-08|            S|     F|elizabeth5@advent...|     80000.0|            5|     Bachelors|Professional|        Y|\n",
            "+-----------+------+---------+--------+----------+-------------+------+--------------------+------------+-------------+--------------+------------+---------+\n",
            "only showing top 5 rows\n",
            "\n"
          ]
        }
      ]
    },
    {
      "cell_type": "code",
      "source": [
        "# Load Multiple CSV Files\n",
        "\n",
        "path_sales_2020 = \"/content/drive/MyDrive/Colab Notebooks/dataSet/AdventureWorksRawData/SalesData/AdventureWorks Sales Data 2020.csv\"\n",
        "path_sales_2022 = \"/content/drive/MyDrive/Colab Notebooks/dataSet/AdventureWorksRawData/SalesData/AdventureWorks Sales Data 2022.csv\"\n",
        "path_sales_2021 = \"/content/drive/MyDrive/Colab Notebooks/dataSet/AdventureWorksRawData/SalesData/AdventureWorks Sales Data 2021.csv\"\n",
        "\n",
        "file_paths = [path_sales_2020, path_sales_2022,path_sales_2021]\n",
        "df_multi_file = spark.read.csv(file_paths, header=True, inferSchema=True)\n",
        "df_multi_file.show()\n",
        "# Print the schema of the DataFrame\n",
        "df_multi_file.printSchema()\n"
      ],
      "metadata": {
        "id": "5ymwmeiSD-4l",
        "colab": {
          "base_uri": "https://localhost:8080/",
          "height": 659
        },
        "outputId": "6f72909c-083f-405a-bd9d-e187cd21cde2"
      },
      "execution_count": 74,
      "outputs": [
        {
          "output_type": "stream",
          "name": "stdout",
          "text": [
            "+----------+----------+-----------+----------+-----------+------------+-------------+-------------+\n",
            "| OrderDate| StockDate|OrderNumber|ProductKey|CustomerKey|TerritoryKey|OrderLineItem|OrderQuantity|\n",
            "+----------+----------+-----------+----------+-----------+------------+-------------+-------------+\n",
            "|2022-01-01|2021-12-13|    SO61285|       529|      23791|           1|            2|            2|\n",
            "|2022-01-01|2021-09-24|    SO61285|       214|      23791|           1|            3|            1|\n",
            "|2022-01-01|2021-09-04|    SO61285|       540|      23791|           1|            1|            1|\n",
            "|2022-01-01|2021-09-28|    SO61301|       529|      16747|           1|            2|            2|\n",
            "|2022-01-01|2021-10-21|    SO61301|       377|      16747|           1|            1|            1|\n",
            "|2022-01-01|2021-10-23|    SO61301|       540|      16747|           1|            3|            1|\n",
            "|2022-01-01|2021-09-04|    SO61269|       215|      11792|           4|            1|            1|\n",
            "|2022-01-01|2021-10-21|    SO61269|       229|      11792|           4|            2|            1|\n",
            "|2022-01-01|2021-10-24|    SO61286|       528|      11530|           6|            2|            2|\n",
            "|2022-01-01|2021-09-27|    SO61286|       536|      11530|           6|            1|            2|\n",
            "|2022-01-01|2021-10-23|    SO61298|       530|      18155|          10|            1|            2|\n",
            "|2022-01-01|2021-12-02|    SO61298|       214|      18155|          10|            3|            1|\n",
            "|2022-01-01|2021-12-15|    SO61298|       223|      18155|          10|            2|            1|\n",
            "|2022-01-01|2021-10-01|    SO61310|       538|      13541|           8|            2|            2|\n",
            "|2022-01-01|2021-11-08|    SO61310|       584|      13541|           8|            1|            1|\n",
            "|2022-01-01|2021-12-06|    SO61270|       485|      18259|           9|            1|            2|\n",
            "|2022-01-01|2021-10-31|    SO61289|       528|      23694|           1|            1|            2|\n",
            "|2022-01-01|2021-11-16|    SO61289|       536|      23694|           1|            2|            2|\n",
            "|2022-01-01|2021-11-20|    SO61289|       215|      23694|           1|            3|            1|\n",
            "|2022-01-01|2021-10-12|    SO61278|       477|      22308|          10|            3|            2|\n",
            "+----------+----------+-----------+----------+-----------+------------+-------------+-------------+\n",
            "only showing top 20 rows\n",
            "\n",
            "root\n",
            " |-- OrderDate: date (nullable = true)\n",
            " |-- StockDate: date (nullable = true)\n",
            " |-- OrderNumber: string (nullable = true)\n",
            " |-- ProductKey: integer (nullable = true)\n",
            " |-- CustomerKey: integer (nullable = true)\n",
            " |-- TerritoryKey: integer (nullable = true)\n",
            " |-- OrderLineItem: integer (nullable = true)\n",
            " |-- OrderQuantity: integer (nullable = true)\n",
            "\n"
          ]
        },
        {
          "output_type": "display_data",
          "data": {
            "text/plain": [
              "DataFrame[OrderDate: date, StockDate: date, OrderNumber: string, ProductKey: int, CustomerKey: int, TerritoryKey: int, OrderLineItem: int, OrderQuantity: int]"
            ]
          },
          "metadata": {}
        }
      ]
    },
    {
      "cell_type": "code",
      "source": [
        "# Display the DataFrame in a tabular format\n",
        "display(df_multi_file)"
      ],
      "metadata": {
        "id": "DLYql9vCbqOO",
        "outputId": "a9bfcdc0-0190-492e-eabf-dc6768dc0e73",
        "colab": {
          "base_uri": "https://localhost:8080/",
          "height": 34
        }
      },
      "execution_count": 75,
      "outputs": [
        {
          "output_type": "display_data",
          "data": {
            "text/plain": [
              "DataFrame[OrderDate: date, StockDate: date, OrderNumber: string, ProductKey: int, CustomerKey: int, TerritoryKey: int, OrderLineItem: int, OrderQuantity: int]"
            ]
          },
          "metadata": {}
        }
      ]
    },
    {
      "cell_type": "code",
      "source": [],
      "metadata": {
        "id": "lLCFkVm9e1q5"
      },
      "execution_count": null,
      "outputs": []
    }
  ]
}