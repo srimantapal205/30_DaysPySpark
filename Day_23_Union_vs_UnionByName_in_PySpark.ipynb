{
  "cells": [
    {
      "cell_type": "markdown",
      "source": [
        "# Union and UnionByName in PySpark\n",
        "In PySpark, both Union and UnionByName are operations that allow you to combine two or more DataFrames. However, they do this in slightly different ways, particularly regarding how they handle column names.\n"
      ],
      "metadata": {
        "id": "XFa9lQgTQP4l"
      }
    },
    {
      "cell_type": "code",
      "execution_count": 1,
      "metadata": {
        "id": "K9R9pyy1gU2Z"
      },
      "outputs": [],
      "source": [
        "from pyspark.sql import SparkSession\n",
        "from pyspark.sql.types import *\n",
        "from pyspark.sql.functions import *  # Import the function\n",
        "spark = SparkSession.builder.getOrCreate()\n",
        "from pyspark.sql.functions import regexp_replace, col\n",
        "from google.colab import drive\n"
      ]
    },
    {
      "cell_type": "markdown",
      "source": [
        "## UNION()\n",
        "The union() function is used to combine two DataFrames with the same schema (i.e., the same number of columns with the same data types). It appends the rows of one DataFrame to the other.\n",
        "\n",
        "**Syntax:**\n",
        "```\n",
        "DataFrame.union(OtherDataFrame)\n",
        "```\n"
      ],
      "metadata": {
        "id": "5g3gmgjtQacC"
      }
    },
    {
      "cell_type": "code",
      "source": [
        "# Create two data frame\n",
        "data1 = [(\"Alice\", 1), (\"Bob\", 2)]\n",
        "data2 = [(\"Cathy\", 3), (\"David\", 4)]\n",
        "columns = [\"Name\", \"Id\"]\n",
        "\n",
        "# Perform Union\n",
        "df1 = spark.createDataFrame(data1, columns)\n",
        "df2 = spark.createDataFrame(data2, columns)\n",
        "\n",
        "#Perform Union\n",
        "result_of_union = df1.union(df2)\n",
        "\n",
        "#Display the result\n",
        "result_of_union.show()\n"
      ],
      "metadata": {
        "id": "ItrjUtuFQ-bV",
        "outputId": "df5c5b8a-fbb2-48c5-b319-7ed1cd5c9f14",
        "colab": {
          "base_uri": "https://localhost:8080/"
        }
      },
      "execution_count": 3,
      "outputs": [
        {
          "output_type": "stream",
          "name": "stdout",
          "text": [
            "+-----+---+\n",
            "| Name| Id|\n",
            "+-----+---+\n",
            "|Alice|  1|\n",
            "|  Bob|  2|\n",
            "|Cathy|  3|\n",
            "|David|  4|\n",
            "+-----+---+\n",
            "\n"
          ]
        }
      ]
    },
    {
      "cell_type": "markdown",
      "metadata": {
        "id": "9Pky7MlLQPFW"
      },
      "source": [
        "## UnionByName()\n",
        "\n",
        "The unionByName() function allows you to combine two DataFrames by matching column names. If the DataFrames do not have the same schema, it will fill in missing columns with null.\n",
        "\n",
        "\n",
        "```\n",
        "DataFrame.unionByName(otherDataFrame, allowMissingColumns = False)\n",
        "```\n",
        "\n"
      ]
    },
    {
      "cell_type": "code",
      "source": [
        "#The diffrent based column data set\n",
        "data3 = [(\"Eve\", 5), (\"Frank\", 6)]\n",
        "data4 = [(\"Grace\", \"New York\"), (\"Hannah\", \"Los Angeles\")]\n",
        "columns1 = [\"Name\", \"Id\"]\n",
        "columns2 = [\"Name\", \"City\"]\n",
        "\n",
        "#Create dataframe\n",
        "df3 = spark.createDataFrame(data3, columns1)\n",
        "df4 = spark.createDataFrame(data4, columns2)\n",
        "\n",
        "#Create new dataframe using unionByName()\n",
        "result_union_by_name_df = df3.unionByName(df4, allowMissingColumns=True)\n",
        "\n",
        "#Display the result\n",
        "result_union_by_name_df.show()\n",
        "\n",
        "\n",
        "\n"
      ],
      "metadata": {
        "id": "X4_dnf-2SmfI",
        "outputId": "8d25abdf-2e74-4a60-a072-63f7c049ba70",
        "colab": {
          "base_uri": "https://localhost:8080/"
        }
      },
      "execution_count": 12,
      "outputs": [
        {
          "output_type": "stream",
          "name": "stdout",
          "text": [
            "+------+----+-----------+\n",
            "|  Name|  Id|       City|\n",
            "+------+----+-----------+\n",
            "|   Eve|   5|       NULL|\n",
            "| Frank|   6|       NULL|\n",
            "| Grace|NULL|   New York|\n",
            "|Hannah|NULL|Los Angeles|\n",
            "+------+----+-----------+\n",
            "\n"
          ]
        }
      ]
    },
    {
      "cell_type": "code",
      "source": [],
      "metadata": {
        "id": "zZBd9J1oSx6d"
      },
      "execution_count": null,
      "outputs": []
    }
  ],
  "metadata": {
    "colab": {
      "provenance": []
    },
    "kernelspec": {
      "display_name": "Python 3",
      "name": "python3"
    },
    "language_info": {
      "name": "python"
    }
  },
  "nbformat": 4,
  "nbformat_minor": 0
}