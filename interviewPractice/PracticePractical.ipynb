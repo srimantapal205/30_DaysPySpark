{
  "cells": [
    {
      "cell_type": "markdown",
      "source": [
        "## PySpark COde Practice"
      ],
      "metadata": {
        "id": "c2L-0y-LDFIg"
      }
    },
    {
      "cell_type": "code",
      "source": [
        "from pyspark.sql import SparkSession\n",
        "from pyspark.sql.types import *\n",
        "from pyspark.sql import *\n",
        "from pyspark.sql.functions import *  # Import the function\n",
        "spark = SparkSession.builder.getOrCreate()\n",
        "from pyspark.sql.functions import regexp_replace, col\n",
        "from google.colab import drive"
      ],
      "metadata": {
        "id": "dVz3VjwEDKo_"
      },
      "execution_count": null,
      "outputs": []
    },
    {
      "cell_type": "markdown",
      "source": [
        "#### 1. Calculate the difference (in days) between the start_date and end_date."
      ],
      "metadata": {
        "id": "UeNn8qQ12Ysa"
      }
    },
    {
      "cell_type": "code",
      "source": [
        "df = spark.createDataFrame(\n",
        "      [\n",
        "        (\"2023-01-01\", \"2023-02-01\"),\n",
        "        (\"2023-03-15\", \"2023-03-20\")\n",
        "      ],\n",
        "      [\"start_date\", \"end_date\"]\n",
        "    )\n",
        "\n",
        "df.show()\n",
        "dif_df = df.withColumn(\"date_diffrence\", datediff(col(\"end_date\"), col(\"start_date\")))\n",
        "dif_df.show()"
      ],
      "metadata": {
        "colab": {
          "base_uri": "https://localhost:8080/"
        },
        "id": "Mee6nzKL2UA0",
        "outputId": "1bc19173-1daf-4f36-87ce-12535346954f"
      },
      "execution_count": null,
      "outputs": [
        {
          "output_type": "stream",
          "name": "stdout",
          "text": [
            "+----------+----------+\n",
            "|start_date|  end_date|\n",
            "+----------+----------+\n",
            "|2023-01-01|2023-02-01|\n",
            "|2023-03-15|2023-03-20|\n",
            "+----------+----------+\n",
            "\n",
            "+----------+----------+--------------+\n",
            "|start_date|  end_date|date_diffrence|\n",
            "+----------+----------+--------------+\n",
            "|2023-01-01|2023-02-01|            31|\n",
            "|2023-03-15|2023-03-20|             5|\n",
            "+----------+----------+--------------+\n",
            "\n"
          ]
        }
      ]
    },
    {
      "cell_type": "markdown",
      "source": [
        "#### 2. Extracting Year from a Date Column Sometimes, you may need to extract specific parts of a date, such as the year, especially when grouping data by year."
      ],
      "metadata": {
        "id": "y0MS7a_l4I2e"
      }
    },
    {
      "cell_type": "code",
      "source": [
        "# Define schema for the dataframe\n",
        "schema = StructType(\n",
        "    [\n",
        "        StructField('event_date', StringType(), True)\n",
        "    ]\n",
        ")\n",
        "\n",
        "df =spark.createDataFrame([(\"2023-04-15\",),\n",
        " (\"2022-11-30\",),\n",
        " (\"2021-08-25\",)], schema)\n",
        "df.show()\n",
        "\n",
        "#Convert event date column as date type\n",
        "\n",
        "df = df.withColumn('event_date', to_date(col('event_date'), 'yyyy-MM-dd'))\n",
        "df.withColumn('year', year(col('event_date'))).show()\n",
        "\n",
        "\n"
      ],
      "metadata": {
        "colab": {
          "base_uri": "https://localhost:8080/"
        },
        "id": "3tFHBBGz38ay",
        "outputId": "559eff20-ef6c-495c-bfcf-bb5ce93a322c"
      },
      "execution_count": null,
      "outputs": [
        {
          "output_type": "stream",
          "name": "stdout",
          "text": [
            "+----------+\n",
            "|event_date|\n",
            "+----------+\n",
            "|2023-04-15|\n",
            "|2022-11-30|\n",
            "|2021-08-25|\n",
            "+----------+\n",
            "\n",
            "+----------+----+\n",
            "|event_date|year|\n",
            "+----------+----+\n",
            "|2023-04-15|2023|\n",
            "|2022-11-30|2022|\n",
            "|2021-08-25|2021|\n",
            "+----------+----+\n",
            "\n"
          ]
        }
      ]
    },
    {
      "cell_type": "markdown",
      "source": [
        "####3. Filter Records Based on Date\n",
        "\n",
        "Filtering records based on specific date ranges is a common operation in time-series data.\n",
        "\n",
        "#### Scenario:\n",
        "Filter records where event_date is after 2023-06-01."
      ],
      "metadata": {
        "id": "NVmIZ58v5-uV"
      }
    },
    {
      "cell_type": "code",
      "source": [
        "# Define schema for the dataframe\n",
        "schema = StructType([\n",
        " StructField(\"event_date\", StringType(), True)\n",
        "])\n",
        "# Create DataFrame\n",
        "df = spark.createDataFrame([\n",
        " (\"2023-05-15\",),\n",
        " (\"2023-07-20\",),\n",
        " (\"2023-06-05\",)\n",
        "], schema)\n",
        "df.show()\n",
        "#Convert event date to data type and filter for dates after '2023-06-01'\n",
        "df = df.withColumn('event_date', to_date(col(\"event_date\"), 'yyyy-MM-dd'))\n",
        "df.filter(col('event_date') > '2023-06-01').show()"
      ],
      "metadata": {
        "colab": {
          "base_uri": "https://localhost:8080/"
        },
        "id": "LiEMwEiu5H4T",
        "outputId": "34412b96-20ed-4e40-840f-bc2110f52f14"
      },
      "execution_count": null,
      "outputs": [
        {
          "output_type": "stream",
          "name": "stdout",
          "text": [
            "+----------+\n",
            "|event_date|\n",
            "+----------+\n",
            "|2023-05-15|\n",
            "|2023-07-20|\n",
            "|2023-06-05|\n",
            "+----------+\n",
            "\n",
            "+----------+\n",
            "|event_date|\n",
            "+----------+\n",
            "|2023-07-20|\n",
            "|2023-06-05|\n",
            "+----------+\n",
            "\n"
          ]
        }
      ]
    },
    {
      "cell_type": "markdown",
      "source": [
        "#### 4. Add Days to Date\n",
        "\n",
        "Adding a certain number of days to a date is crucial when planning tasks or calculating deadlines.\n",
        "\n",
        "#### Scenario:\n",
        "Add 30 days to each date in the order_date column."
      ],
      "metadata": {
        "id": "OkDGHsru-GBX"
      }
    },
    {
      "cell_type": "code",
      "source": [
        "df = spark.createDataFrame([\n",
        "    (\"2023-01-10\",),\n",
        "    (\"2023-06-15\",),\n",
        "    (\"2023-07-30\",)\n",
        "], [\"order_date\"])\n",
        "\n",
        "#convert order_date to DataType and add 30 days\n",
        "df = df.withColumn(\"order_date\", to_date(col('order_date'), 'yyyy-MM-dd'))\n",
        "add_df = df.withColumn(\"new_order_date\", date_add(col('order_date'), 30))\n",
        "add_df.show()\n",
        "\n"
      ],
      "metadata": {
        "colab": {
          "base_uri": "https://localhost:8080/"
        },
        "id": "aslSjkjd9zJi",
        "outputId": "8744a34b-3438-4c36-9710-b3b0f05793c0"
      },
      "execution_count": null,
      "outputs": [
        {
          "output_type": "stream",
          "name": "stdout",
          "text": [
            "+----------+--------------+\n",
            "|order_date|new_order_date|\n",
            "+----------+--------------+\n",
            "|2023-01-10|    2023-02-09|\n",
            "|2023-06-15|    2023-07-15|\n",
            "|2023-07-30|    2023-08-29|\n",
            "+----------+--------------+\n",
            "\n"
          ]
        }
      ]
    },
    {
      "cell_type": "code",
      "source": [],
      "metadata": {
        "id": "cLYKGhiKAADl"
      },
      "execution_count": null,
      "outputs": []
    },
    {
      "cell_type": "markdown",
      "source": [
        "####5. Find the Maximum Date in a Column\n",
        "\n",
        "Finding the latest date in a dataset is helpful when dealing with transaction logs or event timestamps.\n",
        "\n",
        "#### Scenario\n",
        "\n",
        "Find the latest payment_date in the column.\n"
      ],
      "metadata": {
        "id": "5YxiVX3aBb4p"
      }
    },
    {
      "cell_type": "code",
      "source": [
        "df = spark.createDataFrame([\n",
        " (\"2023-02-15\",),\n",
        " (\"2023-06-25\",),\n",
        " (\"2023-01-10\",)\n",
        "], [\"payment_date\"])\n",
        "\n",
        "df.show()\n",
        "#Convert date into Date type and get the latest payment date\n",
        "df = df.withColumn('payment_date', to_date(col('payment_date'), \"yyyy-MM-dd\"))\n",
        "df.agg(max('payment_date').alias(\"latest_payment_date\")).show()\n"
      ],
      "metadata": {
        "id": "H4mBP0hzBtve",
        "outputId": "84952758-a610-4e8c-ef49-ec10b32064f7",
        "colab": {
          "base_uri": "https://localhost:8080/"
        }
      },
      "execution_count": null,
      "outputs": [
        {
          "output_type": "stream",
          "name": "stdout",
          "text": [
            "+------------+\n",
            "|payment_date|\n",
            "+------------+\n",
            "|  2023-02-15|\n",
            "|  2023-06-25|\n",
            "|  2023-01-10|\n",
            "+------------+\n",
            "\n",
            "+-------------------+\n",
            "|latest_payment_date|\n",
            "+-------------------+\n",
            "|         2023-06-25|\n",
            "+-------------------+\n",
            "\n"
          ]
        }
      ]
    },
    {
      "cell_type": "code",
      "source": [
        "#df.groupBy(\"Catagory\").agg(sum('price')).alias('total_price').show()"
      ],
      "metadata": {
        "id": "niLn7gGTBvus"
      },
      "execution_count": null,
      "outputs": []
    },
    {
      "cell_type": "code",
      "source": [
        "def is_palindrom(n):\n",
        "  return str(n) == str(n)[::-1]\n",
        "\n",
        "  print(is_palindrom(121))"
      ],
      "metadata": {
        "id": "9gffZSBv4kbV"
      },
      "execution_count": null,
      "outputs": []
    },
    {
      "cell_type": "code",
      "source": [
        "# df1.join(df2, on='id', 'inner').show"
      ],
      "metadata": {
        "id": "I-HyojUY6Gkq"
      },
      "execution_count": null,
      "outputs": []
    },
    {
      "cell_type": "code",
      "source": [
        "# def sqr(x):\n",
        "#   return x*x\n",
        "\n",
        "# sqr_udf = udf(sqr, IntegerType())\n",
        "#df.withColumn(\"Squre\", sqr_udf(df[\"value\"]))"
      ],
      "metadata": {
        "id": "8LjBzvJh7N3E"
      },
      "execution_count": null,
      "outputs": []
    },
    {
      "cell_type": "code",
      "source": [
        "# filterd_df = df.filter(df['age']>30)\n",
        "# filterd_df.show()"
      ],
      "metadata": {
        "id": "csgR1ts29HyP"
      },
      "execution_count": null,
      "outputs": []
    },
    {
      "cell_type": "code",
      "source": [
        "from collections import Counter\n",
        "def word_frequency(word):\n",
        "  return Counter(word.split())\n",
        "\n",
        "print(word_frequency('A column or function parameter with name function parameter'))"
      ],
      "metadata": {
        "id": "WRliFp_z-zQo",
        "outputId": "21e3f17e-762e-4d66-c8c6-6ad0106b47b3",
        "colab": {
          "base_uri": "https://localhost:8080/"
        }
      },
      "execution_count": null,
      "outputs": [
        {
          "output_type": "stream",
          "name": "stdout",
          "text": [
            "Counter({'function': 2, 'parameter': 2, 'A': 1, 'column': 1, 'or': 1, 'with': 1, 'name': 1})\n"
          ]
        }
      ]
    },
    {
      "cell_type": "code",
      "source": [
        "def getWordFrequency(sentence):\n",
        "  word_fre= {}\n",
        "  words = sentence.split()\n",
        "  for word in words:\n",
        "    if word in word_fre:\n",
        "      word_fre[word] +=1\n",
        "    else:\n",
        "      word_fre[word] = 1\n",
        "  return word_fre\n",
        "\n",
        "print(getWordFrequency('A column or function parameter with name function parameter'))"
      ],
      "metadata": {
        "id": "UFFITGkX_qPC",
        "outputId": "5beaf1ce-4554-43e3-8efa-0b35916fb401",
        "colab": {
          "base_uri": "https://localhost:8080/"
        }
      },
      "execution_count": null,
      "outputs": [
        {
          "output_type": "stream",
          "name": "stdout",
          "text": [
            "{'A': 1, 'column': 1, 'or': 1, 'function': 2, 'parameter': 2, 'with': 1, 'name': 1}\n"
          ]
        }
      ]
    },
    {
      "cell_type": "markdown",
      "source": [
        "Spark data design"
      ],
      "metadata": {
        "id": "TokdTrBGki20"
      }
    },
    {
      "cell_type": "code",
      "source": [
        "from datetime import date\n",
        "data = [\n",
        "    (\"cust_1\", \"2023-01-01\", 100),\n",
        "    (\"cust_1\", \"2023-01-02\", 150),\n",
        "    (\"cust_1\", \"2023-01-03\", 200),\n",
        "    (\"cust_2\", \"2023-01-01\", 167),\n",
        "    (\"cust_2\", \"2023-01-02\", 175),\n",
        "    (\"cust_2\", \"2023-01-03\", 187),\n",
        "    (\"cust_3\", \"2023-01-01\", 125),\n",
        "    (\"cust_3\", \"2023-01-02\", 150),\n",
        "    (\"cust_3\", \"2023-01-03\", 175),\n",
        "    (\"cust_4\", \"2023-01-01\", 145),\n",
        "    (\"cust_4\", \"2023-01-02\", 155)\n",
        "]\n",
        "\n",
        "schema = StructType([\n",
        "        StructField('customer_id', StringType(), True),\n",
        "        StructField('date', StringType(), True),\n",
        "        StructField('amount', StringType(), True)\n",
        "    ]\n",
        ")\n",
        "# Print data\n",
        "df = spark.createDataFrame(data, schema)\n",
        "#df.show()\n",
        "\n",
        "#Convert to proper date format\n",
        "df = df.withColumn('date', to_date(col('date'), 'yyyy-MM-dd'))\n",
        "#df.show()\n",
        "\n",
        "#Define windo space\n",
        "window_space = Window.partitionBy('customer_id').orderBy('date')\n",
        "\n",
        "# 1. Previous transaction amount\n",
        "df =df.withColumn(\"prev_amoun\", lag(\"amount\", 1).over(window_space))\n",
        "# df.show()\n",
        "\n",
        "# 2. Running total\n",
        "df = df.withColumn(\"running_total\", sum(\"amount\").over(window_space))\n",
        "# df.show()\n",
        "\n",
        "# 3. Rank by amount per customer\n",
        "rank_space = Window.partitionBy(\"customer_id\").orderBy(col(\"amount\").desc())\n",
        "df = df.withColumn(\"rank\", rank().over(rank_space))\n",
        "\n",
        "df.show()\n"
      ],
      "metadata": {
        "colab": {
          "base_uri": "https://localhost:8080/"
        },
        "id": "PAIdDTK2kimz",
        "outputId": "22448620-6b24-4aad-c093-0d1b460028bf"
      },
      "execution_count": null,
      "outputs": [
        {
          "output_type": "stream",
          "name": "stdout",
          "text": [
            "+-----------+----------+------+----------+-------------+----+\n",
            "|customer_id|      date|amount|prev_amoun|running_total|rank|\n",
            "+-----------+----------+------+----------+-------------+----+\n",
            "|     cust_1|2023-01-03|   200|       150|        450.0|   1|\n",
            "|     cust_1|2023-01-02|   150|       100|        250.0|   2|\n",
            "|     cust_1|2023-01-01|   100|      NULL|        100.0|   3|\n",
            "|     cust_2|2023-01-03|   187|       175|        529.0|   1|\n",
            "|     cust_2|2023-01-02|   175|       167|        342.0|   2|\n",
            "|     cust_2|2023-01-01|   167|      NULL|        167.0|   3|\n",
            "|     cust_3|2023-01-03|   175|       150|        450.0|   1|\n",
            "|     cust_3|2023-01-02|   150|       125|        275.0|   2|\n",
            "|     cust_3|2023-01-01|   125|      NULL|        125.0|   3|\n",
            "|     cust_4|2023-01-02|   155|       145|        300.0|   1|\n",
            "|     cust_4|2023-01-01|   145|      NULL|        145.0|   2|\n",
            "+-----------+----------+------+----------+-------------+----+\n",
            "\n"
          ]
        }
      ]
    },
    {
      "cell_type": "markdown",
      "source": [
        "Practice with salses"
      ],
      "metadata": {
        "id": "7AMZQ6Nytxzc"
      }
    },
    {
      "cell_type": "code",
      "source": [
        "#Sales dataframe\n",
        "sales_data = [\n",
        "    ('A', '2021-01-01', '1'),\n",
        "    ('A', '2021-01-02', '2'),\n",
        "    ('A', '2021-01-03', '3'),\n",
        "    ('B', '2021-01-01', '1'),\n",
        "    ('B', '2021-01-02', '2'),\n",
        "    ('B', '2021-01-03', '3'),\n",
        "    ('C', '2021-01-01', '1'),\n",
        "    ('C', '2021-01-02', '3'),\n",
        "    ('C', '2021-01-03', '4'),\n",
        "    ('D', '2021-01-01', '1'),\n",
        "    ('D', '2021-01-02', '1'),\n",
        "    ('D', '2021-01-03', '2'),\n",
        "    ('E', '2021-01-01', '3'),\n",
        "    ('E', '2021-01-02', '4'),\n",
        "    ('E', '2021-01-03', '5')\n",
        "]\n",
        "sales_schema = StructType([\n",
        "    StructField('customer_id', StringType(), True),\n",
        "    StructField('date', StringType(), True),\n",
        "    StructField('product_id', StringType(), True)\n",
        "])\n",
        "sales_df = spark.createDataFrame(sales_data, sales_schema)\n",
        "print('Customer Data')\n",
        "sales_df.show()\n",
        "\n",
        "#Menu Dataframe\n",
        "menu_date = [\n",
        "    ('1', 'Sushi', 10),\n",
        "    ('2', 'Curry', 15),\n",
        "    ('3', 'Pizza', 20),\n",
        "    ('4', 'Salad', 5),\n",
        "    ('5', 'Pasta', 12)\n",
        "]\n",
        "menu_schema = StructType([\n",
        "    StructField('product_id', StringType(), True),\n",
        "    StructField('product_name', StringType(), True),\n",
        "    StructField('price', IntegerType(), True)\n",
        "])\n",
        "\n",
        "menu_df = spark.createDataFrame(menu_date, menu_schema)\n",
        "print('Menu Data')\n",
        "menu_df.show()\n",
        "\n",
        "#Member Dataframe\n",
        "member_data = [\n",
        "    ('A', '2021-01-07'),\n",
        "    ('B', '2021-01-09'),\n",
        "    ('C', '2021-01-01'),\n",
        "    ('D', '2021-01-02'),\n",
        "    ('E', '2021-01-01')\n",
        "]\n",
        "member_schema = StructType([\n",
        "    StructField('customer_id', StringType(), True),\n",
        "    StructField('join_date', StringType(), True)\n",
        "])\n",
        "member_df = spark.createDataFrame(member_data, member_schema)\n",
        "print('Member Data')\n",
        "member_df.show()\n",
        "\n",
        "\n",
        "\n",
        "\n"
      ],
      "metadata": {
        "colab": {
          "base_uri": "https://localhost:8080/"
        },
        "id": "rB0bWSsPooGM",
        "outputId": "2f545ec7-01a0-4d5d-c5e3-6af5353733fb"
      },
      "execution_count": null,
      "outputs": [
        {
          "output_type": "stream",
          "name": "stdout",
          "text": [
            "Customer Data\n",
            "+-----------+----------+----------+\n",
            "|customer_id|      date|product_id|\n",
            "+-----------+----------+----------+\n",
            "|          A|2021-01-01|         1|\n",
            "|          A|2021-01-02|         2|\n",
            "|          A|2021-01-03|         3|\n",
            "|          B|2021-01-01|         1|\n",
            "|          B|2021-01-02|         2|\n",
            "|          B|2021-01-03|         3|\n",
            "|          C|2021-01-01|         1|\n",
            "|          C|2021-01-02|         3|\n",
            "|          C|2021-01-03|         4|\n",
            "|          D|2021-01-01|         1|\n",
            "|          D|2021-01-02|         1|\n",
            "|          D|2021-01-03|         2|\n",
            "|          E|2021-01-01|         3|\n",
            "|          E|2021-01-02|         4|\n",
            "|          E|2021-01-03|         5|\n",
            "+-----------+----------+----------+\n",
            "\n",
            "Menu Data\n",
            "+----------+------------+-----+\n",
            "|product_id|product_name|price|\n",
            "+----------+------------+-----+\n",
            "|         1|       Sushi|   10|\n",
            "|         2|       Curry|   15|\n",
            "|         3|       Pizza|   20|\n",
            "|         4|       Salad|    5|\n",
            "|         5|       Pasta|   12|\n",
            "+----------+------------+-----+\n",
            "\n",
            "Member Data\n",
            "+-----------+----------+\n",
            "|customer_id| join_date|\n",
            "+-----------+----------+\n",
            "|          A|2021-01-07|\n",
            "|          B|2021-01-09|\n",
            "|          C|2021-01-01|\n",
            "|          D|2021-01-02|\n",
            "|          E|2021-01-01|\n",
            "+-----------+----------+\n",
            "\n"
          ]
        }
      ]
    },
    {
      "cell_type": "markdown",
      "source": [
        "Task:\n",
        "For each customer, return the latest order amount, the total amount spent, and the number of orders. Output should include the customer's name."
      ],
      "metadata": {
        "id": "i3gNrPKpEnFD"
      }
    },
    {
      "cell_type": "code",
      "source": [
        "# Sample Data and schema\n",
        "order_data = [\n",
        "    (1, 101, '2024-01-01', 100),\n",
        "    (2, 102, '2024-01-02', 150),\n",
        "    (3, 103, '2024-01-03', 200),\n",
        "    (4, 101, '2024-01-04', 120),\n",
        "    (5, 102, '2024-01-05', 180),\n",
        "    (6, 103, '2024-01-06', 220),\n",
        "    (7, 101, '2024-01-07', 90),\n",
        "    (8, 102, '2024-01-08', 160),\n",
        "    (9, 103, '2024-01-09', 210),\n",
        "    (10, 101, '2024-01-10', 110)\n",
        "]\n",
        "order_schema = StructType([\n",
        "    StructField('order_id', IntegerType(), True),\n",
        "    StructField('customer_id', IntegerType(), True),\n",
        "    StructField('order_date', StringType(), True),\n",
        "    StructField('amount', IntegerType(), True)\n",
        "])\n",
        "customer_data = [\n",
        "    (101, 'Alice'),\n",
        "    (102, 'Bob'),\n",
        "    (103, 'Charlie')\n",
        "]\n",
        "customer_schema = StructType([\n",
        "    StructField('customer_id', IntegerType(), True),\n",
        "    StructField('customer_name', StringType(), True)\n",
        "])\n",
        "\n",
        "# Create Data frame\n",
        "order_df= spark.createDataFrame(order_data, order_schema)\n",
        "customer_df = spark.createDataFrame(customer_data, customer_schema)\n",
        "# Represent\n",
        "order_df.show()\n",
        "customer_df.show()\n",
        "\n",
        "#Change data type in order table date format\n",
        "order_df=order_df.withColumn('order_date', to_date(col(\"order_date\"), 'yyyy-MM-dd'))\n",
        "order_df.printSchema()\n",
        "\n",
        "# 1. Latest order amount using window function\n",
        "window_space = Window.partitionBy(\"customer_id\").orderBy(col(\"order_date\").desc())\n",
        "latest_orders_df = order_df.withColumn('rn', row_number().over(window_space))\n",
        "latest_orders_df = latest_orders_df.filter(col('rn')==1)\n",
        "latest_orders_df.show()\n",
        "\n",
        "# 2. Total amount and order  count per customer\n",
        "agg_df = customer_df.join(order_df, on= 'customer_id')\n",
        "\n",
        "\n"
      ],
      "metadata": {
        "id": "l2w6gHAu2ERY",
        "outputId": "2e7f614f-f70f-45e7-cb79-d65105280472",
        "colab": {
          "base_uri": "https://localhost:8080/"
        }
      },
      "execution_count": null,
      "outputs": [
        {
          "output_type": "stream",
          "name": "stdout",
          "text": [
            "+--------+-----------+----------+------+\n",
            "|order_id|customer_id|order_date|amount|\n",
            "+--------+-----------+----------+------+\n",
            "|       1|        101|2024-01-01|   100|\n",
            "|       2|        102|2024-01-02|   150|\n",
            "|       3|        103|2024-01-03|   200|\n",
            "|       4|        101|2024-01-04|   120|\n",
            "|       5|        102|2024-01-05|   180|\n",
            "|       6|        103|2024-01-06|   220|\n",
            "|       7|        101|2024-01-07|    90|\n",
            "|       8|        102|2024-01-08|   160|\n",
            "|       9|        103|2024-01-09|   210|\n",
            "|      10|        101|2024-01-10|   110|\n",
            "+--------+-----------+----------+------+\n",
            "\n",
            "+-----------+-------------+\n",
            "|customer_id|customer_name|\n",
            "+-----------+-------------+\n",
            "|        101|        Alice|\n",
            "|        102|          Bob|\n",
            "|        103|      Charlie|\n",
            "+-----------+-------------+\n",
            "\n",
            "root\n",
            " |-- order_id: integer (nullable = true)\n",
            " |-- customer_id: integer (nullable = true)\n",
            " |-- order_date: date (nullable = true)\n",
            " |-- amount: integer (nullable = true)\n",
            "\n",
            "+--------+-----------+----------+------+---+\n",
            "|order_id|customer_id|order_date|amount| rn|\n",
            "+--------+-----------+----------+------+---+\n",
            "|      10|        101|2024-01-10|   110|  1|\n",
            "|       8|        102|2024-01-08|   160|  1|\n",
            "|       9|        103|2024-01-09|   210|  1|\n",
            "+--------+-----------+----------+------+---+\n",
            "\n"
          ]
        }
      ]
    },
    {
      "cell_type": "markdown",
      "source": [
        "## Question:\n",
        " Calculate the average salary and count of employees for each department."
      ],
      "metadata": {
        "id": "9y0eysVEadD0"
      }
    },
    {
      "cell_type": "code",
      "source": [
        "#Sample data\n",
        "data = [\n",
        "    (\"Sales\", 5000, \"John\"),\n",
        "    (\"Sales\", 5000, \"Doe\"),\n",
        "    (\"HR\", 5000, \"Jane\"),\n",
        "    (\"HR\", 5000, \"Alice\"),\n",
        "    (\"IT\", 5000, \"Bob\"),\n",
        "    (\"IT\", 5000, \"Charlie\")\n",
        "]\n",
        "# Schema\n",
        "schema = StructType([\n",
        "    StructField('department', StringType(), True),\n",
        "    StructField('salary', IntegerType(), True),\n",
        "    StructField('employee_name', StringType(), True)\n",
        "])\n",
        "\n",
        "# Create Data frame\n",
        "df = spark.createDataFrame(data, schema)\n",
        "df.show()\n",
        "\n",
        "# Group By department and calculate average salary and employe count.\n",
        "result_df = df.groupBy('department').agg(\n",
        "    avg(\"salary\").alias(\"avg_salary\"),\n",
        "    count(\"employee_name\").alias(\"employee_counr\")\n",
        ")\n",
        "\n",
        "#Show result\n",
        "result_df.show()\n"
      ],
      "metadata": {
        "id": "F1j9xFwAEmQr",
        "colab": {
          "base_uri": "https://localhost:8080/"
        },
        "outputId": "cda6c604-dd21-43e7-f039-a825d5f1336a"
      },
      "execution_count": null,
      "outputs": [
        {
          "output_type": "stream",
          "name": "stdout",
          "text": [
            "+----------+------+-------------+\n",
            "|department|salary|employee_name|\n",
            "+----------+------+-------------+\n",
            "|     Sales|  5000|         John|\n",
            "|     Sales|  5000|          Doe|\n",
            "|        HR|  5000|         Jane|\n",
            "|        HR|  5000|        Alice|\n",
            "|        IT|  5000|          Bob|\n",
            "|        IT|  5000|      Charlie|\n",
            "+----------+------+-------------+\n",
            "\n",
            "+----------+----------+--------------+\n",
            "|department|avg_salary|employee_counr|\n",
            "+----------+----------+--------------+\n",
            "|     Sales|    5000.0|             2|\n",
            "|        HR|    5000.0|             2|\n",
            "|        IT|    5000.0|             2|\n",
            "+----------+----------+--------------+\n",
            "\n"
          ]
        }
      ]
    },
    {
      "cell_type": "markdown",
      "source": [
        "## Question:\n",
        " How would you handle null values in a DataFrame? For example, drop rows with null values in the age column.\n"
      ],
      "metadata": {
        "id": "VOssBAe0eT6D"
      }
    },
    {
      "cell_type": "code",
      "source": [
        "data = [(\"Alice\", 30), (\"Bob\", None), (\"Catherine\", 25),\n",
        "(None, 35), (\"Eve\", None)]\n",
        "schema = StructType([\n",
        "    StructField(\"name\", StringType(), True),\n",
        "    StructField(\"age\", IntegerType(), True)\n",
        "])\n",
        "df = spark.createDataFrame(data, schema)\n",
        "df.show()"
      ],
      "metadata": {
        "id": "T_0f7V-TXm0e"
      },
      "execution_count": null,
      "outputs": []
    }
  ],
  "metadata": {
    "colab": {
      "provenance": []
    },
    "kernelspec": {
      "display_name": "Python 3",
      "name": "python3"
    },
    "language_info": {
      "name": "python"
    }
  },
  "nbformat": 4,
  "nbformat_minor": 0
}