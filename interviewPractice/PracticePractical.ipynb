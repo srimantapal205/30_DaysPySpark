{
  "cells": [
    {
      "cell_type": "markdown",
      "source": [
        "## PySpark COde Practice"
      ],
      "metadata": {
        "id": "c2L-0y-LDFIg"
      }
    },
    {
      "cell_type": "code",
      "source": [
        "from pyspark.sql import SparkSession\n",
        "from pyspark.sql.types import *\n",
        "from pyspark.sql import *\n",
        "from pyspark.sql.functions import *  # Import the function\n",
        "spark = SparkSession.builder.getOrCreate()\n",
        "from pyspark.sql.functions import regexp_replace, col\n",
        "from google.colab import drive"
      ],
      "metadata": {
        "id": "dVz3VjwEDKo_"
      },
      "execution_count": 1,
      "outputs": []
    },
    {
      "cell_type": "markdown",
      "source": [
        "#### 1. Calculate the difference (in days) between the start_date and end_date."
      ],
      "metadata": {
        "id": "UeNn8qQ12Ysa"
      }
    },
    {
      "cell_type": "code",
      "source": [
        "df = spark.createDataFrame(\n",
        "      [\n",
        "        (\"2023-01-01\", \"2023-02-01\"),\n",
        "        (\"2023-03-15\", \"2023-03-20\")\n",
        "      ],\n",
        "      [\"start_date\", \"end_date\"]\n",
        "    )\n",
        "\n",
        "df.show()\n",
        "dif_df = df.withColumn(\"date_diffrence\", datediff(col(\"end_date\"), col(\"start_date\")))\n",
        "dif_df.show()"
      ],
      "metadata": {
        "colab": {
          "base_uri": "https://localhost:8080/"
        },
        "id": "Mee6nzKL2UA0",
        "outputId": "d1609115-fce3-42dd-b38e-855092f1333f"
      },
      "execution_count": 2,
      "outputs": [
        {
          "output_type": "stream",
          "name": "stdout",
          "text": [
            "+----------+----------+\n",
            "|start_date|  end_date|\n",
            "+----------+----------+\n",
            "|2023-01-01|2023-02-01|\n",
            "|2023-03-15|2023-03-20|\n",
            "+----------+----------+\n",
            "\n",
            "+----------+----------+--------------+\n",
            "|start_date|  end_date|date_diffrence|\n",
            "+----------+----------+--------------+\n",
            "|2023-01-01|2023-02-01|            31|\n",
            "|2023-03-15|2023-03-20|             5|\n",
            "+----------+----------+--------------+\n",
            "\n"
          ]
        }
      ]
    },
    {
      "cell_type": "markdown",
      "source": [
        "#### 2. Extracting Year from a Date Column Sometimes, you may need to extract specific parts of a date, such as the year, especially when grouping data by year."
      ],
      "metadata": {
        "id": "y0MS7a_l4I2e"
      }
    },
    {
      "cell_type": "code",
      "source": [
        "# Define schema for the dataframe\n",
        "schema = StructType(\n",
        "    [\n",
        "        StructField('event_date', StringType(), True)\n",
        "    ]\n",
        ")\n",
        "\n",
        "df =spark.createDataFrame([(\"2023-04-15\",),\n",
        " (\"2022-11-30\",),\n",
        " (\"2021-08-25\",)], schema)\n",
        "df.show()\n",
        "\n",
        "#Convert event date column as date type\n",
        "\n",
        "df = df.withColumn('event_date', to_date(col('event_date'), 'yyyy-MM-dd'))\n",
        "df.withColumn('year', year(col('event_date'))).show()\n",
        "\n",
        "\n"
      ],
      "metadata": {
        "colab": {
          "base_uri": "https://localhost:8080/"
        },
        "id": "3tFHBBGz38ay",
        "outputId": "de7390e4-2f6a-4bec-a328-d597722d3157"
      },
      "execution_count": 3,
      "outputs": [
        {
          "output_type": "stream",
          "name": "stdout",
          "text": [
            "+----------+\n",
            "|event_date|\n",
            "+----------+\n",
            "|2023-04-15|\n",
            "|2022-11-30|\n",
            "|2021-08-25|\n",
            "+----------+\n",
            "\n",
            "+----------+----+\n",
            "|event_date|year|\n",
            "+----------+----+\n",
            "|2023-04-15|2023|\n",
            "|2022-11-30|2022|\n",
            "|2021-08-25|2021|\n",
            "+----------+----+\n",
            "\n"
          ]
        }
      ]
    },
    {
      "cell_type": "markdown",
      "source": [
        "####3. Filter Records Based on Date\n",
        "\n",
        "Filtering records based on specific date ranges is a common operation in time-series data.\n",
        "\n",
        "#### Scenario:\n",
        "Filter records where event_date is after 2023-06-01."
      ],
      "metadata": {
        "id": "NVmIZ58v5-uV"
      }
    },
    {
      "cell_type": "code",
      "source": [
        "# Define schema for the dataframe\n",
        "schema = StructType([\n",
        " StructField(\"event_date\", StringType(), True)\n",
        "])\n",
        "# Create DataFrame\n",
        "df = spark.createDataFrame([\n",
        " (\"2023-05-15\",),\n",
        " (\"2023-07-20\",),\n",
        " (\"2023-06-05\",)\n",
        "], schema)\n",
        "df.show()\n",
        "#Convert event date to data type and filter for dates after '2023-06-01'\n",
        "df = df.withColumn('event_date', to_date(col(\"event_date\"), 'yyyy-MM-dd'))\n",
        "df.filter(col('event_date') > '2023-06-01').show()"
      ],
      "metadata": {
        "colab": {
          "base_uri": "https://localhost:8080/"
        },
        "id": "LiEMwEiu5H4T",
        "outputId": "e1561730-b491-4f36-e3f7-408ce91a0585"
      },
      "execution_count": 4,
      "outputs": [
        {
          "output_type": "stream",
          "name": "stdout",
          "text": [
            "+----------+\n",
            "|event_date|\n",
            "+----------+\n",
            "|2023-05-15|\n",
            "|2023-07-20|\n",
            "|2023-06-05|\n",
            "+----------+\n",
            "\n",
            "+----------+\n",
            "|event_date|\n",
            "+----------+\n",
            "|2023-07-20|\n",
            "|2023-06-05|\n",
            "+----------+\n",
            "\n"
          ]
        }
      ]
    },
    {
      "cell_type": "markdown",
      "source": [
        "#### 4. Add Days to Date\n",
        "\n",
        "Adding a certain number of days to a date is crucial when planning tasks or calculating deadlines.\n",
        "\n",
        "#### Scenario:\n",
        "Add 30 days to each date in the order_date column."
      ],
      "metadata": {
        "id": "OkDGHsru-GBX"
      }
    },
    {
      "cell_type": "code",
      "source": [
        "df = spark.createDataFrame([\n",
        "    (\"2023-01-10\",),\n",
        "    (\"2023-06-15\",),\n",
        "    (\"2023-07-30\",)\n",
        "], [\"order_date\"])\n",
        "\n",
        "#convert order_date to DataType and add 30 days\n",
        "df = df.withColumn(\"order_date\", to_date(col('order_date'), 'yyyy-MM-dd'))\n",
        "add_df = df.withColumn(\"new_order_date\", date_add(col('order_date'), 30))\n",
        "add_df.show()\n",
        "\n"
      ],
      "metadata": {
        "colab": {
          "base_uri": "https://localhost:8080/"
        },
        "id": "aslSjkjd9zJi",
        "outputId": "38c72aab-524f-4a9d-f177-0a7556bc6b66"
      },
      "execution_count": 5,
      "outputs": [
        {
          "output_type": "stream",
          "name": "stdout",
          "text": [
            "+----------+--------------+\n",
            "|order_date|new_order_date|\n",
            "+----------+--------------+\n",
            "|2023-01-10|    2023-02-09|\n",
            "|2023-06-15|    2023-07-15|\n",
            "|2023-07-30|    2023-08-29|\n",
            "+----------+--------------+\n",
            "\n"
          ]
        }
      ]
    },
    {
      "cell_type": "code",
      "source": [],
      "metadata": {
        "id": "cLYKGhiKAADl"
      },
      "execution_count": 5,
      "outputs": []
    },
    {
      "cell_type": "markdown",
      "source": [
        "####5. Find the Maximum Date in a Column\n",
        "\n",
        "Finding the latest date in a dataset is helpful when dealing with transaction logs or event timestamps.\n",
        "\n",
        "#### Scenario\n",
        "\n",
        "Find the latest payment_date in the column.\n"
      ],
      "metadata": {
        "id": "5YxiVX3aBb4p"
      }
    },
    {
      "cell_type": "code",
      "source": [
        "df = spark.createDataFrame([\n",
        " (\"2023-02-15\",),\n",
        " (\"2023-06-25\",),\n",
        " (\"2023-01-10\",)\n",
        "], [\"payment_date\"])\n",
        "\n",
        "df.show()\n",
        "#Convert date into Date type and get the latest payment date\n",
        "df = df.withColumn('payment_date', to_date(col('payment_date'), \"yyyy-MM-dd\"))\n",
        "df.agg(max('payment_date').alias(\"latest_payment_date\")).show()\n"
      ],
      "metadata": {
        "id": "H4mBP0hzBtve",
        "outputId": "dc177648-8d2a-4a93-e787-279fb75b9aff",
        "colab": {
          "base_uri": "https://localhost:8080/"
        }
      },
      "execution_count": 6,
      "outputs": [
        {
          "output_type": "stream",
          "name": "stdout",
          "text": [
            "+------------+\n",
            "|payment_date|\n",
            "+------------+\n",
            "|  2023-02-15|\n",
            "|  2023-06-25|\n",
            "|  2023-01-10|\n",
            "+------------+\n",
            "\n",
            "+-------------------+\n",
            "|latest_payment_date|\n",
            "+-------------------+\n",
            "|         2023-06-25|\n",
            "+-------------------+\n",
            "\n"
          ]
        }
      ]
    },
    {
      "cell_type": "code",
      "source": [
        "#df.groupBy(\"Catagory\").agg(sum('price')).alias('total_price').show()"
      ],
      "metadata": {
        "id": "niLn7gGTBvus"
      },
      "execution_count": 7,
      "outputs": []
    },
    {
      "cell_type": "code",
      "source": [
        "def is_palindrom(n):\n",
        "  return str(n) == str(n)[::-1]\n",
        "\n",
        "  print(is_palindrom(121))"
      ],
      "metadata": {
        "id": "9gffZSBv4kbV"
      },
      "execution_count": 8,
      "outputs": []
    },
    {
      "cell_type": "code",
      "source": [
        "# df1.join(df2, on='id', 'inner').show"
      ],
      "metadata": {
        "id": "I-HyojUY6Gkq"
      },
      "execution_count": 10,
      "outputs": []
    },
    {
      "cell_type": "code",
      "source": [
        "# def sqr(x):\n",
        "#   return x*x\n",
        "\n",
        "# sqr_udf = udf(sqr, IntegerType())\n",
        "df.withColumn(\"Squre\", sqr_udf(df[\"value\"]))"
      ],
      "metadata": {
        "id": "8LjBzvJh7N3E"
      },
      "execution_count": null,
      "outputs": []
    },
    {
      "cell_type": "code",
      "source": [
        "# filterd_df = df.filter(df['age']>30)\n",
        "# filterd_df.show()"
      ],
      "metadata": {
        "id": "csgR1ts29HyP"
      },
      "execution_count": 11,
      "outputs": []
    },
    {
      "cell_type": "code",
      "source": [
        "from collections import Counter\n",
        "def word_frequency(word):\n",
        "  return Counter(word.split())\n",
        "\n",
        "print(word_frequency('A column or function parameter with name function parameter'))"
      ],
      "metadata": {
        "id": "WRliFp_z-zQo",
        "outputId": "0b902d79-550d-4333-e5d4-5a1ba02f7f99",
        "colab": {
          "base_uri": "https://localhost:8080/"
        }
      },
      "execution_count": 12,
      "outputs": [
        {
          "output_type": "stream",
          "name": "stdout",
          "text": [
            "Counter({'function': 2, 'parameter': 2, 'A': 1, 'column': 1, 'or': 1, 'with': 1, 'name': 1})\n"
          ]
        }
      ]
    },
    {
      "cell_type": "code",
      "source": [
        "def getWordFrequency(sentence):\n",
        "  word_fre= {}\n",
        "  words = sentence.split()\n",
        "  for word in words:\n",
        "    if word in word_fre:\n",
        "      word_fre[word] +=1\n",
        "    else:\n",
        "      word_fre[word] = 1\n",
        "  return word_fre\n",
        "\n",
        "print(getWordFrequency('A column or function parameter with name function parameter'))"
      ],
      "metadata": {
        "id": "UFFITGkX_qPC",
        "outputId": "4a37b6ff-02d5-4e5e-fa21-6c393785918b",
        "colab": {
          "base_uri": "https://localhost:8080/"
        }
      },
      "execution_count": 13,
      "outputs": [
        {
          "output_type": "stream",
          "name": "stdout",
          "text": [
            "{'A': 1, 'column': 1, 'or': 1, 'function': 2, 'parameter': 2, 'with': 1, 'name': 1}\n"
          ]
        }
      ]
    },
    {
      "cell_type": "markdown",
      "source": [
        "Spark data design"
      ],
      "metadata": {
        "id": "TokdTrBGki20"
      }
    },
    {
      "cell_type": "code",
      "source": [
        "from datetime import date\n",
        "data = [\n",
        "    (\"cust_1\", \"2023-01-01\", 100),\n",
        "    (\"cust_1\", \"2023-01-02\", 150),\n",
        "    (\"cust_1\", \"2023-01-03\", 200),\n",
        "    (\"cust_2\", \"2023-01-01\", 167),\n",
        "    (\"cust_2\", \"2023-01-02\", 175),\n",
        "    (\"cust_2\", \"2023-01-03\", 187),\n",
        "    (\"cust_3\", \"2023-01-01\", 125),\n",
        "    (\"cust_3\", \"2023-01-02\", 150),\n",
        "    (\"cust_3\", \"2023-01-03\", 175),\n",
        "    (\"cust_4\", \"2023-01-01\", 145),\n",
        "    (\"cust_4\", \"2023-01-02\", 155)\n",
        "]\n",
        "\n",
        "schema = StructType([\n",
        "        StructField('customer_id', StringType(), True),\n",
        "        StructField('date', StringType(), True),\n",
        "        StructField('amount', StringType(), True)\n",
        "    ]\n",
        ")\n",
        "# Print data\n",
        "df = spark.createDataFrame(data, schema)\n",
        "#df.show()\n",
        "\n",
        "#Convert to proper date format\n",
        "df = df.withColumn('date', to_date(col('date'), 'yyyy-MM-dd'))\n",
        "#df.show()\n",
        "\n",
        "#Define windo space\n",
        "window_space = Window.partitionBy('customer_id').orderBy('date')\n",
        "\n",
        "# 1. Previous transaction amount\n",
        "df =df.withColumn(\"prev_amoun\", lag(\"amount\", 1).over(window_space))\n",
        "# df.show()\n",
        "\n",
        "# 2. Running total\n",
        "df = df.withColumn(\"running_total\", sum(\"amount\").over(window_space))\n",
        "# df.show()\n",
        "\n",
        "# 3. Rank by amount per customer\n",
        "rank_space = Window.partitionBy(\"customer_id\").orderBy(col(\"amount\").desc())\n",
        "df = df.withColumn(\"rank\", rank().over(rank_space))\n",
        "\n",
        "df.show()\n"
      ],
      "metadata": {
        "colab": {
          "base_uri": "https://localhost:8080/"
        },
        "id": "PAIdDTK2kimz",
        "outputId": "5da84f12-c185-476b-a6d1-2ac42763fda6"
      },
      "execution_count": 26,
      "outputs": [
        {
          "output_type": "stream",
          "name": "stdout",
          "text": [
            "+-----------+----------+------+----------+-------------+----+\n",
            "|customer_id|      date|amount|prev_amoun|running_total|rank|\n",
            "+-----------+----------+------+----------+-------------+----+\n",
            "|     cust_1|2023-01-03|   200|       150|        450.0|   1|\n",
            "|     cust_1|2023-01-02|   150|       100|        250.0|   2|\n",
            "|     cust_1|2023-01-01|   100|      NULL|        100.0|   3|\n",
            "|     cust_2|2023-01-03|   187|       175|        529.0|   1|\n",
            "|     cust_2|2023-01-02|   175|       167|        342.0|   2|\n",
            "|     cust_2|2023-01-01|   167|      NULL|        167.0|   3|\n",
            "|     cust_3|2023-01-03|   175|       150|        450.0|   1|\n",
            "|     cust_3|2023-01-02|   150|       125|        275.0|   2|\n",
            "|     cust_3|2023-01-01|   125|      NULL|        125.0|   3|\n",
            "|     cust_4|2023-01-02|   155|       145|        300.0|   1|\n",
            "|     cust_4|2023-01-01|   145|      NULL|        145.0|   2|\n",
            "+-----------+----------+------+----------+-------------+----+\n",
            "\n"
          ]
        }
      ]
    },
    {
      "cell_type": "markdown",
      "source": [
        "Practice with salses"
      ],
      "metadata": {
        "id": "7AMZQ6Nytxzc"
      }
    },
    {
      "cell_type": "code",
      "source": [
        "#Sales dataframe\n",
        "sales_data = [\n",
        "    ('A', '2021-01-01', '1'),\n",
        "    ('A', '2021-01-02', '2'),\n",
        "    ('A', '2021-01-03', '3'),\n",
        "    ('B', '2021-01-01', '1'),\n",
        "    ('B', '2021-01-02', '2'),\n",
        "    ('B', '2021-01-03', '3'),\n",
        "    ('C', '2021-01-01', '1'),\n",
        "    ('C', '2021-01-02', '3'),\n",
        "    ('C', '2021-01-03', '4'),\n",
        "    ('D', '2021-01-01', '1'),\n",
        "    ('D', '2021-01-02', '1'),\n",
        "    ('D', '2021-01-03', '2'),\n",
        "    ('E', '2021-01-01', '3'),\n",
        "    ('E', '2021-01-02', '4'),\n",
        "    ('E', '2021-01-03', '5')\n",
        "]\n",
        "\n",
        "sales_schema = StructType([\n",
        "    StructField('customer_id', StringType(), True),\n",
        "    StructField('date', StringType(), True),\n",
        "    StructField('product_id', StringType(), True)\n",
        "])\n",
        "\n",
        "sales_df = spark.createDataFrame(sales_data, sales_schema)\n",
        "print('Customer Data')\n",
        "sales_df.show()\n",
        "\n",
        "#Menu Dataframe\n",
        "menu_date = [\n",
        "    ('1', 'Sushi', 10),\n",
        "    ('2', 'Curry', 15),\n",
        "    ('3', 'Pizza', 20),\n",
        "    ('4', 'Salad', 5),\n",
        "    ('5', 'Pasta', 12)\n",
        "]\n",
        "\n",
        "menu_schema = StructType([\n",
        "    StructField('product_id', StringType(), True),\n",
        "    StructField('product_name', StringType(), True),\n",
        "    StructField('price', IntegerType(), True)\n",
        "])\n",
        "\n",
        "menu_df = spark.createDataFrame(menu_date, menu_schema)\n",
        "print('Menu Data')\n",
        "menu_df.show()\n",
        "\n",
        "#Member Dataframe\n",
        "member_data = [\n",
        "    ('A', '2021-01-07'),\n",
        "    ('B', '2021-01-09'),\n",
        "    ('C', '2021-01-01'),\n",
        "    ('D', '2021-01-02'),\n",
        "    ('E', '2021-01-01')\n",
        "]\n",
        "\n",
        "member_schema = StructType([\n",
        "    StructField('customer_id', StringType(), True),\n",
        "    StructField('join_date', StringType(), True)\n",
        "])\n",
        "\n",
        "member_df = spark.createDataFrame(member_data, member_schema)\n",
        "print('Member Data')\n",
        "member_df.show()\n",
        "\n",
        "\n"
      ],
      "metadata": {
        "colab": {
          "base_uri": "https://localhost:8080/"
        },
        "id": "rB0bWSsPooGM",
        "outputId": "83758479-1507-4dd4-d273-076de53a5b3d"
      },
      "execution_count": 34,
      "outputs": [
        {
          "output_type": "stream",
          "name": "stdout",
          "text": [
            "Customer Data\n",
            "+-----------+----------+----------+\n",
            "|customer_id|      date|product_id|\n",
            "+-----------+----------+----------+\n",
            "|          A|2021-01-01|         1|\n",
            "|          A|2021-01-02|         2|\n",
            "|          A|2021-01-03|         3|\n",
            "|          B|2021-01-01|         1|\n",
            "|          B|2021-01-02|         2|\n",
            "|          B|2021-01-03|         3|\n",
            "|          C|2021-01-01|         1|\n",
            "|          C|2021-01-02|         3|\n",
            "|          C|2021-01-03|         4|\n",
            "|          D|2021-01-01|         1|\n",
            "|          D|2021-01-02|         1|\n",
            "|          D|2021-01-03|         2|\n",
            "|          E|2021-01-01|         3|\n",
            "|          E|2021-01-02|         4|\n",
            "|          E|2021-01-03|         5|\n",
            "+-----------+----------+----------+\n",
            "\n",
            "Menu Data\n",
            "+----------+------------+-----+\n",
            "|product_id|product_name|price|\n",
            "+----------+------------+-----+\n",
            "|         1|       Sushi|   10|\n",
            "|         2|       Curry|   15|\n",
            "|         3|       Pizza|   20|\n",
            "|         4|       Salad|    5|\n",
            "|         5|       Pasta|   12|\n",
            "+----------+------------+-----+\n",
            "\n",
            "Member Data\n",
            "+-----------+----------+\n",
            "|customer_id| join_date|\n",
            "+-----------+----------+\n",
            "|          A|2021-01-07|\n",
            "|          B|2021-01-09|\n",
            "|          C|2021-01-01|\n",
            "|          D|2021-01-02|\n",
            "|          E|2021-01-01|\n",
            "+-----------+----------+\n",
            "\n"
          ]
        }
      ]
    },
    {
      "cell_type": "code",
      "source": [],
      "metadata": {
        "id": "l2w6gHAu2ERY"
      },
      "execution_count": null,
      "outputs": []
    }
  ],
  "metadata": {
    "colab": {
      "provenance": []
    },
    "kernelspec": {
      "display_name": "Python 3",
      "name": "python3"
    },
    "language_info": {
      "name": "python"
    }
  },
  "nbformat": 4,
  "nbformat_minor": 0
}