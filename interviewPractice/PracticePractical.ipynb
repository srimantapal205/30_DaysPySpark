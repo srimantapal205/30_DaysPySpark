{
  "cells": [
    {
      "cell_type": "markdown",
      "source": [
        "## PySpark COde Practice"
      ],
      "metadata": {
        "id": "c2L-0y-LDFIg"
      }
    },
    {
      "cell_type": "code",
      "source": [
        "from pyspark.sql import SparkSession\n",
        "from pyspark.sql.types import *\n",
        "from pyspark.sql import *\n",
        "from pyspark.sql.functions import *  # Import the function\n",
        "spark = SparkSession.builder.getOrCreate()\n",
        "from pyspark.sql.functions import regexp_replace, col\n",
        "from google.colab import drive"
      ],
      "metadata": {
        "id": "dVz3VjwEDKo_"
      },
      "execution_count": 2,
      "outputs": []
    },
    {
      "cell_type": "markdown",
      "source": [
        "#### 1. Calculate the difference (in days) between the start_date and end_date."
      ],
      "metadata": {
        "id": "UeNn8qQ12Ysa"
      }
    },
    {
      "cell_type": "code",
      "source": [
        "df = spark.createDataFrame(\n",
        "      [\n",
        "        (\"2023-01-01\", \"2023-02-01\"),\n",
        "        (\"2023-03-15\", \"2023-03-20\")\n",
        "      ],\n",
        "      [\"start_date\", \"end_date\"]\n",
        "    )\n",
        "\n",
        "df.show()\n",
        "dif_df = df.withColumn(\"date_diffrence\", datediff(col(\"end_date\"), col(\"start_date\")))\n",
        "dif_df.show()"
      ],
      "metadata": {
        "colab": {
          "base_uri": "https://localhost:8080/"
        },
        "id": "Mee6nzKL2UA0",
        "outputId": "d325db26-959f-4493-b817-3f7c436b2d01"
      },
      "execution_count": 4,
      "outputs": [
        {
          "output_type": "stream",
          "name": "stdout",
          "text": [
            "+----------+----------+\n",
            "|start_date|  end_date|\n",
            "+----------+----------+\n",
            "|2023-01-01|2023-02-01|\n",
            "|2023-03-15|2023-03-20|\n",
            "+----------+----------+\n",
            "\n",
            "+----------+----------+--------------+\n",
            "|start_date|  end_date|date_diffrence|\n",
            "+----------+----------+--------------+\n",
            "|2023-01-01|2023-02-01|            31|\n",
            "|2023-03-15|2023-03-20|             5|\n",
            "+----------+----------+--------------+\n",
            "\n"
          ]
        }
      ]
    },
    {
      "cell_type": "markdown",
      "source": [
        "#### 2. Extracting Year from a Date Column Sometimes, you may need to extract specific parts of a date, such as the year, especially when grouping data by year."
      ],
      "metadata": {
        "id": "y0MS7a_l4I2e"
      }
    },
    {
      "cell_type": "code",
      "source": [
        "# Define schema for the dataframe\n",
        "schema = StructType(\n",
        "    [\n",
        "        StructField('event_date', StringType(), True)\n",
        "    ]\n",
        ")\n",
        "\n",
        "df =spark.createDataFrame([(\"2023-04-15\",),\n",
        " (\"2022-11-30\",),\n",
        " (\"2021-08-25\",)], schema)\n",
        "df.show()\n",
        "\n",
        "#Convert event date column as date type\n",
        "\n",
        "df = df.withColumn('event_date', to_date(col('event_date'), 'yyyy-MM-dd'))\n",
        "df.withColumn('year', year(col('event_date'))).show()\n",
        "\n",
        "\n"
      ],
      "metadata": {
        "colab": {
          "base_uri": "https://localhost:8080/"
        },
        "id": "3tFHBBGz38ay",
        "outputId": "190eeb6f-6f82-4429-da79-6d62f801a9b9"
      },
      "execution_count": 8,
      "outputs": [
        {
          "output_type": "stream",
          "name": "stdout",
          "text": [
            "+----------+\n",
            "|event_date|\n",
            "+----------+\n",
            "|2023-04-15|\n",
            "|2022-11-30|\n",
            "|2021-08-25|\n",
            "+----------+\n",
            "\n",
            "+----------+----+\n",
            "|event_date|year|\n",
            "+----------+----+\n",
            "|2023-04-15|2023|\n",
            "|2022-11-30|2022|\n",
            "|2021-08-25|2021|\n",
            "+----------+----+\n",
            "\n"
          ]
        }
      ]
    },
    {
      "cell_type": "markdown",
      "source": [
        "####3. Filter Records Based on Date\n",
        "\n",
        "Filtering records based on specific date ranges is a common operation in time-series data.\n",
        "\n",
        "#### Scenario:\n",
        "Filter records where event_date is after 2023-06-01."
      ],
      "metadata": {
        "id": "NVmIZ58v5-uV"
      }
    },
    {
      "cell_type": "code",
      "source": [
        "# Define schema for the dataframe\n",
        "schema = StructType([\n",
        " StructField(\"event_date\", StringType(), True)\n",
        "])\n",
        "# Create DataFrame\n",
        "df = spark.createDataFrame([\n",
        " (\"2023-05-15\",),\n",
        " (\"2023-07-20\",),\n",
        " (\"2023-06-05\",)\n",
        "], schema)\n",
        "df.show()\n",
        "#Convert event date to data type and filter for dates after '2023-06-01'\n",
        "df = df.withColumn('event_date', to_date(col(\"event_date\"), 'yyyy-MM-dd'))\n",
        "df.filter(col('event_date') > '2023-06-01').show()"
      ],
      "metadata": {
        "colab": {
          "base_uri": "https://localhost:8080/"
        },
        "id": "LiEMwEiu5H4T",
        "outputId": "4d5b4aee-f9e1-4a15-9327-3385df42dbbb"
      },
      "execution_count": 10,
      "outputs": [
        {
          "output_type": "stream",
          "name": "stdout",
          "text": [
            "+----------+\n",
            "|event_date|\n",
            "+----------+\n",
            "|2023-05-15|\n",
            "|2023-07-20|\n",
            "|2023-06-05|\n",
            "+----------+\n",
            "\n",
            "+----------+\n",
            "|event_date|\n",
            "+----------+\n",
            "|2023-07-20|\n",
            "|2023-06-05|\n",
            "+----------+\n",
            "\n"
          ]
        }
      ]
    },
    {
      "cell_type": "markdown",
      "source": [
        "#### 4. Add Days to Date\n",
        "\n",
        "Adding a certain number of days to a date is crucial when planning tasks or calculating deadlines.\n",
        "\n",
        "#### Scenario:\n",
        "Add 30 days to each date in the order_date column."
      ],
      "metadata": {
        "id": "OkDGHsru-GBX"
      }
    },
    {
      "cell_type": "code",
      "source": [
        "df = spark.createDataFrame([\n",
        "    (\"2023-01-10\",),\n",
        "    (\"2023-06-15\",),\n",
        "    (\"2023-07-30\",)\n",
        "], [\"order_date\"])\n",
        "\n",
        "#convert order_date to DataType and add 30 days\n",
        "df = df.withColumn(\"order_date\", to_date(col('order_date'), 'yyyy-MM-dd'))\n",
        "add_df = df.withColumn(\"new_order_date\", date_add(col('order_date'), 30))\n",
        "add_df.show()\n",
        "\n"
      ],
      "metadata": {
        "id": "aslSjkjd9zJi",
        "outputId": "fd4c60d6-5338-49ab-c777-f490cb3d4ad5",
        "colab": {
          "base_uri": "https://localhost:8080/"
        }
      },
      "execution_count": 11,
      "outputs": [
        {
          "output_type": "stream",
          "name": "stdout",
          "text": [
            "+----------+--------------+\n",
            "|order_date|new_order_date|\n",
            "+----------+--------------+\n",
            "|2023-01-10|    2023-02-09|\n",
            "|2023-06-15|    2023-07-15|\n",
            "|2023-07-30|    2023-08-29|\n",
            "+----------+--------------+\n",
            "\n"
          ]
        }
      ]
    },
    {
      "cell_type": "code",
      "source": [],
      "metadata": {
        "id": "cLYKGhiKAADl"
      },
      "execution_count": null,
      "outputs": []
    }
  ],
  "metadata": {
    "colab": {
      "provenance": []
    },
    "kernelspec": {
      "display_name": "Python 3",
      "name": "python3"
    },
    "language_info": {
      "name": "python"
    }
  },
  "nbformat": 4,
  "nbformat_minor": 0
}