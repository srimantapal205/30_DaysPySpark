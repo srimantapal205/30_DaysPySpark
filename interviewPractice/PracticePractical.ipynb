{
  "cells": [
    {
      "cell_type": "markdown",
      "source": [
        "## PySpark COde Practice"
      ],
      "metadata": {
        "id": "c2L-0y-LDFIg"
      }
    },
    {
      "cell_type": "code",
      "source": [
        "from pyspark.sql import SparkSession\n",
        "from pyspark.sql.types import *\n",
        "from pyspark.sql import *\n",
        "from pyspark.sql.functions import *  # Import the function\n",
        "spark = SparkSession.builder.getOrCreate()\n",
        "from pyspark.sql.functions import regexp_replace, col\n",
        "from google.colab import drive"
      ],
      "metadata": {
        "id": "dVz3VjwEDKo_"
      },
      "execution_count": 5,
      "outputs": []
    },
    {
      "cell_type": "markdown",
      "source": [
        "#### 1. Calculate the difference (in days) between the start_date and end_date."
      ],
      "metadata": {
        "id": "UeNn8qQ12Ysa"
      }
    },
    {
      "cell_type": "code",
      "source": [
        "df = spark.createDataFrame(\n",
        "      [\n",
        "        (\"2023-01-01\", \"2023-02-01\"),\n",
        "        (\"2023-03-15\", \"2023-03-20\")\n",
        "      ],\n",
        "      [\"start_date\", \"end_date\"]\n",
        "    )\n",
        "\n",
        "df.show()\n",
        "dif_df = df.withColumn(\"date_diffrence\", datediff(col(\"end_date\"), col(\"start_date\")))\n",
        "dif_df.show()"
      ],
      "metadata": {
        "colab": {
          "base_uri": "https://localhost:8080/"
        },
        "id": "Mee6nzKL2UA0",
        "outputId": "8781b6f0-6222-404b-8178-2225a8e2fc1e"
      },
      "execution_count": 6,
      "outputs": [
        {
          "output_type": "stream",
          "name": "stdout",
          "text": [
            "+----------+----------+\n",
            "|start_date|  end_date|\n",
            "+----------+----------+\n",
            "|2023-01-01|2023-02-01|\n",
            "|2023-03-15|2023-03-20|\n",
            "+----------+----------+\n",
            "\n",
            "+----------+----------+--------------+\n",
            "|start_date|  end_date|date_diffrence|\n",
            "+----------+----------+--------------+\n",
            "|2023-01-01|2023-02-01|            31|\n",
            "|2023-03-15|2023-03-20|             5|\n",
            "+----------+----------+--------------+\n",
            "\n"
          ]
        }
      ]
    },
    {
      "cell_type": "markdown",
      "source": [
        "#### 2. Extracting Year from a Date Column Sometimes, you may need to extract specific parts of a date, such as the year, especially when grouping data by year."
      ],
      "metadata": {
        "id": "y0MS7a_l4I2e"
      }
    },
    {
      "cell_type": "code",
      "source": [
        "# Define schema for the dataframe\n",
        "schema = StructType(\n",
        "    [\n",
        "        StructField('event_date', StringType(), True)\n",
        "    ]\n",
        ")\n",
        "\n",
        "df =spark.createDataFrame([(\"2023-04-15\",),\n",
        " (\"2022-11-30\",),\n",
        " (\"2021-08-25\",)], schema)\n",
        "df.show()\n",
        "\n",
        "#Convert event date column as date type\n",
        "\n",
        "df = df.withColumn('event_date', to_date(col('event_date'), 'yyyy-MM-dd'))\n",
        "df.withColumn('year', year(col('event_date'))).show()\n",
        "\n",
        "\n"
      ],
      "metadata": {
        "colab": {
          "base_uri": "https://localhost:8080/"
        },
        "id": "3tFHBBGz38ay",
        "outputId": "c42dad5e-61e4-424f-d28e-8cfce8de3619"
      },
      "execution_count": 7,
      "outputs": [
        {
          "output_type": "stream",
          "name": "stdout",
          "text": [
            "+----------+\n",
            "|event_date|\n",
            "+----------+\n",
            "|2023-04-15|\n",
            "|2022-11-30|\n",
            "|2021-08-25|\n",
            "+----------+\n",
            "\n",
            "+----------+----+\n",
            "|event_date|year|\n",
            "+----------+----+\n",
            "|2023-04-15|2023|\n",
            "|2022-11-30|2022|\n",
            "|2021-08-25|2021|\n",
            "+----------+----+\n",
            "\n"
          ]
        }
      ]
    },
    {
      "cell_type": "markdown",
      "source": [
        "####3. Filter Records Based on Date\n",
        "\n",
        "Filtering records based on specific date ranges is a common operation in time-series data.\n",
        "\n",
        "#### Scenario:\n",
        "Filter records where event_date is after 2023-06-01."
      ],
      "metadata": {
        "id": "NVmIZ58v5-uV"
      }
    },
    {
      "cell_type": "code",
      "source": [
        "# Define schema for the dataframe\n",
        "schema = StructType([\n",
        " StructField(\"event_date\", StringType(), True)\n",
        "])\n",
        "# Create DataFrame\n",
        "df = spark.createDataFrame([\n",
        " (\"2023-05-15\",),\n",
        " (\"2023-07-20\",),\n",
        " (\"2023-06-05\",)\n",
        "], schema)\n",
        "df.show()\n",
        "#Convert event date to data type and filter for dates after '2023-06-01'\n",
        "df = df.withColumn('event_date', to_date(col(\"event_date\"), 'yyyy-MM-dd'))\n",
        "df.filter(col('event_date') > '2023-06-01').show()"
      ],
      "metadata": {
        "colab": {
          "base_uri": "https://localhost:8080/"
        },
        "id": "LiEMwEiu5H4T",
        "outputId": "0a35f515-6962-4aaf-fc25-497fcb6c6bcb"
      },
      "execution_count": 8,
      "outputs": [
        {
          "output_type": "stream",
          "name": "stdout",
          "text": [
            "+----------+\n",
            "|event_date|\n",
            "+----------+\n",
            "|2023-05-15|\n",
            "|2023-07-20|\n",
            "|2023-06-05|\n",
            "+----------+\n",
            "\n",
            "+----------+\n",
            "|event_date|\n",
            "+----------+\n",
            "|2023-07-20|\n",
            "|2023-06-05|\n",
            "+----------+\n",
            "\n"
          ]
        }
      ]
    },
    {
      "cell_type": "markdown",
      "source": [
        "#### 4. Add Days to Date\n",
        "\n",
        "Adding a certain number of days to a date is crucial when planning tasks or calculating deadlines.\n",
        "\n",
        "#### Scenario:\n",
        "Add 30 days to each date in the order_date column."
      ],
      "metadata": {
        "id": "OkDGHsru-GBX"
      }
    },
    {
      "cell_type": "code",
      "source": [
        "df = spark.createDataFrame([\n",
        "    (\"2023-01-10\",),\n",
        "    (\"2023-06-15\",),\n",
        "    (\"2023-07-30\",)\n",
        "], [\"order_date\"])\n",
        "\n",
        "#convert order_date to DataType and add 30 days\n",
        "df = df.withColumn(\"order_date\", to_date(col('order_date'), 'yyyy-MM-dd'))\n",
        "add_df = df.withColumn(\"new_order_date\", date_add(col('order_date'), 30))\n",
        "add_df.show()\n",
        "\n"
      ],
      "metadata": {
        "colab": {
          "base_uri": "https://localhost:8080/"
        },
        "id": "aslSjkjd9zJi",
        "outputId": "2435bf7b-86bd-466f-9cc3-580d0baa2adf"
      },
      "execution_count": 9,
      "outputs": [
        {
          "output_type": "stream",
          "name": "stdout",
          "text": [
            "+----------+--------------+\n",
            "|order_date|new_order_date|\n",
            "+----------+--------------+\n",
            "|2023-01-10|    2023-02-09|\n",
            "|2023-06-15|    2023-07-15|\n",
            "|2023-07-30|    2023-08-29|\n",
            "+----------+--------------+\n",
            "\n"
          ]
        }
      ]
    },
    {
      "cell_type": "code",
      "source": [],
      "metadata": {
        "id": "cLYKGhiKAADl"
      },
      "execution_count": 9,
      "outputs": []
    },
    {
      "cell_type": "markdown",
      "source": [
        "####5. Find the Maximum Date in a Column\n",
        "\n",
        "Finding the latest date in a dataset is helpful when dealing with transaction logs or event timestamps.\n",
        "\n",
        "#### Scenario\n",
        "\n",
        "Find the latest payment_date in the column.\n"
      ],
      "metadata": {
        "id": "5YxiVX3aBb4p"
      }
    },
    {
      "cell_type": "code",
      "source": [
        "df = spark.createDataFrame([\n",
        " (\"2023-02-15\",),\n",
        " (\"2023-06-25\",),\n",
        " (\"2023-01-10\",)\n",
        "], [\"payment_date\"])\n",
        "\n",
        "df.show()\n",
        "#Convert date into Date type and get the latest payment date\n",
        "df = df.withColumn('payment_date', to_date(col('payment_date'), \"yyyy-MM-dd\"))\n",
        "df.agg(max('payment_date').alias(\"latest_payment_date\")).show()\n"
      ],
      "metadata": {
        "id": "H4mBP0hzBtve",
        "outputId": "5bbc4403-e429-4d18-f0fa-70e886cc875f",
        "colab": {
          "base_uri": "https://localhost:8080/"
        }
      },
      "execution_count": 10,
      "outputs": [
        {
          "output_type": "stream",
          "name": "stdout",
          "text": [
            "+------------+\n",
            "|payment_date|\n",
            "+------------+\n",
            "|  2023-02-15|\n",
            "|  2023-06-25|\n",
            "|  2023-01-10|\n",
            "+------------+\n",
            "\n",
            "+-------------------+\n",
            "|latest_payment_date|\n",
            "+-------------------+\n",
            "|         2023-06-25|\n",
            "+-------------------+\n",
            "\n"
          ]
        }
      ]
    },
    {
      "cell_type": "code",
      "source": [
        "#df.groupBy(\"Catagory\").agg(sum('price')).alias('total_price').show()"
      ],
      "metadata": {
        "id": "niLn7gGTBvus"
      },
      "execution_count": 11,
      "outputs": []
    },
    {
      "cell_type": "code",
      "source": [
        "def is_palindrom(n):\n",
        "  return str(n) == str(n)[::-1]\n",
        "\n",
        "  print(is_palindrom(121))"
      ],
      "metadata": {
        "id": "9gffZSBv4kbV"
      },
      "execution_count": 12,
      "outputs": []
    },
    {
      "cell_type": "code",
      "source": [
        "df1.join(df2, on='id', 'inner').show"
      ],
      "metadata": {
        "id": "I-HyojUY6Gkq"
      },
      "execution_count": null,
      "outputs": []
    },
    {
      "cell_type": "code",
      "source": [
        "def sqr(x):\n",
        "  return x*x\n",
        "\n",
        "sqr_udf = udf(sqr, IntegerType())\n",
        "df.withColumn(\"Squre\", sqr_udf(df[\"value\"]))"
      ],
      "metadata": {
        "colab": {
          "base_uri": "https://localhost:8080/",
          "height": 321
        },
        "id": "8LjBzvJh7N3E",
        "outputId": "8f4ddf2f-3644-4ca5-8d0b-564af7ee3019"
      },
      "execution_count": 13,
      "outputs": [
        {
          "output_type": "error",
          "ename": "AnalysisException",
          "evalue": "[UNRESOLVED_COLUMN.WITH_SUGGESTION] A column or function parameter with name `value` cannot be resolved. Did you mean one of the following? [`payment_date`].",
          "traceback": [
            "\u001b[0;31m---------------------------------------------------------------------------\u001b[0m",
            "\u001b[0;31mAnalysisException\u001b[0m                         Traceback (most recent call last)",
            "\u001b[0;32m<ipython-input-13-1fbf305ba657>\u001b[0m in \u001b[0;36m<cell line: 0>\u001b[0;34m()\u001b[0m\n\u001b[1;32m      3\u001b[0m \u001b[0;34m\u001b[0m\u001b[0m\n\u001b[1;32m      4\u001b[0m \u001b[0msqr_udf\u001b[0m \u001b[0;34m=\u001b[0m \u001b[0mudf\u001b[0m\u001b[0;34m(\u001b[0m\u001b[0msqr\u001b[0m\u001b[0;34m,\u001b[0m \u001b[0mIntegerType\u001b[0m\u001b[0;34m(\u001b[0m\u001b[0;34m)\u001b[0m\u001b[0;34m)\u001b[0m\u001b[0;34m\u001b[0m\u001b[0;34m\u001b[0m\u001b[0m\n\u001b[0;32m----> 5\u001b[0;31m \u001b[0mdf\u001b[0m\u001b[0;34m.\u001b[0m\u001b[0mwithColumn\u001b[0m\u001b[0;34m(\u001b[0m\u001b[0;34m\"Squre\"\u001b[0m\u001b[0;34m,\u001b[0m \u001b[0msqr_udf\u001b[0m\u001b[0;34m(\u001b[0m\u001b[0mdf\u001b[0m\u001b[0;34m[\u001b[0m\u001b[0;34m\"value\"\u001b[0m\u001b[0;34m]\u001b[0m\u001b[0;34m)\u001b[0m\u001b[0;34m)\u001b[0m\u001b[0;34m\u001b[0m\u001b[0;34m\u001b[0m\u001b[0m\n\u001b[0m",
            "\u001b[0;32m/usr/local/lib/python3.11/dist-packages/pyspark/sql/dataframe.py\u001b[0m in \u001b[0;36m__getitem__\u001b[0;34m(self, item)\u001b[0m\n\u001b[1;32m   3078\u001b[0m         \"\"\"\n\u001b[1;32m   3079\u001b[0m         \u001b[0;32mif\u001b[0m \u001b[0misinstance\u001b[0m\u001b[0;34m(\u001b[0m\u001b[0mitem\u001b[0m\u001b[0;34m,\u001b[0m \u001b[0mstr\u001b[0m\u001b[0;34m)\u001b[0m\u001b[0;34m:\u001b[0m\u001b[0;34m\u001b[0m\u001b[0;34m\u001b[0m\u001b[0m\n\u001b[0;32m-> 3080\u001b[0;31m             \u001b[0mjc\u001b[0m \u001b[0;34m=\u001b[0m \u001b[0mself\u001b[0m\u001b[0;34m.\u001b[0m\u001b[0m_jdf\u001b[0m\u001b[0;34m.\u001b[0m\u001b[0mapply\u001b[0m\u001b[0;34m(\u001b[0m\u001b[0mitem\u001b[0m\u001b[0;34m)\u001b[0m\u001b[0;34m\u001b[0m\u001b[0;34m\u001b[0m\u001b[0m\n\u001b[0m\u001b[1;32m   3081\u001b[0m             \u001b[0;32mreturn\u001b[0m \u001b[0mColumn\u001b[0m\u001b[0;34m(\u001b[0m\u001b[0mjc\u001b[0m\u001b[0;34m)\u001b[0m\u001b[0;34m\u001b[0m\u001b[0;34m\u001b[0m\u001b[0m\n\u001b[1;32m   3082\u001b[0m         \u001b[0;32melif\u001b[0m \u001b[0misinstance\u001b[0m\u001b[0;34m(\u001b[0m\u001b[0mitem\u001b[0m\u001b[0;34m,\u001b[0m \u001b[0mColumn\u001b[0m\u001b[0;34m)\u001b[0m\u001b[0;34m:\u001b[0m\u001b[0;34m\u001b[0m\u001b[0;34m\u001b[0m\u001b[0m\n",
            "\u001b[0;32m/usr/local/lib/python3.11/dist-packages/py4j/java_gateway.py\u001b[0m in \u001b[0;36m__call__\u001b[0;34m(self, *args)\u001b[0m\n\u001b[1;32m   1320\u001b[0m \u001b[0;34m\u001b[0m\u001b[0m\n\u001b[1;32m   1321\u001b[0m         \u001b[0manswer\u001b[0m \u001b[0;34m=\u001b[0m \u001b[0mself\u001b[0m\u001b[0;34m.\u001b[0m\u001b[0mgateway_client\u001b[0m\u001b[0;34m.\u001b[0m\u001b[0msend_command\u001b[0m\u001b[0;34m(\u001b[0m\u001b[0mcommand\u001b[0m\u001b[0;34m)\u001b[0m\u001b[0;34m\u001b[0m\u001b[0;34m\u001b[0m\u001b[0m\n\u001b[0;32m-> 1322\u001b[0;31m         return_value = get_return_value(\n\u001b[0m\u001b[1;32m   1323\u001b[0m             answer, self.gateway_client, self.target_id, self.name)\n\u001b[1;32m   1324\u001b[0m \u001b[0;34m\u001b[0m\u001b[0m\n",
            "\u001b[0;32m/usr/local/lib/python3.11/dist-packages/pyspark/errors/exceptions/captured.py\u001b[0m in \u001b[0;36mdeco\u001b[0;34m(*a, **kw)\u001b[0m\n\u001b[1;32m    183\u001b[0m                 \u001b[0;31m# Hide where the exception came from that shows a non-Pythonic\u001b[0m\u001b[0;34m\u001b[0m\u001b[0;34m\u001b[0m\u001b[0m\n\u001b[1;32m    184\u001b[0m                 \u001b[0;31m# JVM exception message.\u001b[0m\u001b[0;34m\u001b[0m\u001b[0;34m\u001b[0m\u001b[0m\n\u001b[0;32m--> 185\u001b[0;31m                 \u001b[0;32mraise\u001b[0m \u001b[0mconverted\u001b[0m \u001b[0;32mfrom\u001b[0m \u001b[0;32mNone\u001b[0m\u001b[0;34m\u001b[0m\u001b[0;34m\u001b[0m\u001b[0m\n\u001b[0m\u001b[1;32m    186\u001b[0m             \u001b[0;32melse\u001b[0m\u001b[0;34m:\u001b[0m\u001b[0;34m\u001b[0m\u001b[0;34m\u001b[0m\u001b[0m\n\u001b[1;32m    187\u001b[0m                 \u001b[0;32mraise\u001b[0m\u001b[0;34m\u001b[0m\u001b[0;34m\u001b[0m\u001b[0m\n",
            "\u001b[0;31mAnalysisException\u001b[0m: [UNRESOLVED_COLUMN.WITH_SUGGESTION] A column or function parameter with name `value` cannot be resolved. Did you mean one of the following? [`payment_date`]."
          ]
        }
      ]
    },
    {
      "cell_type": "code",
      "source": [
        "filterd_df = df.filter(df['age']>30)\n",
        "filterd_df.show()"
      ],
      "metadata": {
        "id": "csgR1ts29HyP"
      },
      "execution_count": null,
      "outputs": []
    },
    {
      "cell_type": "code",
      "source": [
        "from collections import Counter\n",
        "def word_frequency(word):\n",
        "  return Counter(word.split())\n",
        "\n",
        "print(word_frequency('A column or function parameter with name function parameter'))"
      ],
      "metadata": {
        "id": "WRliFp_z-zQo",
        "outputId": "7985fa21-06dd-4677-8f1e-3d3600118167",
        "colab": {
          "base_uri": "https://localhost:8080/"
        }
      },
      "execution_count": 15,
      "outputs": [
        {
          "output_type": "stream",
          "name": "stdout",
          "text": [
            "Counter({'function': 2, 'parameter': 2, 'A': 1, 'column': 1, 'or': 1, 'with': 1, 'name': 1})\n"
          ]
        }
      ]
    },
    {
      "cell_type": "code",
      "source": [
        "def getWordFrequency(sentence):\n",
        "  word_fre= {}\n",
        "  words = sentence.split()\n",
        "  for word in words:\n",
        "    if word in word_fre:\n",
        "      word_fre[word] +=1\n",
        "    else:\n",
        "      word_fre[word] = 1\n",
        "  return word_fre\n",
        "\n",
        "print(getWordFrequency('A column or function parameter with name function parameter'))"
      ],
      "metadata": {
        "id": "UFFITGkX_qPC",
        "outputId": "7353e32d-6194-4195-d214-e35e9779f4ae",
        "colab": {
          "base_uri": "https://localhost:8080/"
        }
      },
      "execution_count": 17,
      "outputs": [
        {
          "output_type": "stream",
          "name": "stdout",
          "text": [
            "{'A': 1, 'column': 1, 'or': 1, 'function': 2, 'parameter': 2, 'with': 1, 'name': 1}\n"
          ]
        }
      ]
    }
  ],
  "metadata": {
    "colab": {
      "provenance": []
    },
    "kernelspec": {
      "display_name": "Python 3",
      "name": "python3"
    },
    "language_info": {
      "name": "python"
    }
  },
  "nbformat": 4,
  "nbformat_minor": 0
}