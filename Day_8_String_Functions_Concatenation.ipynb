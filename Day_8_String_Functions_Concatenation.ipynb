{
  "cells": [
    {
      "cell_type": "markdown",
      "source": [
        "### Create NewSpark Session"
      ],
      "metadata": {
        "id": "slPrPwBoPLnS"
      }
    },
    {
      "cell_type": "code",
      "source": [
        "spark = SparkSession.builder.appName('StrongAndStringFunction').getOrCreate()"
      ],
      "metadata": {
        "id": "sJFEDlSfPLF7"
      },
      "execution_count": 4,
      "outputs": []
    },
    {
      "cell_type": "code",
      "source": [
        "#Sample Data\n",
        "data = [(\"USA\", \"North America\", 100, 50.5), (\"India\", \"Asia\", 300, 20.0), (\"Germany\", \"Europe\", 200, 30.5), (\"Australia\", \"Oceania\", 150, 60.0), (\"Japan\", \"Asia\", 120, 45.0), (\"Brazil\", \"South America\", 180, 25.0) ]\n",
        "\n",
        "# Define Schema\n",
        "columns = [\"Country\", \"Region\", \"UnitsSold\", \"UnitPrice\"]\n",
        "\n",
        "#Create Dataframe\n",
        "df = spark.createDataFrame(data=data, schema=columns)\n",
        "\n",
        "# Display Orifinal Data Frame\n",
        "df.show()\n",
        "\n"
      ],
      "metadata": {
        "id": "1G9UJ2eoPzjZ",
        "outputId": "e64846f9-b4aa-436f-efa3-c03dd51e0bce",
        "colab": {
          "base_uri": "https://localhost:8080/"
        }
      },
      "execution_count": 18,
      "outputs": [
        {
          "output_type": "stream",
          "name": "stdout",
          "text": [
            "+---------+-------------+---------+---------+\n",
            "|  Country|       Region|UnitsSold|UnitPrice|\n",
            "+---------+-------------+---------+---------+\n",
            "|      USA|North America|      100|     50.5|\n",
            "|    India|         Asia|      300|     20.0|\n",
            "|  Germany|       Europe|      200|     30.5|\n",
            "|Australia|      Oceania|      150|     60.0|\n",
            "|    Japan|         Asia|      120|     45.0|\n",
            "|   Brazil|South America|      180|     25.0|\n",
            "+---------+-------------+---------+---------+\n",
            "\n"
          ]
        }
      ]
    },
    {
      "cell_type": "markdown",
      "source": [
        "## 1. Convert the first letter of each word to uppercase (initcap):"
      ],
      "metadata": {
        "id": "uWnqJmsuRbrU"
      }
    },
    {
      "cell_type": "code",
      "source": [
        "\n",
        "# Apply initcap on the new DataFrame\n",
        "df.select(initcap(col(\"Country\"))).show() # Changed df to df_sample\n",
        "\n",
        "#Note: This transforms the first letter of each word in the Country column to uppercase."
      ],
      "metadata": {
        "id": "v7-n5GmIT8HC",
        "outputId": "215eceb4-6ec2-47e9-e36d-b1f5c80f2ec8",
        "colab": {
          "base_uri": "https://localhost:8080/"
        }
      },
      "execution_count": 19,
      "outputs": [
        {
          "output_type": "stream",
          "name": "stdout",
          "text": [
            "+----------------+\n",
            "|initcap(Country)|\n",
            "+----------------+\n",
            "|             Usa|\n",
            "|           India|\n",
            "|         Germany|\n",
            "|       Australia|\n",
            "|           Japan|\n",
            "|          Brazil|\n",
            "+----------------+\n",
            "\n"
          ]
        }
      ]
    },
    {
      "cell_type": "markdown",
      "source": [
        "##2.Convert all text to lowercase (lower):"
      ],
      "metadata": {
        "id": "PoI1WNofcMot"
      }
    },
    {
      "cell_type": "code",
      "source": [
        "df.select(lower(col('Region'))).show()\n",
        "#Note: Converts all letters in the Country column to lowercase."
      ],
      "metadata": {
        "id": "8zH2Y2cyaXtz",
        "outputId": "13389284-9dd2-4f62-e96d-8cc1c6b02d51",
        "colab": {
          "base_uri": "https://localhost:8080/"
        }
      },
      "execution_count": 21,
      "outputs": [
        {
          "output_type": "stream",
          "name": "stdout",
          "text": [
            "+-------------+\n",
            "|lower(Region)|\n",
            "+-------------+\n",
            "|north america|\n",
            "|         asia|\n",
            "|       europe|\n",
            "|      oceania|\n",
            "|         asia|\n",
            "|south america|\n",
            "+-------------+\n",
            "\n"
          ]
        }
      ]
    },
    {
      "cell_type": "markdown",
      "source": [
        "## 3.Convert all text to uppercase (upper):"
      ],
      "metadata": {
        "id": "Zz6-MhdseXlq"
      }
    },
    {
      "cell_type": "code",
      "source": [
        "df.select(upper(col('Region'))).show()\n",
        "#Note:Converts all letters in the Country column to uppercase"
      ],
      "metadata": {
        "id": "MgIIW21Reex4",
        "outputId": "415d3e9a-1417-484d-cbd1-2666910069d9",
        "colab": {
          "base_uri": "https://localhost:8080/"
        }
      },
      "execution_count": 23,
      "outputs": [
        {
          "output_type": "stream",
          "name": "stdout",
          "text": [
            "+-------------+\n",
            "|upper(Region)|\n",
            "+-------------+\n",
            "|NORTH AMERICA|\n",
            "|         ASIA|\n",
            "|       EUROPE|\n",
            "|      OCEANIA|\n",
            "|         ASIA|\n",
            "|SOUTH AMERICA|\n",
            "+-------------+\n",
            "\n"
          ]
        }
      ]
    },
    {
      "cell_type": "markdown",
      "source": [
        "## Concatenation Functions"
      ],
      "metadata": {
        "id": "zp4GeVAWeu07"
      }
    },
    {
      "cell_type": "code",
      "source": [
        "df.select(concat(col('Region'),col('Country'))).show()"
      ],
      "metadata": {
        "id": "gYwWhXm4eoNL",
        "outputId": "c7d0362e-04e3-4168-9981-7eb09a686326",
        "colab": {
          "base_uri": "https://localhost:8080/"
        }
      },
      "execution_count": 29,
      "outputs": [
        {
          "output_type": "stream",
          "name": "stdout",
          "text": [
            "+-----------------------+\n",
            "|concat(Region, Country)|\n",
            "+-----------------------+\n",
            "|       North AmericaUSA|\n",
            "|              AsiaIndia|\n",
            "|          EuropeGermany|\n",
            "|       OceaniaAustralia|\n",
            "|              AsiaJapan|\n",
            "|    South AmericaBrazil|\n",
            "+-----------------------+\n",
            "\n"
          ]
        }
      ]
    },
    {
      "cell_type": "markdown",
      "source": [
        "## 2.Concatenate with a separator:"
      ],
      "metadata": {
        "id": "vvgIsjcPfsoZ"
      }
    },
    {
      "cell_type": "code",
      "source": [
        "df.select(concat_ws('|', col('Region'), col('Country'))).show()"
      ],
      "metadata": {
        "id": "shs91KI3frtj",
        "outputId": "800fb43b-cf98-4838-e991-3091a3131d68",
        "colab": {
          "base_uri": "https://localhost:8080/"
        }
      },
      "execution_count": 33,
      "outputs": [
        {
          "output_type": "stream",
          "name": "stdout",
          "text": [
            "+-----------------------------+\n",
            "|concat_ws(|, Region, Country)|\n",
            "+-----------------------------+\n",
            "|            North America|USA|\n",
            "|                   Asia|India|\n",
            "|               Europe|Germany|\n",
            "|            Oceania|Australia|\n",
            "|                   Asia|Japan|\n",
            "|         South America|Brazil|\n",
            "+-----------------------------+\n",
            "\n"
          ]
        }
      ]
    },
    {
      "cell_type": "markdown",
      "source": [
        "## 3.Create a new concatenated column:"
      ],
      "metadata": {
        "id": "hjuMf5WZgnvK"
      }
    },
    {
      "cell_type": "code",
      "source": [
        "concated_df =df.withColumn('Concatenated_new_column', concat(col('Region'), lit(' - '),col('Country')))\n",
        "concated_df.show()\n",
        "\n",
        "#Note: This creates a new column concatenated by combining Region and Country with a space between them."
      ],
      "metadata": {
        "id": "im3ZuPOJgnfE",
        "outputId": "0bbafa15-55c7-4907-aedf-6e2faa623a84",
        "colab": {
          "base_uri": "https://localhost:8080/"
        }
      },
      "execution_count": 36,
      "outputs": [
        {
          "output_type": "stream",
          "name": "stdout",
          "text": [
            "+---------+-------------+---------+---------+-----------------------+\n",
            "|  Country|       Region|UnitsSold|UnitPrice|Concatenated_new_column|\n",
            "+---------+-------------+---------+---------+-----------------------+\n",
            "|      USA|North America|      100|     50.5|    North America - USA|\n",
            "|    India|         Asia|      300|     20.0|           Asia - India|\n",
            "|  Germany|       Europe|      200|     30.5|       Europe - Germany|\n",
            "|Australia|      Oceania|      150|     60.0|    Oceania - Australia|\n",
            "|    Japan|         Asia|      120|     45.0|           Asia - Japan|\n",
            "|   Brazil|South America|      180|     25.0|   South America - B...|\n",
            "+---------+-------------+---------+---------+-----------------------+\n",
            "\n"
          ]
        }
      ]
    },
    {
      "cell_type": "code",
      "source": [
        "d"
      ],
      "metadata": {
        "id": "XQOlq7WYfLIF"
      },
      "execution_count": null,
      "outputs": []
    }
  ],
  "metadata": {
    "colab": {
      "provenance": []
    },
    "kernelspec": {
      "display_name": "Python 3",
      "name": "python3"
    },
    "language_info": {
      "name": "python"
    }
  },
  "nbformat": 4,
  "nbformat_minor": 0
}