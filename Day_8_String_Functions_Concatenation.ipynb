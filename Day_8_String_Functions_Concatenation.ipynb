{
  "cells": [
    {
      "cell_type": "markdown",
      "metadata": {
        "id": "ijVRjfSU2ihU"
      },
      "source": [
        "**a structured set of notes with code to cover changing data types, filtering data, and handling unique/distinct values in PySpark using the employee data:**"
      ]
    },
    {
      "cell_type": "code",
      "execution_count": 1,
      "metadata": {
        "colab": {
          "base_uri": "https://localhost:8080/"
        },
        "id": "JKKH4zhWIOQV",
        "outputId": "8af4357b-124c-4b60-e705-019d225b463e"
      },
      "outputs": [
        {
          "output_type": "stream",
          "name": "stdout",
          "text": [
            "Mounted at /content/drive\n",
            "root\n",
            " |-- ID: integer (nullable = true)\n",
            " |-- Name: string (nullable = true)\n",
            " |-- Age: integer (nullable = true)\n",
            " |-- Salary: float (nullable = true)\n",
            " |-- Joining_Date: date (nullable = true)\n",
            " |-- Department: string (nullable = true)\n",
            " |-- Performance_Rating: integer (nullable = true)\n",
            " |-- Email: string (nullable = true)\n",
            " |-- Address: string (nullable = true)\n",
            " |-- Phone: string (nullable = true)\n",
            "\n",
            "+---+-------------+----+-------+------------+-----------+------------------+--------------------+------------------+------------+\n",
            "| ID|         Name| Age| Salary|Joining_Date| Department|Performance_Rating|               Email|           Address|       Phone|\n",
            "+---+-------------+----+-------+------------+-----------+------------------+--------------------+------------------+------------+\n",
            "|  1|Alice Johnson|  29|75000.0|  2021-03-15|Engineering|                 4|alice.johnson@exa...|123 Elm Street, NY|123-456-7890|\n",
            "|  2|    Bob Smith|  35|85000.0|  2020-08-20|  Marketing|                 5|bob.smith@example...|456 Oak Avenue, LA|987-654-3210|\n",
            "|  3|  Cathy Brown|  42|95000.0|  2019-11-10|    Finance|                 3|cathy.brown@examp...| 789 Pine Road, TX|567-890-1234|\n",
            "|  4|  David White|  30|67000.0|  2022-01-05|         HR|                 4|david.white@examp...|234 Maple Lane, IL|345-678-9012|\n",
            "|  5|    Eva Green|  28|72000.0|  2023-06-22|Engineering|                 5|eva.green@example...|321 Birch Blvd, FL|234-567-8901|\n",
            "|  6|        Alice|  29|55000.0|  2024-12-06|    Finance|                 6|   alice@example.com|235 Maple Lane, IL|345-678-9013|\n",
            "|  7|          Bob|NULL|38000.0|  2024-05-23|         HR|                 7|                Null|322 Birch Blvd, FL|234-567-8902|\n",
            "|  8|      Charlie|  27|21000.0|  2024-11-07|Engineering|                 8|     charlie@xyz.com|              Null|345-678-9014|\n",
            "|  9|         Emma|  31|40000.0|  2024-04-23|    Finance|                 9|        emma@abc.com|122 Elm Street, NY|234-567-8903|\n",
            "+---+-------------+----+-------+------------+-----------+------------------+--------------------+------------------+------------+\n",
            "\n"
          ]
        }
      ],
      "source": [
        "from pyspark.sql import SparkSession\n",
        "from pyspark.sql.types import *\n",
        "from pyspark.sql.functions import *  # Import the function\n",
        "spark = SparkSession.builder.getOrCreate()\n",
        "from pyspark.sql.functions import regexp_replace, col\n",
        "from google.colab import drive\n",
        "\n",
        "# Mount Google Drive with a longer timeout\n",
        "drive.mount('/content/drive', force_remount=True, timeout_ms=300000)\n",
        "\n",
        "df_employee_data = \"/content/drive/MyDrive/Colab Notebooks/dataSet/employee_data.csv\"\n",
        "employeeSechema = StructType([\n",
        "    StructField(\"ID\",IntegerType() ,True),\n",
        "    StructField(\"Name\",StringType() ,True),\n",
        "    StructField(\"Age\",IntegerType() ,True),\n",
        "    StructField(\"Salary\",FloatType() ,True),\n",
        "    StructField(\"Joining_Date\",DateType() ,True),\n",
        "    StructField(\"Department\",StringType() ,True),\n",
        "    StructField(\"Performance_Rating\",IntegerType() ,True),\n",
        "    StructField(\"Email\",StringType() ,True),\n",
        "    StructField(\"Address\",StringType() ,True),\n",
        "    StructField(\"Phone\",StringType() ,True)\n",
        "\n",
        "])\n",
        "# Load the DataFrame with the defined schema\n",
        "#df = spark.read.csv(path=df_employee_data, header=True, schema=employeeSechema)\n",
        "df = spark.read.load(path=\"/content/drive/MyDrive/Colab Notebooks/dataSet/employee_data.csv\", format=\"csv\", header = True, schema=employeeSechema)\n",
        "df.printSchema()\n",
        "df.show(50)"
      ]
    },
    {
      "cell_type": "markdown",
      "source": [
        "### Create NewSpark Session"
      ],
      "metadata": {
        "id": "slPrPwBoPLnS"
      }
    },
    {
      "cell_type": "code",
      "source": [
        "spark = SparkSession.builder.appName('StrongAndStringFunction').getOrCreate()"
      ],
      "metadata": {
        "id": "sJFEDlSfPLF7"
      },
      "execution_count": 4,
      "outputs": []
    },
    {
      "cell_type": "code",
      "source": [
        "#Sample Data\n",
        "data = [(\"USA\", \"North America\", 100, 50.5), (\"India\", \"Asia\", 300, 20.0), (\"Germany\", \"Europe\", 200, 30.5), (\"Australia\", \"Oceania\", 150, 60.0), (\"Japan\", \"Asia\", 120, 45.0), (\"Brazil\", \"South America\", 180, 25.0) ]\n",
        "\n",
        "# Define Schema\n",
        "columns = [\"Country\", \"Region\", \"UnitsSold\", \"UnitPrice\"]\n",
        "\n",
        "#Create Dataframe\n",
        "df = spark.createDataFrame(data=data, schema=columns)\n",
        "\n",
        "# Display Orifinal Data Frame\n",
        "df.show()"
      ],
      "metadata": {
        "id": "1G9UJ2eoPzjZ",
        "outputId": "bad611b3-4786-4c26-9223-bcc5aad50b7f",
        "colab": {
          "base_uri": "https://localhost:8080/"
        }
      },
      "execution_count": 6,
      "outputs": [
        {
          "output_type": "stream",
          "name": "stdout",
          "text": [
            "+---------+-------------+---------+---------+\n",
            "|  Country|       Region|UnitsSold|UnitPrice|\n",
            "+---------+-------------+---------+---------+\n",
            "|      USA|North America|      100|     50.5|\n",
            "|    India|         Asia|      300|     20.0|\n",
            "|  Germany|       Europe|      200|     30.5|\n",
            "|Australia|      Oceania|      150|     60.0|\n",
            "|    Japan|         Asia|      120|     45.0|\n",
            "|   Brazil|South America|      180|     25.0|\n",
            "+---------+-------------+---------+---------+\n",
            "\n"
          ]
        }
      ]
    },
    {
      "cell_type": "markdown",
      "source": [
        "## 1. Sort by a single column (ascending order):"
      ],
      "metadata": {
        "id": "uWnqJmsuRbrU"
      }
    },
    {
      "cell_type": "code",
      "source": [
        "df.orderBy('Country').show()"
      ],
      "metadata": {
        "id": "AoohWDrMQnmS",
        "outputId": "16254acc-d22b-450d-962c-1e2a815f0666",
        "colab": {
          "base_uri": "https://localhost:8080/"
        }
      },
      "execution_count": 8,
      "outputs": [
        {
          "output_type": "stream",
          "name": "stdout",
          "text": [
            "+---------+-------------+---------+---------+\n",
            "|  Country|       Region|UnitsSold|UnitPrice|\n",
            "+---------+-------------+---------+---------+\n",
            "|Australia|      Oceania|      150|     60.0|\n",
            "|   Brazil|South America|      180|     25.0|\n",
            "|  Germany|       Europe|      200|     30.5|\n",
            "|    India|         Asia|      300|     20.0|\n",
            "|    Japan|         Asia|      120|     45.0|\n",
            "|      USA|North America|      100|     50.5|\n",
            "+---------+-------------+---------+---------+\n",
            "\n"
          ]
        }
      ]
    },
    {
      "cell_type": "markdown",
      "source": [
        "## 2.Sort by multiple columns:"
      ],
      "metadata": {
        "id": "h4sbiWiVR_Q-"
      }
    },
    {
      "cell_type": "code",
      "source": [
        "df.orderBy(\"Country\", \"UnitsSold\").show()"
      ],
      "metadata": {
        "id": "doLEMMMBRkvL",
        "outputId": "4bf2d1db-1cbe-48da-d071-e7fb667f3326",
        "colab": {
          "base_uri": "https://localhost:8080/"
        }
      },
      "execution_count": 9,
      "outputs": [
        {
          "output_type": "stream",
          "name": "stdout",
          "text": [
            "+---------+-------------+---------+---------+\n",
            "|  Country|       Region|UnitsSold|UnitPrice|\n",
            "+---------+-------------+---------+---------+\n",
            "|Australia|      Oceania|      150|     60.0|\n",
            "|   Brazil|South America|      180|     25.0|\n",
            "|  Germany|       Europe|      200|     30.5|\n",
            "|    India|         Asia|      300|     20.0|\n",
            "|    Japan|         Asia|      120|     45.0|\n",
            "|      USA|North America|      100|     50.5|\n",
            "+---------+-------------+---------+---------+\n",
            "\n"
          ]
        }
      ]
    },
    {
      "cell_type": "markdown",
      "source": [
        "## 3.Sort by a column in descending order and limit:"
      ],
      "metadata": {
        "id": "_17cWmjpS4wb"
      }
    },
    {
      "cell_type": "code",
      "source": [
        "sorted_df = df.orderBy(desc('country')).show(3)"
      ],
      "metadata": {
        "id": "l5tvSR__SqDZ",
        "outputId": "ac34a900-936b-47cc-bbf9-27f68fefab2d",
        "colab": {
          "base_uri": "https://localhost:8080/"
        }
      },
      "execution_count": 10,
      "outputs": [
        {
          "output_type": "stream",
          "name": "stdout",
          "text": [
            "+-------+-------------+---------+---------+\n",
            "|Country|       Region|UnitsSold|UnitPrice|\n",
            "+-------+-------------+---------+---------+\n",
            "|    USA|North America|      100|     50.5|\n",
            "|  Japan|         Asia|      120|     45.0|\n",
            "|  India|         Asia|      300|     20.0|\n",
            "+-------+-------------+---------+---------+\n",
            "only showing top 3 rows\n",
            "\n"
          ]
        }
      ]
    },
    {
      "cell_type": "markdown",
      "source": [
        "## 4.Sorting with null values last:"
      ],
      "metadata": {
        "id": "b0YkLJXrTa-C"
      }
    },
    {
      "cell_type": "code",
      "source": [
        "sorted_df = df.orderBy(col('Country').desc(), nulls_last=True).show()\n",
        "#Note: This ensures that null values (if present) are placed at the end when sorting by Country."
      ],
      "metadata": {
        "id": "ZRyiXB3HTQ3M",
        "outputId": "5c8247a0-9055-46db-fc3e-2f3abc4595e0",
        "colab": {
          "base_uri": "https://localhost:8080/"
        }
      },
      "execution_count": 11,
      "outputs": [
        {
          "output_type": "stream",
          "name": "stdout",
          "text": [
            "+---------+-------------+---------+---------+\n",
            "|  Country|       Region|UnitsSold|UnitPrice|\n",
            "+---------+-------------+---------+---------+\n",
            "|      USA|North America|      100|     50.5|\n",
            "|    Japan|         Asia|      120|     45.0|\n",
            "|    India|         Asia|      300|     20.0|\n",
            "|  Germany|       Europe|      200|     30.5|\n",
            "|   Brazil|South America|      180|     25.0|\n",
            "|Australia|      Oceania|      150|     60.0|\n",
            "+---------+-------------+---------+---------+\n",
            "\n"
          ]
        }
      ]
    },
    {
      "cell_type": "code",
      "source": [],
      "metadata": {
        "id": "v7-n5GmIT8HC"
      },
      "execution_count": null,
      "outputs": []
    }
  ],
  "metadata": {
    "colab": {
      "provenance": []
    },
    "kernelspec": {
      "display_name": "Python 3",
      "name": "python3"
    },
    "language_info": {
      "name": "python"
    }
  },
  "nbformat": 4,
  "nbformat_minor": 0
}