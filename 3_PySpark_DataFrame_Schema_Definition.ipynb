{
  "nbformat": 4,
  "nbformat_minor": 0,
  "metadata": {
    "colab": {
      "provenance": [],
      "authorship_tag": "ABX9TyO4aTWxAmFzriluDJz9GW7y"
    },
    "kernelspec": {
      "name": "python3",
      "display_name": "Python 3"
    },
    "language_info": {
      "name": "python"
    }
  },
  "cells": [
    {
      "cell_type": "markdown",
      "source": [
        "## PySpark DataFrame Schema Definition"
      ],
      "metadata": {
        "id": "vvSbgdFKqGty"
      }
    },
    {
      "cell_type": "code",
      "execution_count": null,
      "metadata": {
        "id": "9Qcgy9plqC2d"
      },
      "outputs": [],
      "source": []
    }
  ]
}