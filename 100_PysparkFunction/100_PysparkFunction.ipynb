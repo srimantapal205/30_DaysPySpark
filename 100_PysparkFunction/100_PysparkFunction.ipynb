{
  "cells": [
    {
      "cell_type": "code",
      "execution_count": 1,
      "metadata": {
        "id": "K9R9pyy1gU2Z"
      },
      "outputs": [],
      "source": [
        "from pyspark.sql import SparkSession\n",
        "from pyspark.sql.types import *\n",
        "from pyspark.sql.functions import *  # Import the function\n",
        "spark = SparkSession.builder.getOrCreate()\n",
        "from pyspark.sql.functions import regexp_replace, col\n",
        "from google.colab import drive\n"
      ]
    },
    {
      "cell_type": "markdown",
      "source": [
        "## 1. Create an empty DataFrame"
      ],
      "metadata": {
        "id": "J6nusHikAZhn"
      }
    },
    {
      "cell_type": "code",
      "execution_count": 2,
      "metadata": {
        "id": "wYcUMNKhWuM8",
        "outputId": "845e0983-8239-4c75-b971-5b357a8cc5c8",
        "colab": {
          "base_uri": "https://localhost:8080/"
        }
      },
      "outputs": [
        {
          "output_type": "stream",
          "name": "stdout",
          "text": [
            "+---+----+\n",
            "| id|name|\n",
            "+---+----+\n",
            "+---+----+\n",
            "\n"
          ]
        }
      ],
      "source": [
        "Spark2 = SparkSession.builder.master(\"local\").appName(\"EmptyDataFrame\").getOrCreate()\n",
        "#Empty DataFrame with Nodata\n",
        "empty_df = Spark2.createDataFrame([], \"id INT, name STRING\")\n",
        "empty_df.show()"
      ]
    },
    {
      "cell_type": "markdown",
      "source": [
        "## 2. Convert RDD to DataFrame"
      ],
      "metadata": {
        "id": "zFnF9ukRkcgx"
      }
    },
    {
      "cell_type": "code",
      "source": [
        "rdd = spark.sparkContext.parallelize([(1, \"ABC\"),(2, \"DEF\")])\n",
        "columns = [\"id\", \"name\"]\n",
        "df_from_rdd = rdd.toDF(columns)\n",
        "df_from_rdd.show()"
      ],
      "metadata": {
        "id": "Js93HJUqBdiN",
        "colab": {
          "base_uri": "https://localhost:8080/"
        },
        "outputId": "4db057de-3fc7-431b-a5a4-f161d2a25cf3"
      },
      "execution_count": 3,
      "outputs": [
        {
          "output_type": "stream",
          "name": "stdout",
          "text": [
            "+---+----+\n",
            "| id|name|\n",
            "+---+----+\n",
            "|  1| ABC|\n",
            "|  2| DEF|\n",
            "+---+----+\n",
            "\n"
          ]
        }
      ]
    },
    {
      "cell_type": "markdown",
      "source": [
        "## 3. Convert DataFrame to Pandas"
      ],
      "metadata": {
        "id": "LusxNyZslSSk"
      }
    },
    {
      "cell_type": "code",
      "source": [
        "pands_df = df_from_rdd.toPandas()\n",
        "print(pands_df)"
      ],
      "metadata": {
        "colab": {
          "base_uri": "https://localhost:8080/"
        },
        "id": "1av9MKVMlPVB",
        "outputId": "c091007b-8fb8-4cd5-f389-acea565d8edd"
      },
      "execution_count": 4,
      "outputs": [
        {
          "output_type": "stream",
          "name": "stdout",
          "text": [
            "   id name\n",
            "0   1  ABC\n",
            "1   2  DEF\n"
          ]
        }
      ]
    },
    {
      "cell_type": "markdown",
      "source": [
        "## 4. show()"
      ],
      "metadata": {
        "id": "vSOFXkEKlmDZ"
      }
    },
    {
      "cell_type": "code",
      "source": [
        "df_from_rdd.show()"
      ],
      "metadata": {
        "colab": {
          "base_uri": "https://localhost:8080/"
        },
        "id": "o7c_RDw-llfd",
        "outputId": "a1027aa5-6c7f-456b-cd76-d571bc7a701a"
      },
      "execution_count": 5,
      "outputs": [
        {
          "output_type": "stream",
          "name": "stdout",
          "text": [
            "+---+----+\n",
            "| id|name|\n",
            "+---+----+\n",
            "|  1| ABC|\n",
            "|  2| DEF|\n",
            "+---+----+\n",
            "\n"
          ]
        }
      ]
    },
    {
      "cell_type": "markdown",
      "source": [
        "## StructType & StructField"
      ],
      "metadata": {
        "id": "lq3eR__AlwQo"
      }
    },
    {
      "cell_type": "code",
      "source": [
        "data =[(1, \"ABC\"), (2, \"DEF\"), (3, \"GHI\")]\n",
        "\n",
        "schema = StructType([\n",
        "    StructField('id', IntegerType(), True),\n",
        "    StructField(\"name\", StringType(), True)\n",
        "])\n",
        "df_with_schema= spark.createDataFrame(data, schema)\n",
        "df_with_schema.show()"
      ],
      "metadata": {
        "colab": {
          "base_uri": "https://localhost:8080/"
        },
        "id": "MVZ1hd0AldsN",
        "outputId": "8390138c-cd8f-4d03-9025-20fa2e1a39fc"
      },
      "execution_count": 6,
      "outputs": [
        {
          "output_type": "stream",
          "name": "stdout",
          "text": [
            "+---+----+\n",
            "| id|name|\n",
            "+---+----+\n",
            "|  1| ABC|\n",
            "|  2| DEF|\n",
            "|  3| GHI|\n",
            "+---+----+\n",
            "\n"
          ]
        }
      ]
    },
    {
      "cell_type": "markdown",
      "source": [
        "## 6. Column Class"
      ],
      "metadata": {
        "id": "GiuuqM-qm7IU"
      }
    },
    {
      "cell_type": "code",
      "source": [
        "df = df_with_schema.withColumn('loweerCase_format', lower(col('name')))\n",
        "df.show()"
      ],
      "metadata": {
        "colab": {
          "base_uri": "https://localhost:8080/"
        },
        "id": "YmbugZrgmlxh",
        "outputId": "6fdea0bd-dc19-4e79-c2df-182d2086dbb4"
      },
      "execution_count": 7,
      "outputs": [
        {
          "output_type": "stream",
          "name": "stdout",
          "text": [
            "+---+----+-----------------+\n",
            "| id|name|loweerCase_format|\n",
            "+---+----+-----------------+\n",
            "|  1| ABC|              abc|\n",
            "|  2| DEF|              def|\n",
            "|  3| GHI|              ghi|\n",
            "+---+----+-----------------+\n",
            "\n"
          ]
        }
      ]
    },
    {
      "cell_type": "markdown",
      "source": [
        "## 7. select()"
      ],
      "metadata": {
        "id": "k5mbMNLQnmDE"
      }
    },
    {
      "cell_type": "code",
      "source": [
        "df.select(col('loweerCase_format')).show()"
      ],
      "metadata": {
        "colab": {
          "base_uri": "https://localhost:8080/"
        },
        "id": "-Sb6Bu7Pne44",
        "outputId": "e87290b1-1e36-486c-c15f-dd173390c079"
      },
      "execution_count": 8,
      "outputs": [
        {
          "output_type": "stream",
          "name": "stdout",
          "text": [
            "+-----------------+\n",
            "|loweerCase_format|\n",
            "+-----------------+\n",
            "|              abc|\n",
            "|              def|\n",
            "|              ghi|\n",
            "+-----------------+\n",
            "\n"
          ]
        }
      ]
    },
    {
      "cell_type": "markdown",
      "source": [
        "## 8. collect()\n",
        "collect() returns all the rows as a list of Row objects."
      ],
      "metadata": {
        "id": "Z9LrbxgJn31L"
      }
    },
    {
      "cell_type": "code",
      "source": [
        "rows = df.collect()\n",
        "print(rows)"
      ],
      "metadata": {
        "colab": {
          "base_uri": "https://localhost:8080/"
        },
        "id": "PGpfUxnonyLn",
        "outputId": "a3d94cec-70bb-4e38-99dc-a16a9d719272"
      },
      "execution_count": 9,
      "outputs": [
        {
          "output_type": "stream",
          "name": "stdout",
          "text": [
            "[Row(id=1, name='ABC', loweerCase_format='abc'), Row(id=2, name='DEF', loweerCase_format='def'), Row(id=3, name='GHI', loweerCase_format='ghi')]\n"
          ]
        }
      ]
    },
    {
      "cell_type": "markdown",
      "source": [
        "## 9. withColumn()\n",
        "This method is used to add or modify a column."
      ],
      "metadata": {
        "id": "LTxq7wFEoZql"
      }
    },
    {
      "cell_type": "code",
      "source": [
        "df_with_column = df.withColumn(\"id_squared\", df[\"id\"]*df[\"id\"])\n",
        "df_with_column.show()"
      ],
      "metadata": {
        "colab": {
          "base_uri": "https://localhost:8080/"
        },
        "id": "lkE0AtfnoDzU",
        "outputId": "7436fd18-936b-406a-f413-b2cdd7963bf6"
      },
      "execution_count": 10,
      "outputs": [
        {
          "output_type": "stream",
          "name": "stdout",
          "text": [
            "+---+----+-----------------+----------+\n",
            "| id|name|loweerCase_format|id_squared|\n",
            "+---+----+-----------------+----------+\n",
            "|  1| ABC|              abc|         1|\n",
            "|  2| DEF|              def|         4|\n",
            "|  3| GHI|              ghi|         9|\n",
            "+---+----+-----------------+----------+\n",
            "\n"
          ]
        }
      ]
    },
    {
      "cell_type": "markdown",
      "source": [
        "## 10. withColumnRenamed()\n",
        "Renames an existing column in the DataFrame"
      ],
      "metadata": {
        "id": "UTWlMhl6rqhw"
      }
    },
    {
      "cell_type": "code",
      "source": [
        "df_renamed = df_with_column.withColumnRenamed(\"id_squared\", \"idSquared\").withColumnRenamed(\"loweerCase_format\", \"loweerCaseFormat\")\n",
        "df_renamed.show()"
      ],
      "metadata": {
        "colab": {
          "base_uri": "https://localhost:8080/"
        },
        "id": "S3HXjjKzo_G7",
        "outputId": "e9f5b2e4-7e14-43cd-e982-38702245488b"
      },
      "execution_count": 11,
      "outputs": [
        {
          "output_type": "stream",
          "name": "stdout",
          "text": [
            "+---+----+----------------+---------+\n",
            "| id|name|loweerCaseFormat|idSquared|\n",
            "+---+----+----------------+---------+\n",
            "|  1| ABC|             abc|        1|\n",
            "|  2| DEF|             def|        4|\n",
            "|  3| GHI|             ghi|        9|\n",
            "+---+----+----------------+---------+\n",
            "\n"
          ]
        }
      ]
    },
    {
      "cell_type": "markdown",
      "source": [
        "## 11. where() & filter()\n",
        "Both methods are used to filter rows based on conditions."
      ],
      "metadata": {
        "id": "XjWX2Q1IsYCS"
      }
    },
    {
      "cell_type": "code",
      "source": [
        "df_filter = df_renamed.filter(df_renamed[\"id\"] > 1)\n",
        "df_filter.show()"
      ],
      "metadata": {
        "id": "m76fE5HEsGKl",
        "outputId": "4d637d61-c8b6-40e3-ae8f-d6c470f402c2",
        "colab": {
          "base_uri": "https://localhost:8080/"
        }
      },
      "execution_count": 12,
      "outputs": [
        {
          "output_type": "stream",
          "name": "stdout",
          "text": [
            "+---+----+----------------+---------+\n",
            "| id|name|loweerCaseFormat|idSquared|\n",
            "+---+----+----------------+---------+\n",
            "|  2| DEF|             def|        4|\n",
            "|  3| GHI|             ghi|        9|\n",
            "+---+----+----------------+---------+\n",
            "\n"
          ]
        }
      ]
    },
    {
      "cell_type": "code",
      "source": [
        "df_where = df_renamed.where(df_filter[\"id\"] > 2)\n",
        "df_where.show()"
      ],
      "metadata": {
        "id": "KdghIwyAsr2U",
        "outputId": "0ce65f70-92e1-4a69-d12c-70f8749d74ca",
        "colab": {
          "base_uri": "https://localhost:8080/"
        }
      },
      "execution_count": 13,
      "outputs": [
        {
          "output_type": "stream",
          "name": "stdout",
          "text": [
            "+---+----+----------------+---------+\n",
            "| id|name|loweerCaseFormat|idSquared|\n",
            "+---+----+----------------+---------+\n",
            "|  3| GHI|             ghi|        9|\n",
            "+---+----+----------------+---------+\n",
            "\n"
          ]
        }
      ]
    },
    {
      "cell_type": "markdown",
      "source": [
        "## 12. drop() & dropDuplicates()\n",
        "Used to drop a column or remove duplicate rows."
      ],
      "metadata": {
        "id": "arkaza0PtFRf"
      }
    },
    {
      "cell_type": "code",
      "source": [
        "df_drop= df_renamed.drop(\"idSquared\")\n",
        "df_drop.show()\n"
      ],
      "metadata": {
        "id": "46aYf3jGs7Xw",
        "outputId": "02a1cea5-46e6-4908-aaba-851f450c006f",
        "colab": {
          "base_uri": "https://localhost:8080/"
        }
      },
      "execution_count": 14,
      "outputs": [
        {
          "output_type": "stream",
          "name": "stdout",
          "text": [
            "+---+----+----------------+\n",
            "| id|name|loweerCaseFormat|\n",
            "+---+----+----------------+\n",
            "|  1| ABC|             abc|\n",
            "|  2| DEF|             def|\n",
            "|  3| GHI|             ghi|\n",
            "+---+----+----------------+\n",
            "\n"
          ]
        }
      ]
    },
    {
      "cell_type": "code",
      "source": [
        "data_v2 = [\n",
        "    (1, \"Alice\", 30),\n",
        "    (2, \"Bob\", 25),\n",
        "    (1, \"Alice\", 30),\n",
        "    (3, \"Charlie\", 25)\n",
        "]\n",
        "\n",
        "df_v2 = spark.createDataFrame(data_v2, [\"id\", \"name\", \"age\"])\n",
        "df_v2.show()"
      ],
      "metadata": {
        "id": "zTS5a5cQukK-",
        "outputId": "b5a5f291-63d4-49f2-be02-670bda912bde",
        "colab": {
          "base_uri": "https://localhost:8080/"
        }
      },
      "execution_count": 15,
      "outputs": [
        {
          "output_type": "stream",
          "name": "stdout",
          "text": [
            "+---+-------+---+\n",
            "| id|   name|age|\n",
            "+---+-------+---+\n",
            "|  1|  Alice| 30|\n",
            "|  2|    Bob| 25|\n",
            "|  1|  Alice| 30|\n",
            "|  3|Charlie| 25|\n",
            "+---+-------+---+\n",
            "\n"
          ]
        }
      ]
    },
    {
      "cell_type": "code",
      "source": [
        "df_drop_duplicates = df_v2.dropDuplicates()\n",
        "df_drop_duplicates.show()"
      ],
      "metadata": {
        "id": "JOrAjFsftb3q",
        "outputId": "2bc319c0-8e23-4745-da20-0da344b17fc1",
        "colab": {
          "base_uri": "https://localhost:8080/"
        }
      },
      "execution_count": 16,
      "outputs": [
        {
          "output_type": "stream",
          "name": "stdout",
          "text": [
            "+---+-------+---+\n",
            "| id|   name|age|\n",
            "+---+-------+---+\n",
            "|  2|    Bob| 25|\n",
            "|  1|  Alice| 30|\n",
            "|  3|Charlie| 25|\n",
            "+---+-------+---+\n",
            "\n"
          ]
        }
      ]
    },
    {
      "cell_type": "markdown",
      "source": [
        "## 13. orderBy() and sort()\n",
        "These methods are used for sorting data in DataFrame."
      ],
      "metadata": {
        "id": "hSykxD4Ou3J8"
      }
    },
    {
      "cell_type": "code",
      "source": [
        "sorted_df = df_drop_duplicates.sort(df_drop_duplicates[\"id\"].desc())\n",
        "sorted_df.show()"
      ],
      "metadata": {
        "id": "AX6MWhOttw_E",
        "outputId": "2e9c2767-c493-4a1d-b1af-39175795d410",
        "colab": {
          "base_uri": "https://localhost:8080/"
        }
      },
      "execution_count": 17,
      "outputs": [
        {
          "output_type": "stream",
          "name": "stdout",
          "text": [
            "+---+-------+---+\n",
            "| id|   name|age|\n",
            "+---+-------+---+\n",
            "|  3|Charlie| 25|\n",
            "|  2|    Bob| 25|\n",
            "|  1|  Alice| 30|\n",
            "+---+-------+---+\n",
            "\n"
          ]
        }
      ]
    },
    {
      "cell_type": "code",
      "source": [
        "df_order_by = df_drop_duplicates.orderBy(df_drop_duplicates[\"id\"].asc())\n",
        "df_order_by.show()"
      ],
      "metadata": {
        "id": "uc_eckYivIZW",
        "outputId": "7e495c3d-4661-4299-9d32-268693e94645",
        "colab": {
          "base_uri": "https://localhost:8080/"
        }
      },
      "execution_count": 18,
      "outputs": [
        {
          "output_type": "stream",
          "name": "stdout",
          "text": [
            "+---+-------+---+\n",
            "| id|   name|age|\n",
            "+---+-------+---+\n",
            "|  1|  Alice| 30|\n",
            "|  2|    Bob| 25|\n",
            "|  3|Charlie| 25|\n",
            "+---+-------+---+\n",
            "\n"
          ]
        }
      ]
    },
    {
      "cell_type": "markdown",
      "source": [
        "## 14. groupBy()\n",
        "Used for group-by operations."
      ],
      "metadata": {
        "id": "CRCWCKxfv9m0"
      }
    },
    {
      "cell_type": "code",
      "source": [
        "df_grouped = df_drop_duplicates.groupBy(\"Id\").count()\n",
        "df_grouped.show()"
      ],
      "metadata": {
        "id": "xXAEAIh7vqXm",
        "outputId": "88822f34-a4ab-458e-ac88-6cd65a9af13c",
        "colab": {
          "base_uri": "https://localhost:8080/"
        }
      },
      "execution_count": 19,
      "outputs": [
        {
          "output_type": "stream",
          "name": "stdout",
          "text": [
            "+---+-----+\n",
            "| Id|count|\n",
            "+---+-----+\n",
            "|  1|    1|\n",
            "|  3|    1|\n",
            "|  2|    1|\n",
            "+---+-----+\n",
            "\n"
          ]
        }
      ]
    },
    {
      "cell_type": "markdown",
      "source": [
        "## join()"
      ],
      "metadata": {
        "id": "-KpboFX3VFy2"
      }
    },
    {
      "cell_type": "code",
      "source": [
        "df2 = spark.createDataFrame([\n",
        "    (1, 'Math'),\n",
        "    (2, 'Science'),\n",
        "    (3, 'English')\n",
        "], ['id', 'subject'])\n",
        "df2.show()\n",
        "df_joined = df_order_by.join(df2, on='id', how='inner')\n",
        "df_joined.show()\n",
        "\n"
      ],
      "metadata": {
        "id": "CJa1hxRHxKzt",
        "outputId": "443f9549-adba-4607-df28-5fada4306e48",
        "colab": {
          "base_uri": "https://localhost:8080/"
        }
      },
      "execution_count": 21,
      "outputs": [
        {
          "output_type": "stream",
          "name": "stdout",
          "text": [
            "+---+-------+\n",
            "| id|subject|\n",
            "+---+-------+\n",
            "|  1|   Math|\n",
            "|  2|Science|\n",
            "|  3|English|\n",
            "+---+-------+\n",
            "\n",
            "+---+-------+---+-------+\n",
            "| id|   name|age|subject|\n",
            "+---+-------+---+-------+\n",
            "|  1|  Alice| 30|   Math|\n",
            "|  3|Charlie| 25|English|\n",
            "|  2|    Bob| 25|Science|\n",
            "+---+-------+---+-------+\n",
            "\n"
          ]
        }
      ]
    },
    {
      "cell_type": "markdown",
      "source": [
        "## 16. union() & unionAll()"
      ],
      "metadata": {
        "id": "IMiL_01LWzZ-"
      }
    },
    {
      "cell_type": "code",
      "source": [
        "df_with_schema.show()\n",
        "df_3 = spark.createDataFrame([(3, 'JKL'),(4, 'MNO')], ['id', 'name'])\n",
        "df_3.show()\n",
        "\n",
        "df_3.union(df_with_schema).show()\n"
      ],
      "metadata": {
        "id": "6yA8RADiV4Do",
        "outputId": "16f94651-b22d-40ab-eb95-0202bae069b6",
        "colab": {
          "base_uri": "https://localhost:8080/"
        }
      },
      "execution_count": 27,
      "outputs": [
        {
          "output_type": "stream",
          "name": "stdout",
          "text": [
            "+---+----+\n",
            "| id|name|\n",
            "+---+----+\n",
            "|  1| ABC|\n",
            "|  2| DEF|\n",
            "|  3| GHI|\n",
            "+---+----+\n",
            "\n",
            "+---+----+\n",
            "| id|name|\n",
            "+---+----+\n",
            "|  3| JKL|\n",
            "|  4| MNO|\n",
            "+---+----+\n",
            "\n",
            "+---+----+\n",
            "| id|name|\n",
            "+---+----+\n",
            "|  3| JKL|\n",
            "|  4| MNO|\n",
            "|  1| ABC|\n",
            "|  2| DEF|\n",
            "|  3| GHI|\n",
            "+---+----+\n",
            "\n"
          ]
        }
      ]
    },
    {
      "cell_type": "markdown",
      "source": [
        "## unionByName()"
      ],
      "metadata": {
        "id": "DatsHfjjY68y"
      }
    },
    {
      "cell_type": "code",
      "source": [
        "unionByName_df = df_with_schema.unionByName(df_3)\n",
        "unionByName_df.show()"
      ],
      "metadata": {
        "id": "EBXyaOaoXnu6",
        "outputId": "61d29ec6-dae5-44b6-ac3e-fdd540179af9",
        "colab": {
          "base_uri": "https://localhost:8080/"
        }
      },
      "execution_count": 28,
      "outputs": [
        {
          "output_type": "stream",
          "name": "stdout",
          "text": [
            "+---+----+\n",
            "| id|name|\n",
            "+---+----+\n",
            "|  1| ABC|\n",
            "|  2| DEF|\n",
            "|  3| GHI|\n",
            "|  3| JKL|\n",
            "|  4| MNO|\n",
            "+---+----+\n",
            "\n"
          ]
        }
      ]
    },
    {
      "cell_type": "markdown",
      "source": [
        "## 18. UDF (User Defined Function)"
      ],
      "metadata": {
        "id": "ma1yWGiSZxN8"
      }
    },
    {
      "cell_type": "code",
      "source": [
        "from pyspark.sql.functions import udf\n",
        "from pyspark.sql.types import StringType\n",
        "\n",
        "def add_exclamation(name):\n",
        "  return name + \"!\"\n",
        "\n",
        "add_udf = udf(add_exclamation, StringType())\n",
        "df_udf = df_from_rdd.withColumn(\"excited_name\", add_udf(\"name\"))\n",
        "df_udf.show()\n",
        "\n"
      ],
      "metadata": {
        "id": "eNTMGAPWZjE7",
        "outputId": "500bc3f5-766f-4e2b-b28f-f581820a2e18",
        "colab": {
          "base_uri": "https://localhost:8080/"
        }
      },
      "execution_count": 29,
      "outputs": [
        {
          "output_type": "stream",
          "name": "stdout",
          "text": [
            "+---+----+------------+\n",
            "| id|name|excited_name|\n",
            "+---+----+------------+\n",
            "|  1| ABC|        ABC!|\n",
            "|  2| DEF|        DEF!|\n",
            "+---+----+------------+\n",
            "\n"
          ]
        }
      ]
    },
    {
      "cell_type": "markdown",
      "source": [
        "## 19. transform()"
      ],
      "metadata": {
        "id": "-Gn0MIFcdy2w"
      }
    },
    {
      "cell_type": "code",
      "source": [
        "df_transformed = df_from_rdd.transform(lambda df: df.withColumn('id_squard', df['id']**2))\n",
        "df_transformed.show()"
      ],
      "metadata": {
        "id": "HNZH4ZODbOY1",
        "outputId": "76357edb-113c-4c8c-96b8-158f4fa41eb5",
        "colab": {
          "base_uri": "https://localhost:8080/"
        }
      },
      "execution_count": 30,
      "outputs": [
        {
          "output_type": "stream",
          "name": "stdout",
          "text": [
            "+---+----+---------+\n",
            "| id|name|id_squard|\n",
            "+---+----+---------+\n",
            "|  1| ABC|      1.0|\n",
            "|  2| DEF|      4.0|\n",
            "+---+----+---------+\n",
            "\n"
          ]
        }
      ]
    },
    {
      "cell_type": "markdown",
      "source": [
        "## 20. apply()"
      ],
      "metadata": {
        "id": "XVu29cuCewrs"
      }
    },
    {
      "cell_type": "code",
      "source": [
        "#Applying to every row\n",
        "df_applied = df_from_rdd.rdd.map(lambda row: (row.id*2, row.name)).toDF(['id', 'name'])\n",
        "df_applied.show()"
      ],
      "metadata": {
        "id": "8DJse65gegdt",
        "outputId": "f587b8cf-db15-480e-c5eb-35315093059c",
        "colab": {
          "base_uri": "https://localhost:8080/"
        }
      },
      "execution_count": 31,
      "outputs": [
        {
          "output_type": "stream",
          "name": "stdout",
          "text": [
            "+---+----+\n",
            "| id|name|\n",
            "+---+----+\n",
            "|  2| ABC|\n",
            "|  4| DEF|\n",
            "+---+----+\n",
            "\n"
          ]
        }
      ]
    },
    {
      "cell_type": "code",
      "source": [],
      "metadata": {
        "id": "ICG5eQ62flLt"
      },
      "execution_count": null,
      "outputs": []
    }
  ],
  "metadata": {
    "colab": {
      "provenance": []
    },
    "kernelspec": {
      "display_name": "Python 3",
      "name": "python3"
    },
    "language_info": {
      "name": "python"
    }
  },
  "nbformat": 4,
  "nbformat_minor": 0
}