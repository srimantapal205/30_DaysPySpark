{
  "cells": [
    {
      "cell_type": "code",
      "execution_count": 1,
      "metadata": {
        "id": "K9R9pyy1gU2Z"
      },
      "outputs": [],
      "source": [
        "from pyspark.sql import SparkSession\n",
        "from pyspark.sql.types import *\n",
        "from pyspark.sql.functions import *  # Import the function\n",
        "spark = SparkSession.builder.getOrCreate()\n",
        "from pyspark.sql.functions import regexp_replace, col\n",
        "from google.colab import drive\n"
      ]
    },
    {
      "cell_type": "markdown",
      "source": [
        "## 1. Create an empty DataFrame"
      ],
      "metadata": {
        "id": "J6nusHikAZhn"
      }
    },
    {
      "cell_type": "code",
      "execution_count": 2,
      "metadata": {
        "id": "wYcUMNKhWuM8",
        "outputId": "e31e5e58-7fd7-413d-91b2-b960e04d1173",
        "colab": {
          "base_uri": "https://localhost:8080/"
        }
      },
      "outputs": [
        {
          "output_type": "stream",
          "name": "stdout",
          "text": [
            "+---+----+\n",
            "| id|name|\n",
            "+---+----+\n",
            "+---+----+\n",
            "\n"
          ]
        }
      ],
      "source": [
        "Spark2 = SparkSession.builder.master(\"local\").appName(\"EmptyDataFrame\").getOrCreate()\n",
        "#Empty DataFrame with Nodata\n",
        "empty_df = Spark2.createDataFrame([], \"id INT, name STRING\")\n",
        "empty_df.show()"
      ]
    },
    {
      "cell_type": "markdown",
      "source": [
        "## 2. Convert RDD to DataFrame"
      ],
      "metadata": {
        "id": "zFnF9ukRkcgx"
      }
    },
    {
      "cell_type": "code",
      "source": [
        "rdd = spark.sparkContext.parallelize([(1, \"ABC\"),(2, \"DEF\")])\n",
        "columns = [\"id\", \"name\"]\n",
        "df_from_rdd = rdd.toDF(columns)\n",
        "df_from_rdd.show()"
      ],
      "metadata": {
        "id": "Js93HJUqBdiN",
        "outputId": "76312e86-06ba-4b4a-c93b-38141c6c1cab",
        "colab": {
          "base_uri": "https://localhost:8080/"
        }
      },
      "execution_count": 4,
      "outputs": [
        {
          "output_type": "stream",
          "name": "stdout",
          "text": [
            "+---+----+\n",
            "| id|name|\n",
            "+---+----+\n",
            "|  1| ABC|\n",
            "|  2| DEF|\n",
            "+---+----+\n",
            "\n"
          ]
        }
      ]
    },
    {
      "cell_type": "markdown",
      "source": [
        "## 3. Convert DataFrame to Pandas"
      ],
      "metadata": {
        "id": "LusxNyZslSSk"
      }
    },
    {
      "cell_type": "code",
      "source": [
        "pands_df = df_from_rdd.toPandas()\n",
        "print(pands_df)"
      ],
      "metadata": {
        "id": "1av9MKVMlPVB",
        "outputId": "1a566bf5-4f6d-4909-d0ff-32512765ff1c",
        "colab": {
          "base_uri": "https://localhost:8080/"
        }
      },
      "execution_count": 6,
      "outputs": [
        {
          "output_type": "stream",
          "name": "stdout",
          "text": [
            "   id name\n",
            "0   1  ABC\n",
            "1   2  DEF\n"
          ]
        }
      ]
    },
    {
      "cell_type": "markdown",
      "source": [
        "## 4. show()"
      ],
      "metadata": {
        "id": "vSOFXkEKlmDZ"
      }
    },
    {
      "cell_type": "code",
      "source": [
        "df_from_rdd.show()"
      ],
      "metadata": {
        "id": "o7c_RDw-llfd",
        "outputId": "323c8baa-8aca-42ba-d1f4-6d6003c1931c",
        "colab": {
          "base_uri": "https://localhost:8080/"
        }
      },
      "execution_count": 7,
      "outputs": [
        {
          "output_type": "stream",
          "name": "stdout",
          "text": [
            "+---+----+\n",
            "| id|name|\n",
            "+---+----+\n",
            "|  1| ABC|\n",
            "|  2| DEF|\n",
            "+---+----+\n",
            "\n"
          ]
        }
      ]
    },
    {
      "cell_type": "markdown",
      "source": [
        "## StructType & StructField"
      ],
      "metadata": {
        "id": "lq3eR__AlwQo"
      }
    },
    {
      "cell_type": "code",
      "source": [
        "data =[(1, \"ABC\"), (2, \"DEF\"), (3, \"GHI\")]\n",
        "\n",
        "schema = StructType([\n",
        "    StructField('id', IntegerType(), True),\n",
        "    StructField(\"name\", StringType(), True)\n",
        "])\n",
        "df_with_schema= spark.createDataFrame(data, schema)\n",
        "df_with_schema.show()"
      ],
      "metadata": {
        "id": "MVZ1hd0AldsN",
        "outputId": "57726cb8-a10e-45ad-9661-0e05aa318d71",
        "colab": {
          "base_uri": "https://localhost:8080/"
        }
      },
      "execution_count": 10,
      "outputs": [
        {
          "output_type": "stream",
          "name": "stdout",
          "text": [
            "+---+----+\n",
            "| id|name|\n",
            "+---+----+\n",
            "|  1| ABC|\n",
            "|  2| DEF|\n",
            "|  3| GHI|\n",
            "+---+----+\n",
            "\n"
          ]
        }
      ]
    },
    {
      "cell_type": "markdown",
      "source": [
        "## 6. Column Class"
      ],
      "metadata": {
        "id": "GiuuqM-qm7IU"
      }
    },
    {
      "cell_type": "code",
      "source": [
        "df = df_with_schema.withColumn('loweerCase_format', lower(col('name')))\n",
        "df.show()"
      ],
      "metadata": {
        "id": "YmbugZrgmlxh",
        "outputId": "3c497219-9e04-404e-b3f2-3da2e5890632",
        "colab": {
          "base_uri": "https://localhost:8080/"
        }
      },
      "execution_count": 11,
      "outputs": [
        {
          "output_type": "stream",
          "name": "stdout",
          "text": [
            "+---+----+-----------------+\n",
            "| id|name|loweerCase_format|\n",
            "+---+----+-----------------+\n",
            "|  1| ABC|              abc|\n",
            "|  2| DEF|              def|\n",
            "|  3| GHI|              ghi|\n",
            "+---+----+-----------------+\n",
            "\n"
          ]
        }
      ]
    },
    {
      "cell_type": "markdown",
      "source": [
        "## 7. select()"
      ],
      "metadata": {
        "id": "k5mbMNLQnmDE"
      }
    },
    {
      "cell_type": "code",
      "source": [
        "df.select(col('loweerCase_format')).show()"
      ],
      "metadata": {
        "id": "-Sb6Bu7Pne44",
        "outputId": "cb48daf7-a94d-4507-f1d9-623109848b7c",
        "colab": {
          "base_uri": "https://localhost:8080/"
        }
      },
      "execution_count": 12,
      "outputs": [
        {
          "output_type": "stream",
          "name": "stdout",
          "text": [
            "+-----------------+\n",
            "|loweerCase_format|\n",
            "+-----------------+\n",
            "|              abc|\n",
            "|              def|\n",
            "|              ghi|\n",
            "+-----------------+\n",
            "\n"
          ]
        }
      ]
    },
    {
      "cell_type": "markdown",
      "source": [
        "## 8. collect()\n",
        "collect() returns all the rows as a list of Row objects."
      ],
      "metadata": {
        "id": "Z9LrbxgJn31L"
      }
    },
    {
      "cell_type": "code",
      "source": [
        "rows = df.collect()\n",
        "print(rows)"
      ],
      "metadata": {
        "id": "PGpfUxnonyLn",
        "outputId": "f55cea0b-7276-4c8c-a6cb-ef53631da5d1",
        "colab": {
          "base_uri": "https://localhost:8080/"
        }
      },
      "execution_count": 15,
      "outputs": [
        {
          "output_type": "stream",
          "name": "stdout",
          "text": [
            "[Row(id=1, name='ABC', loweerCase_format='abc'), Row(id=2, name='DEF', loweerCase_format='def'), Row(id=3, name='GHI', loweerCase_format='ghi')]\n"
          ]
        }
      ]
    },
    {
      "cell_type": "markdown",
      "source": [
        "## 9. withColumn()\n",
        "This method is used to add or modify a column."
      ],
      "metadata": {
        "id": "LTxq7wFEoZql"
      }
    },
    {
      "cell_type": "code",
      "source": [
        "df_with_column = df.withColumn(\"id_squared\", df[\"id\"]*df[id])\n",
        "df_with_column.show()"
      ],
      "metadata": {
        "id": "lkE0AtfnoDzU",
        "outputId": "5fb4956b-5c82-42fc-9d4c-a3cad34649a2",
        "colab": {
          "base_uri": "https://localhost:8080/",
          "height": 291
        }
      },
      "execution_count": 18,
      "outputs": [
        {
          "output_type": "error",
          "ename": "PySparkTypeError",
          "evalue": "[NOT_COLUMN_OR_FLOAT_OR_INT_OR_LIST_OR_STR] Argument `item` should be a column, float, integer, list or string, got builtin_function_or_method.",
          "traceback": [
            "\u001b[0;31m---------------------------------------------------------------------------\u001b[0m",
            "\u001b[0;31mPySparkTypeError\u001b[0m                          Traceback (most recent call last)",
            "\u001b[0;32m<ipython-input-18-c7688bfde433>\u001b[0m in \u001b[0;36m<cell line: 0>\u001b[0;34m()\u001b[0m\n\u001b[0;32m----> 1\u001b[0;31m \u001b[0mdf_with_column\u001b[0m \u001b[0;34m=\u001b[0m \u001b[0mdf\u001b[0m\u001b[0;34m.\u001b[0m\u001b[0mwithColumn\u001b[0m\u001b[0;34m(\u001b[0m\u001b[0;34m\"id_squared\"\u001b[0m\u001b[0;34m,\u001b[0m \u001b[0mdf\u001b[0m\u001b[0;34m[\u001b[0m\u001b[0;34m\"id\"\u001b[0m\u001b[0;34m]\u001b[0m\u001b[0;34m*\u001b[0m\u001b[0mdf\u001b[0m\u001b[0;34m[\u001b[0m\u001b[0mid\u001b[0m\u001b[0;34m]\u001b[0m\u001b[0;34m)\u001b[0m\u001b[0;34m\u001b[0m\u001b[0;34m\u001b[0m\u001b[0m\n\u001b[0m\u001b[1;32m      2\u001b[0m \u001b[0mdf_with_column\u001b[0m\u001b[0;34m.\u001b[0m\u001b[0mshow\u001b[0m\u001b[0;34m(\u001b[0m\u001b[0;34m)\u001b[0m\u001b[0;34m\u001b[0m\u001b[0;34m\u001b[0m\u001b[0m\n",
            "\u001b[0;32m/usr/local/lib/python3.11/dist-packages/pyspark/sql/dataframe.py\u001b[0m in \u001b[0;36m__getitem__\u001b[0;34m(self, item)\u001b[0m\n\u001b[1;32m   3088\u001b[0m             \u001b[0;32mreturn\u001b[0m \u001b[0mColumn\u001b[0m\u001b[0;34m(\u001b[0m\u001b[0mjc\u001b[0m\u001b[0;34m)\u001b[0m\u001b[0;34m\u001b[0m\u001b[0;34m\u001b[0m\u001b[0m\n\u001b[1;32m   3089\u001b[0m         \u001b[0;32melse\u001b[0m\u001b[0;34m:\u001b[0m\u001b[0;34m\u001b[0m\u001b[0;34m\u001b[0m\u001b[0m\n\u001b[0;32m-> 3090\u001b[0;31m             raise PySparkTypeError(\n\u001b[0m\u001b[1;32m   3091\u001b[0m                 \u001b[0merror_class\u001b[0m\u001b[0;34m=\u001b[0m\u001b[0;34m\"NOT_COLUMN_OR_FLOAT_OR_INT_OR_LIST_OR_STR\"\u001b[0m\u001b[0;34m,\u001b[0m\u001b[0;34m\u001b[0m\u001b[0;34m\u001b[0m\u001b[0m\n\u001b[1;32m   3092\u001b[0m                 \u001b[0mmessage_parameters\u001b[0m\u001b[0;34m=\u001b[0m\u001b[0;34m{\u001b[0m\u001b[0;34m\"arg_name\"\u001b[0m\u001b[0;34m:\u001b[0m \u001b[0;34m\"item\"\u001b[0m\u001b[0;34m,\u001b[0m \u001b[0;34m\"arg_type\"\u001b[0m\u001b[0;34m:\u001b[0m \u001b[0mtype\u001b[0m\u001b[0;34m(\u001b[0m\u001b[0mitem\u001b[0m\u001b[0;34m)\u001b[0m\u001b[0;34m.\u001b[0m\u001b[0m__name__\u001b[0m\u001b[0;34m}\u001b[0m\u001b[0;34m,\u001b[0m\u001b[0;34m\u001b[0m\u001b[0;34m\u001b[0m\u001b[0m\n",
            "\u001b[0;31mPySparkTypeError\u001b[0m: [NOT_COLUMN_OR_FLOAT_OR_INT_OR_LIST_OR_STR] Argument `item` should be a column, float, integer, list or string, got builtin_function_or_method."
          ]
        }
      ]
    },
    {
      "cell_type": "code",
      "source": [],
      "metadata": {
        "id": "S3HXjjKzo_G7"
      },
      "execution_count": null,
      "outputs": []
    }
  ],
  "metadata": {
    "colab": {
      "provenance": []
    },
    "kernelspec": {
      "display_name": "Python 3",
      "name": "python3"
    },
    "language_info": {
      "name": "python"
    }
  },
  "nbformat": 4,
  "nbformat_minor": 0
}