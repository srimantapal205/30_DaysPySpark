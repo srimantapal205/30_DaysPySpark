{
  "cells": [
    {
      "cell_type": "code",
      "execution_count": 1,
      "metadata": {
        "id": "K9R9pyy1gU2Z"
      },
      "outputs": [],
      "source": [
        "from pyspark.sql import SparkSession\n",
        "from pyspark.sql.types import *\n",
        "from pyspark.sql.functions import *  # Import the function\n",
        "spark = SparkSession.builder.getOrCreate()\n",
        "from pyspark.sql.functions import regexp_replace, col\n",
        "from google.colab import drive\n"
      ]
    },
    {
      "cell_type": "markdown",
      "source": [
        "## 1. Create an empty DataFrame"
      ],
      "metadata": {
        "id": "J6nusHikAZhn"
      }
    },
    {
      "cell_type": "code",
      "execution_count": 2,
      "metadata": {
        "id": "wYcUMNKhWuM8",
        "outputId": "dadea7b4-4f01-4e52-c299-c1399b9f6ccf",
        "colab": {
          "base_uri": "https://localhost:8080/"
        }
      },
      "outputs": [
        {
          "output_type": "stream",
          "name": "stdout",
          "text": [
            "+---+----+\n",
            "| id|name|\n",
            "+---+----+\n",
            "+---+----+\n",
            "\n"
          ]
        }
      ],
      "source": [
        "Spark2 = SparkSession.builder.master(\"local\").appName(\"EmptyDataFrame\").getOrCreate()\n",
        "#Empty DataFrame with Nodata\n",
        "empty_df = Spark2.createDataFrame([], \"id INT, name STRING\")\n",
        "empty_df.show()"
      ]
    },
    {
      "cell_type": "markdown",
      "source": [
        "## 2. Convert RDD to DataFrame"
      ],
      "metadata": {
        "id": "zFnF9ukRkcgx"
      }
    },
    {
      "cell_type": "code",
      "source": [
        "rdd = spark.sparkContext.parallelize([(1, \"ABC\"),(2, \"DEF\")])\n",
        "columns = [\"id\", \"name\"]\n",
        "df_from_rdd = rdd.toDF(columns)\n",
        "df_from_rdd.show()"
      ],
      "metadata": {
        "id": "Js93HJUqBdiN",
        "colab": {
          "base_uri": "https://localhost:8080/"
        },
        "outputId": "839e37d6-1f98-4f1b-9b32-309c721a39fc"
      },
      "execution_count": 3,
      "outputs": [
        {
          "output_type": "stream",
          "name": "stdout",
          "text": [
            "+---+----+\n",
            "| id|name|\n",
            "+---+----+\n",
            "|  1| ABC|\n",
            "|  2| DEF|\n",
            "+---+----+\n",
            "\n"
          ]
        }
      ]
    },
    {
      "cell_type": "markdown",
      "source": [
        "## 3. Convert DataFrame to Pandas"
      ],
      "metadata": {
        "id": "LusxNyZslSSk"
      }
    },
    {
      "cell_type": "code",
      "source": [
        "pands_df = df_from_rdd.toPandas()\n",
        "print(pands_df)"
      ],
      "metadata": {
        "colab": {
          "base_uri": "https://localhost:8080/"
        },
        "id": "1av9MKVMlPVB",
        "outputId": "ac9e2578-b14f-446c-d6a1-65aa4efd3bdc"
      },
      "execution_count": 4,
      "outputs": [
        {
          "output_type": "stream",
          "name": "stdout",
          "text": [
            "   id name\n",
            "0   1  ABC\n",
            "1   2  DEF\n"
          ]
        }
      ]
    },
    {
      "cell_type": "markdown",
      "source": [
        "## 4. show()"
      ],
      "metadata": {
        "id": "vSOFXkEKlmDZ"
      }
    },
    {
      "cell_type": "code",
      "source": [
        "df_from_rdd.show()"
      ],
      "metadata": {
        "colab": {
          "base_uri": "https://localhost:8080/"
        },
        "id": "o7c_RDw-llfd",
        "outputId": "1f8471a9-e3bf-4147-953d-035d101bd7e3"
      },
      "execution_count": 5,
      "outputs": [
        {
          "output_type": "stream",
          "name": "stdout",
          "text": [
            "+---+----+\n",
            "| id|name|\n",
            "+---+----+\n",
            "|  1| ABC|\n",
            "|  2| DEF|\n",
            "+---+----+\n",
            "\n"
          ]
        }
      ]
    },
    {
      "cell_type": "markdown",
      "source": [
        "## StructType & StructField"
      ],
      "metadata": {
        "id": "lq3eR__AlwQo"
      }
    },
    {
      "cell_type": "code",
      "source": [
        "data =[(1, \"ABC\"), (2, \"DEF\"), (3, \"GHI\")]\n",
        "\n",
        "schema = StructType([\n",
        "    StructField('id', IntegerType(), True),\n",
        "    StructField(\"name\", StringType(), True)\n",
        "])\n",
        "df_with_schema= spark.createDataFrame(data, schema)\n",
        "df_with_schema.show()"
      ],
      "metadata": {
        "colab": {
          "base_uri": "https://localhost:8080/"
        },
        "id": "MVZ1hd0AldsN",
        "outputId": "9334b0b4-dc1e-4ad3-b7f1-66bcc1089014"
      },
      "execution_count": 6,
      "outputs": [
        {
          "output_type": "stream",
          "name": "stdout",
          "text": [
            "+---+----+\n",
            "| id|name|\n",
            "+---+----+\n",
            "|  1| ABC|\n",
            "|  2| DEF|\n",
            "|  3| GHI|\n",
            "+---+----+\n",
            "\n"
          ]
        }
      ]
    },
    {
      "cell_type": "markdown",
      "source": [
        "## 6. Column Class"
      ],
      "metadata": {
        "id": "GiuuqM-qm7IU"
      }
    },
    {
      "cell_type": "code",
      "source": [
        "df = df_with_schema.withColumn('loweerCase_format', lower(col('name')))\n",
        "df.show()"
      ],
      "metadata": {
        "colab": {
          "base_uri": "https://localhost:8080/"
        },
        "id": "YmbugZrgmlxh",
        "outputId": "31b9db63-7c68-4c6d-b85c-c26cff44d460"
      },
      "execution_count": 7,
      "outputs": [
        {
          "output_type": "stream",
          "name": "stdout",
          "text": [
            "+---+----+-----------------+\n",
            "| id|name|loweerCase_format|\n",
            "+---+----+-----------------+\n",
            "|  1| ABC|              abc|\n",
            "|  2| DEF|              def|\n",
            "|  3| GHI|              ghi|\n",
            "+---+----+-----------------+\n",
            "\n"
          ]
        }
      ]
    },
    {
      "cell_type": "markdown",
      "source": [
        "## 7. select()"
      ],
      "metadata": {
        "id": "k5mbMNLQnmDE"
      }
    },
    {
      "cell_type": "code",
      "source": [
        "df.select(col('loweerCase_format')).show()"
      ],
      "metadata": {
        "colab": {
          "base_uri": "https://localhost:8080/"
        },
        "id": "-Sb6Bu7Pne44",
        "outputId": "7cb4a964-e361-47fd-c732-73060b9330a0"
      },
      "execution_count": 8,
      "outputs": [
        {
          "output_type": "stream",
          "name": "stdout",
          "text": [
            "+-----------------+\n",
            "|loweerCase_format|\n",
            "+-----------------+\n",
            "|              abc|\n",
            "|              def|\n",
            "|              ghi|\n",
            "+-----------------+\n",
            "\n"
          ]
        }
      ]
    },
    {
      "cell_type": "markdown",
      "source": [
        "## 8. collect()\n",
        "collect() returns all the rows as a list of Row objects."
      ],
      "metadata": {
        "id": "Z9LrbxgJn31L"
      }
    },
    {
      "cell_type": "code",
      "source": [
        "rows = df.collect()\n",
        "print(rows)"
      ],
      "metadata": {
        "colab": {
          "base_uri": "https://localhost:8080/"
        },
        "id": "PGpfUxnonyLn",
        "outputId": "5c01b1ac-fee3-4b35-aab9-dbebd9bbfacf"
      },
      "execution_count": 9,
      "outputs": [
        {
          "output_type": "stream",
          "name": "stdout",
          "text": [
            "[Row(id=1, name='ABC', loweerCase_format='abc'), Row(id=2, name='DEF', loweerCase_format='def'), Row(id=3, name='GHI', loweerCase_format='ghi')]\n"
          ]
        }
      ]
    },
    {
      "cell_type": "markdown",
      "source": [
        "## 9. withColumn()\n",
        "This method is used to add or modify a column."
      ],
      "metadata": {
        "id": "LTxq7wFEoZql"
      }
    },
    {
      "cell_type": "code",
      "source": [
        "df_with_column = df.withColumn(\"id_squared\", df[\"id\"]*df[\"id\"])\n",
        "df_with_column.show()"
      ],
      "metadata": {
        "colab": {
          "base_uri": "https://localhost:8080/"
        },
        "id": "lkE0AtfnoDzU",
        "outputId": "815be20d-943e-4382-aa82-63b8d26af17e"
      },
      "execution_count": 10,
      "outputs": [
        {
          "output_type": "stream",
          "name": "stdout",
          "text": [
            "+---+----+-----------------+----------+\n",
            "| id|name|loweerCase_format|id_squared|\n",
            "+---+----+-----------------+----------+\n",
            "|  1| ABC|              abc|         1|\n",
            "|  2| DEF|              def|         4|\n",
            "|  3| GHI|              ghi|         9|\n",
            "+---+----+-----------------+----------+\n",
            "\n"
          ]
        }
      ]
    },
    {
      "cell_type": "markdown",
      "source": [
        "## 10. withColumnRenamed()\n",
        "Renames an existing column in the DataFrame"
      ],
      "metadata": {
        "id": "UTWlMhl6rqhw"
      }
    },
    {
      "cell_type": "code",
      "source": [
        "df_renamed = df_with_column.withColumnRenamed(\"id_squared\", \"idSquared\").withColumnRenamed(\"loweerCase_format\", \"loweerCaseFormat\")\n",
        "df_renamed.show()"
      ],
      "metadata": {
        "colab": {
          "base_uri": "https://localhost:8080/"
        },
        "id": "S3HXjjKzo_G7",
        "outputId": "e54bcbeb-a64b-4241-975c-9c1da9dced42"
      },
      "execution_count": 11,
      "outputs": [
        {
          "output_type": "stream",
          "name": "stdout",
          "text": [
            "+---+----+----------------+---------+\n",
            "| id|name|loweerCaseFormat|idSquared|\n",
            "+---+----+----------------+---------+\n",
            "|  1| ABC|             abc|        1|\n",
            "|  2| DEF|             def|        4|\n",
            "|  3| GHI|             ghi|        9|\n",
            "+---+----+----------------+---------+\n",
            "\n"
          ]
        }
      ]
    },
    {
      "cell_type": "markdown",
      "source": [
        "## 11. where() & filter()\n",
        "Both methods are used to filter rows based on conditions."
      ],
      "metadata": {
        "id": "XjWX2Q1IsYCS"
      }
    },
    {
      "cell_type": "code",
      "source": [
        "df_filter = df_renamed.filter(df_renamed[\"id\"] > 1)\n",
        "df_filter.show()"
      ],
      "metadata": {
        "id": "m76fE5HEsGKl",
        "outputId": "a4db0b74-0dde-41d4-e4b8-cfe6bd5df9db",
        "colab": {
          "base_uri": "https://localhost:8080/"
        }
      },
      "execution_count": 12,
      "outputs": [
        {
          "output_type": "stream",
          "name": "stdout",
          "text": [
            "+---+----+----------------+---------+\n",
            "| id|name|loweerCaseFormat|idSquared|\n",
            "+---+----+----------------+---------+\n",
            "|  2| DEF|             def|        4|\n",
            "|  3| GHI|             ghi|        9|\n",
            "+---+----+----------------+---------+\n",
            "\n"
          ]
        }
      ]
    },
    {
      "cell_type": "code",
      "source": [
        "df_where = df_renamed.where(df_filter[\"id\"] > 2)\n",
        "df_where.show()"
      ],
      "metadata": {
        "id": "KdghIwyAsr2U",
        "outputId": "ec7c80b9-d73a-46c3-e92f-4a7b1693412e",
        "colab": {
          "base_uri": "https://localhost:8080/"
        }
      },
      "execution_count": 13,
      "outputs": [
        {
          "output_type": "stream",
          "name": "stdout",
          "text": [
            "+---+----+----------------+---------+\n",
            "| id|name|loweerCaseFormat|idSquared|\n",
            "+---+----+----------------+---------+\n",
            "|  3| GHI|             ghi|        9|\n",
            "+---+----+----------------+---------+\n",
            "\n"
          ]
        }
      ]
    },
    {
      "cell_type": "markdown",
      "source": [
        "## 12. drop() & dropDuplicates()\n",
        "Used to drop a column or remove duplicate rows."
      ],
      "metadata": {
        "id": "arkaza0PtFRf"
      }
    },
    {
      "cell_type": "code",
      "source": [
        "df_drop= df_renamed.drop(\"idSquared\")\n",
        "df_drop.show()\n"
      ],
      "metadata": {
        "id": "46aYf3jGs7Xw",
        "outputId": "4df5d85a-cff5-46df-e392-2d485879315b",
        "colab": {
          "base_uri": "https://localhost:8080/"
        }
      },
      "execution_count": 14,
      "outputs": [
        {
          "output_type": "stream",
          "name": "stdout",
          "text": [
            "+---+----+----------------+\n",
            "| id|name|loweerCaseFormat|\n",
            "+---+----+----------------+\n",
            "|  1| ABC|             abc|\n",
            "|  2| DEF|             def|\n",
            "|  3| GHI|             ghi|\n",
            "+---+----+----------------+\n",
            "\n"
          ]
        }
      ]
    },
    {
      "cell_type": "code",
      "source": [
        "data_v2 = [\n",
        "    (1, \"Alice\", 30),\n",
        "    (2, \"Bob\", 25),\n",
        "    (1, \"Alice\", 30),\n",
        "    (3, \"Charlie\", 25)\n",
        "]\n",
        "\n",
        "df_v2 = spark.createDataFrame(data_v2, [\"id\", \"name\", \"age\"])\n",
        "df_v2.show()"
      ],
      "metadata": {
        "id": "zTS5a5cQukK-",
        "outputId": "6f797bc5-fb03-49e8-ca3c-f72ddac1779a",
        "colab": {
          "base_uri": "https://localhost:8080/"
        }
      },
      "execution_count": 15,
      "outputs": [
        {
          "output_type": "stream",
          "name": "stdout",
          "text": [
            "+---+-------+---+\n",
            "| id|   name|age|\n",
            "+---+-------+---+\n",
            "|  1|  Alice| 30|\n",
            "|  2|    Bob| 25|\n",
            "|  1|  Alice| 30|\n",
            "|  3|Charlie| 25|\n",
            "+---+-------+---+\n",
            "\n"
          ]
        }
      ]
    },
    {
      "cell_type": "code",
      "source": [
        "df_drop_duplicates = df_v2.dropDuplicates()\n",
        "df_drop_duplicates.show()"
      ],
      "metadata": {
        "id": "JOrAjFsftb3q",
        "outputId": "179f67e8-e225-4d29-d592-5d7086eff1a2",
        "colab": {
          "base_uri": "https://localhost:8080/"
        }
      },
      "execution_count": 16,
      "outputs": [
        {
          "output_type": "stream",
          "name": "stdout",
          "text": [
            "+---+-------+---+\n",
            "| id|   name|age|\n",
            "+---+-------+---+\n",
            "|  2|    Bob| 25|\n",
            "|  1|  Alice| 30|\n",
            "|  3|Charlie| 25|\n",
            "+---+-------+---+\n",
            "\n"
          ]
        }
      ]
    },
    {
      "cell_type": "markdown",
      "source": [
        "## 13. orderBy() and sort()\n",
        "These methods are used for sorting data in DataFrame."
      ],
      "metadata": {
        "id": "hSykxD4Ou3J8"
      }
    },
    {
      "cell_type": "code",
      "source": [
        "sorted_df = df_drop_duplicates.sort(df_drop_duplicates[\"id\"].desc())\n",
        "sorted_df.show()"
      ],
      "metadata": {
        "id": "AX6MWhOttw_E",
        "outputId": "a19616fe-a8fc-46eb-c20e-14ad113adc28",
        "colab": {
          "base_uri": "https://localhost:8080/"
        }
      },
      "execution_count": 17,
      "outputs": [
        {
          "output_type": "stream",
          "name": "stdout",
          "text": [
            "+---+-------+---+\n",
            "| id|   name|age|\n",
            "+---+-------+---+\n",
            "|  3|Charlie| 25|\n",
            "|  2|    Bob| 25|\n",
            "|  1|  Alice| 30|\n",
            "+---+-------+---+\n",
            "\n"
          ]
        }
      ]
    },
    {
      "cell_type": "code",
      "source": [
        "df_order_by = df_drop_duplicates.orderBy(df_drop_duplicates[\"id\"].asc())\n",
        "df_order_by.show()"
      ],
      "metadata": {
        "id": "uc_eckYivIZW",
        "outputId": "aaaab88a-8982-449e-f0ec-ef8b7ddc49bb",
        "colab": {
          "base_uri": "https://localhost:8080/"
        }
      },
      "execution_count": 18,
      "outputs": [
        {
          "output_type": "stream",
          "name": "stdout",
          "text": [
            "+---+-------+---+\n",
            "| id|   name|age|\n",
            "+---+-------+---+\n",
            "|  1|  Alice| 30|\n",
            "|  2|    Bob| 25|\n",
            "|  3|Charlie| 25|\n",
            "+---+-------+---+\n",
            "\n"
          ]
        }
      ]
    },
    {
      "cell_type": "markdown",
      "source": [
        "## 14. groupBy()\n",
        "Used for group-by operations."
      ],
      "metadata": {
        "id": "CRCWCKxfv9m0"
      }
    },
    {
      "cell_type": "code",
      "source": [
        "df_grouped = df_drop_duplicates.groupBy(\"Id\").count()\n",
        "df_grouped.show()"
      ],
      "metadata": {
        "id": "xXAEAIh7vqXm",
        "outputId": "abbc4094-e959-4078-ed85-3064e74574ad",
        "colab": {
          "base_uri": "https://localhost:8080/"
        }
      },
      "execution_count": 19,
      "outputs": [
        {
          "output_type": "stream",
          "name": "stdout",
          "text": [
            "+---+-----+\n",
            "| Id|count|\n",
            "+---+-----+\n",
            "|  1|    1|\n",
            "|  3|    1|\n",
            "|  2|    1|\n",
            "+---+-----+\n",
            "\n"
          ]
        }
      ]
    },
    {
      "cell_type": "markdown",
      "source": [
        "## join()"
      ],
      "metadata": {
        "id": "-KpboFX3VFy2"
      }
    },
    {
      "cell_type": "code",
      "source": [
        "df2 = spark.createDataFrame([\n",
        "    (1, 'Math'),\n",
        "    (2, 'Science'),\n",
        "    (3, 'English')\n",
        "], ['id', 'subject'])\n",
        "df2.show()\n",
        "df_joined = df_order_by.join(df2, on='id', how='inner')\n",
        "df_joined.show()\n",
        "\n"
      ],
      "metadata": {
        "id": "CJa1hxRHxKzt",
        "outputId": "1dce6054-73db-4f8c-96c9-1b739e40f4e8",
        "colab": {
          "base_uri": "https://localhost:8080/"
        }
      },
      "execution_count": 20,
      "outputs": [
        {
          "output_type": "stream",
          "name": "stdout",
          "text": [
            "+---+-------+\n",
            "| id|subject|\n",
            "+---+-------+\n",
            "|  1|   Math|\n",
            "|  2|Science|\n",
            "|  3|English|\n",
            "+---+-------+\n",
            "\n",
            "+---+-------+---+-------+\n",
            "| id|   name|age|subject|\n",
            "+---+-------+---+-------+\n",
            "|  1|  Alice| 30|   Math|\n",
            "|  3|Charlie| 25|English|\n",
            "|  2|    Bob| 25|Science|\n",
            "+---+-------+---+-------+\n",
            "\n"
          ]
        }
      ]
    },
    {
      "cell_type": "markdown",
      "source": [
        "## 16. union() & unionAll()"
      ],
      "metadata": {
        "id": "IMiL_01LWzZ-"
      }
    },
    {
      "cell_type": "code",
      "source": [
        "df_with_schema.show()\n",
        "df_3 = spark.createDataFrame([(3, 'JKL'),(4, 'MNO')], ['id', 'name'])\n",
        "df_3.show()\n",
        "\n",
        "df_3.union(df_with_schema).show()\n"
      ],
      "metadata": {
        "id": "6yA8RADiV4Do",
        "outputId": "b57db28e-6997-4704-84b2-c60563ff9bef",
        "colab": {
          "base_uri": "https://localhost:8080/"
        }
      },
      "execution_count": 21,
      "outputs": [
        {
          "output_type": "stream",
          "name": "stdout",
          "text": [
            "+---+----+\n",
            "| id|name|\n",
            "+---+----+\n",
            "|  1| ABC|\n",
            "|  2| DEF|\n",
            "|  3| GHI|\n",
            "+---+----+\n",
            "\n",
            "+---+----+\n",
            "| id|name|\n",
            "+---+----+\n",
            "|  3| JKL|\n",
            "|  4| MNO|\n",
            "+---+----+\n",
            "\n",
            "+---+----+\n",
            "| id|name|\n",
            "+---+----+\n",
            "|  3| JKL|\n",
            "|  4| MNO|\n",
            "|  1| ABC|\n",
            "|  2| DEF|\n",
            "|  3| GHI|\n",
            "+---+----+\n",
            "\n"
          ]
        }
      ]
    },
    {
      "cell_type": "markdown",
      "source": [
        "## unionByName()"
      ],
      "metadata": {
        "id": "DatsHfjjY68y"
      }
    },
    {
      "cell_type": "code",
      "source": [
        "unionByName_df = df_with_schema.unionByName(df_3)\n",
        "unionByName_df.show()"
      ],
      "metadata": {
        "id": "EBXyaOaoXnu6",
        "outputId": "444b54bc-9478-42a4-cd33-8261bc261d36",
        "colab": {
          "base_uri": "https://localhost:8080/"
        }
      },
      "execution_count": 22,
      "outputs": [
        {
          "output_type": "stream",
          "name": "stdout",
          "text": [
            "+---+----+\n",
            "| id|name|\n",
            "+---+----+\n",
            "|  1| ABC|\n",
            "|  2| DEF|\n",
            "|  3| GHI|\n",
            "|  3| JKL|\n",
            "|  4| MNO|\n",
            "+---+----+\n",
            "\n"
          ]
        }
      ]
    },
    {
      "cell_type": "markdown",
      "source": [
        "## 18. UDF (User Defined Function)"
      ],
      "metadata": {
        "id": "ma1yWGiSZxN8"
      }
    },
    {
      "cell_type": "code",
      "source": [
        "from pyspark.sql.functions import udf\n",
        "from pyspark.sql.types import StringType\n",
        "\n",
        "def add_exclamation(name):\n",
        "  return name + \"!\"\n",
        "\n",
        "add_udf = udf(add_exclamation, StringType())\n",
        "df_udf = df_from_rdd.withColumn(\"excited_name\", add_udf(\"name\"))\n",
        "df_udf.show()\n",
        "\n"
      ],
      "metadata": {
        "id": "eNTMGAPWZjE7",
        "outputId": "26d10551-4543-49f3-f4df-bc99ea132e93",
        "colab": {
          "base_uri": "https://localhost:8080/"
        }
      },
      "execution_count": 23,
      "outputs": [
        {
          "output_type": "stream",
          "name": "stdout",
          "text": [
            "+---+----+------------+\n",
            "| id|name|excited_name|\n",
            "+---+----+------------+\n",
            "|  1| ABC|        ABC!|\n",
            "|  2| DEF|        DEF!|\n",
            "+---+----+------------+\n",
            "\n"
          ]
        }
      ]
    },
    {
      "cell_type": "markdown",
      "source": [
        "## 19. transform()"
      ],
      "metadata": {
        "id": "-Gn0MIFcdy2w"
      }
    },
    {
      "cell_type": "code",
      "source": [
        "df_transformed = df_from_rdd.transform(lambda df: df.withColumn('id_squard', df['id']**2))\n",
        "df_transformed.show()"
      ],
      "metadata": {
        "id": "HNZH4ZODbOY1",
        "outputId": "04dbd83f-9fff-4fc0-fcb6-6a2fd316b695",
        "colab": {
          "base_uri": "https://localhost:8080/"
        }
      },
      "execution_count": 24,
      "outputs": [
        {
          "output_type": "stream",
          "name": "stdout",
          "text": [
            "+---+----+---------+\n",
            "| id|name|id_squard|\n",
            "+---+----+---------+\n",
            "|  1| ABC|      1.0|\n",
            "|  2| DEF|      4.0|\n",
            "+---+----+---------+\n",
            "\n"
          ]
        }
      ]
    },
    {
      "cell_type": "markdown",
      "source": [
        "## 20. apply()"
      ],
      "metadata": {
        "id": "XVu29cuCewrs"
      }
    },
    {
      "cell_type": "code",
      "source": [
        "#Applying to every row\n",
        "df_applied = df_from_rdd.rdd.map(lambda row: (row.id*2, row.name)).toDF(['id', 'name'])\n",
        "df_applied.show()"
      ],
      "metadata": {
        "id": "8DJse65gegdt",
        "outputId": "6fe78ec1-0d48-470a-e41b-7d0a8d2bb8fc",
        "colab": {
          "base_uri": "https://localhost:8080/"
        }
      },
      "execution_count": 25,
      "outputs": [
        {
          "output_type": "stream",
          "name": "stdout",
          "text": [
            "+---+----+\n",
            "| id|name|\n",
            "+---+----+\n",
            "|  2| ABC|\n",
            "|  4| DEF|\n",
            "+---+----+\n",
            "\n"
          ]
        }
      ]
    },
    {
      "cell_type": "markdown",
      "source": [
        "## 21. map()\n",
        "map() is used on an RDD to apply a function on each element."
      ],
      "metadata": {
        "id": "0KIZPgY61Pyy"
      }
    },
    {
      "cell_type": "code",
      "source": [
        "rdd_maped = df_from_rdd.rdd.map(lambda x: (x.id*2, x.name))\n",
        "df_mapped = rdd_maped.toDF([\"id\", \"name\"])\n",
        "df_mapped.show()"
      ],
      "metadata": {
        "id": "ICG5eQ62flLt",
        "outputId": "b1b908f3-0e38-45d3-a12d-fdadf1c42c27",
        "colab": {
          "base_uri": "https://localhost:8080/"
        }
      },
      "execution_count": 27,
      "outputs": [
        {
          "output_type": "stream",
          "name": "stdout",
          "text": [
            "+---+----+\n",
            "| id|name|\n",
            "+---+----+\n",
            "|  2| ABC|\n",
            "|  4| DEF|\n",
            "+---+----+\n",
            "\n"
          ]
        }
      ]
    },
    {
      "cell_type": "markdown",
      "source": [
        "## 22. flatMap()\n",
        "Used to flatten a collection of items."
      ],
      "metadata": {
        "id": "1l-Bfv0e28C4"
      }
    },
    {
      "cell_type": "code",
      "source": [
        "rdd_flat_map = df_from_rdd.rdd.flatMap(lambda x: [(x.id, x.name), (x.id * 10, x.name), (x.id * 20, x.name)])\n",
        "df_flat_map = rdd_flat_map.toDF([\"id\", \"name\"])\n",
        "df_flat_map.show()"
      ],
      "metadata": {
        "id": "6DxvrayK2C1W",
        "outputId": "da3e590f-56aa-446b-907e-ab4764103e0a",
        "colab": {
          "base_uri": "https://localhost:8080/"
        }
      },
      "execution_count": 29,
      "outputs": [
        {
          "output_type": "stream",
          "name": "stdout",
          "text": [
            "+---+----+\n",
            "| id|name|\n",
            "+---+----+\n",
            "|  1| ABC|\n",
            "| 10| ABC|\n",
            "| 20| ABC|\n",
            "|  2| DEF|\n",
            "| 20| DEF|\n",
            "| 40| DEF|\n",
            "+---+----+\n",
            "\n"
          ]
        }
      ]
    },
    {
      "cell_type": "markdown",
      "source": [
        "## 23. foreach()\n",
        "foreach() is used for applying a function to each row in the DataFrame."
      ],
      "metadata": {
        "id": "vox2Vx-M36Ja"
      }
    },
    {
      "cell_type": "code",
      "source": [
        "def print_row(rows):\n",
        "  print(rows)\n",
        "\n",
        "df_foreach=df_flat_map.foreach(print_row)\n",
        "print(df_foreach)"
      ],
      "metadata": {
        "id": "0J_CvS703oP0",
        "outputId": "2e242468-1585-43f6-fb5a-3defa1e2565b",
        "colab": {
          "base_uri": "https://localhost:8080/"
        }
      },
      "execution_count": 37,
      "outputs": [
        {
          "output_type": "stream",
          "name": "stdout",
          "text": [
            "None\n"
          ]
        }
      ]
    },
    {
      "cell_type": "markdown",
      "source": [
        "## 24. sample() vs sampleBy()\n",
        "sample() is used for random sampling, while sampleBy() allows sampling with stratification."
      ],
      "metadata": {
        "id": "KJ6v7LQYBjzL"
      }
    },
    {
      "cell_type": "code",
      "source": [
        "df_from_rdd.show()\n",
        "# sample()\n",
        "df_sample =  df_from_rdd.sample(fraction=0.5)\n",
        "df_sample.show()\n",
        "\n",
        "# sampleBy()\n",
        "\n",
        "df_sample_by = df_from_rdd.sampleBy(\"id\", fractions={1:0.5,2:0.5})\n",
        "df_sample_by.show()"
      ],
      "metadata": {
        "id": "Q1dk9imf4eBA",
        "outputId": "de5b8068-bc41-4a01-dbce-cfdc9eade34b",
        "colab": {
          "base_uri": "https://localhost:8080/"
        }
      },
      "execution_count": 44,
      "outputs": [
        {
          "output_type": "stream",
          "name": "stdout",
          "text": [
            "+---+----+\n",
            "| id|name|\n",
            "+---+----+\n",
            "|  1| ABC|\n",
            "|  2| DEF|\n",
            "+---+----+\n",
            "\n",
            "+---+----+\n",
            "| id|name|\n",
            "+---+----+\n",
            "|  1| ABC|\n",
            "+---+----+\n",
            "\n",
            "+---+----+\n",
            "| id|name|\n",
            "+---+----+\n",
            "|  1| ABC|\n",
            "|  2| DEF|\n",
            "+---+----+\n",
            "\n"
          ]
        }
      ]
    },
    {
      "cell_type": "markdown",
      "source": [
        "## 25. fillna() & fill()\n",
        "Used for handling missing values.\n"
      ],
      "metadata": {
        "id": "tkGChrfTDsbV"
      }
    },
    {
      "cell_type": "code",
      "source": [],
      "metadata": {
        "id": "Ws-IPxKCCvhR"
      },
      "execution_count": null,
      "outputs": []
    }
  ],
  "metadata": {
    "colab": {
      "provenance": []
    },
    "kernelspec": {
      "display_name": "Python 3",
      "name": "python3"
    },
    "language_info": {
      "name": "python"
    }
  },
  "nbformat": 4,
  "nbformat_minor": 0
}