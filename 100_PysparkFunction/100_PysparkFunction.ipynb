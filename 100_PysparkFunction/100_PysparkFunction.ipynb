{
  "cells": [
    {
      "cell_type": "code",
      "execution_count": 1,
      "metadata": {
        "id": "K9R9pyy1gU2Z"
      },
      "outputs": [],
      "source": [
        "from pyspark.sql import SparkSession\n",
        "from pyspark.sql.types import *\n",
        "from pyspark.sql.functions import *  # Import the function\n",
        "spark = SparkSession.builder.getOrCreate()\n",
        "from pyspark.sql.functions import regexp_replace, col\n",
        "from google.colab import drive\n"
      ]
    },
    {
      "cell_type": "markdown",
      "source": [
        "## 1. Create an empty DataFrame"
      ],
      "metadata": {
        "id": "J6nusHikAZhn"
      }
    },
    {
      "cell_type": "code",
      "execution_count": 2,
      "metadata": {
        "id": "wYcUMNKhWuM8",
        "outputId": "e31e5e58-7fd7-413d-91b2-b960e04d1173",
        "colab": {
          "base_uri": "https://localhost:8080/"
        }
      },
      "outputs": [
        {
          "output_type": "stream",
          "name": "stdout",
          "text": [
            "+---+----+\n",
            "| id|name|\n",
            "+---+----+\n",
            "+---+----+\n",
            "\n"
          ]
        }
      ],
      "source": [
        "Spark2 = SparkSession.builder.master(\"local\").appName(\"EmptyDataFrame\").getOrCreate()\n",
        "#Empty DataFrame with Nodata\n",
        "empty_df = Spark2.createDataFrame([], \"id INT, name STRING\")\n",
        "empty_df.show()"
      ]
    },
    {
      "cell_type": "markdown",
      "source": [
        "## 2. Convert RDD to DataFrame"
      ],
      "metadata": {
        "id": "zFnF9ukRkcgx"
      }
    },
    {
      "cell_type": "code",
      "source": [
        "rdd = spark.sparkContext.parallelize([(1, \"ABC\"),(2, \"DEF\")])\n",
        "columns = [\"id\", \"name\"]\n",
        "df_from_rdd = rdd.toDF(columns)\n",
        "df_from_rdd.show()"
      ],
      "metadata": {
        "id": "Js93HJUqBdiN",
        "colab": {
          "base_uri": "https://localhost:8080/"
        },
        "outputId": "76312e86-06ba-4b4a-c93b-38141c6c1cab"
      },
      "execution_count": 4,
      "outputs": [
        {
          "output_type": "stream",
          "name": "stdout",
          "text": [
            "+---+----+\n",
            "| id|name|\n",
            "+---+----+\n",
            "|  1| ABC|\n",
            "|  2| DEF|\n",
            "+---+----+\n",
            "\n"
          ]
        }
      ]
    },
    {
      "cell_type": "markdown",
      "source": [
        "## 3. Convert DataFrame to Pandas"
      ],
      "metadata": {
        "id": "LusxNyZslSSk"
      }
    },
    {
      "cell_type": "code",
      "source": [
        "pands_df = df_from_rdd.toPandas()\n",
        "print(pands_df)"
      ],
      "metadata": {
        "colab": {
          "base_uri": "https://localhost:8080/"
        },
        "id": "1av9MKVMlPVB",
        "outputId": "1a566bf5-4f6d-4909-d0ff-32512765ff1c"
      },
      "execution_count": 6,
      "outputs": [
        {
          "output_type": "stream",
          "name": "stdout",
          "text": [
            "   id name\n",
            "0   1  ABC\n",
            "1   2  DEF\n"
          ]
        }
      ]
    },
    {
      "cell_type": "markdown",
      "source": [
        "## 4. show()"
      ],
      "metadata": {
        "id": "vSOFXkEKlmDZ"
      }
    },
    {
      "cell_type": "code",
      "source": [
        "df_from_rdd.show()"
      ],
      "metadata": {
        "colab": {
          "base_uri": "https://localhost:8080/"
        },
        "id": "o7c_RDw-llfd",
        "outputId": "323c8baa-8aca-42ba-d1f4-6d6003c1931c"
      },
      "execution_count": 7,
      "outputs": [
        {
          "output_type": "stream",
          "name": "stdout",
          "text": [
            "+---+----+\n",
            "| id|name|\n",
            "+---+----+\n",
            "|  1| ABC|\n",
            "|  2| DEF|\n",
            "+---+----+\n",
            "\n"
          ]
        }
      ]
    },
    {
      "cell_type": "markdown",
      "source": [
        "## StructType & StructField"
      ],
      "metadata": {
        "id": "lq3eR__AlwQo"
      }
    },
    {
      "cell_type": "code",
      "source": [
        "data =[(1, \"ABC\"), (2, \"DEF\"), (3, \"GHI\")]\n",
        "\n",
        "schema = StructType([\n",
        "    StructField('id', IntegerType(), True),\n",
        "    StructField(\"name\", StringType(), True)\n",
        "])\n",
        "df_with_schema= spark.createDataFrame(data, schema)\n",
        "df_with_schema.show()"
      ],
      "metadata": {
        "colab": {
          "base_uri": "https://localhost:8080/"
        },
        "id": "MVZ1hd0AldsN",
        "outputId": "57726cb8-a10e-45ad-9661-0e05aa318d71"
      },
      "execution_count": 10,
      "outputs": [
        {
          "output_type": "stream",
          "name": "stdout",
          "text": [
            "+---+----+\n",
            "| id|name|\n",
            "+---+----+\n",
            "|  1| ABC|\n",
            "|  2| DEF|\n",
            "|  3| GHI|\n",
            "+---+----+\n",
            "\n"
          ]
        }
      ]
    },
    {
      "cell_type": "markdown",
      "source": [
        "## 6. Column Class"
      ],
      "metadata": {
        "id": "GiuuqM-qm7IU"
      }
    },
    {
      "cell_type": "code",
      "source": [
        "df = df_with_schema.withColumn('loweerCase_format', lower(col('name')))\n",
        "df.show()"
      ],
      "metadata": {
        "colab": {
          "base_uri": "https://localhost:8080/"
        },
        "id": "YmbugZrgmlxh",
        "outputId": "3c497219-9e04-404e-b3f2-3da2e5890632"
      },
      "execution_count": 11,
      "outputs": [
        {
          "output_type": "stream",
          "name": "stdout",
          "text": [
            "+---+----+-----------------+\n",
            "| id|name|loweerCase_format|\n",
            "+---+----+-----------------+\n",
            "|  1| ABC|              abc|\n",
            "|  2| DEF|              def|\n",
            "|  3| GHI|              ghi|\n",
            "+---+----+-----------------+\n",
            "\n"
          ]
        }
      ]
    },
    {
      "cell_type": "markdown",
      "source": [
        "## 7. select()"
      ],
      "metadata": {
        "id": "k5mbMNLQnmDE"
      }
    },
    {
      "cell_type": "code",
      "source": [
        "df.select(col('loweerCase_format')).show()"
      ],
      "metadata": {
        "colab": {
          "base_uri": "https://localhost:8080/"
        },
        "id": "-Sb6Bu7Pne44",
        "outputId": "cb48daf7-a94d-4507-f1d9-623109848b7c"
      },
      "execution_count": 12,
      "outputs": [
        {
          "output_type": "stream",
          "name": "stdout",
          "text": [
            "+-----------------+\n",
            "|loweerCase_format|\n",
            "+-----------------+\n",
            "|              abc|\n",
            "|              def|\n",
            "|              ghi|\n",
            "+-----------------+\n",
            "\n"
          ]
        }
      ]
    },
    {
      "cell_type": "markdown",
      "source": [
        "## 8. collect()\n",
        "collect() returns all the rows as a list of Row objects."
      ],
      "metadata": {
        "id": "Z9LrbxgJn31L"
      }
    },
    {
      "cell_type": "code",
      "source": [
        "rows = df.collect()\n",
        "print(rows)"
      ],
      "metadata": {
        "colab": {
          "base_uri": "https://localhost:8080/"
        },
        "id": "PGpfUxnonyLn",
        "outputId": "f55cea0b-7276-4c8c-a6cb-ef53631da5d1"
      },
      "execution_count": 15,
      "outputs": [
        {
          "output_type": "stream",
          "name": "stdout",
          "text": [
            "[Row(id=1, name='ABC', loweerCase_format='abc'), Row(id=2, name='DEF', loweerCase_format='def'), Row(id=3, name='GHI', loweerCase_format='ghi')]\n"
          ]
        }
      ]
    },
    {
      "cell_type": "markdown",
      "source": [
        "## 9. withColumn()\n",
        "This method is used to add or modify a column."
      ],
      "metadata": {
        "id": "LTxq7wFEoZql"
      }
    },
    {
      "cell_type": "code",
      "source": [
        "df_with_column = df.withColumn(\"id_squared\", df[\"id\"]*df[\"id\"])\n",
        "df_with_column.show()"
      ],
      "metadata": {
        "colab": {
          "base_uri": "https://localhost:8080/"
        },
        "id": "lkE0AtfnoDzU",
        "outputId": "7a295ff7-34da-4a6a-a230-5a3b7858a917"
      },
      "execution_count": 20,
      "outputs": [
        {
          "output_type": "stream",
          "name": "stdout",
          "text": [
            "+---+----+-----------------+----------+\n",
            "| id|name|loweerCase_format|id_squared|\n",
            "+---+----+-----------------+----------+\n",
            "|  1| ABC|              abc|         1|\n",
            "|  2| DEF|              def|         4|\n",
            "|  3| GHI|              ghi|         9|\n",
            "+---+----+-----------------+----------+\n",
            "\n"
          ]
        }
      ]
    },
    {
      "cell_type": "markdown",
      "source": [
        "## 10. withColumnRenamed()\n",
        "Renames an existing column in the DataFrame"
      ],
      "metadata": {
        "id": "UTWlMhl6rqhw"
      }
    },
    {
      "cell_type": "code",
      "source": [
        "df_renamed = df_with_column.withColumnRenamed(\"id_squared\", \"idSquared\").withColumnRenamed(\"loweerCase_format\", \"loweerCaseFormat\")\n",
        "df_renamed.show()"
      ],
      "metadata": {
        "colab": {
          "base_uri": "https://localhost:8080/"
        },
        "id": "S3HXjjKzo_G7",
        "outputId": "73b20658-a1c0-4db8-a7cb-4934b3929a9b"
      },
      "execution_count": 21,
      "outputs": [
        {
          "output_type": "stream",
          "name": "stdout",
          "text": [
            "+---+----+----------------+---------+\n",
            "| id|name|loweerCaseFormat|idSquared|\n",
            "+---+----+----------------+---------+\n",
            "|  1| ABC|             abc|        1|\n",
            "|  2| DEF|             def|        4|\n",
            "|  3| GHI|             ghi|        9|\n",
            "+---+----+----------------+---------+\n",
            "\n"
          ]
        }
      ]
    },
    {
      "cell_type": "markdown",
      "source": [
        "## 11. where() & filter()\n",
        "Both methods are used to filter rows based on conditions."
      ],
      "metadata": {
        "id": "XjWX2Q1IsYCS"
      }
    },
    {
      "cell_type": "code",
      "source": [
        "df_filter = df_renamed.filter(df_renamed[\"id\"] > 1)\n",
        "df_filter.show()"
      ],
      "metadata": {
        "id": "m76fE5HEsGKl",
        "outputId": "1905ea33-951c-40f3-c08f-2570c4b363a1",
        "colab": {
          "base_uri": "https://localhost:8080/"
        }
      },
      "execution_count": 22,
      "outputs": [
        {
          "output_type": "stream",
          "name": "stdout",
          "text": [
            "+---+----+----------------+---------+\n",
            "| id|name|loweerCaseFormat|idSquared|\n",
            "+---+----+----------------+---------+\n",
            "|  2| DEF|             def|        4|\n",
            "|  3| GHI|             ghi|        9|\n",
            "+---+----+----------------+---------+\n",
            "\n"
          ]
        }
      ]
    },
    {
      "cell_type": "code",
      "source": [
        "df_where = df_renamed.where(df_filter[\"id\"] > 2)\n",
        "df_where.show()"
      ],
      "metadata": {
        "id": "KdghIwyAsr2U",
        "outputId": "3d597896-4243-4896-f1c3-29c7522aea4b",
        "colab": {
          "base_uri": "https://localhost:8080/"
        }
      },
      "execution_count": 24,
      "outputs": [
        {
          "output_type": "stream",
          "name": "stdout",
          "text": [
            "+---+----+----------------+---------+\n",
            "| id|name|loweerCaseFormat|idSquared|\n",
            "+---+----+----------------+---------+\n",
            "|  3| GHI|             ghi|        9|\n",
            "+---+----+----------------+---------+\n",
            "\n"
          ]
        }
      ]
    },
    {
      "cell_type": "markdown",
      "source": [
        "## 12. drop() & dropDuplicates()\n",
        "Used to drop a column or remove duplicate rows."
      ],
      "metadata": {
        "id": "arkaza0PtFRf"
      }
    },
    {
      "cell_type": "code",
      "source": [
        "df_drop= df_renamed.drop(\"idSquared\")\n",
        "df_drop.show()\n"
      ],
      "metadata": {
        "id": "46aYf3jGs7Xw",
        "outputId": "35190e92-34d3-44de-f3e8-c03ea9b385bb",
        "colab": {
          "base_uri": "https://localhost:8080/"
        }
      },
      "execution_count": 25,
      "outputs": [
        {
          "output_type": "stream",
          "name": "stdout",
          "text": [
            "+---+----+----------------+\n",
            "| id|name|loweerCaseFormat|\n",
            "+---+----+----------------+\n",
            "|  1| ABC|             abc|\n",
            "|  2| DEF|             def|\n",
            "|  3| GHI|             ghi|\n",
            "+---+----+----------------+\n",
            "\n"
          ]
        }
      ]
    },
    {
      "cell_type": "code",
      "source": [
        "data_v2 = [\n",
        "    (1, \"Alice\", 30),\n",
        "    (2, \"Bob\", 25),\n",
        "    (1, \"Alice\", 30),\n",
        "    (3, \"Charlie\", 25)\n",
        "]\n",
        "\n",
        "df_v2 = spark.createDataFrame(data_v2, [\"id\", \"name\", \"age\"])\n",
        "df_v2.show()"
      ],
      "metadata": {
        "id": "zTS5a5cQukK-",
        "outputId": "b9de1c47-eb45-4977-9574-7fb7bac7e54f",
        "colab": {
          "base_uri": "https://localhost:8080/"
        }
      },
      "execution_count": 31,
      "outputs": [
        {
          "output_type": "stream",
          "name": "stdout",
          "text": [
            "+---+-------+---+\n",
            "| id|   name|age|\n",
            "+---+-------+---+\n",
            "|  1|  Alice| 30|\n",
            "|  2|    Bob| 25|\n",
            "|  1|  Alice| 30|\n",
            "|  3|Charlie| 25|\n",
            "+---+-------+---+\n",
            "\n"
          ]
        }
      ]
    },
    {
      "cell_type": "code",
      "source": [
        "df_drop_duplicates = df_v2.dropDuplicates()\n",
        "df_drop_duplicates.show()"
      ],
      "metadata": {
        "id": "JOrAjFsftb3q",
        "outputId": "ff79be86-b66d-499f-812a-bb74d8a74174",
        "colab": {
          "base_uri": "https://localhost:8080/"
        }
      },
      "execution_count": 34,
      "outputs": [
        {
          "output_type": "stream",
          "name": "stdout",
          "text": [
            "+---+-------+---+\n",
            "| id|   name|age|\n",
            "+---+-------+---+\n",
            "|  2|    Bob| 25|\n",
            "|  1|  Alice| 30|\n",
            "|  3|Charlie| 25|\n",
            "+---+-------+---+\n",
            "\n"
          ]
        }
      ]
    },
    {
      "cell_type": "markdown",
      "source": [
        "## 13. orderBy() and sort()\n",
        "These methods are used for sorting data in DataFrame."
      ],
      "metadata": {
        "id": "hSykxD4Ou3J8"
      }
    },
    {
      "cell_type": "code",
      "source": [
        "sorted_df = df_drop_duplicates.sort(df_drop_duplicates[\"id\"].desc())\n",
        "sorted_df.show()"
      ],
      "metadata": {
        "id": "AX6MWhOttw_E",
        "outputId": "dd173be0-b69c-452c-c71a-97ad12309035",
        "colab": {
          "base_uri": "https://localhost:8080/"
        }
      },
      "execution_count": 37,
      "outputs": [
        {
          "output_type": "stream",
          "name": "stdout",
          "text": [
            "+---+-------+---+\n",
            "| id|   name|age|\n",
            "+---+-------+---+\n",
            "|  3|Charlie| 25|\n",
            "|  2|    Bob| 25|\n",
            "|  1|  Alice| 30|\n",
            "+---+-------+---+\n",
            "\n"
          ]
        }
      ]
    },
    {
      "cell_type": "code",
      "source": [
        "df_order_by = df_drop_duplicates.orderBy(df_drop_duplicates[\"id\"].asc())\n",
        "df_order_by.show()"
      ],
      "metadata": {
        "id": "uc_eckYivIZW",
        "outputId": "9bf80d1c-c819-4328-bbbe-187b90e1749f",
        "colab": {
          "base_uri": "https://localhost:8080/"
        }
      },
      "execution_count": 40,
      "outputs": [
        {
          "output_type": "stream",
          "name": "stdout",
          "text": [
            "+---+-------+---+\n",
            "| id|   name|age|\n",
            "+---+-------+---+\n",
            "|  1|  Alice| 30|\n",
            "|  2|    Bob| 25|\n",
            "|  3|Charlie| 25|\n",
            "+---+-------+---+\n",
            "\n"
          ]
        }
      ]
    },
    {
      "cell_type": "markdown",
      "source": [
        "## 14. groupBy()\n",
        "Used for group-by operations."
      ],
      "metadata": {
        "id": "CRCWCKxfv9m0"
      }
    },
    {
      "cell_type": "code",
      "source": [
        "df_grouped = df_drop_duplicates.groupBy(\"Id\").count()\n",
        "df_grouped.show()"
      ],
      "metadata": {
        "id": "xXAEAIh7vqXm",
        "outputId": "654c6504-7ec0-44da-a896-7b72e5e46ad9",
        "colab": {
          "base_uri": "https://localhost:8080/"
        }
      },
      "execution_count": 42,
      "outputs": [
        {
          "output_type": "stream",
          "name": "stdout",
          "text": [
            "+---+-----+\n",
            "| Id|count|\n",
            "+---+-----+\n",
            "|  1|    1|\n",
            "|  3|    1|\n",
            "|  2|    1|\n",
            "+---+-----+\n",
            "\n"
          ]
        }
      ]
    },
    {
      "cell_type": "code",
      "source": [],
      "metadata": {
        "id": "CJa1hxRHxKzt"
      },
      "execution_count": null,
      "outputs": []
    }
  ],
  "metadata": {
    "colab": {
      "provenance": []
    },
    "kernelspec": {
      "display_name": "Python 3",
      "name": "python3"
    },
    "language_info": {
      "name": "python"
    }
  },
  "nbformat": 4,
  "nbformat_minor": 0
}