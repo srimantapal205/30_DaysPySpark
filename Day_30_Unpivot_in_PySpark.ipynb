{
  "cells": [
    {
      "cell_type": "markdown",
      "source": [
        "# Unpivot in PySpark"
      ],
      "metadata": {
        "id": "Xq9finA0CveE"
      }
    },
    {
      "cell_type": "markdown",
      "source": [
        "The unpivot operation (also called melting) is used to transform a wide-format table into a long-format table. This means columns are turned into rows, effectively reversing the pivot operation."
      ],
      "metadata": {
        "id": "hACnNFZCC10l"
      }
    },
    {
      "cell_type": "markdown",
      "source": [
        "```\n",
        "from pyspark.sql.functions import when\n",
        "# Syntax to add a new column based on a condition\n",
        "df = df.withColumn(\"new_column_name\", when(condition1, value1).when(condition2, value2).otherwise(default_value))\n",
        "```\n",
        "\n"
      ],
      "metadata": {
        "id": "DTVBM92IC8Td"
      }
    },
    {
      "cell_type": "code",
      "execution_count": 1,
      "metadata": {
        "id": "K9R9pyy1gU2Z"
      },
      "outputs": [],
      "source": [
        "from pyspark.sql import SparkSession\n",
        "from pyspark.sql.types import *\n",
        "from pyspark.sql.functions import *  # Import the function\n",
        "spark = SparkSession.builder.getOrCreate()\n",
        "from pyspark.sql.functions import regexp_replace, col\n",
        "from google.colab import drive\n"
      ]
    },
    {
      "cell_type": "code",
      "source": [
        "# Sample Data\n",
        "data = [\n",
        "    (\"A\", 1000,2000,3000,4000),\n",
        "    (\"B\", 1500,2500,3500,4500),\n",
        "]\n",
        "#Create columns\n",
        "columns = [\"Product\", \"North\", \"South\", \"East\", \"West\"]\n",
        "\n",
        "df = spark.createDataFrame(data, columns)\n",
        "df.show()\n"
      ],
      "metadata": {
        "id": "jDqRhox3VSHQ",
        "outputId": "b0bc49e3-e629-4ef3-e6e6-79f799c30085",
        "colab": {
          "base_uri": "https://localhost:8080/"
        }
      },
      "execution_count": 8,
      "outputs": [
        {
          "output_type": "stream",
          "name": "stdout",
          "text": [
            "+-------+-----+-----+----+----+\n",
            "|Product|North|South|East|West|\n",
            "+-------+-----+-----+----+----+\n",
            "|      A| 1000| 2000|3000|4000|\n",
            "|      B| 1500| 2500|3500|4500|\n",
            "+-------+-----+-----+----+----+\n",
            "\n"
          ]
        }
      ]
    },
    {
      "cell_type": "markdown",
      "source": [
        "## Create UnPivote DataFrame"
      ],
      "metadata": {
        "id": "LZcnynQpWO88"
      }
    },
    {
      "cell_type": "code",
      "source": [
        "unpivote_df = df.selectExpr(\n",
        "    \"Product\",\n",
        "    \"stack(4, 'North', North, 'South', South, 'East', East, 'West', West) as (Region, Sales)\"\n",
        "\n",
        ")\n",
        "\n",
        "unpivote_df.show()"
      ],
      "metadata": {
        "id": "AxKHWLufV_BI",
        "outputId": "3521a39d-3e6b-4107-a4dd-7af792bd9953",
        "colab": {
          "base_uri": "https://localhost:8080/"
        }
      },
      "execution_count": 12,
      "outputs": [
        {
          "output_type": "stream",
          "name": "stdout",
          "text": [
            "+-------+------+-----+\n",
            "|Product|Region|Sales|\n",
            "+-------+------+-----+\n",
            "|      A| North| 1000|\n",
            "|      A| South| 2000|\n",
            "|      A|  East| 3000|\n",
            "|      A|  West| 4000|\n",
            "|      B| North| 1500|\n",
            "|      B| South| 2500|\n",
            "|      B|  East| 3500|\n",
            "|      B|  West| 4500|\n",
            "+-------+------+-----+\n",
            "\n"
          ]
        }
      ]
    },
    {
      "cell_type": "code",
      "source": [],
      "metadata": {
        "id": "wYcUMNKhWuM8"
      },
      "execution_count": null,
      "outputs": []
    }
  ],
  "metadata": {
    "colab": {
      "provenance": []
    },
    "kernelspec": {
      "display_name": "Python 3",
      "name": "python3"
    },
    "language_info": {
      "name": "python"
    }
  },
  "nbformat": 4,
  "nbformat_minor": 0
}