{
  "cells": [
    {
      "cell_type": "markdown",
      "source": [
        "#Joins in Dataframe"
      ],
      "metadata": {
        "id": "WZtmuC6dtS5H"
      }
    },
    {
      "cell_type": "markdown",
      "source": [
        "## Part -1"
      ],
      "metadata": {
        "id": "Arg9jsaNtXqD"
      }
    },
    {
      "cell_type": "markdown",
      "source": [
        "***Joins in PySpark: ***\n",
        "\n",
        "Joins are used to combine two DataFrames based on a common column or condition. PySpark supports several types of joins, similar to SQL. Below are explanations and examples for each type of join.\n",
        "\n",
        "\n"
      ],
      "metadata": {
        "id": "JOC2-avPtb8W"
      }
    },
    {
      "cell_type": "markdown",
      "source": [
        "### **1. Inner Join: (inner)**\n",
        "\n",
        "`inner_join = df1.join(df2, on=\"common_column\" how = \"inner\")`\n",
        "\n",
        "**Explanation:**\n",
        "* Purpose: Returns rows where there is a match in both DataFrames (df1 and df2) based on the common_column.\n",
        "* Behavior: Rows with no matching value in either DataFrame are excluded.\n",
        "* Use Case: When you only need records that exist in both DataFrames."
      ],
      "metadata": {
        "id": "hAwCnTGdued8"
      }
    },
    {
      "cell_type": "markdown",
      "source": [
        "### **2. Left Join (Left Outer Join) : (left)**\n",
        "\n",
        "`left_join = df1.join(df2, on=\"common_column\", how = \"left\")`\n",
        "\n",
        "\n",
        "**Explanation:**\n",
        "* Purpose: Returns all rows from df1 and the matching rows from df2. If no match exists in df2, the result will contain NULL for columns from df2.\n",
        "* Behavior: All rows from the left DataFrame (df1) are preserved, even if there’s no match in the right DataFrame (df2).\n",
        "* Use Case: When you want to retain all rows from df1, even if there's no match in df2."
      ],
      "metadata": {
        "id": "fRgfsOZ6uz12"
      }
    },
    {
      "cell_type": "markdown",
      "source": [
        "### **3. Right Join (Right Outer Join): (right)**\n",
        "\n",
        "` right_join = df1.join(df2, on=\"common_column\", how=\"right\") `\n",
        "\n",
        "\n",
        "**Explanation:**\n",
        "* Purpose: Returns all rows from df2 and the matching rows from df1. If no match exists in df1, the result will contain NULL for columns from df1.\n",
        "* Behavior: All rows from the right DataFrame (df2) are preserved, even if there’s no match in the left DataFrame (df1).\n",
        "* Use Case: When you want to retain all rows from df2, even if there's no match in df1.\n"
      ],
      "metadata": {
        "id": "4MBz94E7uvV0"
      }
    },
    {
      "cell_type": "markdown",
      "source": [
        "### **4. Full Join (Outer Join) : (outer)**\n",
        "\n",
        "` full_join = df1.join(df2, on=\"common column\" how ='outer') `\n",
        "\n",
        "**Explanation:**\n",
        "* Purpose: Returns all rows when there is a match in either df1 or df2. Non-matching rows will have NULL values in the columns from the other DataFrame.\n",
        "* Behavior: Retains all rows from both DataFrames, filling in NULL where there is no match.\n",
        "* Use Case: When you want to retain all rows from both DataFrames, regardless of whether there’s a match."
      ],
      "metadata": {
        "id": "93S1p_FYwBpt"
      }
    },
    {
      "cell_type": "markdown",
      "source": [
        "### **5. Left Semi Join (left_semi)**\n",
        "\n",
        "`left_semi_join = df1.join(df2, on=\"common_column\" how='left_semi')`\n",
        "\n",
        "**Explanation:**\n",
        "* Purpose: Returns only the rows from df1 where there is a match in df2. It behaves like an inner join but only keeps columns from df1.\n",
        "* Behavior: Filters df1 to only keep rows that have a match in df2.\n",
        "* Use Case: When you want to filter df1 to keep rows with matching keys in df2, but you don’t need columns from df2.\n"
      ],
      "metadata": {
        "id": "8KbHareRwrSb"
      }
    },
    {
      "cell_type": "markdown",
      "source": [
        "### **6. Left Anti Join : (left_anti)**\n",
        "\n",
        "` left_anti_join = df1.join(df2, on='common column' how='left_anti') `\n",
        "\n",
        "**Explanation:**\n",
        "* Purpose: Returns only the rows from df1 that do not have a match in df2.\n",
        "* Behavior: Filters out rows from df1 that have a match in df2.\n",
        "* Use Case: When you want to filter df1 to keep rows with no matching keys in df2\n"
      ],
      "metadata": {
        "id": "XNG_gTisxRxn"
      }
    },
    {
      "cell_type": "markdown",
      "source": [
        "### **7. Cross Join**\n",
        "\n",
        "` cross_join = df1.cross_join(df2) `\n",
        "\n",
        "**Explanation:**\n",
        "* Purpose: Returns the Cartesian product of df1 and df2, meaning every row of df1 is paired with every row of df2.\n",
        "* Behavior: The number of rows in the result will be the product of the row count of df1 and df2.\n",
        "* Use Case: Typically used in edge cases or for generating combinations of rows, but be cautious as it can result in a very large DataFrame"
      ],
      "metadata": {
        "id": "d6iP39NxyeAU"
      }
    },
    {
      "cell_type": "markdown",
      "source": [
        "### ***8. Join with Explicit Conditions: (inner) ***\n",
        "\n",
        "`inner_join = df1.join(df2, (df1[\"columnA\"] == df2[\"columnB\"]), \"inner\")`\n",
        "\n",
        "**Explanation:**\n",
        "* Purpose: This is an example of an inner join where the common columns have different names in df1 and df2.\n",
        "* Behavior: Joins df1 and df2 based on a condition where columnA from df1 matches columnB from df2.\n",
        "* Use Case: When the join condition involves columns with different names or more complex conditions."
      ],
      "metadata": {
        "id": "6cUQjXEny25G"
      }
    },
    {
      "cell_type": "markdown",
      "source": [
        "## Joins Part 2"
      ],
      "metadata": {
        "id": "Hpx6C_tZz8yL"
      }
    },
    {
      "cell_type": "code",
      "execution_count": 3,
      "metadata": {
        "id": "K9R9pyy1gU2Z"
      },
      "outputs": [],
      "source": [
        "from pyspark.sql import SparkSession\n",
        "from pyspark.sql.types import *\n",
        "from pyspark.sql.functions import *  # Import the function\n",
        "spark = SparkSession.builder.getOrCreate()\n",
        "from pyspark.sql.functions import regexp_replace, col\n",
        "from google.colab import drive\n",
        "\n"
      ]
    },
    {
      "cell_type": "code",
      "source": [
        "# Initialize Spark session\n",
        "spark = SparkSession.builder.appName(\"JoinsExample\").getOrCreate()\n",
        "# Sample DataFrames\n",
        "data1 = [Row(id=1), Row(id=1),  Row(id=None), Row(id=0)]\n",
        "data2 = [Row(id=1), Row(id=1), Row(id=1),  Row(id=None), Row(id=0)]\n",
        "df1 = spark.createDataFrame(data1)\n",
        "df2 = spark.createDataFrame(data2)\n",
        "df1.show()\n",
        "df2.show()\n"
      ],
      "metadata": {
        "colab": {
          "base_uri": "https://localhost:8080/"
        },
        "id": "2yTOjZlG0J5h",
        "outputId": "b14bd561-0bd5-49fb-a140-5605e8df7985"
      },
      "execution_count": 7,
      "outputs": [
        {
          "output_type": "stream",
          "name": "stdout",
          "text": [
            "+----+\n",
            "|  id|\n",
            "+----+\n",
            "|   1|\n",
            "|   1|\n",
            "|NULL|\n",
            "|   0|\n",
            "+----+\n",
            "\n",
            "+----+\n",
            "|  id|\n",
            "+----+\n",
            "|   1|\n",
            "|   1|\n",
            "|   1|\n",
            "|NULL|\n",
            "|   0|\n",
            "+----+\n",
            "\n"
          ]
        }
      ]
    },
    {
      "cell_type": "code",
      "source": [
        "#Inner Join\n",
        "inner_join = df1.join(df2, on=\"id\", how=\"inner\")\n",
        "\n",
        "print('Inner Join')\n",
        "inner_join.show()"
      ],
      "metadata": {
        "id": "ZhZ0wTu4uKTj",
        "colab": {
          "base_uri": "https://localhost:8080/"
        },
        "outputId": "2c39ab90-6953-4225-92c5-995aaa2a51b6"
      },
      "execution_count": 9,
      "outputs": [
        {
          "output_type": "stream",
          "name": "stdout",
          "text": [
            "Inner Join\n",
            "+---+\n",
            "| id|\n",
            "+---+\n",
            "|  0|\n",
            "|  1|\n",
            "|  1|\n",
            "|  1|\n",
            "|  1|\n",
            "|  1|\n",
            "|  1|\n",
            "+---+\n",
            "\n"
          ]
        }
      ]
    },
    {
      "cell_type": "code",
      "source": [
        "# Left Join\n",
        "left_join = df1.join(df2, on='id', how='left')\n",
        "print('Left Join')\n",
        "left_join.show()"
      ],
      "metadata": {
        "id": "4lLY-hNc1VbR",
        "outputId": "833d9e93-cee6-4c98-f689-60b48d7ae9a1",
        "colab": {
          "base_uri": "https://localhost:8080/"
        }
      },
      "execution_count": 10,
      "outputs": [
        {
          "output_type": "stream",
          "name": "stdout",
          "text": [
            "Left Join\n",
            "+----+\n",
            "|  id|\n",
            "+----+\n",
            "|   1|\n",
            "|   1|\n",
            "|   1|\n",
            "|   1|\n",
            "|   1|\n",
            "|   1|\n",
            "|   0|\n",
            "|NULL|\n",
            "+----+\n",
            "\n"
          ]
        }
      ]
    },
    {
      "cell_type": "code",
      "source": [
        "#Right Join\n",
        "right_join =df1.join(df2, on=\"id\", how='right')\n",
        "print('Right Jouin')\n",
        "right_join.show()"
      ],
      "metadata": {
        "id": "E8phfav52rnt",
        "outputId": "05248728-9c24-48f3-dfa4-d9fed4ba232b",
        "colab": {
          "base_uri": "https://localhost:8080/"
        }
      },
      "execution_count": 11,
      "outputs": [
        {
          "output_type": "stream",
          "name": "stdout",
          "text": [
            "Right Jouin\n",
            "+----+\n",
            "|  id|\n",
            "+----+\n",
            "|   1|\n",
            "|   1|\n",
            "|   1|\n",
            "|   1|\n",
            "|   0|\n",
            "|NULL|\n",
            "|   1|\n",
            "|   1|\n",
            "+----+\n",
            "\n"
          ]
        }
      ]
    },
    {
      "cell_type": "code",
      "source": [
        "## Full Join\n",
        "full_join = df1.join(df2, on='id', how='outer')\n",
        "print('Full Join')\n",
        "full_join.show()"
      ],
      "metadata": {
        "id": "0QLqkG5g2lUd",
        "outputId": "210cc1eb-3dd7-469e-c03a-0475551f45a0",
        "colab": {
          "base_uri": "https://localhost:8080/"
        }
      },
      "execution_count": 12,
      "outputs": [
        {
          "output_type": "stream",
          "name": "stdout",
          "text": [
            "Full Join\n",
            "+----+\n",
            "|  id|\n",
            "+----+\n",
            "|NULL|\n",
            "|NULL|\n",
            "|   0|\n",
            "|   1|\n",
            "|   1|\n",
            "|   1|\n",
            "|   1|\n",
            "|   1|\n",
            "|   1|\n",
            "+----+\n",
            "\n"
          ]
        }
      ]
    },
    {
      "cell_type": "code",
      "source": [
        "# Left Anti Join\n",
        "left_anti_join = df1.join(df2, on='id', how='left_anti')\n",
        "print('Left Anti Join')\n",
        "left_anti_join.show()\n"
      ],
      "metadata": {
        "id": "csdjwZ-T3nMu",
        "outputId": "8e228f12-f381-4c37-9d89-712d2f8bea84",
        "colab": {
          "base_uri": "https://localhost:8080/"
        }
      },
      "execution_count": 14,
      "outputs": [
        {
          "output_type": "stream",
          "name": "stdout",
          "text": [
            "Left Anti Join\n",
            "+----+\n",
            "|  id|\n",
            "+----+\n",
            "|NULL|\n",
            "+----+\n",
            "\n"
          ]
        }
      ]
    },
    {
      "cell_type": "code",
      "source": [
        "# Right Anti Join (Equivalent to swapping DataFrames and performing Left Anti Join)\n",
        "right_anti_join = df2.join(df1, on='id', how='left_anti')\n",
        "print('Right Anti Join')\n",
        "right_anti_join.show()\n"
      ],
      "metadata": {
        "id": "Lb4K1WcF4YcW",
        "outputId": "3ef165bb-da87-4efd-d7d6-781ca809471b",
        "colab": {
          "base_uri": "https://localhost:8080/"
        }
      },
      "execution_count": 15,
      "outputs": [
        {
          "output_type": "stream",
          "name": "stdout",
          "text": [
            "Right Anti Join\n",
            "+----+\n",
            "|  id|\n",
            "+----+\n",
            "|NULL|\n",
            "+----+\n",
            "\n"
          ]
        }
      ]
    },
    {
      "cell_type": "code",
      "source": [
        "# Broadcast Join (Optimizing a join with a smaller DataFrame)\n",
        "broadcast_join = df1.join(broadcast(df2), on='id', how='inner')\n",
        "print('Broadcast Join')\n",
        "broadcast_join.show()"
      ],
      "metadata": {
        "id": "7WaH8Ub_4zW2",
        "outputId": "cb301655-6af7-496a-d355-53d8fcc10a51",
        "colab": {
          "base_uri": "https://localhost:8080/"
        }
      },
      "execution_count": 16,
      "outputs": [
        {
          "output_type": "stream",
          "name": "stdout",
          "text": [
            "Broadcast Join\n",
            "+---+\n",
            "| id|\n",
            "+---+\n",
            "|  1|\n",
            "|  1|\n",
            "|  1|\n",
            "|  1|\n",
            "|  1|\n",
            "|  1|\n",
            "|  0|\n",
            "+---+\n",
            "\n"
          ]
        }
      ]
    },
    {
      "cell_type": "markdown",
      "source": [
        "**Broadcast Join** is a performance optimization technique ideal for joining a large DataFrame with a small one efficiently, reducing shuffle costs."
      ],
      "metadata": {
        "id": "NJYt2ie35kgQ"
      }
    },
    {
      "cell_type": "code",
      "source": [],
      "metadata": {
        "id": "Ptrs_9Ub5boL"
      },
      "execution_count": null,
      "outputs": []
    }
  ],
  "metadata": {
    "colab": {
      "provenance": []
    },
    "kernelspec": {
      "display_name": "Python 3",
      "name": "python3"
    },
    "language_info": {
      "name": "python"
    }
  },
  "nbformat": 4,
  "nbformat_minor": 0
}