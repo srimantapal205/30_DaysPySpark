{
  "nbformat": 4,
  "nbformat_minor": 0,
  "metadata": {
    "colab": {
      "provenance": [],
      "authorship_tag": "ABX9TyOl9TRq9+4NkEkI1gCEnuGX"
    },
    "kernelspec": {
      "name": "python3",
      "display_name": "Python 3"
    },
    "language_info": {
      "name": "python"
    }
  },
  "cells": [
    {
      "cell_type": "code",
      "source": [
        "from pyspark.sql import SparkSession\n",
        "from pyspark.sql.types import *\n",
        "from pyspark.sql.functions import *  # Import the function\n",
        "spark = SparkSession.builder.getOrCreate()\n",
        "\n",
        "from google.colab import drive\n",
        "\n",
        "# Mount Google Drive with a longer timeout\n",
        "drive.mount('/content/drive', force_remount=True, timeout_ms=300000)\n"
      ],
      "metadata": {
        "colab": {
          "base_uri": "https://localhost:8080/"
        },
        "id": "SuzJ7ohStbqX",
        "outputId": "16e89959-eb95-4023-a78c-0e85217cb55e"
      },
      "execution_count": 9,
      "outputs": [
        {
          "output_type": "stream",
          "name": "stdout",
          "text": [
            "Mounted at /content/drive\n"
          ]
        }
      ]
    },
    {
      "cell_type": "code",
      "source": [
        "df_employee_data = \"/content/drive/MyDrive/Colab Notebooks/dataSet/employee_data.csv\"\n",
        "employeeSechema = StructType([\n",
        "    StructField(\"ID\",IntegerType() ,True),\n",
        "    StructField(\"Name\",StringType() ,True),\n",
        "    StructField(\"Age\",IntegerType() ,True),\n",
        "    StructField(\"Salary\",FloatType() ,True),\n",
        "    StructField(\"Joining_Date\",DateType() ,True),\n",
        "    StructField(\"Department\",StringType() ,True),\n",
        "    StructField(\"Performance_Rating\",IntegerType() ,True),\n",
        "    StructField(\"Email\",StringType() ,True),\n",
        "    StructField(\"Address\",StringType() ,True),\n",
        "    StructField(\"Phone\",StringType() ,True)\n",
        "\n",
        "])\n",
        "# Load the DataFrame with the defined schema\n",
        "#df = spark.read.csv(path=df_employee_data, header=True, schema=employeeSechema)\n",
        "df = spark.read.load(path=\"/content/drive/MyDrive/Colab Notebooks/dataSet/employee_data.csv\", format=\"csv\", header = True, schema=employeeSechema)\n",
        "df.printSchema()\n",
        "df.show()"
      ],
      "metadata": {
        "colab": {
          "base_uri": "https://localhost:8080/"
        },
        "id": "iZjXkJdltxjV",
        "outputId": "c4006799-31dd-4c01-cbd6-8072b9eee045"
      },
      "execution_count": 10,
      "outputs": [
        {
          "output_type": "stream",
          "name": "stdout",
          "text": [
            "root\n",
            " |-- ID: integer (nullable = true)\n",
            " |-- Name: string (nullable = true)\n",
            " |-- Age: integer (nullable = true)\n",
            " |-- Salary: float (nullable = true)\n",
            " |-- Joining_Date: date (nullable = true)\n",
            " |-- Department: string (nullable = true)\n",
            " |-- Performance_Rating: integer (nullable = true)\n",
            " |-- Email: string (nullable = true)\n",
            " |-- Address: string (nullable = true)\n",
            " |-- Phone: string (nullable = true)\n",
            "\n",
            "+---+-------------+---+-------+------------+-----------+------------------+--------------------+------------------+------------+\n",
            "| ID|         Name|Age| Salary|Joining_Date| Department|Performance_Rating|               Email|           Address|       Phone|\n",
            "+---+-------------+---+-------+------------+-----------+------------------+--------------------+------------------+------------+\n",
            "|  1|Alice Johnson| 29|75000.0|  2021-03-15|Engineering|                 4|alice.johnson@exa...|123 Elm Street, NY|123-456-7890|\n",
            "|  2|    Bob Smith| 35|85000.0|  2020-08-20|  Marketing|                 5|bob.smith@example...|456 Oak Avenue, LA|987-654-3210|\n",
            "|  3|  Cathy Brown| 42|95000.0|  2019-11-10|    Finance|                 3|cathy.brown@examp...| 789 Pine Road, TX|567-890-1234|\n",
            "|  4|  David White| 30|67000.0|  2022-01-05|         HR|                 4|david.white@examp...|234 Maple Lane, IL|345-678-9012|\n",
            "|  5|    Eva Green| 28|72000.0|  2023-06-22|Engineering|                 5|eva.green@example...|321 Birch Blvd, FL|234-567-8901|\n",
            "+---+-------------+---+-------+------------+-----------+------------------+--------------------+------------------+------------+\n",
            "\n"
          ]
        }
      ]
    },
    {
      "cell_type": "markdown",
      "source": [
        "###  1. Different Methods to Select Columns\n",
        "In PySpark, you can select specific columns in multiple ways:\n",
        "\n",
        "*   Using col() function/ column() / string way\n",
        "\n",
        "\n"
      ],
      "metadata": {
        "id": "KlFPAFOct6_H"
      }
    },
    {
      "cell_type": "code",
      "execution_count": 11,
      "metadata": {
        "colab": {
          "base_uri": "https://localhost:8080/"
        },
        "id": "dE3ZxUwms-sS",
        "outputId": "28a1a17c-09ac-4680-d6d6-befb03329e05"
      },
      "outputs": [
        {
          "output_type": "stream",
          "name": "stdout",
          "text": [
            "+-------------+\n",
            "|         Name|\n",
            "+-------------+\n",
            "|Alice Johnson|\n",
            "|    Bob Smith|\n",
            "|  Cathy Brown|\n",
            "|  David White|\n",
            "|    Eva Green|\n",
            "+-------------+\n",
            "\n",
            "+---+\n",
            "|Age|\n",
            "+---+\n",
            "| 29|\n",
            "| 35|\n",
            "| 42|\n",
            "| 30|\n",
            "| 28|\n",
            "+---+\n",
            "\n",
            "+-------+\n",
            "| Salary|\n",
            "+-------+\n",
            "|75000.0|\n",
            "|85000.0|\n",
            "|95000.0|\n",
            "|67000.0|\n",
            "|72000.0|\n",
            "+-------+\n",
            "\n"
          ]
        }
      ],
      "source": [
        "# Using col() function\n",
        "df.select(col(\"Name\")).show()\n",
        "# Using column() function\n",
        "df.select(column(\"Age\")).show()\n",
        "# Directly using string name\n",
        "df.select(\"Salary\").show()"
      ]
    },
    {
      "cell_type": "markdown",
      "source": [
        "### 2. Selecting Multiple Columns Together\n",
        "Combine different methods to select multiple columns:"
      ],
      "metadata": {
        "id": "AopqQabNvf1E"
      }
    },
    {
      "cell_type": "code",
      "source": [
        "# Multiple column\n",
        "df2 = df.select(\"Name\", \"Age\", col(\"Salary\"), column(\"Department\"), df.Phone)\n",
        "df2.show()"
      ],
      "metadata": {
        "id": "E65agXHdvfl3",
        "outputId": "5faf3143-10af-48bb-ffc5-573b368a52a1",
        "colab": {
          "base_uri": "https://localhost:8080/"
        }
      },
      "execution_count": 12,
      "outputs": [
        {
          "output_type": "stream",
          "name": "stdout",
          "text": [
            "+-------------+---+-------+-----------+------------+\n",
            "|         Name|Age| Salary| Department|       Phone|\n",
            "+-------------+---+-------+-----------+------------+\n",
            "|Alice Johnson| 29|75000.0|Engineering|123-456-7890|\n",
            "|    Bob Smith| 35|85000.0|  Marketing|987-654-3210|\n",
            "|  Cathy Brown| 42|95000.0|    Finance|567-890-1234|\n",
            "|  David White| 30|67000.0|         HR|345-678-9012|\n",
            "|    Eva Green| 28|72000.0|Engineering|234-567-8901|\n",
            "+-------------+---+-------+-----------+------------+\n",
            "\n"
          ]
        }
      ]
    },
    {
      "cell_type": "markdown",
      "source": [
        "### 3. Listing All Columns in a DataFrame\n",
        "To get a list of all the column names:\n",
        "\n",
        "\n",
        "\n"
      ],
      "metadata": {
        "id": "JyaXd5LJw0s1"
      }
    },
    {
      "cell_type": "code",
      "source": [
        "#Get all column name\n",
        "df.columns\n",
        "\n",
        "\n"
      ],
      "metadata": {
        "id": "7NKKcmeMxCQr",
        "colab": {
          "base_uri": "https://localhost:8080/"
        },
        "outputId": "413c1906-00fe-41c4-9710-3d2ff3c3b75f"
      },
      "execution_count": 13,
      "outputs": [
        {
          "output_type": "execute_result",
          "data": {
            "text/plain": [
              "['ID',\n",
              " 'Name',\n",
              " 'Age',\n",
              " 'Salary',\n",
              " 'Joining_Date',\n",
              " 'Department',\n",
              " 'Performance_Rating',\n",
              " 'Email',\n",
              " 'Address',\n",
              " 'Phone']"
            ]
          },
          "metadata": {},
          "execution_count": 13
        }
      ]
    },
    {
      "cell_type": "markdown",
      "source": [
        "### 4.Renaming Columns with alias()\n",
        "Rename columns using the alias() method:"
      ],
      "metadata": {
        "id": "ntr5NN8LyBFF"
      }
    },
    {
      "cell_type": "code",
      "source": [
        "df.select(\n",
        "    col(\"Name\").alias(\"EmployeeName\"), #Rename \"Name\" to \"EmployeeName\"\n",
        "    col(\"Salary\").alias(\"EmployeeSalary\"), # Rename \"Salary\" to \"EmployeeSalary\"\n",
        "    column(\"Department\"), #Select \"Department\"\n",
        "    df.Joining_Date #Select \"Joining_Date\"\n",
        "    ).show()"
      ],
      "metadata": {
        "id": "KP77RSV2xWm0",
        "colab": {
          "base_uri": "https://localhost:8080/"
        },
        "outputId": "6631ce0b-14bb-4708-d61d-300e136313a7"
      },
      "execution_count": 14,
      "outputs": [
        {
          "output_type": "stream",
          "name": "stdout",
          "text": [
            "+-------------+--------------+-----------+------------+\n",
            "| EmployeeName|EmployeeSalary| Department|Joining_Date|\n",
            "+-------------+--------------+-----------+------------+\n",
            "|Alice Johnson|       75000.0|Engineering|  2021-03-15|\n",
            "|    Bob Smith|       85000.0|  Marketing|  2020-08-20|\n",
            "|  Cathy Brown|       95000.0|    Finance|  2019-11-10|\n",
            "|  David White|       67000.0|         HR|  2022-01-05|\n",
            "|    Eva Green|       72000.0|Engineering|  2023-06-22|\n",
            "+-------------+--------------+-----------+------------+\n",
            "\n"
          ]
        }
      ]
    },
    {
      "cell_type": "markdown",
      "source": [
        "### 5. Using selectExpr() for Concise Column Selection\n",
        "selectExpr() allows you to use SQL expressions directly and rename columns concisely\n"
      ],
      "metadata": {
        "id": "nazXcvJe0zhx"
      }
    },
    {
      "cell_type": "code",
      "source": [
        "df.selectExpr(\"Name as EmployeeName\", \"Salary as EmployeeSalary\", \"Department\").show()"
      ],
      "metadata": {
        "colab": {
          "base_uri": "https://localhost:8080/"
        },
        "id": "T_Rk5dLt0iav",
        "outputId": "4de4e253-45fe-46c4-d526-0a4da4cf5a60"
      },
      "execution_count": 15,
      "outputs": [
        {
          "output_type": "stream",
          "name": "stdout",
          "text": [
            "+-------------+--------------+-----------+\n",
            "| EmployeeName|EmployeeSalary| Department|\n",
            "+-------------+--------------+-----------+\n",
            "|Alice Johnson|       75000.0|Engineering|\n",
            "|    Bob Smith|       85000.0|  Marketing|\n",
            "|  Cathy Brown|       95000.0|    Finance|\n",
            "|  David White|       67000.0|         HR|\n",
            "|    Eva Green|       72000.0|Engineering|\n",
            "+-------------+--------------+-----------+\n",
            "\n"
          ]
        }
      ]
    },
    {
      "cell_type": "markdown",
      "source": [
        "\n",
        "* Use col(), column(), or string names to select columns.\n",
        "* Use expr() and selectExpr() for SQL-like expressions and renaming.\n",
        "* Use alias() to rename columns.\n",
        "* Get the list of columns using df.columns\n",
        "\n"
      ],
      "metadata": {
        "id": "owO6QHrZ1NuL"
      }
    },
    {
      "cell_type": "code",
      "source": [],
      "metadata": {
        "id": "3PRf7NlW1bEm"
      },
      "execution_count": null,
      "outputs": []
    }
  ]
}