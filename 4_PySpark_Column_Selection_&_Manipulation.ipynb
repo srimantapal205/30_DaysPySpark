{
  "nbformat": 4,
  "nbformat_minor": 0,
  "metadata": {
    "colab": {
      "provenance": [],
      "authorship_tag": "ABX9TyNIm+8S1X5urCi8eGjW75mm"
    },
    "kernelspec": {
      "name": "python3",
      "display_name": "Python 3"
    },
    "language_info": {
      "name": "python"
    }
  },
  "cells": [
    {
      "cell_type": "code",
      "source": [
        "from pyspark.sql import SparkSession\n",
        "from pyspark.sql.types import *\n",
        "from pyspark.sql.functions import *  # Import the function\n",
        "spark = SparkSession.builder.getOrCreate()\n",
        "\n",
        "from google.colab import drive\n",
        "\n",
        "# Mount Google Drive with a longer timeout\n",
        "drive.mount('/content/drive', force_remount=True, timeout_ms=300000)\n"
      ],
      "metadata": {
        "colab": {
          "base_uri": "https://localhost:8080/"
        },
        "id": "SuzJ7ohStbqX",
        "outputId": "25a6123b-9ca2-4fa0-c9dd-09d4f679a2a9"
      },
      "execution_count": 3,
      "outputs": [
        {
          "output_type": "stream",
          "name": "stdout",
          "text": [
            "Mounted at /content/drive\n"
          ]
        }
      ]
    },
    {
      "cell_type": "code",
      "source": [
        "df_employee_data = \"/content/drive/MyDrive/Colab Notebooks/dataSet/employee_data.csv\"\n",
        "employeeSechema = StructType([\n",
        "    StructField(\"ID\",IntegerType() ,True),\n",
        "    StructField(\"Name\",StringType() ,True),\n",
        "    StructField(\"Age\",IntegerType() ,True),\n",
        "    StructField(\"Salary\",FloatType() ,True),\n",
        "    StructField(\"Joining_Date\",DateType() ,True),\n",
        "    StructField(\"Department\",StringType() ,True),\n",
        "    StructField(\"Performance_Rating\",IntegerType() ,True),\n",
        "    StructField(\"Email\",StringType() ,True),\n",
        "    StructField(\"Address\",StringType() ,True),\n",
        "    StructField(\"Phone\",StringType() ,True)\n",
        "\n",
        "])\n",
        "# Load the DataFrame with the defined schema\n",
        "#df = spark.read.csv(path=df_employee_data, header=True, schema=employeeSechema)\n",
        "df = spark.read.load(path=\"/content/drive/MyDrive/Colab Notebooks/dataSet/employee_data.csv\", format=\"csv\", header = True, schema=employeeSechema)\n",
        "df.printSchema()\n",
        "df.show()"
      ],
      "metadata": {
        "colab": {
          "base_uri": "https://localhost:8080/"
        },
        "id": "iZjXkJdltxjV",
        "outputId": "36b436ad-2d9d-46fa-cff9-6b525cbf6605"
      },
      "execution_count": 4,
      "outputs": [
        {
          "output_type": "stream",
          "name": "stdout",
          "text": [
            "root\n",
            " |-- ID: integer (nullable = true)\n",
            " |-- Name: string (nullable = true)\n",
            " |-- Age: integer (nullable = true)\n",
            " |-- Salary: float (nullable = true)\n",
            " |-- Joining_Date: date (nullable = true)\n",
            " |-- Department: string (nullable = true)\n",
            " |-- Performance_Rating: integer (nullable = true)\n",
            " |-- Email: string (nullable = true)\n",
            " |-- Address: string (nullable = true)\n",
            " |-- Phone: string (nullable = true)\n",
            "\n",
            "+---+-------------+---+-------+------------+-----------+------------------+--------------------+------------------+------------+\n",
            "| ID|         Name|Age| Salary|Joining_Date| Department|Performance_Rating|               Email|           Address|       Phone|\n",
            "+---+-------------+---+-------+------------+-----------+------------------+--------------------+------------------+------------+\n",
            "|  1|Alice Johnson| 29|75000.0|  2021-03-15|Engineering|                 4|alice.johnson@exa...|123 Elm Street, NY|123-456-7890|\n",
            "|  2|    Bob Smith| 35|85000.0|  2020-08-20|  Marketing|                 5|bob.smith@example...|456 Oak Avenue, LA|987-654-3210|\n",
            "|  3|  Cathy Brown| 42|95000.0|  2019-11-10|    Finance|                 3|cathy.brown@examp...| 789 Pine Road, TX|567-890-1234|\n",
            "|  4|  David White| 30|67000.0|  2022-01-05|         HR|                 4|david.white@examp...|234 Maple Lane, IL|345-678-9012|\n",
            "|  5|    Eva Green| 28|72000.0|  2023-06-22|Engineering|                 5|eva.green@example...|321 Birch Blvd, FL|234-567-8901|\n",
            "+---+-------------+---+-------+------------+-----------+------------------+--------------------+------------------+------------+\n",
            "\n"
          ]
        }
      ]
    },
    {
      "cell_type": "markdown",
      "source": [
        "###  1. Different Methods to Select Columns\n",
        "In PySpark, you can select specific columns in multiple ways:\n",
        "\n",
        "*   Using col() function/ column() / string way\n",
        "\n",
        "\n"
      ],
      "metadata": {
        "id": "KlFPAFOct6_H"
      }
    },
    {
      "cell_type": "code",
      "execution_count": 5,
      "metadata": {
        "colab": {
          "base_uri": "https://localhost:8080/"
        },
        "id": "dE3ZxUwms-sS",
        "outputId": "3e5621a2-ac9b-4152-9188-542aaaea78f7"
      },
      "outputs": [
        {
          "output_type": "stream",
          "name": "stdout",
          "text": [
            "+-------------+\n",
            "|         Name|\n",
            "+-------------+\n",
            "|Alice Johnson|\n",
            "|    Bob Smith|\n",
            "|  Cathy Brown|\n",
            "|  David White|\n",
            "|    Eva Green|\n",
            "+-------------+\n",
            "\n",
            "+---+\n",
            "|Age|\n",
            "+---+\n",
            "| 29|\n",
            "| 35|\n",
            "| 42|\n",
            "| 30|\n",
            "| 28|\n",
            "+---+\n",
            "\n",
            "+-------+\n",
            "| Salary|\n",
            "+-------+\n",
            "|75000.0|\n",
            "|85000.0|\n",
            "|95000.0|\n",
            "|67000.0|\n",
            "|72000.0|\n",
            "+-------+\n",
            "\n"
          ]
        }
      ],
      "source": [
        "# Using col() function\n",
        "df.select(col(\"Name\")).show()\n",
        "# Using column() function\n",
        "df.select(column(\"Age\")).show()\n",
        "# Directly using string name\n",
        "df.select(\"Salary\").show()"
      ]
    },
    {
      "cell_type": "markdown",
      "source": [
        "### 2. Selecting Multiple Columns Together\n",
        "Combine different methods to select multiple columns:"
      ],
      "metadata": {
        "id": "AopqQabNvf1E"
      }
    },
    {
      "cell_type": "code",
      "source": [
        "# Multiple column\n",
        "df2 = df.select(\"Name\", \"Age\", col(\"Salary\"), column(\"Department\"), df.Phone)\n",
        "df2.show()"
      ],
      "metadata": {
        "id": "E65agXHdvfl3",
        "outputId": "b77ecc25-681c-44c4-c70e-5457c9ada278",
        "colab": {
          "base_uri": "https://localhost:8080/"
        }
      },
      "execution_count": 8,
      "outputs": [
        {
          "output_type": "stream",
          "name": "stdout",
          "text": [
            "+-------------+---+-------+-----------+------------+\n",
            "|         Name|Age| Salary| Department|       Phone|\n",
            "+-------------+---+-------+-----------+------------+\n",
            "|Alice Johnson| 29|75000.0|Engineering|123-456-7890|\n",
            "|    Bob Smith| 35|85000.0|  Marketing|987-654-3210|\n",
            "|  Cathy Brown| 42|95000.0|    Finance|567-890-1234|\n",
            "|  David White| 30|67000.0|         HR|345-678-9012|\n",
            "|    Eva Green| 28|72000.0|Engineering|234-567-8901|\n",
            "+-------------+---+-------+-----------+------------+\n",
            "\n"
          ]
        }
      ]
    },
    {
      "cell_type": "code",
      "source": [],
      "metadata": {
        "id": "b8qleznPvD_u"
      },
      "execution_count": null,
      "outputs": []
    },
    {
      "cell_type": "markdown",
      "source": [
        "### 3. Listing All Columns in a DataFrame\n",
        "To get a list of all the column names:\n",
        "\n",
        "\n",
        "\n"
      ],
      "metadata": {
        "id": "JyaXd5LJw0s1"
      }
    },
    {
      "cell_type": "code",
      "source": [
        "#Get all column name\n",
        "df.columns\n",
        "\n",
        "\n"
      ],
      "metadata": {
        "id": "7NKKcmeMxCQr"
      },
      "execution_count": null,
      "outputs": []
    },
    {
      "cell_type": "code",
      "source": [],
      "metadata": {
        "id": "KP77RSV2xWm0"
      },
      "execution_count": null,
      "outputs": []
    }
  ]
}