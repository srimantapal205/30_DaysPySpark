{
  "cells": [
    {
      "cell_type": "code",
      "execution_count": 1,
      "metadata": {
        "id": "K9R9pyy1gU2Z"
      },
      "outputs": [],
      "source": [
        "from pyspark.sql import SparkSession\n",
        "from pyspark.sql.types import *\n",
        "from pyspark.sql.functions import *  # Import the function\n",
        "spark = SparkSession.builder.getOrCreate()\n",
        "from pyspark.sql.functions import regexp_replace, col\n",
        "from google.colab import drive\n",
        "\n",
        "# Mount Google Drive with a longer timeout\n",
        "# drive.mount('/content/drive', force_remount=True, timeout_ms=300000)\n",
        "\n",
        "# df_employee_data = \"/content/drive/MyDrive/Colab Notebooks/dataSet/employee_data.csv\"\n",
        "# employeeSechema = StructType([\n",
        "#     StructField(\"ID\",IntegerType() ,True),\n",
        "#     StructField(\"Name\",StringType() ,True),\n",
        "#     StructField(\"Age\",IntegerType() ,True),\n",
        "#     StructField(\"Salary\",FloatType() ,True),\n",
        "#     StructField(\"Joining_Date\",DateType() ,True),\n",
        "#     StructField(\"Department\",StringType() ,True),\n",
        "#     StructField(\"Performance_Rating\",IntegerType() ,True),\n",
        "#     StructField(\"Email\",StringType() ,True),\n",
        "#     StructField(\"Address\",StringType() ,True),\n",
        "#     StructField(\"Phone\",StringType() ,True)\n",
        "\n",
        "# ])\n",
        "# # Load the DataFrame with the defined schema\n",
        "# #df = spark.read.csv(path=df_employee_data, header=True, schema=employeeSechema)\n",
        "# df = spark.read.load(path=\"/content/drive/MyDrive/Colab Notebooks/dataSet/employee_data.csv\", format=\"csv\", header = True, schema=employeeSechema)\n",
        "# df.printSchema()\n",
        "# df.show(50)"
      ]
    },
    {
      "cell_type": "markdown",
      "metadata": {
        "id": "slPrPwBoPLnS"
      },
      "source": [
        "### Create NewSpark Session"
      ]
    },
    {
      "cell_type": "code",
      "execution_count": null,
      "metadata": {
        "id": "sJFEDlSfPLF7"
      },
      "outputs": [],
      "source": [
        "spark = SparkSession.builder.appName('StrongAndStringFunction').getOrCreate()"
      ]
    },
    {
      "cell_type": "code",
      "execution_count": 7,
      "metadata": {
        "colab": {
          "base_uri": "https://localhost:8080/"
        },
        "id": "1G9UJ2eoPzjZ",
        "outputId": "c66d6823-d791-4421-9711-e59b256b5b61"
      },
      "outputs": [
        {
          "output_type": "stream",
          "name": "stdout",
          "text": [
            "+----------+--------+----------+\n",
            "|EmployeeID|Name    |Department|\n",
            "+----------+--------+----------+\n",
            "|1         | Alice  |HR        |\n",
            "|2         | Bob    |IT        |\n",
            "|3         |Charlie |Finance   |\n",
            "|4         | David  |HR        |\n",
            "|5         |Eve     |IT        |\n",
            "+----------+--------+----------+\n",
            "\n"
          ]
        }
      ],
      "source": [
        "#Sample Data\n",
        "data = [\n",
        "\n",
        "        (1, \" Alice \", \"HR\"),\n",
        "        (2, \" Bob\", \"IT\"),\n",
        "        (3, \"Charlie \", \"Finance\"),\n",
        "        (4, \" David \", \"HR\"),\n",
        "        (5, \"Eve \", \"IT\")\n",
        " ]\n",
        "\n",
        "# Define Schema\n",
        "columns = [\"EmployeeID\", \"Name\", \"Department\"]\n",
        "\n",
        "#Create Dataframe\n",
        "df = spark.createDataFrame(data=data, schema=columns)\n",
        "\n",
        "# Display Orifinal Data Frame\n",
        "df.show(truncate=False)\n",
        "\n"
      ]
    },
    {
      "cell_type": "markdown",
      "metadata": {
        "id": "uWnqJmsuRbrU"
      },
      "source": [
        "## Applying Trimming and Padding Functions\n",
        "1. ltrim(), rtrim(), and trim():\n",
        "\n",
        "  * ltrim(): Removes leading spaces.\n",
        "  * rtrim(): Removes trailing spaces.\n",
        "  * trim(): Removes both leading and trailing spaces.\n",
        "\n",
        "2. lpad() and rpad():\n",
        "\n",
        "  * lpad(): Pads the left side of a string with a specified character up to a certain length.\n",
        "  * rpad(): Pads the right side of a string with a specified character up to a certain length."
      ]
    },
    {
      "cell_type": "code",
      "source": [
        "from os import truncate\n",
        "# Apply trimming and padding functions\n",
        "\n",
        "max_length = df.select(max(length(col(\"Name\")))).collect()[0][0]\n",
        "result_df = df.select(\n",
        "  col(\"EmployeeID\"),\n",
        "  col(\"Department\"),\n",
        "  ltrim(col(\"Name\")).alias(\"ltrim_name\"), # Remove leading space\n",
        "  rtrim(col(\"Name\")).alias(\"rtrim_name\"), # Remove traling spaces\n",
        "  trim(col(\"Name\")).alias(\"trim_name\"), # Remove both leading and trailing spaces\n",
        "  lpad(col(\"Name\"), 10, \"X\").alias(\"lpad_name\"), #left pad with X to make the string length 10\n",
        "  rpad(col(\"Name\"), 10, \"Y\").alias(\"rpad_name\"), #Right pad with Y to make the string length 10\n",
        "  rpad(col(\"Name\"), max_length, \"_\").alias(\"rpad_name\") # Right pad to max length in column dynamically\n",
        ")\n",
        "\n",
        "result_df.show(truncate=False)\n"
      ],
      "metadata": {
        "id": "f3862LYchkZd",
        "outputId": "2ee8959d-78c0-49f0-81db-13b1bc779f12",
        "colab": {
          "base_uri": "https://localhost:8080/"
        }
      },
      "execution_count": 16,
      "outputs": [
        {
          "output_type": "stream",
          "name": "stdout",
          "text": [
            "+----------+----------+----------+----------+---------+----------+----------+---------+\n",
            "|EmployeeID|Department|ltrim_name|rtrim_name|trim_name|lpad_name |rpad_name |rpad_name|\n",
            "+----------+----------+----------+----------+---------+----------+----------+---------+\n",
            "|1         |HR        |Alice     | Alice    |Alice    |XXX Alice | Alice YYY| Alice _ |\n",
            "|2         |IT        |Bob       | Bob      |Bob      |XXXXXX Bob| BobYYYYYY| Bob____ |\n",
            "|3         |Finance   |Charlie   |Charlie   |Charlie  |XXCharlie |Charlie YY|Charlie  |\n",
            "|4         |HR        |David     | David    |David    |XXX David | David YYY| David _ |\n",
            "|5         |IT        |Eve       |Eve       |Eve      |XXXXXXEve |Eve YYYYYY|Eve ____ |\n",
            "+----------+----------+----------+----------+---------+----------+----------+---------+\n",
            "\n"
          ]
        }
      ]
    },
    {
      "cell_type": "markdown",
      "source": [
        "###Output Explanation:\n",
        "* ltrim_Name: The leading spaces from the Name column are removed.\n",
        "* rtrim_Name: The trailing spaces from the Name column are removed.\n",
        "* trim_Name: Both leading and trailing spaces are removed from the Name column.\n",
        "* lpad_Name: The Name column is padded on the left with \"X\" until the string length becomes 10.\n",
        "* rpad_Name: The Name column is padded on the right with \"Y\" until the string length becomes 10."
      ],
      "metadata": {
        "id": "BmBQLbZpmWRh"
      }
    },
    {
      "cell_type": "code",
      "source": [],
      "metadata": {
        "id": "cUwPejpvmfqU"
      },
      "execution_count": null,
      "outputs": []
    }
  ],
  "metadata": {
    "colab": {
      "provenance": []
    },
    "kernelspec": {
      "display_name": "Python 3",
      "name": "python3"
    },
    "language_info": {
      "name": "python"
    }
  },
  "nbformat": 4,
  "nbformat_minor": 0
}