{
  "cells": [
    {
      "cell_type": "code",
      "execution_count": 13,
      "metadata": {
        "id": "gQ_M2xV1VR0F"
      },
      "outputs": [],
      "source": [
        "from pyspark.sql import SparkSession\n",
        "from pyspark.sql.types import *\n",
        "from pyspark.sql.functions import *  # Import the function\n",
        "spark = SparkSession.builder.getOrCreate()\n",
        "from pyspark.sql.functions import regexp_replace, col\n",
        "from google.colab import drive\n",
        "from os import *\n",
        "\n",
        "# Mount Google Drive with a longer timeout\n",
        "# drive.mount('/content/drive', force_remount=True, timeout_ms=300000)\n",
        "\n",
        "# df_employee_data = \"/content/drive/MyDrive/Colab Notebooks/dataSet/employee_data.csv\"\n",
        "# employeeSechema = StructType([\n",
        "#     StructField(\"ID\",IntegerType() ,True),\n",
        "#     StructField(\"Name\",StringType() ,True),\n",
        "#     StructField(\"Age\",IntegerType() ,True),\n",
        "#     StructField(\"Salary\",FloatType() ,True),\n",
        "#     StructField(\"Joining_Date\",DateType() ,True),\n",
        "#     StructField(\"Department\",StringType() ,True),\n",
        "#     StructField(\"Performance_Rating\",IntegerType() ,True),\n",
        "#     StructField(\"Email\",StringType() ,True),\n",
        "#     StructField(\"Address\",StringType() ,True),\n",
        "#     StructField(\"Phone\",StringType() ,True)\n",
        "\n",
        "# ])\n",
        "# # Load the DataFrame with the defined schema\n",
        "# #df = spark.read.csv(path=df_employee_data, header=True, schema=employeeSechema)\n",
        "# df = spark.read.load(path=\"/content/drive/MyDrive/Colab Notebooks/dataSet/employee_data.csv\", format=\"csv\", header = True, schema=employeeSechema)\n",
        "# df.printSchema()\n",
        "# df.show(50)"
      ]
    },
    {
      "cell_type": "markdown",
      "metadata": {
        "id": "slPrPwBoPLnS"
      },
      "source": [
        "### Create NewSpark Session"
      ]
    },
    {
      "cell_type": "code",
      "execution_count": 14,
      "metadata": {
        "id": "sJFEDlSfPLF7"
      },
      "outputs": [],
      "source": [
        "spark = SparkSession.builder.appName('StrongAndStringFunction').getOrCreate()"
      ]
    },
    {
      "cell_type": "code",
      "execution_count": 15,
      "metadata": {
        "colab": {
          "base_uri": "https://localhost:8080/"
        },
        "id": "1G9UJ2eoPzjZ",
        "outputId": "3b57d569-73d5-4f4f-82a1-7fa67e62774e"
      },
      "outputs": [
        {
          "output_type": "stream",
          "name": "stdout",
          "text": [
            "+----------+-------+----------+------------------------+\n",
            "|EmployeeID|Name   |Department|Skills                  |\n",
            "+----------+-------+----------+------------------------+\n",
            "|1         |Alice  |HR        |Communication Management|\n",
            "|2         |Bob    |IT        |Programming Networking  |\n",
            "|3         |Charlie|Finance   |Accounting Analysis     |\n",
            "|4         |David  |HR        |Recruiting Communication|\n",
            "|5         |Eve    |IT        |Cloud DevOps            |\n",
            "+----------+-------+----------+------------------------+\n",
            "\n"
          ]
        }
      ],
      "source": [
        "#Sample Data\n",
        "data = [\n",
        "\n",
        "        (1, \"Alice\", \"HR\", \"Communication Management\"),\n",
        "        (2, \"Bob\", \"IT\", \"Programming Networking\"),\n",
        "        (3, \"Charlie\", \"Finance\", \"Accounting Analysis\"),\n",
        "        (4, \"David\", \"HR\", \"Recruiting Communication\"),\n",
        "        (5, \"Eve\", \"IT\", \"Cloud DevOps\")\n",
        " ]\n",
        "\n",
        "# Define Schema\n",
        "columns = [\"EmployeeID\", \"Name\", \"Department\", \"Skills\"]\n",
        "\n",
        "#Create Dataframe\n",
        "df = spark.createDataFrame(data=data, schema=columns)\n",
        "\n",
        "# Display Orifinal Data Frame\n",
        "df.show(truncate=False)\n",
        "\n"
      ]
    },
    {
      "cell_type": "markdown",
      "metadata": {
        "id": "uWnqJmsuRbrU"
      },
      "source": [
        "## 1. Split the \"Skills\" column:"
      ]
    },
    {
      "cell_type": "code",
      "source": [
        "#Split the \"skills\" column and alise it skills_ARRAY\n",
        "df2 =df.select(col(\"EmployeeID\"), col(\"Name\"), split(col(\"Skills\"), \" \").alias(\"skills_Array\"))\n",
        "df2.show(truncate=False)\n",
        "\n",
        "#Note: This splits the Skills column into an array of skills based on the space separator. The alias(\"Skills_Array\") gives the resulting array a meaningful name."
      ],
      "metadata": {
        "id": "VFpMYAv5V_s5",
        "outputId": "6fcce4a6-b50e-43bb-d782-b21f845053f1",
        "colab": {
          "base_uri": "https://localhost:8080/"
        }
      },
      "execution_count": 26,
      "outputs": [
        {
          "output_type": "stream",
          "name": "stdout",
          "text": [
            "+----------+-------+---------------------------+\n",
            "|EmployeeID|Name   |skills_Array               |\n",
            "+----------+-------+---------------------------+\n",
            "|1         |Alice  |[Communication, Management]|\n",
            "|2         |Bob    |[Programming, Networking]  |\n",
            "|3         |Charlie|[Accounting, Analysis]     |\n",
            "|4         |David  |[Recruiting, Communication]|\n",
            "|5         |Eve    |[Cloud, DevOps]            |\n",
            "+----------+-------+---------------------------+\n",
            "\n"
          ]
        }
      ]
    },
    {
      "cell_type": "markdown",
      "source": [
        "## 2. Select the first skill from the \"Skills_Array\":"
      ],
      "metadata": {
        "id": "aj64mGDbZWyX"
      }
    },
    {
      "cell_type": "code",
      "source": [
        "df2.select(col(\"EmployeeID\"),col(\"Name\"),col(\"skills_Array\")[0].alias(\"first_skill\")).show()\n",
        "\n",
        "#Note: The array index starts from 0, so Skills_Array[0] gives the first skill for each employee"
      ],
      "metadata": {
        "id": "RnU30DKtZatk",
        "outputId": "0058fe2c-61d4-4066-d7d4-bbee4b530181",
        "colab": {
          "base_uri": "https://localhost:8080/"
        }
      },
      "execution_count": 27,
      "outputs": [
        {
          "output_type": "stream",
          "name": "stdout",
          "text": [
            "+----------+-------+-------------+\n",
            "|EmployeeID|   Name|  first_skill|\n",
            "+----------+-------+-------------+\n",
            "|         1|  Alice|Communication|\n",
            "|         2|    Bob|  Programming|\n",
            "|         3|Charlie|   Accounting|\n",
            "|         4|  David|   Recruiting|\n",
            "|         5|    Eve|        Cloud|\n",
            "+----------+-------+-------------+\n",
            "\n"
          ]
        }
      ]
    },
    {
      "cell_type": "markdown",
      "source": [
        "## 3. Calculate the size of the \"Skills_Array\":"
      ],
      "metadata": {
        "id": "x3gf3sgvaOiX"
      }
    },
    {
      "cell_type": "code",
      "source": [
        "df2.select(col('EmployeeID'), col('Name'), size('skills_Array').alias('Size_of_Array')).show()"
      ],
      "metadata": {
        "id": "hkjcb_w7aN19",
        "outputId": "97a8e39b-68fc-4756-ecf1-0f9544c3f096",
        "colab": {
          "base_uri": "https://localhost:8080/"
        }
      },
      "execution_count": 28,
      "outputs": [
        {
          "output_type": "stream",
          "name": "stdout",
          "text": [
            "+----------+-------+-------------+\n",
            "|EmployeeID|   Name|Size_of_Array|\n",
            "+----------+-------+-------------+\n",
            "|         1|  Alice|            2|\n",
            "|         2|    Bob|            2|\n",
            "|         3|Charlie|            2|\n",
            "|         4|  David|            2|\n",
            "|         5|    Eve|            2|\n",
            "+----------+-------+-------------+\n",
            "\n"
          ]
        }
      ]
    },
    {
      "cell_type": "markdown",
      "source": [
        "## 4. Check if the array contains a specific skill:"
      ],
      "metadata": {
        "id": "sZU8owLTax-7"
      }
    },
    {
      "cell_type": "code",
      "source": [
        "#Check if the \"skill_array\" the skill \"cloud\"\n",
        "\n",
        "df.select(\n",
        "    col(\"EmployeeID\"),\n",
        "    col(\"Name\"),\n",
        "    array_contains(\n",
        "        split(col(\"Skills\"),\" \"),\"Cloud\").alias(\"Has_cloud_skill\")\n",
        "    ).show(truncate=False)\n",
        "\n",
        "#Note: This returns a boolean indicating whether the array contains the specified skill, \"Cloud\", for each employee."
      ],
      "metadata": {
        "id": "avvnUFhba0L5",
        "outputId": "59cbe22c-1a24-472c-e8b4-d6eca2832980",
        "colab": {
          "base_uri": "https://localhost:8080/"
        }
      },
      "execution_count": 29,
      "outputs": [
        {
          "output_type": "stream",
          "name": "stdout",
          "text": [
            "+----------+-------+---------------+\n",
            "|EmployeeID|Name   |Has_cloud_skill|\n",
            "+----------+-------+---------------+\n",
            "|1         |Alice  |false          |\n",
            "|2         |Bob    |false          |\n",
            "|3         |Charlie|false          |\n",
            "|4         |David  |false          |\n",
            "|5         |Eve    |true           |\n",
            "+----------+-------+---------------+\n",
            "\n"
          ]
        }
      ]
    },
    {
      "cell_type": "markdown",
      "source": [
        "## Use the explode function to transform array elements into individual rows:"
      ],
      "metadata": {
        "id": "6Yd-cLesd111"
      }
    },
    {
      "cell_type": "code",
      "source": [
        "df3 = df2.withColumn(\"Skills\", explode(col(\"skills_Array\")))\n",
        "df3.select(\"EmployeeID\", \"Name\", \"Skills\").show(truncate= False)\n",
        "\n",
        "#Note: The explode() function takes an array column and creates a new row for each element of the array. Here, each employee will have multiple rows, one for each skill."
      ],
      "metadata": {
        "id": "EIhBhCgrd5Fs",
        "outputId": "77aa47e6-56bd-44fa-dd5d-ec3d26c01297",
        "colab": {
          "base_uri": "https://localhost:8080/"
        }
      },
      "execution_count": 30,
      "outputs": [
        {
          "output_type": "stream",
          "name": "stdout",
          "text": [
            "+----------+-------+-------------+\n",
            "|EmployeeID|Name   |Skills       |\n",
            "+----------+-------+-------------+\n",
            "|1         |Alice  |Communication|\n",
            "|1         |Alice  |Management   |\n",
            "|2         |Bob    |Programming  |\n",
            "|2         |Bob    |Networking   |\n",
            "|3         |Charlie|Accounting   |\n",
            "|3         |Charlie|Analysis     |\n",
            "|4         |David  |Recruiting   |\n",
            "|4         |David  |Communication|\n",
            "|5         |Eve    |Cloud        |\n",
            "|5         |Eve    |DevOps       |\n",
            "+----------+-------+-------------+\n",
            "\n"
          ]
        }
      ]
    },
    {
      "cell_type": "code",
      "source": [],
      "metadata": {
        "id": "G3B8DXnaegzk"
      },
      "execution_count": null,
      "outputs": []
    }
  ],
  "metadata": {
    "colab": {
      "provenance": []
    },
    "kernelspec": {
      "display_name": "Python 3",
      "name": "python3"
    },
    "language_info": {
      "name": "python"
    }
  },
  "nbformat": 4,
  "nbformat_minor": 0
}