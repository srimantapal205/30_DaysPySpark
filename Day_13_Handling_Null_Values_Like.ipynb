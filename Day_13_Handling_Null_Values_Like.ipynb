{
  "cells": [
    {
      "cell_type": "code",
      "execution_count": 1,
      "metadata": {
        "id": "K9R9pyy1gU2Z"
      },
      "outputs": [],
      "source": [
        "from pyspark.sql import SparkSession\n",
        "from pyspark.sql.types import *\n",
        "from pyspark.sql.functions import *  # Import the function\n",
        "spark = SparkSession.builder.getOrCreate()\n",
        "from pyspark.sql.functions import regexp_replace, col\n",
        "from google.colab import drive\n",
        "\n",
        "# Mount Google Drive with a longer timeout\n",
        "# drive.mount('/content/drive', force_remount=True, timeout_ms=300000)\n",
        "\n",
        "# df_employee_data = \"/content/drive/MyDrive/Colab Notebooks/dataSet/employee_data.csv\"\n",
        "# employeeSechema = StructType([\n",
        "#     StructField(\"ID\",IntegerType() ,True),\n",
        "#     StructField(\"Name\",StringType() ,True),\n",
        "#     StructField(\"Age\",IntegerType() ,True),\n",
        "#     StructField(\"Salary\",FloatType() ,True),\n",
        "#     StructField(\"Joining_Date\",DateType() ,True),\n",
        "#     StructField(\"Department\",StringType() ,True),\n",
        "#     StructField(\"Performance_Rating\",IntegerType() ,True),\n",
        "#     StructField(\"Email\",StringType() ,True),\n",
        "#     StructField(\"Address\",StringType() ,True),\n",
        "#     StructField(\"Phone\",StringType() ,True)\n",
        "\n",
        "# ])\n",
        "# # Load the DataFrame with the defined schema\n",
        "# #df = spark.read.csv(path=df_employee_data, header=True, schema=employeeSechema)\n",
        "# df = spark.read.load(path=\"/content/drive/MyDrive/Colab Notebooks/dataSet/employee_data.csv\", format=\"csv\", header = True, schema=employeeSechema)\n",
        "# df.printSchema()\n",
        "# df.show(50)"
      ]
    },
    {
      "cell_type": "markdown",
      "source": [
        "## Null Handling in Dataframe"
      ],
      "metadata": {
        "id": "knP5wytcsBpZ"
      }
    },
    {
      "cell_type": "code",
      "source": [
        "# Sample data: sales data with nulls\n",
        "data = [\n",
        "      (\"John\", \"North\", 100, None),\n",
        "      (\"Doe\", \"East\", None, 50),\n",
        "      (None, \"West\", 150, 30),\n",
        "      (\"Alice\", None, 200, 40),\n",
        "      (\"Bob\", \"South\", None, None),\n",
        "      (None, None, None, None)\n",
        "  ]\n",
        "columns = [\"Name\", \"Region\", \"UnitsSold\", \"Revenue\"]\n",
        "# Create DataFrame\n",
        "df = spark.createDataFrame(data, columns)\n",
        "df.show()\n",
        "\n"
      ],
      "metadata": {
        "id": "IFVtqhI2sDrR",
        "outputId": "b5b654d0-3615-41e7-bf5b-6c08ddf4c116",
        "colab": {
          "base_uri": "https://localhost:8080/"
        }
      },
      "execution_count": 2,
      "outputs": [
        {
          "output_type": "stream",
          "name": "stdout",
          "text": [
            "+-----+------+---------+-------+\n",
            "| Name|Region|UnitsSold|Revenue|\n",
            "+-----+------+---------+-------+\n",
            "| John| North|      100|   NULL|\n",
            "|  Doe|  East|     NULL|     50|\n",
            "| NULL|  West|      150|     30|\n",
            "|Alice|  NULL|      200|     40|\n",
            "|  Bob| South|     NULL|   NULL|\n",
            "| NULL|  NULL|     NULL|   NULL|\n",
            "+-----+------+---------+-------+\n",
            "\n"
          ]
        }
      ]
    },
    {
      "cell_type": "markdown",
      "source": [
        "### 1. Detecting Null Values:\n",
        "* The isNull() function identifies rows where a specified column has null values. The output shows a boolean flag for each row to indicate whether the value in the column is null."
      ],
      "metadata": {
        "id": "KYx6hsEYskB2"
      }
    },
    {
      "cell_type": "code",
      "source": [
        "# Detecting Null Values in the \"Region\" column\n",
        "df.select(\"Name\", \"Region\", isnull(\"Region\").alias(\"is_Region_Null\")).show()"
      ],
      "metadata": {
        "id": "Axp49XOkspfE",
        "outputId": "a5eef019-3e56-41ff-9f34-07fc06aa351c",
        "colab": {
          "base_uri": "https://localhost:8080/"
        }
      },
      "execution_count": 3,
      "outputs": [
        {
          "output_type": "stream",
          "name": "stdout",
          "text": [
            "+-----+------+--------------+\n",
            "| Name|Region|is_Region_Null|\n",
            "+-----+------+--------------+\n",
            "| John| North|         false|\n",
            "|  Doe|  East|         false|\n",
            "| NULL|  West|         false|\n",
            "|Alice|  NULL|          true|\n",
            "|  Bob| South|         false|\n",
            "| NULL|  NULL|          true|\n",
            "+-----+------+--------------+\n",
            "\n"
          ]
        }
      ]
    },
    {
      "cell_type": "markdown",
      "source": [
        "### 2. Dropping Rows with Null Values:\n",
        "* dropna() removes rows that contain null values in any column when the default mode is used.\n",
        "* Specifying \"all\" ensures rows are only removed if all columns contain null values.\n",
        "* You can also apply null handling only on specific columns by providing a list of column names to the subset parameter."
      ],
      "metadata": {
        "id": "9FhBfMjStYRf"
      }
    },
    {
      "cell_type": "code",
      "source": [
        "# Dropping Rows with Null values (if any value in the row is null)\n",
        "df2 = df.dropna()\n",
        "df2.show()"
      ],
      "metadata": {
        "id": "QVFdtogys1JA",
        "outputId": "0027d99e-0b76-4030-e572-4203bc49b2db",
        "colab": {
          "base_uri": "https://localhost:8080/"
        }
      },
      "execution_count": 4,
      "outputs": [
        {
          "output_type": "stream",
          "name": "stdout",
          "text": [
            "+----+------+---------+-------+\n",
            "|Name|Region|UnitsSold|Revenue|\n",
            "+----+------+---------+-------+\n",
            "+----+------+---------+-------+\n",
            "\n"
          ]
        }
      ]
    },
    {
      "cell_type": "code",
      "source": [
        "#Dropping rows where all values are null\n",
        "df3 = df.na.drop(\"all\")\n",
        "df3.show()"
      ],
      "metadata": {
        "id": "GSXkeSqVtpSh",
        "outputId": "ce01e8d3-1c20-475c-b11b-8156a35e4121",
        "colab": {
          "base_uri": "https://localhost:8080/"
        }
      },
      "execution_count": 5,
      "outputs": [
        {
          "output_type": "stream",
          "name": "stdout",
          "text": [
            "+-----+------+---------+-------+\n",
            "| Name|Region|UnitsSold|Revenue|\n",
            "+-----+------+---------+-------+\n",
            "| John| North|      100|   NULL|\n",
            "|  Doe|  East|     NULL|     50|\n",
            "| NULL|  West|      150|     30|\n",
            "|Alice|  NULL|      200|     40|\n",
            "|  Bob| South|     NULL|   NULL|\n",
            "+-----+------+---------+-------+\n",
            "\n"
          ]
        }
      ]
    },
    {
      "cell_type": "code",
      "source": [
        "#Dropping Rows if null values in \"Name\" OR \"Region\" columns\n",
        "df4 = df.na.drop(\"all\", subset=[\"Name\", \"Region\"])\n",
        "df4.show()"
      ],
      "metadata": {
        "id": "ZhZ0wTu4uKTj",
        "outputId": "beda654f-9b2f-4913-cace-d0196ab0beac",
        "colab": {
          "base_uri": "https://localhost:8080/"
        }
      },
      "execution_count": 6,
      "outputs": [
        {
          "output_type": "stream",
          "name": "stdout",
          "text": [
            "+-----+------+---------+-------+\n",
            "| Name|Region|UnitsSold|Revenue|\n",
            "+-----+------+---------+-------+\n",
            "| John| North|      100|   NULL|\n",
            "|  Doe|  East|     NULL|     50|\n",
            "| NULL|  West|      150|     30|\n",
            "|Alice|  NULL|      200|     40|\n",
            "|  Bob| South|     NULL|   NULL|\n",
            "+-----+------+---------+-------+\n",
            "\n"
          ]
        }
      ]
    },
    {
      "cell_type": "markdown",
      "source": [
        "### Filling Null Values:\n",
        "  * fillna() allows replacing null values with specified replacements, either for all columns or selectively.\n",
        "  * In the example, nulls in Region are replaced with \"Unknown\", while UnitsSold and Revenue nulls are filled with 0."
      ],
      "metadata": {
        "id": "5NQ_AeekOIyG"
      }
    },
    {
      "cell_type": "code",
      "source": [
        "#Filling nullvalue with specific values\n",
        "df5 = df.fillna({\"Region\": \"Unknown\", \"UnitsSold\": 0, \"Revenue\":0})\n",
        "df5.show()"
      ],
      "metadata": {
        "id": "BaLhinEQOPeM",
        "outputId": "20086d5e-a05c-42bd-9b46-f891e3c267ad",
        "colab": {
          "base_uri": "https://localhost:8080/"
        }
      },
      "execution_count": 8,
      "outputs": [
        {
          "output_type": "stream",
          "name": "stdout",
          "text": [
            "+-----+-------+---------+-------+\n",
            "| Name| Region|UnitsSold|Revenue|\n",
            "+-----+-------+---------+-------+\n",
            "| John|  North|      100|      0|\n",
            "|  Doe|   East|        0|     50|\n",
            "| NULL|   West|      150|     30|\n",
            "|Alice|Unknown|      200|     40|\n",
            "|  Bob|  South|        0|      0|\n",
            "| NULL|Unknown|        0|      0|\n",
            "+-----+-------+---------+-------+\n",
            "\n"
          ]
        }
      ]
    },
    {
      "cell_type": "code",
      "source": [
        "# Filling all null values in \"Region\" and \"name\" column\n",
        "df6 = df.na.fill(\"N/A\", subset=[\"Name\", \"Region\"])\n",
        "df6.show()\n"
      ],
      "metadata": {
        "id": "Lhcp1HPlOuim",
        "outputId": "ea86594c-00b8-48a7-80b7-c96ee3b481dc",
        "colab": {
          "base_uri": "https://localhost:8080/"
        }
      },
      "execution_count": 12,
      "outputs": [
        {
          "output_type": "stream",
          "name": "stdout",
          "text": [
            "+-----+------+---------+-------+\n",
            "| Name|Region|UnitsSold|Revenue|\n",
            "+-----+------+---------+-------+\n",
            "| John| North|      100|   NULL|\n",
            "|  Doe|  East|     NULL|     50|\n",
            "|  N/A|  West|      150|     30|\n",
            "|Alice|   N/A|      200|     40|\n",
            "|  Bob| South|     NULL|   NULL|\n",
            "|  N/A|   N/A|     NULL|   NULL|\n",
            "+-----+------+---------+-------+\n",
            "\n"
          ]
        }
      ]
    },
    {
      "cell_type": "markdown",
      "source": [
        "### 4.Coalesce Function:\n",
        "  * The coalesce() function returns the first non-null value in a list of columns. It’s useful when you need to handle missing data by providing alternative values from other columns."
      ],
      "metadata": {
        "id": "hr3cG990SHhz"
      }
    },
    {
      "cell_type": "code",
      "source": [
        "# Using coalesce() to handle nulls by taking the first non-null value\n",
        "df7 = df.withColumn(\"Adjust_UnitsSold\", coalesce(\"UnitsSold\", \"Revenue\"))\n",
        "df7.show()"
      ],
      "metadata": {
        "id": "rjvlIhBtSMRs",
        "outputId": "2c662537-6a0e-4873-804e-df9180c0fd22",
        "colab": {
          "base_uri": "https://localhost:8080/"
        }
      },
      "execution_count": 13,
      "outputs": [
        {
          "output_type": "stream",
          "name": "stdout",
          "text": [
            "+-----+------+---------+-------+----------------+\n",
            "| Name|Region|UnitsSold|Revenue|Adjust_UnitsSold|\n",
            "+-----+------+---------+-------+----------------+\n",
            "| John| North|      100|   NULL|             100|\n",
            "|  Doe|  East|     NULL|     50|              50|\n",
            "| NULL|  West|      150|     30|             150|\n",
            "|Alice|  NULL|      200|     40|             200|\n",
            "|  Bob| South|     NULL|   NULL|            NULL|\n",
            "| NULL|  NULL|     NULL|   NULL|            NULL|\n",
            "+-----+------+---------+-------+----------------+\n",
            "\n"
          ]
        }
      ]
    },
    {
      "cell_type": "code",
      "source": [],
      "metadata": {
        "id": "JQXCVR2uSs4W"
      },
      "execution_count": null,
      "outputs": []
    }
  ],
  "metadata": {
    "colab": {
      "provenance": []
    },
    "kernelspec": {
      "display_name": "Python 3",
      "name": "python3"
    },
    "language_info": {
      "name": "python"
    }
  },
  "nbformat": 4,
  "nbformat_minor": 0
}