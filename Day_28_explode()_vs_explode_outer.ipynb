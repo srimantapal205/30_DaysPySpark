{
  "cells": [
    {
      "cell_type": "markdown",
      "source": [
        "# Explode vs Explode_outer\n"
      ],
      "metadata": {
        "id": "Xq9finA0CveE"
      }
    },
    {
      "cell_type": "markdown",
      "source": [
        "In PySpark, explode and explode_outer are functions used to work with nested data structures, like arrays or maps, by “exploding” (flattening) each element of an array or key-value pair in a map into separate rows."
      ],
      "metadata": {
        "id": "hACnNFZCC10l"
      }
    },
    {
      "cell_type": "markdown",
      "source": [
        "### **explode()**\n",
        "\n",
        "The explode() function takes a column with array or map data and creates a new row for each element in the array (or each key-value pair in the map). If the array is empty or null, explode() will drop the row entirely.\n",
        "\n",
        "**Key Characteristics :**\n",
        "* Converts each element in an array or each entry in a map into its own row.\n",
        "* Drops rows with null or empty arrays.\n",
        "\n"
      ],
      "metadata": {
        "id": "DTVBM92IC8Td"
      }
    },
    {
      "cell_type": "code",
      "execution_count": 1,
      "metadata": {
        "id": "K9R9pyy1gU2Z"
      },
      "outputs": [],
      "source": [
        "from pyspark.sql import SparkSession\n",
        "from pyspark.sql.types import *\n",
        "from pyspark.sql.functions import *  # Import the function\n",
        "spark = SparkSession.builder.getOrCreate()\n",
        "from pyspark.sql.functions import regexp_replace, col\n",
        "from google.colab import drive\n"
      ]
    },
    {
      "cell_type": "code",
      "source": [
        "# Sample DataFrame with arrays\n",
        "data = [\n",
        "      (\"Alice\", [\"Math\", \"Science\"]),\n",
        "      (\"Bob\", [\"History\"]),\n",
        "      (\"Cathy\", []), # Empty array\n",
        "      (\"David\", None) # Null array\n",
        "      ]\n",
        "\n",
        "df = spark.createDataFrame(data, ['Name', 'Subject'])\n",
        "\n",
        "df.show()\n"
      ],
      "metadata": {
        "colab": {
          "base_uri": "https://localhost:8080/"
        },
        "id": "Vr6Sjxh5YOEL",
        "outputId": "4a239ab3-4f72-4190-b6c6-25a056b1ce2f"
      },
      "execution_count": 4,
      "outputs": [
        {
          "output_type": "stream",
          "name": "stdout",
          "text": [
            "+-----+---------------+\n",
            "| Name|        Subject|\n",
            "+-----+---------------+\n",
            "|Alice|[Math, Science]|\n",
            "|  Bob|      [History]|\n",
            "|Cathy|             []|\n",
            "|David|           NULL|\n",
            "+-----+---------------+\n",
            "\n"
          ]
        }
      ]
    },
    {
      "cell_type": "code",
      "source": [
        "# Use explode to flatten the array\n",
        "\n",
        "exploded_df = df.select(df['Name'], explode(df['Subject']).alias('subject'))\n",
        "\n",
        "#show the result\n",
        "exploded_df.show()\n",
        "\n",
        "'''\n",
        "Explanation:\n",
        "explode() expands the Subjects array into individual rows.\n",
        "Rows with empty ([]) or null arrays (None) are removed, which is why Cathy and David do not appear in the output\n",
        "'''"
      ],
      "metadata": {
        "colab": {
          "base_uri": "https://localhost:8080/"
        },
        "id": "7sGq46YqYuPZ",
        "outputId": "33143f9d-27fd-43ac-9ec8-ed784f7d8084"
      },
      "execution_count": 5,
      "outputs": [
        {
          "output_type": "stream",
          "name": "stdout",
          "text": [
            "+-----+-------+\n",
            "| Name|subject|\n",
            "+-----+-------+\n",
            "|Alice|   Math|\n",
            "|Alice|Science|\n",
            "|  Bob|History|\n",
            "+-----+-------+\n",
            "\n"
          ]
        }
      ]
    },
    {
      "cell_type": "markdown",
      "source": [
        "## explode_outer()\n",
        "The explode_outer() function works similarly to explode(), but it keeps rows with null or empty arrays.\n",
        "\n",
        "\n",
        "**Key Characteristics :**\n",
        "* Converts each element in an array or each entry in a map into its own row.\n",
        "* Retains rows with null or empty arrays, using null values in the exploded column."
      ],
      "metadata": {
        "id": "RfFqqpxsZ6Ku"
      }
    },
    {
      "cell_type": "code",
      "source": [
        "explode_outer_df = df.select(df['Name'], explode_outer(df['Subject']).alias('subject'))\n",
        "explode_outer_df.show()"
      ],
      "metadata": {
        "colab": {
          "base_uri": "https://localhost:8080/"
        },
        "id": "CF5_NkXnZcxN",
        "outputId": "4e947145-666c-4eba-cd36-98d5633fc8ba"
      },
      "execution_count": 6,
      "outputs": [
        {
          "output_type": "stream",
          "name": "stdout",
          "text": [
            "+-----+-------+\n",
            "| Name|subject|\n",
            "+-----+-------+\n",
            "|Alice|   Math|\n",
            "|Alice|Science|\n",
            "|  Bob|History|\n",
            "|Cathy|   NULL|\n",
            "|David|   NULL|\n",
            "+-----+-------+\n",
            "\n"
          ]
        }
      ]
    },
    {
      "cell_type": "code",
      "source": [],
      "metadata": {
        "id": "fxcmw1zptxF6"
      },
      "execution_count": null,
      "outputs": []
    }
  ],
  "metadata": {
    "colab": {
      "provenance": []
    },
    "kernelspec": {
      "display_name": "Python 3",
      "name": "python3"
    },
    "language_info": {
      "name": "python"
    }
  },
  "nbformat": 4,
  "nbformat_minor": 0
}