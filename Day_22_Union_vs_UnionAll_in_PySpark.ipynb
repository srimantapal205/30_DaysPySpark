{
  "cells": [
    {
      "cell_type": "markdown",
      "source": [
        "# When & Otherwise"
      ],
      "metadata": {
        "id": "Xq9finA0CveE"
      }
    },
    {
      "cell_type": "markdown",
      "source": [
        "The when and otherwise functions in PySpark provide a way to create conditional expressions within a DataFrame, allowing you to specify different values for new or existing columns based on specific conditions."
      ],
      "metadata": {
        "id": "hACnNFZCC10l"
      }
    },
    {
      "cell_type": "markdown",
      "source": [
        "```\n",
        "from pyspark.sql.functions import when\n",
        "# Syntax to add a new column based on a condition\n",
        "df = df.withColumn(\"new_column_name\", when(condition1, value1).when(condition2, value2).otherwise(default_value))\n",
        "```\n",
        "\n"
      ],
      "metadata": {
        "id": "DTVBM92IC8Td"
      }
    },
    {
      "cell_type": "code",
      "execution_count": 1,
      "metadata": {
        "id": "K9R9pyy1gU2Z"
      },
      "outputs": [],
      "source": [
        "from pyspark.sql import SparkSession\n",
        "from pyspark.sql.types import *\n",
        "from pyspark.sql.functions import *  # Import the function\n",
        "spark = SparkSession.builder.getOrCreate()\n",
        "from pyspark.sql.functions import regexp_replace, col\n",
        "from google.colab import drive\n"
      ]
    },
    {
      "cell_type": "code",
      "source": [
        "# Define the schema for the dataset\n",
        "schema = StructType([\n",
        "    StructField(\"name\", StringType(), True),\n",
        "    StructField(\"age\", IntegerType(), True),\n",
        "    StructField(\"salary\", IntegerType(), True)\n",
        "  ])\n",
        "# Create a sample dataset\n",
        "data = [\n",
        "    (\"Alice\", 25, 3000),\n",
        "    (\"Bob\", 35, 4000),\n",
        "    (\"Charlie\", 40, 5000),\n",
        "    (\"David\", 28, 4500),\n",
        "    (\"Eve\", 32, 3500) ]\n",
        "# Create DataFrame\n",
        "df = spark.createDataFrame(data, schema)\n",
        "df.show()"
      ],
      "metadata": {
        "id": "ZhZ0wTu4uKTj",
        "outputId": "b8902897-8e57-4eb4-cb3d-2a4182dc3c8d",
        "colab": {
          "base_uri": "https://localhost:8080/"
        }
      },
      "execution_count": 3,
      "outputs": [
        {
          "output_type": "stream",
          "name": "stdout",
          "text": [
            "+-------+---+------+\n",
            "|   name|age|salary|\n",
            "+-------+---+------+\n",
            "|  Alice| 25|  3000|\n",
            "|    Bob| 35|  4000|\n",
            "|Charlie| 40|  5000|\n",
            "|  David| 28|  4500|\n",
            "|    Eve| 32|  3500|\n",
            "+-------+---+------+\n",
            "\n"
          ]
        }
      ]
    },
    {
      "cell_type": "markdown",
      "source": [
        "### Apply 'when' and 'otherwise' to add new columns based on conditions"
      ],
      "metadata": {
        "id": "WFqLN9TdD8WX"
      }
    },
    {
      "cell_type": "code",
      "source": [
        "df = (df.withColumn(\"status\", when(df.age <30, \"Young\").otherwise(\"Adult\"))\\\n",
        "      .withColumn(\"Income_bracket\",\n",
        "                  when(df.salary <4000, \"Low\").\\\n",
        "                  when((df.salary >= 4000) & (df.salary <= 4500), \"Medium\").\\\n",
        "                  otherwise(\"Hight\")\n",
        "                  )\n",
        "      )\n",
        "\n",
        "df.show()"
      ],
      "metadata": {
        "id": "StiWm77CDWLr",
        "outputId": "dd3f783d-6f6e-4777-905a-48d4a14db93c",
        "colab": {
          "base_uri": "https://localhost:8080/"
        }
      },
      "execution_count": 4,
      "outputs": [
        {
          "output_type": "stream",
          "name": "stdout",
          "text": [
            "+-------+---+------+------+--------------+\n",
            "|   name|age|salary|status|Income_bracket|\n",
            "+-------+---+------+------+--------------+\n",
            "|  Alice| 25|  3000| Young|           Low|\n",
            "|    Bob| 35|  4000| Adult|        Medium|\n",
            "|Charlie| 40|  5000| Adult|         Hight|\n",
            "|  David| 28|  4500| Young|        Medium|\n",
            "|    Eve| 32|  3500| Adult|           Low|\n",
            "+-------+---+------+------+--------------+\n",
            "\n"
          ]
        }
      ]
    },
    {
      "cell_type": "code",
      "source": [],
      "metadata": {
        "id": "Mmb1AymTF-OB"
      },
      "execution_count": null,
      "outputs": []
    }
  ],
  "metadata": {
    "colab": {
      "provenance": []
    },
    "kernelspec": {
      "display_name": "Python 3",
      "name": "python3"
    },
    "language_info": {
      "name": "python"
    }
  },
  "nbformat": 4,
  "nbformat_minor": 0
}