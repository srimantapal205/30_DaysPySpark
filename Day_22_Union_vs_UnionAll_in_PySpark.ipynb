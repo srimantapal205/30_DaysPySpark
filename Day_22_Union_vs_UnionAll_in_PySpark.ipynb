{
  "cells": [
    {
      "cell_type": "markdown",
      "source": [
        "# Union and unionAll in PySpark"
      ],
      "metadata": {
        "id": "PyenszmJFDaH"
      }
    },
    {
      "cell_type": "markdown",
      "source": [
        "* **Purpose:** Both union and unionAll are used to combine two DataFrames into a single DataFrame.\n",
        "\n",
        "* **DataFrame Compatibility:** The two DataFrames must have the same schema (i.e., the same column names and data types) to perform the union operation.\n",
        "\n",
        "### union()\n",
        "\n",
        "* **Functionality:** Combines two DataFrames and retains all rows, duplicate rows from the result.\n",
        "* **Behavior:** The union() method doesnot retains unique rows across both DataFrames, resulting in a DataFrame with duplicates.\n",
        "\n",
        "### unionAll()\n",
        "\n",
        "* **Functionality:** Combines two DataFrames and retains all rows, including duplicates.\n",
        "* **Behavior:** The unionAll() method performs the union operation but does not eliminate duplicate rows, similar to Unionall\n",
        "\n",
        "```\n",
        "\n",
        "# Using union to retain all rows including duplicates\n",
        "unioned_df = df1.union(df2)\n",
        "# Using unionAll to retain all rows including duplicates\n",
        "unionAll_df = df1.unionAll(df2)\n",
        "\n",
        "```\n",
        "\n"
      ],
      "metadata": {
        "id": "IfkFcX2PFJVT"
      }
    },
    {
      "cell_type": "code",
      "execution_count": 2,
      "metadata": {
        "id": "K9R9pyy1gU2Z"
      },
      "outputs": [],
      "source": [
        "from pyspark.sql import SparkSession\n",
        "from pyspark.sql.types import *\n",
        "from pyspark.sql.functions import *  # Import the function\n",
        "spark = SparkSession.builder.getOrCreate()\n",
        "from pyspark.sql.functions import regexp_replace, col\n",
        "from google.colab import drive\n"
      ]
    },
    {
      "cell_type": "code",
      "source": [
        "data1 = [(\"Alice\", 25), (\"Bob\", 30), (\"Charlie\", 35)]\n",
        "data2 = [(\"David\", 40), (\"Eve\", 45), (\"Alice\", 25)]\n",
        "columns = [\"name\", \"age\"]\n",
        "\n",
        "df1 = spark.createDataFrame(data1, columns)\n",
        "df2 = spark.createDataFrame(data2, columns)\n",
        "df1.show()\n",
        "df2.show()\n",
        "\n",
        "#using union to retain all rows including duplicate\n",
        "unioned_df =df1.union(df2)\n",
        "print(\"unioned_df (No duplicates removed):\")\n",
        "display(unioned_df.count())\n",
        "unioned_df.show()\n",
        "\n",
        "\n",
        "#Using unionall to retain all rows\n",
        "unionAll_df = df1.unionAll(df2)\n",
        "print(\"unionAll_df (duplicates retained):\")\n",
        "display(unionAll_df.count())\n",
        "unionAll_df.show()"
      ],
      "metadata": {
        "id": "4ZXuxlBtKDZt",
        "outputId": "b34add99-a15d-409c-d544-ed09a63868fd",
        "colab": {
          "base_uri": "https://localhost:8080/",
          "height": 746
        }
      },
      "execution_count": 10,
      "outputs": [
        {
          "output_type": "stream",
          "name": "stdout",
          "text": [
            "+-------+---+\n",
            "|   name|age|\n",
            "+-------+---+\n",
            "|  Alice| 25|\n",
            "|    Bob| 30|\n",
            "|Charlie| 35|\n",
            "+-------+---+\n",
            "\n",
            "+-----+---+\n",
            "| name|age|\n",
            "+-----+---+\n",
            "|David| 40|\n",
            "|  Eve| 45|\n",
            "|Alice| 25|\n",
            "+-----+---+\n",
            "\n",
            "unioned_df (No duplicates removed):\n"
          ]
        },
        {
          "output_type": "display_data",
          "data": {
            "text/plain": [
              "6"
            ]
          },
          "metadata": {}
        },
        {
          "output_type": "stream",
          "name": "stdout",
          "text": [
            "+-------+---+\n",
            "|   name|age|\n",
            "+-------+---+\n",
            "|  Alice| 25|\n",
            "|    Bob| 30|\n",
            "|Charlie| 35|\n",
            "|  David| 40|\n",
            "|    Eve| 45|\n",
            "|  Alice| 25|\n",
            "+-------+---+\n",
            "\n",
            "unionAll_df (duplicates retained):\n"
          ]
        },
        {
          "output_type": "display_data",
          "data": {
            "text/plain": [
              "6"
            ]
          },
          "metadata": {}
        },
        {
          "output_type": "stream",
          "name": "stdout",
          "text": [
            "+-------+---+\n",
            "|   name|age|\n",
            "+-------+---+\n",
            "|  Alice| 25|\n",
            "|    Bob| 30|\n",
            "|Charlie| 35|\n",
            "|  David| 40|\n",
            "|    Eve| 45|\n",
            "|  Alice| 25|\n",
            "+-------+---+\n",
            "\n"
          ]
        }
      ]
    },
    {
      "cell_type": "markdown",
      "source": [
        "###  Remove duplicate rows and create a new DataFrame"
      ],
      "metadata": {
        "id": "9wI1t6w1M-Cc"
      }
    },
    {
      "cell_type": "code",
      "source": [
        "unioned_df = unioned_df.dropDuplicates()\n",
        "print(\"unioned_df : (duplicates removed):\")\n",
        "display(unioned_df.count())\n",
        "unioned_df.show()\n",
        "\n",
        "unionAll_df = unionAll_df.distinct()\n",
        "print(\"unionAll_df : (duplicates removed):\")\n",
        "display(unionAll_df.count())\n",
        "unionAll_df.show()\n"
      ],
      "metadata": {
        "id": "Zg4JGx1FKReN",
        "outputId": "975229fb-4ed4-43b8-f13d-28f92c975f27",
        "colab": {
          "base_uri": "https://localhost:8080/",
          "height": 434
        }
      },
      "execution_count": 12,
      "outputs": [
        {
          "output_type": "stream",
          "name": "stdout",
          "text": [
            "unioned_df : (duplicates removed):\n"
          ]
        },
        {
          "output_type": "display_data",
          "data": {
            "text/plain": [
              "5"
            ]
          },
          "metadata": {}
        },
        {
          "output_type": "stream",
          "name": "stdout",
          "text": [
            "+-------+---+\n",
            "|   name|age|\n",
            "+-------+---+\n",
            "|  Alice| 25|\n",
            "|Charlie| 35|\n",
            "|    Bob| 30|\n",
            "|  David| 40|\n",
            "|    Eve| 45|\n",
            "+-------+---+\n",
            "\n",
            "unionAll_df : (duplicates removed):\n"
          ]
        },
        {
          "output_type": "display_data",
          "data": {
            "text/plain": [
              "5"
            ]
          },
          "metadata": {}
        },
        {
          "output_type": "stream",
          "name": "stdout",
          "text": [
            "+-------+---+\n",
            "|   name|age|\n",
            "+-------+---+\n",
            "|  Alice| 25|\n",
            "|Charlie| 35|\n",
            "|    Bob| 30|\n",
            "|  David| 40|\n",
            "|    Eve| 45|\n",
            "+-------+---+\n",
            "\n"
          ]
        }
      ]
    },
    {
      "cell_type": "code",
      "source": [],
      "metadata": {
        "id": "_oxreGYXNU91"
      },
      "execution_count": null,
      "outputs": []
    }
  ],
  "metadata": {
    "colab": {
      "provenance": []
    },
    "kernelspec": {
      "display_name": "Python 3",
      "name": "python3"
    },
    "language_info": {
      "name": "python"
    }
  },
  "nbformat": 4,
  "nbformat_minor": 0
}