{
  "nbformat": 4,
  "nbformat_minor": 0,
  "metadata": {
    "colab": {
      "provenance": [],
      "authorship_tag": "ABX9TyMKC/F8cHD53cnkAkk/a9Nq",
      "include_colab_link": true
    },
    "kernelspec": {
      "name": "python3",
      "display_name": "Python 3"
    },
    "language_info": {
      "name": "python"
    }
  },
  "cells": [
    {
      "cell_type": "markdown",
      "metadata": {
        "id": "view-in-github",
        "colab_type": "text"
      },
      "source": [
        "<a href=\"https://colab.research.google.com/github/srimantapal205/30_DaysPySpark/blob/main/Day_1_Creating_DataFrames_in_PySpark.ipynb\" target=\"_parent\"><img src=\"https://colab.research.google.com/assets/colab-badge.svg\" alt=\"Open In Colab\"/></a>"
      ]
    },
    {
      "cell_type": "markdown",
      "source": [
        "## 1. Creating DataFrame Manually with Hardcoded Values"
      ],
      "metadata": {
        "id": "iRwPA2BF9pn8"
      }
    },
    {
      "cell_type": "code",
      "source": [
        "!pip install pyspark\n",
        "from pyspark.sql import SparkSession\n",
        "\n",
        "spark = SparkSession.builder.getOrCreate()"
      ],
      "metadata": {
        "colab": {
          "base_uri": "https://localhost:8080/"
        },
        "id": "Aokkou6wA7gu",
        "outputId": "ab159dd8-0138-46ec-e2cb-7ed48d727542"
      },
      "execution_count": null,
      "outputs": [
        {
          "output_type": "stream",
          "name": "stdout",
          "text": [
            "Requirement already satisfied: pyspark in /usr/local/lib/python3.11/dist-packages (3.5.4)\n",
            "Requirement already satisfied: py4j==0.10.9.7 in /usr/local/lib/python3.11/dist-packages (from pyspark) (0.10.9.7)\n"
          ]
        }
      ]
    },
    {
      "cell_type": "code",
      "execution_count": null,
      "metadata": {
        "id": "81k5rFIF7GYe",
        "colab": {
          "base_uri": "https://localhost:8080/"
        },
        "outputId": "5a306a9d-9a6b-4454-97b2-217a437809b6"
      },
      "outputs": [
        {
          "output_type": "stream",
          "name": "stdout",
          "text": [
            "+---+-------+\n",
            "| Id|   Name|\n",
            "+---+-------+\n",
            "|  1|  Alice|\n",
            "|  2|    Bob|\n",
            "|  3|Charlie|\n",
            "|  4|  David|\n",
            "|  5|    Eve|\n",
            "+---+-------+\n",
            "\n"
          ]
        }
      ],
      "source": [
        "#Sample Data\n",
        "data = [(1, \"Alice\"), (2, \"Bob\"), (3, \"Charlie\"), (4, \"David\"), (5, \"Eve\")]\n",
        "column =[\"Id\", \"Name\"]\n",
        "#Create DateFrame\n",
        "df = spark.createDataFrame(data, column)\n",
        "#Show DataFrame\n",
        "df.show()"
      ]
    },
    {
      "cell_type": "code",
      "source": [],
      "metadata": {
        "id": "ibBWPVojBspF"
      },
      "execution_count": null,
      "outputs": []
    }
  ]
}