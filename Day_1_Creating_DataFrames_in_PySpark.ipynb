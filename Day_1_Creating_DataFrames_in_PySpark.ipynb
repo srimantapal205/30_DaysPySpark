{
  "nbformat": 4,
  "nbformat_minor": 0,
  "metadata": {
    "colab": {
      "provenance": [],
      "authorship_tag": "ABX9TyMoY8Tk1dGRKzW8FFTcrMon",
      "include_colab_link": true
    },
    "kernelspec": {
      "name": "python3",
      "display_name": "Python 3"
    },
    "language_info": {
      "name": "python"
    }
  },
  "cells": [
    {
      "cell_type": "markdown",
      "metadata": {
        "id": "view-in-github",
        "colab_type": "text"
      },
      "source": [
        "<a href=\"https://colab.research.google.com/github/srimantapal205/30_DaysPySpark/blob/main/Day_1_Creating_DataFrames_in_PySpark.ipynb\" target=\"_parent\"><img src=\"https://colab.research.google.com/assets/colab-badge.svg\" alt=\"Open In Colab\"/></a>"
      ]
    },
    {
      "cell_type": "markdown",
      "source": [
        "## 1. Creating DataFrame Manually with Hardcoded Values"
      ],
      "metadata": {
        "id": "iRwPA2BF9pn8"
      }
    },
    {
      "cell_type": "code",
      "source": [
        "#!sudo apt-get install python3.7\n",
        "!pip install pyspark\n",
        "from pyspark.sql import SparkSession\n",
        "import pandas as pd\n",
        "spark = SparkSession.builder.getOrCreate()"
      ],
      "metadata": {
        "colab": {
          "base_uri": "https://localhost:8080/"
        },
        "id": "Aokkou6wA7gu",
        "outputId": "41aef563-14c0-452b-8a76-b444ffe245db",
        "collapsed": true
      },
      "execution_count": 27,
      "outputs": [
        {
          "output_type": "stream",
          "name": "stdout",
          "text": [
            "Reading package lists... Done\n",
            "Building dependency tree... Done\n",
            "Reading state information... Done\n",
            "The following additional packages will be installed:\n",
            "  libpython3.7-minimal libpython3.7-stdlib python3.7-minimal\n",
            "Suggested packages:\n",
            "  python3.7-venv binfmt-support\n",
            "The following NEW packages will be installed:\n",
            "  libpython3.7-minimal libpython3.7-stdlib python3.7 python3.7-minimal\n",
            "0 upgraded, 4 newly installed, 0 to remove and 49 not upgraded.\n",
            "Need to get 4,670 kB of archives.\n",
            "After this operation, 17.7 MB of additional disk space will be used.\n",
            "Get:1 https://ppa.launchpadcontent.net/deadsnakes/ppa/ubuntu jammy/main amd64 libpython3.7-minimal amd64 3.7.17-1+jammy1 [608 kB]\n",
            "Get:2 https://ppa.launchpadcontent.net/deadsnakes/ppa/ubuntu jammy/main amd64 python3.7-minimal amd64 3.7.17-1+jammy1 [1,837 kB]\n",
            "Get:3 https://ppa.launchpadcontent.net/deadsnakes/ppa/ubuntu jammy/main amd64 libpython3.7-stdlib amd64 3.7.17-1+jammy1 [1,864 kB]\n",
            "Get:4 https://ppa.launchpadcontent.net/deadsnakes/ppa/ubuntu jammy/main amd64 python3.7 amd64 3.7.17-1+jammy1 [362 kB]\n",
            "Fetched 4,670 kB in 2s (2,279 kB/s)\n",
            "debconf: unable to initialize frontend: Dialog\n",
            "debconf: (No usable dialog-like program is installed, so the dialog based frontend cannot be used. at /usr/share/perl5/Debconf/FrontEnd/Dialog.pm line 78, <> line 4.)\n",
            "debconf: falling back to frontend: Readline\n",
            "debconf: unable to initialize frontend: Readline\n",
            "debconf: (This frontend requires a controlling tty.)\n",
            "debconf: falling back to frontend: Teletype\n",
            "dpkg-preconfigure: unable to re-open stdin: \n",
            "Selecting previously unselected package libpython3.7-minimal:amd64.\n",
            "(Reading database ... 124574 files and directories currently installed.)\n",
            "Preparing to unpack .../libpython3.7-minimal_3.7.17-1+jammy1_amd64.deb ...\n",
            "Unpacking libpython3.7-minimal:amd64 (3.7.17-1+jammy1) ...\n",
            "Selecting previously unselected package python3.7-minimal.\n",
            "Preparing to unpack .../python3.7-minimal_3.7.17-1+jammy1_amd64.deb ...\n",
            "Unpacking python3.7-minimal (3.7.17-1+jammy1) ...\n",
            "Selecting previously unselected package libpython3.7-stdlib:amd64.\n",
            "Preparing to unpack .../libpython3.7-stdlib_3.7.17-1+jammy1_amd64.deb ...\n",
            "Unpacking libpython3.7-stdlib:amd64 (3.7.17-1+jammy1) ...\n",
            "Selecting previously unselected package python3.7.\n",
            "Preparing to unpack .../python3.7_3.7.17-1+jammy1_amd64.deb ...\n",
            "Unpacking python3.7 (3.7.17-1+jammy1) ...\n",
            "Setting up libpython3.7-minimal:amd64 (3.7.17-1+jammy1) ...\n",
            "Setting up python3.7-minimal (3.7.17-1+jammy1) ...\n",
            "Setting up libpython3.7-stdlib:amd64 (3.7.17-1+jammy1) ...\n",
            "Setting up python3.7 (3.7.17-1+jammy1) ...\n",
            "Processing triggers for mailcap (3.70+nmu1ubuntu1) ...\n",
            "Processing triggers for man-db (2.10.2-1) ...\n",
            "Requirement already satisfied: pyspark in /usr/local/lib/python3.11/dist-packages (3.5.4)\n",
            "Requirement already satisfied: py4j==0.10.9.7 in /usr/local/lib/python3.11/dist-packages (from pyspark) (0.10.9.7)\n"
          ]
        }
      ]
    },
    {
      "cell_type": "code",
      "execution_count": 28,
      "metadata": {
        "id": "81k5rFIF7GYe",
        "colab": {
          "base_uri": "https://localhost:8080/"
        },
        "outputId": "b15e062b-8f64-49c3-86cd-aaeaee05e3cf"
      },
      "outputs": [
        {
          "output_type": "stream",
          "name": "stdout",
          "text": [
            "+---+-------+\n",
            "| Id|   Name|\n",
            "+---+-------+\n",
            "|  1|  Alice|\n",
            "|  2|    Bob|\n",
            "|  3|Charlie|\n",
            "|  4|  David|\n",
            "|  5|    Eve|\n",
            "+---+-------+\n",
            "\n"
          ]
        }
      ],
      "source": [
        "#Sample Data\n",
        "data = [(1, \"Alice\"), (2, \"Bob\"), (3, \"Charlie\"), (4, \"David\"), (5, \"Eve\")]\n",
        "column =[\"Id\", \"Name\"]\n",
        "#Create DateFrame\n",
        "df = spark.createDataFrame(data, column)\n",
        "#Show DataFrame\n",
        "df.show()"
      ]
    },
    {
      "cell_type": "markdown",
      "source": [
        "## 2. Creating DataFrame from Pandas:"
      ],
      "metadata": {
        "id": "jK3KT6XAFPs7"
      }
    },
    {
      "cell_type": "code",
      "source": [
        "# Sample Pandas Dataframe\n",
        "pandas_df = pd.DataFrame(data, columns=column)\n",
        "\n",
        "#Conver to Pyspask DataFrame\n",
        "df_from_Pandas = spark.createDataFrame(pandas_df)\n",
        "df_from_Pandas.show()"
      ],
      "metadata": {
        "id": "ibBWPVojBspF",
        "colab": {
          "base_uri": "https://localhost:8080/"
        },
        "outputId": "df1d8b51-6642-431e-d5c6-64b85cbd60d9"
      },
      "execution_count": 29,
      "outputs": [
        {
          "output_type": "stream",
          "name": "stdout",
          "text": [
            "+---+-------+\n",
            "| Id|   Name|\n",
            "+---+-------+\n",
            "|  1|  Alice|\n",
            "|  2|    Bob|\n",
            "|  3|Charlie|\n",
            "|  4|  David|\n",
            "|  5|    Eve|\n",
            "+---+-------+\n",
            "\n"
          ]
        }
      ]
    },
    {
      "cell_type": "markdown",
      "source": [
        "## 3. Create DataFrame from Dictionary:"
      ],
      "metadata": {
        "id": "fQOjZd41Ffgt"
      }
    },
    {
      "cell_type": "code",
      "source": [
        "#Convert data into Dictionary\n",
        "dataDict = [dict(zip(column, values)) for values in data]\n",
        "print(dataDict)\n",
        "\n"
      ],
      "metadata": {
        "colab": {
          "base_uri": "https://localhost:8080/"
        },
        "id": "ORlbEdCPGBHb",
        "outputId": "c735ef04-8114-4f6e-f5e4-b4aa0a0aa248"
      },
      "execution_count": 30,
      "outputs": [
        {
          "output_type": "stream",
          "name": "stdout",
          "text": [
            "[{'Id': 1, 'Name': 'Alice'}, {'Id': 2, 'Name': 'Bob'}, {'Id': 3, 'Name': 'Charlie'}, {'Id': 4, 'Name': 'David'}, {'Id': 5, 'Name': 'Eve'}]\n"
          ]
        }
      ]
    },
    {
      "cell_type": "code",
      "source": [
        "df_from_dict = spark.createDataFrame(dataDict)\n",
        "df_from_dict.show()"
      ],
      "metadata": {
        "colab": {
          "base_uri": "https://localhost:8080/"
        },
        "id": "6nhyZ1IQC2kf",
        "outputId": "c843374e-1ab2-4f9e-a04a-c75931e4feb4"
      },
      "execution_count": 31,
      "outputs": [
        {
          "output_type": "stream",
          "name": "stdout",
          "text": [
            "+---+-------+\n",
            "| Id|   Name|\n",
            "+---+-------+\n",
            "|  1|  Alice|\n",
            "|  2|    Bob|\n",
            "|  3|Charlie|\n",
            "|  4|  David|\n",
            "|  5|    Eve|\n",
            "+---+-------+\n",
            "\n"
          ]
        }
      ]
    },
    {
      "cell_type": "markdown",
      "source": [
        "## 4. Create Empty DataFrame:"
      ],
      "metadata": {
        "id": "nBtap1MbJTGR"
      }
    },
    {
      "cell_type": "code",
      "source": [
        "from pyspark.sql.types import StructType, StructField, StringType, IntegerType\n",
        "# Define Schema\n",
        "schema = StructType([\n",
        "    StructField(\"ID\", IntegerType(),True),\n",
        "    StructField(\"Name\", StringType(), True)\n",
        "])\n",
        "\n",
        "#Create Empty DataFrame\n",
        "empty_df = spark.createDataFrame([], schema=schema)\n",
        "empty_df.show()\n"
      ],
      "metadata": {
        "colab": {
          "base_uri": "https://localhost:8080/"
        },
        "id": "1r2qwy0nJHKi",
        "outputId": "5311a39b-2e14-48bd-b466-83a0e894f678"
      },
      "execution_count": 32,
      "outputs": [
        {
          "output_type": "stream",
          "name": "stdout",
          "text": [
            "+---+----+\n",
            "| ID|Name|\n",
            "+---+----+\n",
            "+---+----+\n",
            "\n"
          ]
        }
      ]
    },
    {
      "cell_type": "code",
      "source": [
        "from google.colab import drive\n",
        "\n",
        "# Mount Google Drive with a longer timeout\n",
        "drive.mount('/content/drive', force_remount=True, timeout_ms=300000)  # Increased timeout to 5 minutes"
      ],
      "metadata": {
        "colab": {
          "base_uri": "https://localhost:8080/"
        },
        "id": "-D9GPWvfWWYD",
        "outputId": "95b28ed8-be94-4a20-f8bb-bcda6e6fba79"
      },
      "execution_count": 33,
      "outputs": [
        {
          "output_type": "stream",
          "name": "stdout",
          "text": [
            "Mounted at /content/drive\n"
          ]
        }
      ]
    },
    {
      "cell_type": "code",
      "source": [
        "# from os import path\n",
        "# from google.colab import drive\n",
        "# drive.mount('/content/drive')\n",
        "\n",
        "# /content/drive/MyDrive/Colab Notebooks/dataSet/ProductData.csv\n",
        "#/content/drive/MyDrive/Colab Notebooks/dataSet/ProductData.json\n",
        "#/content/drive/MyDrive/Colab Notebooks/dataSet/mtcars.parquet"
      ],
      "metadata": {
        "colab": {
          "base_uri": "https://localhost:8080/"
        },
        "id": "RHCkRtOzPZqC",
        "outputId": "727d0064-af6e-4e3b-a2c4-028757a035e8"
      },
      "execution_count": 7,
      "outputs": [
        {
          "output_type": "stream",
          "name": "stdout",
          "text": [
            "Drive already mounted at /content/drive; to attempt to forcibly remount, call drive.mount(\"/content/drive\", force_remount=True).\n"
          ]
        }
      ]
    },
    {
      "cell_type": "markdown",
      "source": [
        "## 5. Creating DataFrame from Structured Data (CSV, JSON, Parquet)"
      ],
      "metadata": {
        "id": "eKo8sRWfPRGu"
      }
    },
    {
      "cell_type": "code",
      "source": [
        "#Reading  CSV file into dataframe\n",
        "df_csv =  spark.read.csv(path=\"/content/drive/MyDrive/Colab Notebooks/dataSet/ProductData.csv\", header=True, inferSchema=True)\n",
        "#Show the first 10 rows:\n",
        "df_csv.show(10)\n",
        "\n"
      ],
      "metadata": {
        "colab": {
          "base_uri": "https://localhost:8080/"
        },
        "id": "_qMfTd-KJqdL",
        "outputId": "f6cf8d76-9ecc-4813-eb0a-c94f43fcdf2f"
      },
      "execution_count": 48,
      "outputs": [
        {
          "output_type": "stream",
          "name": "stdout",
          "text": [
            "+---------+--------------------+--------------------+--------+--------------------+-----------------+------------+-----------+-----------------+------------+-----------+-----------+--------+--------------------+--------+---------------+--------------+\n",
            "|  p_brand|              p_cate|             p_image|  p_mall|              p_name| p_number_reviews|     p_price|p_rate1star|      p_rate2star| p_rate3star|p_rate4star|p_rate5star|p_rating|              s_name|s_rating|s_response_rate| s_ship_ontime|\n",
            "+---------+--------------------+--------------------+--------+--------------------+-----------------+------------+-----------+-----------------+------------+-----------+-----------+--------+--------------------+--------+---------------+--------------+\n",
            "|     Dell|Máy vi tính & Laptop|//vn-live-05.slat...|    Mall|Laptop Dell Inspi...|Không có đánh giá|31.490.000 ₫|          0|                0|           0|          0|          0|     0.0|DELL Official Ret...|     88%|           100%|          100%|\n",
            "|       HP|Máy vi tính & Laptop|//vn-live-05.slat...|    Mall|Laptop HP ProBook...|Không có đánh giá|31.490.000 ₫|          0|                0|           0|          0|          0|     0.0|          An Phát HP|     94%|            89%|          100%|\n",
            "|       HP|Máy vi tính & Laptop|//vn-live-05.slat...|    Mall|Laptop HP 14s-fq1...|       1 đánh giá|12.390.000 ₫|          0|                0|           0|          0|          1|     5.0|          An Phát HP|     94%|            89%|          100%|\n",
            "|     Dell|Máy vi tính & Laptop|//vn-live-05.slat...|Non-Mall|\"Brand New Dell A...|         32GB RAM|    RTX 3080|   1TB SSD\"|Không có đánh giá|23.000.000 ₫|          0|          0|     0.0|                   0|       0|              0|GADGETSHUB PLC|\n",
            "|  OnePlus|Máy vi tính & Laptop|//vn-live-05.slat...|Non-Mall|Brand New OnePlus...|Không có đánh giá| 8.000.000 ₫|          0|                0|           0|          0|          0|     0.0|      GADGETSHUB PLC|    NULL|            66%|          100%|\n",
            "|     Dell|Máy vi tính & Laptop|//vn-live-05.slat...|    Mall|Laptop Dell Inspi...|Không có đánh giá|14.490.000 ₫|          0|                0|           0|          0|          0|     0.0|DELL Official Ret...|     88%|           100%|          100%|\n",
            "|      MAC|Máy vi tính & Laptop|//vn-live-05.slat...|Non-Mall|Brand New AppleiP...|Không có đánh giá|13.000.000 ₫|          0|                0|           0|          0|          0|     0.0|      GADGETSHUB PLC|    NULL|            66%|          100%|\n",
            "|Microsoft|Máy vi tính & Laptop|//vn-live-05.slat...|Non-Mall|\"Brand New Micros...|Không có đánh giá|15.000.000 ₫|          0|                0|           0|          0|          0|     0.0|      GADGETSHUB PLC|    NULL|            66%|          100%|\n",
            "|     Dell|Máy vi tính & Laptop|//vn-live-05.slat...|Non-Mall|Brand New Dell XP...|Không có đánh giá|16.000.000 ₫|          0|                0|           0|          0|          0|     0.0|      GADGETSHUB PLC|    NULL|            66%|          100%|\n",
            "|       HP|Máy vi tính & Laptop|//vn-live-05.slat...|Non-Mall|Máy tính xách tay...|Không có đánh giá|12.490.000 ₫|          0|                0|           0|          0|          0|     0.0|   HP Flagship Store|     93%|           100%|          100%|\n",
            "+---------+--------------------+--------------------+--------+--------------------+-----------------+------------+-----------+-----------------+------------+-----------+-----------+--------+--------------------+--------+---------------+--------------+\n",
            "only showing top 10 rows\n",
            "\n"
          ]
        }
      ]
    },
    {
      "cell_type": "code",
      "source": [
        "#Reading Json file into dataframe\n",
        "#df_json = spark.read.json(path=\"/content/drive/MyDrive/Colab Notebooks/dataSet/ProductData.json\").show()\n",
        "\n",
        "\n",
        "#Reading Json file into dataframe\n",
        "# df_json = spark.read.option(\"inferSchema\", \"true\").json(path=\"/content/drive/MyDrive/Colab Notebooks/dataSet/ProductData.json\")\n",
        "# df_json.show()\n",
        "df_raw = spark.read.text(\"/content/drive/MyDrive/Colab Notebooks/dataSet/ProductData.json\")\n",
        "df_raw.show(truncate=False)\n",
        "\n",
        "# df_json = spark.read.json(\"content/drive/MyDrive/Colab Notebooks/dataSet/ProductData.json\")\n",
        "# df_json.show()\n"
      ],
      "metadata": {
        "id": "1j2Bo_yJRMhm",
        "colab": {
          "base_uri": "https://localhost:8080/"
        },
        "outputId": "844da60b-1c56-4dc8-b551-6917397f244f"
      },
      "execution_count": 49,
      "outputs": [
        {
          "output_type": "stream",
          "name": "stdout",
          "text": [
            "+----------------------------------------------------------------------------------------------------------------------------------------------------------------------------------------------------+\n",
            "|value                                                                                                                                                                                               |\n",
            "+----------------------------------------------------------------------------------------------------------------------------------------------------------------------------------------------------+\n",
            "|[                                                                                                                                                                                                   |\n",
            "| {                                                                                                                                                                                                  |\n",
            "|   \"p_brand\": \"Dell\",                                                                                                                                                                               |\n",
            "|   \"p_cate\": \"Máy vi tính & Laptop\",                                                                                                                                                                |\n",
            "|   \"p_image\": \"//vn-live-05.slatic.net/p/ab973a529b50491bb63a1253aa6dc7d0.png_720x720q80.jpg_.webp\",                                                                                                |\n",
            "|   \"p_mall\": \"Mall\",                                                                                                                                                                                |\n",
            "|   \"p_name\": \"Laptop Dell Inspiron 7400 14.5 inches IPS QHD (Intel / i7-1165G7 / 16GB / 512GB SSD / NVIDIA GeForce MX350, 2GB / Finger Print / Win 10 Home SL) l Silver l DDXGD1 l HÀNG CHÍNH HÃNG\",|\n",
            "|   \"p_number_reviews\": \"Không có đánh giá\",                                                                                                                                                         |\n",
            "|   \"p_price\": \"31.490.000 ₫\",                                                                                                                                                                       |\n",
            "|   \"p_rate1star\": 0,                                                                                                                                                                                |\n",
            "|   \"p_rate2star\": 0,                                                                                                                                                                                |\n",
            "|   \"p_rate3star\": 0,                                                                                                                                                                                |\n",
            "|   \"p_rate4star\": 0,                                                                                                                                                                                |\n",
            "|   \"p_rate5star\": 0,                                                                                                                                                                                |\n",
            "|   \"p_rating\": 0,                                                                                                                                                                                   |\n",
            "|   \"s_name\": \"DELL Official Retail Store\",                                                                                                                                                          |\n",
            "|   \"s_rating\": \"88%\",                                                                                                                                                                               |\n",
            "|   \"s_response_rate\": \"100%\",                                                                                                                                                                       |\n",
            "|   \"s_ship_ontime\": \"100%\"                                                                                                                                                                          |\n",
            "| },                                                                                                                                                                                                 |\n",
            "+----------------------------------------------------------------------------------------------------------------------------------------------------------------------------------------------------+\n",
            "only showing top 20 rows\n",
            "\n"
          ]
        }
      ]
    },
    {
      "cell_type": "code",
      "source": [
        "# Reading Parquet file into DataFrame\n",
        "df_parquet = spark.read.parquet(\"/content/drive/MyDrive/Colab Notebooks/dataSet/mtcars.parquet\")\n",
        "df_parquet.show()"
      ],
      "metadata": {
        "colab": {
          "base_uri": "https://localhost:8080/"
        },
        "id": "RX16ZKTpfV7e",
        "outputId": "b63e2997-62b5-4a19-9b32-e4daa131c8ed"
      },
      "execution_count": 46,
      "outputs": [
        {
          "output_type": "stream",
          "name": "stdout",
          "text": [
            "+-------------------+----+---+-----+---+----+-----+-----+---+---+----+----+\n",
            "|              model| mpg|cyl| disp| hp|drat|   wt| qsec| vs| am|gear|carb|\n",
            "+-------------------+----+---+-----+---+----+-----+-----+---+---+----+----+\n",
            "|          Mazda RX4|21.0|  6|160.0|110| 3.9| 2.62|16.46|  0|  1|   4|   4|\n",
            "|      Mazda RX4 Wag|21.0|  6|160.0|110| 3.9|2.875|17.02|  0|  1|   4|   4|\n",
            "|         Datsun 710|22.8|  4|108.0| 93|3.85| 2.32|18.61|  1|  1|   4|   1|\n",
            "|     Hornet 4 Drive|21.4|  6|258.0|110|3.08|3.215|19.44|  1|  0|   3|   1|\n",
            "|  Hornet Sportabout|18.7|  8|360.0|175|3.15| 3.44|17.02|  0|  0|   3|   2|\n",
            "|            Valiant|18.1|  6|225.0|105|2.76| 3.46|20.22|  1|  0|   3|   1|\n",
            "|         Duster 360|14.3|  8|360.0|245|3.21| 3.57|15.84|  0|  0|   3|   4|\n",
            "|          Merc 240D|24.4|  4|146.7| 62|3.69| 3.19| 20.0|  1|  0|   4|   2|\n",
            "|           Merc 230|22.8|  4|140.8| 95|3.92| 3.15| 22.9|  1|  0|   4|   2|\n",
            "|           Merc 280|19.2|  6|167.6|123|3.92| 3.44| 18.3|  1|  0|   4|   4|\n",
            "|          Merc 280C|17.8|  6|167.6|123|3.92| 3.44| 18.9|  1|  0|   4|   4|\n",
            "|         Merc 450SE|16.4|  8|275.8|180|3.07| 4.07| 17.4|  0|  0|   3|   3|\n",
            "|         Merc 450SL|17.3|  8|275.8|180|3.07| 3.73| 17.6|  0|  0|   3|   3|\n",
            "|        Merc 450SLC|15.2|  8|275.8|180|3.07| 3.78| 18.0|  0|  0|   3|   3|\n",
            "| Cadillac Fleetwood|10.4|  8|472.0|205|2.93| 5.25|17.98|  0|  0|   3|   4|\n",
            "|Lincoln Continental|10.4|  8|460.0|215| 3.0|5.424|17.82|  0|  0|   3|   4|\n",
            "|  Chrysler Imperial|14.7|  8|440.0|230|3.23|5.345|17.42|  0|  0|   3|   4|\n",
            "|           Fiat 128|32.4|  4| 78.7| 66|4.08|  2.2|19.47|  1|  1|   4|   1|\n",
            "|        Honda Civic|30.4|  4| 75.7| 52|4.93|1.615|18.52|  1|  1|   4|   2|\n",
            "|     Toyota Corolla|33.9|  4| 71.1| 65|4.22|1.835| 19.9|  1|  1|   4|   1|\n",
            "+-------------------+----+---+-----+---+----+-----+-----+---+---+----+----+\n",
            "only showing top 20 rows\n",
            "\n"
          ]
        }
      ]
    }
  ]
}