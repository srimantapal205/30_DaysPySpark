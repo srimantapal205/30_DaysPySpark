{
  "nbformat": 4,
  "nbformat_minor": 0,
  "metadata": {
    "colab": {
      "provenance": [],
      "authorship_tag": "ABX9TyOXf0I8Us5e8WWNeZkUr8lS"
    },
    "kernelspec": {
      "name": "python3",
      "display_name": "Python 3"
    },
    "language_info": {
      "name": "python"
    }
  },
  "cells": [
    {
      "cell_type": "markdown",
      "source": [
        "**a structured set of notes with code to cover changing data types, filtering data, and handling unique/distinct values in PySpark using the employee data:**"
      ],
      "metadata": {
        "id": "ijVRjfSU2ihU"
      }
    },
    {
      "cell_type": "code",
      "execution_count": 34,
      "metadata": {
        "id": "JKKH4zhWIOQV",
        "colab": {
          "base_uri": "https://localhost:8080/"
        },
        "outputId": "84174857-8f74-4bad-f469-77410d02b1cf"
      },
      "outputs": [
        {
          "output_type": "stream",
          "name": "stdout",
          "text": [
            "Mounted at /content/drive\n",
            "root\n",
            " |-- ID: integer (nullable = true)\n",
            " |-- Name: string (nullable = true)\n",
            " |-- Age: integer (nullable = true)\n",
            " |-- Salary: float (nullable = true)\n",
            " |-- Joining_Date: date (nullable = true)\n",
            " |-- Department: string (nullable = true)\n",
            " |-- Performance_Rating: integer (nullable = true)\n",
            " |-- Email: string (nullable = true)\n",
            " |-- Address: string (nullable = true)\n",
            " |-- Phone: string (nullable = true)\n",
            "\n",
            "+---+-------------+----+-------+------------+-----------+------------------+--------------------+------------------+------------+\n",
            "| ID|         Name| Age| Salary|Joining_Date| Department|Performance_Rating|               Email|           Address|       Phone|\n",
            "+---+-------------+----+-------+------------+-----------+------------------+--------------------+------------------+------------+\n",
            "|  1|Alice Johnson|  29|75000.0|  2021-03-15|Engineering|                 4|alice.johnson@exa...|123 Elm Street, NY|123-456-7890|\n",
            "|  2|    Bob Smith|  35|85000.0|  2020-08-20|  Marketing|                 5|bob.smith@example...|456 Oak Avenue, LA|987-654-3210|\n",
            "|  3|  Cathy Brown|  42|95000.0|  2019-11-10|    Finance|                 3|cathy.brown@examp...| 789 Pine Road, TX|567-890-1234|\n",
            "|  4|  David White|  30|67000.0|  2022-01-05|         HR|                 4|david.white@examp...|234 Maple Lane, IL|345-678-9012|\n",
            "|  5|    Eva Green|  28|72000.0|  2023-06-22|Engineering|                 5|eva.green@example...|321 Birch Blvd, FL|234-567-8901|\n",
            "|  6|        Alice|  29|55000.0|  2024-12-06|    Finance|                 6|   alice@example.com|235 Maple Lane, IL|345-678-9013|\n",
            "|  7|          Bob|NULL|38000.0|  2024-05-23|         HR|                 7|                Null|322 Birch Blvd, FL|234-567-8902|\n",
            "|  8|      Charlie|  27|21000.0|  2024-11-07|Engineering|                 8|     charlie@xyz.com|              Null|345-678-9014|\n",
            "|  9|         Emma|  31|40000.0|  2024-04-23|    Finance|                 9|        emma@abc.com|122 Elm Street, NY|234-567-8903|\n",
            "+---+-------------+----+-------+------------+-----------+------------------+--------------------+------------------+------------+\n",
            "\n"
          ]
        }
      ],
      "source": [
        "from pyspark.sql import SparkSession\n",
        "from pyspark.sql.types import *\n",
        "from pyspark.sql.functions import *  # Import the function\n",
        "spark = SparkSession.builder.getOrCreate()\n",
        "from pyspark.sql.functions import regexp_replace, col\n",
        "from google.colab import drive\n",
        "\n",
        "# Mount Google Drive with a longer timeout\n",
        "drive.mount('/content/drive', force_remount=True, timeout_ms=300000)\n",
        "\n",
        "df_employee_data = \"/content/drive/MyDrive/Colab Notebooks/dataSet/employee_data.csv\"\n",
        "employeeSechema = StructType([\n",
        "    StructField(\"ID\",IntegerType() ,True),\n",
        "    StructField(\"Name\",StringType() ,True),\n",
        "    StructField(\"Age\",IntegerType() ,True),\n",
        "    StructField(\"Salary\",FloatType() ,True),\n",
        "    StructField(\"Joining_Date\",DateType() ,True),\n",
        "    StructField(\"Department\",StringType() ,True),\n",
        "    StructField(\"Performance_Rating\",IntegerType() ,True),\n",
        "    StructField(\"Email\",StringType() ,True),\n",
        "    StructField(\"Address\",StringType() ,True),\n",
        "    StructField(\"Phone\",StringType() ,True)\n",
        "\n",
        "])\n",
        "# Load the DataFrame with the defined schema\n",
        "#df = spark.read.csv(path=df_employee_data, header=True, schema=employeeSechema)\n",
        "df = spark.read.load(path=\"/content/drive/MyDrive/Colab Notebooks/dataSet/employee_data.csv\", format=\"csv\", header = True, schema=employeeSechema)\n",
        "df.printSchema()\n",
        "df.show(50)"
      ]
    },
    {
      "cell_type": "markdown",
      "source": [
        "**Changing Data Types (Schema Transformation)**"
      ],
      "metadata": {
        "id": "J2PJD-Pv2vrV"
      }
    },
    {
      "cell_type": "code",
      "source": [
        "#Change the salary column from float to double\n",
        "newDf = df.withColumn(\"Salary\", col(\"Salary\").cast(\"double\"))\n",
        "newDf = newDf.withColumn(\"Phone\", regexp_replace(col(\"Phone\"), \"-\", \"\").cast(\"long\")) #Remove non-numeric characters\n",
        "\n",
        "\n",
        "newDf.printSchema()\n",
        "newDf.show()"
      ],
      "metadata": {
        "colab": {
          "base_uri": "https://localhost:8080/"
        },
        "id": "d8XP8rZF3OSd",
        "outputId": "b278f0d7-e59b-44a9-b36f-8faec1d01426"
      },
      "execution_count": 35,
      "outputs": [
        {
          "output_type": "stream",
          "name": "stdout",
          "text": [
            "root\n",
            " |-- ID: integer (nullable = true)\n",
            " |-- Name: string (nullable = true)\n",
            " |-- Age: integer (nullable = true)\n",
            " |-- Salary: double (nullable = true)\n",
            " |-- Joining_Date: date (nullable = true)\n",
            " |-- Department: string (nullable = true)\n",
            " |-- Performance_Rating: integer (nullable = true)\n",
            " |-- Email: string (nullable = true)\n",
            " |-- Address: string (nullable = true)\n",
            " |-- Phone: long (nullable = true)\n",
            "\n",
            "+---+-------------+----+-------+------------+-----------+------------------+--------------------+------------------+----------+\n",
            "| ID|         Name| Age| Salary|Joining_Date| Department|Performance_Rating|               Email|           Address|     Phone|\n",
            "+---+-------------+----+-------+------------+-----------+------------------+--------------------+------------------+----------+\n",
            "|  1|Alice Johnson|  29|75000.0|  2021-03-15|Engineering|                 4|alice.johnson@exa...|123 Elm Street, NY|1234567890|\n",
            "|  2|    Bob Smith|  35|85000.0|  2020-08-20|  Marketing|                 5|bob.smith@example...|456 Oak Avenue, LA|9876543210|\n",
            "|  3|  Cathy Brown|  42|95000.0|  2019-11-10|    Finance|                 3|cathy.brown@examp...| 789 Pine Road, TX|5678901234|\n",
            "|  4|  David White|  30|67000.0|  2022-01-05|         HR|                 4|david.white@examp...|234 Maple Lane, IL|3456789012|\n",
            "|  5|    Eva Green|  28|72000.0|  2023-06-22|Engineering|                 5|eva.green@example...|321 Birch Blvd, FL|2345678901|\n",
            "|  6|        Alice|  29|55000.0|  2024-12-06|    Finance|                 6|   alice@example.com|235 Maple Lane, IL|3456789013|\n",
            "|  7|          Bob|NULL|38000.0|  2024-05-23|         HR|                 7|                Null|322 Birch Blvd, FL|2345678902|\n",
            "|  8|      Charlie|  27|21000.0|  2024-11-07|Engineering|                 8|     charlie@xyz.com|              Null|3456789014|\n",
            "|  9|         Emma|  31|40000.0|  2024-04-23|    Finance|                 9|        emma@abc.com|122 Elm Street, NY|2345678903|\n",
            "+---+-------------+----+-------+------------+-----------+------------------+--------------------+------------------+----------+\n",
            "\n"
          ]
        }
      ]
    },
    {
      "cell_type": "markdown",
      "source": [
        "### Filtering Data"
      ],
      "metadata": {
        "id": "1nZJ-i-k7qVB"
      }
    },
    {
      "cell_type": "code",
      "source": [
        "# Filter rows where Salary is greater than 80,000\n",
        "filter_df = newDf.filter(col(\"Salary\")> 80000)\n",
        "filter_df.show()\n",
        "\n",
        "#Filtering rows where Age is not null\n",
        "filter_df_2 = newDf.filter(newDf[\"Age\"].isNotNull())\n",
        "filter_df_2.show()\n",
        "\n",
        "#Filtering rows where Age is not null\n",
        "filter_df_2 = newDf.filter(newDf[\"Age\"].isNull())\n",
        "filter_df_2.show()"
      ],
      "metadata": {
        "colab": {
          "base_uri": "https://localhost:8080/"
        },
        "id": "ibZfO7Sn4RSy",
        "outputId": "7f190a15-5b03-430f-d355-1e997a645f10"
      },
      "execution_count": 48,
      "outputs": [
        {
          "output_type": "stream",
          "name": "stdout",
          "text": [
            "+---+-----------+---+-------+------------+----------+------------------+--------------------+------------------+----------+\n",
            "| ID|       Name|Age| Salary|Joining_Date|Department|Performance_Rating|               Email|           Address|     Phone|\n",
            "+---+-----------+---+-------+------------+----------+------------------+--------------------+------------------+----------+\n",
            "|  2|  Bob Smith| 35|85000.0|  2020-08-20| Marketing|                 5|bob.smith@example...|456 Oak Avenue, LA|9876543210|\n",
            "|  3|Cathy Brown| 42|95000.0|  2019-11-10|   Finance|                 3|cathy.brown@examp...| 789 Pine Road, TX|5678901234|\n",
            "+---+-----------+---+-------+------------+----------+------------------+--------------------+------------------+----------+\n",
            "\n",
            "+---+-------------+---+-------+------------+-----------+------------------+--------------------+------------------+----------+\n",
            "| ID|         Name|Age| Salary|Joining_Date| Department|Performance_Rating|               Email|           Address|     Phone|\n",
            "+---+-------------+---+-------+------------+-----------+------------------+--------------------+------------------+----------+\n",
            "|  1|Alice Johnson| 29|75000.0|  2021-03-15|Engineering|                 4|alice.johnson@exa...|123 Elm Street, NY|1234567890|\n",
            "|  2|    Bob Smith| 35|85000.0|  2020-08-20|  Marketing|                 5|bob.smith@example...|456 Oak Avenue, LA|9876543210|\n",
            "|  3|  Cathy Brown| 42|95000.0|  2019-11-10|    Finance|                 3|cathy.brown@examp...| 789 Pine Road, TX|5678901234|\n",
            "|  4|  David White| 30|67000.0|  2022-01-05|         HR|                 4|david.white@examp...|234 Maple Lane, IL|3456789012|\n",
            "|  5|    Eva Green| 28|72000.0|  2023-06-22|Engineering|                 5|eva.green@example...|321 Birch Blvd, FL|2345678901|\n",
            "|  6|        Alice| 29|55000.0|  2024-12-06|    Finance|                 6|   alice@example.com|235 Maple Lane, IL|3456789013|\n",
            "|  8|      Charlie| 27|21000.0|  2024-11-07|Engineering|                 8|     charlie@xyz.com|              Null|3456789014|\n",
            "|  9|         Emma| 31|40000.0|  2024-04-23|    Finance|                 9|        emma@abc.com|122 Elm Street, NY|2345678903|\n",
            "+---+-------------+---+-------+------------+-----------+------------------+--------------------+------------------+----------+\n",
            "\n",
            "+---+----+----+-------+------------+----------+------------------+-----+------------------+----------+\n",
            "| ID|Name| Age| Salary|Joining_Date|Department|Performance_Rating|Email|           Address|     Phone|\n",
            "+---+----+----+-------+------------+----------+------------------+-----+------------------+----------+\n",
            "|  7| Bob|NULL|38000.0|  2024-05-23|        HR|                 7| Null|322 Birch Blvd, FL|2345678902|\n",
            "+---+----+----+-------+------------+----------+------------------+-----+------------------+----------+\n",
            "\n"
          ]
        }
      ]
    },
    {
      "cell_type": "markdown",
      "source": [
        "### 3. Multiple Filters (Chaining Conditions)"
      ],
      "metadata": {
        "id": "3xhOUfHs_bug"
      }
    },
    {
      "cell_type": "code",
      "source": [
        "#Filter rows where Age > 25 and Department is 'Engineering'\n",
        "\n",
        "multiFilter_df = newDf.filter((newDf[\"Age\"]>25) &(newDf[\"Department\"]==\"Engineering\"))\n",
        "multiFilter_df.show()"
      ],
      "metadata": {
        "colab": {
          "base_uri": "https://localhost:8080/"
        },
        "id": "JwyRiI988KkE",
        "outputId": "9de27599-10c1-4723-a02c-5f92cf41fdaf"
      },
      "execution_count": 40,
      "outputs": [
        {
          "output_type": "stream",
          "name": "stdout",
          "text": [
            "+---+-------------+---+-------+------------+-----------+------------------+--------------------+------------------+----------+\n",
            "| ID|         Name|Age| Salary|Joining_Date| Department|Performance_Rating|               Email|           Address|     Phone|\n",
            "+---+-------------+---+-------+------------+-----------+------------------+--------------------+------------------+----------+\n",
            "|  1|Alice Johnson| 29|75000.0|  2021-03-15|Engineering|                 4|alice.johnson@exa...|123 Elm Street, NY|1234567890|\n",
            "|  5|    Eva Green| 28|72000.0|  2023-06-22|Engineering|                 5|eva.green@example...|321 Birch Blvd, FL|2345678901|\n",
            "|  8|      Charlie| 27|21000.0|  2024-11-07|Engineering|                 8|     charlie@xyz.com|              Null|3456789014|\n",
            "+---+-------------+---+-------+------------+-----------+------------------+--------------------+------------------+----------+\n",
            "\n"
          ]
        }
      ]
    },
    {
      "cell_type": "markdown",
      "source": [
        "### 4. Filtering on Null or Non-Null Values"
      ],
      "metadata": {
        "id": "yV8GzSuwCOf1"
      }
    },
    {
      "cell_type": "code",
      "source": [
        "# Filter rows where 'Address' is NULL\n",
        "newDf.show()\n",
        "filter_null_df = newDf.filter(newDf[\"Address\"].isNull())\n",
        "filter_null_df.show()\n",
        "\n",
        "\n"
      ],
      "metadata": {
        "colab": {
          "base_uri": "https://localhost:8080/"
        },
        "id": "LUWRXswA_ijB",
        "outputId": "e64ab527-ef70-4b42-f95c-618abc7dba58"
      },
      "execution_count": 51,
      "outputs": [
        {
          "output_type": "stream",
          "name": "stdout",
          "text": [
            "+---+-------------+----+-------+------------+-----------+------------------+--------------------+------------------+----------+\n",
            "| ID|         Name| Age| Salary|Joining_Date| Department|Performance_Rating|               Email|           Address|     Phone|\n",
            "+---+-------------+----+-------+------------+-----------+------------------+--------------------+------------------+----------+\n",
            "|  1|Alice Johnson|  29|75000.0|  2021-03-15|Engineering|                 4|alice.johnson@exa...|123 Elm Street, NY|1234567890|\n",
            "|  2|    Bob Smith|  35|85000.0|  2020-08-20|  Marketing|                 5|bob.smith@example...|456 Oak Avenue, LA|9876543210|\n",
            "|  3|  Cathy Brown|  42|95000.0|  2019-11-10|    Finance|                 3|cathy.brown@examp...| 789 Pine Road, TX|5678901234|\n",
            "|  4|  David White|  30|67000.0|  2022-01-05|         HR|                 4|david.white@examp...|234 Maple Lane, IL|3456789012|\n",
            "|  5|    Eva Green|  28|72000.0|  2023-06-22|Engineering|                 5|eva.green@example...|321 Birch Blvd, FL|2345678901|\n",
            "|  6|        Alice|  29|55000.0|  2024-12-06|    Finance|                 6|   alice@example.com|235 Maple Lane, IL|3456789013|\n",
            "|  7|          Bob|NULL|38000.0|  2024-05-23|         HR|                 7|                Null|322 Birch Blvd, FL|2345678902|\n",
            "|  8|      Charlie|  27|21000.0|  2024-11-07|Engineering|                 8|     charlie@xyz.com|              Null|3456789014|\n",
            "|  9|         Emma|  31|40000.0|  2024-04-23|    Finance|                 9|        emma@abc.com|122 Elm Street, NY|2345678903|\n",
            "+---+-------------+----+-------+------------+-----------+------------------+--------------------+------------------+----------+\n",
            "\n",
            "+---+----+---+------+------------+----------+------------------+-----+-------+-----+\n",
            "| ID|Name|Age|Salary|Joining_Date|Department|Performance_Rating|Email|Address|Phone|\n",
            "+---+----+---+------+------------+----------+------------------+-----+-------+-----+\n",
            "+---+----+---+------+------------+----------+------------------+-----+-------+-----+\n",
            "\n"
          ]
        }
      ]
    },
    {
      "cell_type": "code",
      "source": [],
      "metadata": {
        "id": "DzamkQuKCtso"
      },
      "execution_count": null,
      "outputs": []
    }
  ]
}