{
  "cells": [
    {
      "cell_type": "code",
      "execution_count": 1,
      "metadata": {
        "id": "K9R9pyy1gU2Z"
      },
      "outputs": [],
      "source": [
        "from pyspark.sql import SparkSession\n",
        "from pyspark.sql.types import *\n",
        "from pyspark.sql.functions import *  # Import the function\n",
        "spark = SparkSession.builder.getOrCreate()\n",
        "from pyspark.sql.functions import regexp_replace, col\n",
        "from google.colab import drive\n",
        "\n",
        "# Mount Google Drive with a longer timeout\n",
        "# drive.mount('/content/drive', force_remount=True, timeout_ms=300000)\n",
        "\n",
        "# df_employee_data = \"/content/drive/MyDrive/Colab Notebooks/dataSet/employee_data.csv\"\n",
        "# employeeSechema = StructType([\n",
        "#     StructField(\"ID\",IntegerType() ,True),\n",
        "#     StructField(\"Name\",StringType() ,True),\n",
        "#     StructField(\"Age\",IntegerType() ,True),\n",
        "#     StructField(\"Salary\",FloatType() ,True),\n",
        "#     StructField(\"Joining_Date\",DateType() ,True),\n",
        "#     StructField(\"Department\",StringType() ,True),\n",
        "#     StructField(\"Performance_Rating\",IntegerType() ,True),\n",
        "#     StructField(\"Email\",StringType() ,True),\n",
        "#     StructField(\"Address\",StringType() ,True),\n",
        "#     StructField(\"Phone\",StringType() ,True)\n",
        "\n",
        "# ])\n",
        "# # Load the DataFrame with the defined schema\n",
        "# #df = spark.read.csv(path=df_employee_data, header=True, schema=employeeSechema)\n",
        "# df = spark.read.load(path=\"/content/drive/MyDrive/Colab Notebooks/dataSet/employee_data.csv\", format=\"csv\", header = True, schema=employeeSechema)\n",
        "# df.printSchema()\n",
        "# df.show(50)"
      ]
    },
    {
      "cell_type": "markdown",
      "source": [
        "## Aggregate function in Dataframe – Part 1"
      ],
      "metadata": {
        "id": "knP5wytcsBpZ"
      }
    },
    {
      "cell_type": "code",
      "source": [
        "# Create sample data\n",
        "data = [\n",
        "      Row(id=1, value=10),\n",
        "      Row(id=2, value=20),\n",
        "      Row(id=3, value=30),\n",
        "      Row(id=4, value=None),\n",
        "      Row(id=5, value=40),\n",
        "      Row(id=6, value=20)\n",
        "   ]\n",
        "# Create DataFrame\n",
        "df = spark.createDataFrame(data)\n",
        "# Show the DataFrame\n",
        "df.show()\n"
      ],
      "metadata": {
        "colab": {
          "base_uri": "https://localhost:8080/"
        },
        "id": "Vt1te3ktVd2a",
        "outputId": "347945e0-9cfc-4174-db22-ef99ead27c96"
      },
      "execution_count": 2,
      "outputs": [
        {
          "output_type": "stream",
          "name": "stdout",
          "text": [
            "+---+-----+\n",
            "| id|value|\n",
            "+---+-----+\n",
            "|  1|   10|\n",
            "|  2|   20|\n",
            "|  3|   30|\n",
            "|  4| NULL|\n",
            "|  5|   40|\n",
            "|  6|   20|\n",
            "+---+-----+\n",
            "\n"
          ]
        }
      ]
    },
    {
      "cell_type": "markdown",
      "source": [
        "### 1.Summation (sum): Sums up the values in a specified column."
      ],
      "metadata": {
        "id": "hhNBHWhQV_IK"
      }
    },
    {
      "cell_type": "code",
      "source": [
        "total_sum = df.select(sum(\"value\")).show()"
      ],
      "metadata": {
        "colab": {
          "base_uri": "https://localhost:8080/"
        },
        "id": "Jw9-mHgqWA8l",
        "outputId": "afeab3b1-7a8c-4054-d524-467d5f91003d"
      },
      "execution_count": 3,
      "outputs": [
        {
          "output_type": "stream",
          "name": "stdout",
          "text": [
            "+----------+\n",
            "|sum(value)|\n",
            "+----------+\n",
            "|       120|\n",
            "+----------+\n",
            "\n"
          ]
        }
      ]
    },
    {
      "cell_type": "markdown",
      "source": [
        "### 2.average of the values in a specified column."
      ],
      "metadata": {
        "id": "ymdYr8jCWe2u"
      }
    },
    {
      "cell_type": "code",
      "source": [
        "avarage_value = df.select(avg(\"value\")).show()"
      ],
      "metadata": {
        "colab": {
          "base_uri": "https://localhost:8080/"
        },
        "id": "xNZrE5gGWN1G",
        "outputId": "9ec89088-3248-4ed5-8487-87c8563127de"
      },
      "execution_count": 4,
      "outputs": [
        {
          "output_type": "stream",
          "name": "stdout",
          "text": [
            "+----------+\n",
            "|avg(value)|\n",
            "+----------+\n",
            "|      24.0|\n",
            "+----------+\n",
            "\n"
          ]
        }
      ]
    },
    {
      "cell_type": "markdown",
      "source": [
        "### 3.Count (count): Counts the number of non-null values in a specified column."
      ],
      "metadata": {
        "id": "RSh6ZXv0Wu_q"
      }
    },
    {
      "cell_type": "code",
      "source": [
        "non_null_count = df.select(count(\"value\")).show()"
      ],
      "metadata": {
        "colab": {
          "base_uri": "https://localhost:8080/"
        },
        "id": "EXAycrynWrV7",
        "outputId": "49ca70e4-24d1-4ee7-b30a-3c797ff3281b"
      },
      "execution_count": 5,
      "outputs": [
        {
          "output_type": "stream",
          "name": "stdout",
          "text": [
            "+------------+\n",
            "|count(value)|\n",
            "+------------+\n",
            "|           5|\n",
            "+------------+\n",
            "\n"
          ]
        }
      ]
    },
    {
      "cell_type": "markdown",
      "source": [
        "### 4.Maximum (max) and Minimum (min):\n",
        "* Finds the maximum and minimum values in a specified column"
      ],
      "metadata": {
        "id": "pE-6Pe-GW_z0"
      }
    },
    {
      "cell_type": "code",
      "source": [
        "max_min_value = df.select(max(\"value\"), min(\"value\")).show()"
      ],
      "metadata": {
        "colab": {
          "base_uri": "https://localhost:8080/"
        },
        "id": "DL8AuZS5W-ep",
        "outputId": "ebcaa45b-be3d-448a-80a6-da1b329399ad"
      },
      "execution_count": 6,
      "outputs": [
        {
          "output_type": "stream",
          "name": "stdout",
          "text": [
            "+----------+----------+\n",
            "|max(value)|min(value)|\n",
            "+----------+----------+\n",
            "|        40|        10|\n",
            "+----------+----------+\n",
            "\n"
          ]
        }
      ]
    },
    {
      "cell_type": "markdown",
      "source": [
        "### Distinct Values Count (countDistinct):\n",
        "  * Counts the number of distinct values in a specified column."
      ],
      "metadata": {
        "id": "2loPSMbCXfNU"
      }
    },
    {
      "cell_type": "code",
      "source": [
        "distinct_count = df.select(count_distinct(\"value\")).show()"
      ],
      "metadata": {
        "colab": {
          "base_uri": "https://localhost:8080/"
        },
        "id": "-Kni93BKXXld",
        "outputId": "6fa70110-1565-4c94-9955-61886e29dfd3"
      },
      "execution_count": 7,
      "outputs": [
        {
          "output_type": "stream",
          "name": "stdout",
          "text": [
            "+---------------------+\n",
            "|count(DISTINCT value)|\n",
            "+---------------------+\n",
            "|                    4|\n",
            "+---------------------+\n",
            "\n"
          ]
        }
      ]
    },
    {
      "cell_type": "code",
      "source": [],
      "metadata": {
        "id": "jqujSyXcXx9o"
      },
      "execution_count": 7,
      "outputs": []
    },
    {
      "cell_type": "markdown",
      "source": [
        "### Notes:\n",
        "* Handling Nulls: The count function will count only non-null values, while sum, avg, max, and min will ignore null values in their calculations.\n",
        "* Performance: Aggregate functions can be resource-intensive, especially on large datasets. Using the appropriate partitioning can improve performance.\n",
        "* Use Cases:\n",
        "  * **Summation:** Useful for calculating total sales, total revenue, etc.\n",
        "  * **Average:** Helpful for finding average metrics like average sales per day.\n",
        "  * **Count:** Useful for counting occurrences, such as the number of transactions.\n",
        "  * **Max/Min:** Helps to determine the highest and lowest values, such as maximum  sales on a specific day.\n",
        "  * **Distinct Count:** Useful for finding unique items, like unique customers or products.\n",
        "\n",
        "\n",
        "  "
      ],
      "metadata": {
        "id": "xaM2BXVlX4_k"
      }
    },
    {
      "cell_type": "markdown",
      "source": [
        "## Aggregate function in Dataframe – Part 2"
      ],
      "metadata": {
        "id": "tPgx-V83NvlJ"
      }
    },
    {
      "cell_type": "code",
      "source": [
        "# Create Spark session\n",
        "spark = SparkSession.builder.appName(\"AggregationExamples\").getOrCreate()\n",
        "# Sample data\n",
        "dataItem = [\n",
        "    (\"HR\", 10000, 500, \"John\"),\n",
        "    (\"Finance\", 20000, 1500, \"Doe\"),\n",
        "    (\"HR\", 15000, 1000, \"Alice\"),\n",
        "    (\"Finance\", 25000, 2000, \"Eve\"),\n",
        "    (\"HR\", 20000, 1500, \"Mark\")\n",
        "    ]\n",
        "# Define schema\n",
        "schema = StructType([\n",
        "     StructField(\"department\", StringType(), True),\n",
        "     StructField(\"salary\", IntegerType(), True),\n",
        "     StructField(\"bonus\", IntegerType(), True),\n",
        "     StructField(\"employee_name\", StringType(), True)\n",
        "     ])\n",
        "# Create DataFrame\n",
        "df = spark.createDataFrame(dataItem, schema)\n",
        "df.show()\n"
      ],
      "metadata": {
        "id": "Cv1Ami_IYYoC",
        "colab": {
          "base_uri": "https://localhost:8080/"
        },
        "outputId": "655c3a38-c8ff-4b42-aaec-f8a3a8e9c71c"
      },
      "execution_count": 8,
      "outputs": [
        {
          "output_type": "stream",
          "name": "stdout",
          "text": [
            "+----------+------+-----+-------------+\n",
            "|department|salary|bonus|employee_name|\n",
            "+----------+------+-----+-------------+\n",
            "|        HR| 10000|  500|         John|\n",
            "|   Finance| 20000| 1500|          Doe|\n",
            "|        HR| 15000| 1000|        Alice|\n",
            "|   Finance| 25000| 2000|          Eve|\n",
            "|        HR| 20000| 1500|         Mark|\n",
            "+----------+------+-----+-------------+\n",
            "\n"
          ]
        }
      ]
    },
    {
      "cell_type": "markdown",
      "source": [
        "### 1. Grouped Aggregation"
      ],
      "metadata": {
        "id": "Zh_AXtNMO5Tu"
      }
    },
    {
      "cell_type": "code",
      "source": [
        "\n",
        "df.groupBy(\"department\").agg(\n",
        "    sum(\"salary\").alias(\"Total_Sum_Salary\"),\n",
        "    avg(\"salary\").alias(\"Avaarage_Salary\"),\n",
        "    max(\"salary\").alias(\"Max_Salary\"),\n",
        "    min(\"salary\").alias(\"Min_Salary\")\n",
        ").show()"
      ],
      "metadata": {
        "id": "51WAlJxrYltE",
        "colab": {
          "base_uri": "https://localhost:8080/"
        },
        "outputId": "c3db1a1c-55ac-4531-c3b5-cfacc90fa00f"
      },
      "execution_count": 9,
      "outputs": [
        {
          "output_type": "stream",
          "name": "stdout",
          "text": [
            "+----------+----------------+---------------+----------+----------+\n",
            "|department|Total_Sum_Salary|Avaarage_Salary|Max_Salary|Min_Salary|\n",
            "+----------+----------------+---------------+----------+----------+\n",
            "|        HR|           45000|        15000.0|     20000|     10000|\n",
            "|   Finance|           45000|        22500.0|     25000|     20000|\n",
            "+----------+----------------+---------------+----------+----------+\n",
            "\n"
          ]
        }
      ]
    },
    {
      "cell_type": "markdown",
      "source": [
        "**Explanation:**\n",
        "* sum: Adds the values in the group for column1.\n",
        "* avg: Calculates the average value of column1 in each group.\n",
        "* max: Finds the maximum value.\n",
        "* min: Finds the minimum value."
      ],
      "metadata": {
        "id": "2mfmHahJql1e"
      }
    },
    {
      "cell_type": "markdown",
      "source": [
        "### 2. Multiple Aggregations"
      ],
      "metadata": {
        "id": "KnW9Eq3tQtKB"
      }
    },
    {
      "cell_type": "code",
      "source": [
        "df.groupBy(\"department\").agg(\n",
        "    sum(\"salary\").alias(\"Total_Sum_Salary\"),\n",
        "    avg(\"bonus\").alias(\"Avaarage_Bonus\"),\n",
        "    max(\"salary\").alias(\"Max_Salary\"),\n",
        ").show()"
      ],
      "metadata": {
        "colab": {
          "base_uri": "https://localhost:8080/"
        },
        "id": "FrL2x05mQioI",
        "outputId": "c67fdd3b-d4ac-429e-ff11-67518c2667d1"
      },
      "execution_count": 10,
      "outputs": [
        {
          "output_type": "stream",
          "name": "stdout",
          "text": [
            "+----------+----------------+--------------+----------+\n",
            "|department|Total_Sum_Salary|Avaarage_Bonus|Max_Salary|\n",
            "+----------+----------------+--------------+----------+\n",
            "|        HR|           45000|        1000.0|     20000|\n",
            "|   Finance|           45000|        1750.0|     25000|\n",
            "+----------+----------------+--------------+----------+\n",
            "\n"
          ]
        }
      ]
    },
    {
      "cell_type": "markdown",
      "source": [
        "**Explanation:**\n",
        " * count: Counts the number of rows in each group.\n",
        " * avg: Computes the average of column2.\n",
        " * max: Finds the maximum value in column1."
      ],
      "metadata": {
        "id": "sFFJqXwhqdb1"
      }
    },
    {
      "cell_type": "markdown",
      "source": [
        "### 3. Concatenate Strings"
      ],
      "metadata": {
        "id": "_klEEX7-RMrL"
      }
    },
    {
      "cell_type": "code",
      "source": [
        "df.agg(concat_ws(\", \", collect_list(\"employee_name\")).alias(\"concatenated_names\")).show()\n"
      ],
      "metadata": {
        "colab": {
          "base_uri": "https://localhost:8080/"
        },
        "id": "Pke2R3qgROQ8",
        "outputId": "3f2dcb67-8237-4a76-c785-1e7edfb93450"
      },
      "execution_count": 13,
      "outputs": [
        {
          "output_type": "stream",
          "name": "stdout",
          "text": [
            "+--------------------+\n",
            "|  concatenated_names|\n",
            "+--------------------+\n",
            "|John, Doe, Alice,...|\n",
            "+--------------------+\n",
            "\n"
          ]
        }
      ]
    },
    {
      "cell_type": "code",
      "source": [
        "df.groupBy(\"department\").agg(\n",
        "    concat_ws(\", \", collect_list(\"employee_name\")).alias(\"concated_names\")\n",
        ").show()"
      ],
      "metadata": {
        "id": "KXCZc1LOR1b0",
        "outputId": "02236032-a020-4eb6-89f2-5dee782af81f",
        "colab": {
          "base_uri": "https://localhost:8080/"
        }
      },
      "execution_count": 14,
      "outputs": [
        {
          "output_type": "stream",
          "name": "stdout",
          "text": [
            "+----------+-----------------+\n",
            "|department|   concated_names|\n",
            "+----------+-----------------+\n",
            "|        HR|John, Alice, Mark|\n",
            "|   Finance|         Doe, Eve|\n",
            "+----------+-----------------+\n",
            "\n"
          ]
        }
      ]
    },
    {
      "cell_type": "markdown",
      "source": [
        "**Explanation:**\n",
        "\n",
        "* concat_ws: Concatenates string values within the column, separating them by the specified delimiter (, )."
      ],
      "metadata": {
        "id": "A8NqGuGpqWTf"
      }
    },
    {
      "cell_type": "markdown",
      "source": [
        "### 4. First and Last"
      ],
      "metadata": {
        "id": "FH1Gp5Yuptpg"
      }
    },
    {
      "cell_type": "code",
      "source": [
        "df.groupBy(\"department\").agg(\n",
        "    first(\"employee_name\"),\n",
        "    last(\"employee_name\")\n",
        ").show()"
      ],
      "metadata": {
        "id": "Ae1x53GIpmGe",
        "outputId": "8d0072d5-56b4-46fa-c6d6-f87483adcec2",
        "colab": {
          "base_uri": "https://localhost:8080/"
        }
      },
      "execution_count": 15,
      "outputs": [
        {
          "output_type": "stream",
          "name": "stdout",
          "text": [
            "+----------+--------------------+-------------------+\n",
            "|department|first(employee_name)|last(employee_name)|\n",
            "+----------+--------------------+-------------------+\n",
            "|   Finance|                 Doe|                Eve|\n",
            "|        HR|                John|               Mark|\n",
            "+----------+--------------------+-------------------+\n",
            "\n"
          ]
        }
      ]
    },
    {
      "cell_type": "markdown",
      "source": [
        "**Explanation:**\n",
        "\n",
        "* first: Retrieves the first value of the name column within each group.\n",
        "* last: Retrieves the last value of the name column within each group."
      ],
      "metadata": {
        "id": "dze2-yQbqKZ0"
      }
    },
    {
      "cell_type": "markdown",
      "source": [
        "## 5. Standard Deviation and Variance"
      ],
      "metadata": {
        "id": "RdI7nOeJqR16"
      }
    },
    {
      "cell_type": "code",
      "source": [
        "df.show()"
      ],
      "metadata": {
        "id": "nm564wzqq5IY",
        "outputId": "1be3f234-a978-444f-e45f-c0f9fa225712",
        "colab": {
          "base_uri": "https://localhost:8080/"
        }
      },
      "execution_count": 16,
      "outputs": [
        {
          "output_type": "stream",
          "name": "stdout",
          "text": [
            "+----------+------+-----+-------------+\n",
            "|department|salary|bonus|employee_name|\n",
            "+----------+------+-----+-------------+\n",
            "|        HR| 10000|  500|         John|\n",
            "|   Finance| 20000| 1500|          Doe|\n",
            "|        HR| 15000| 1000|        Alice|\n",
            "|   Finance| 25000| 2000|          Eve|\n",
            "|        HR| 20000| 1500|         Mark|\n",
            "+----------+------+-----+-------------+\n",
            "\n"
          ]
        }
      ]
    },
    {
      "cell_type": "code",
      "source": [
        "df.select(stddev(\"salary\"), variance(\"salary\")).show()"
      ],
      "metadata": {
        "id": "MoTSoom6qGcO",
        "outputId": "98536b3a-9459-4625-8530-67e42552c348",
        "colab": {
          "base_uri": "https://localhost:8080/"
        }
      },
      "execution_count": 17,
      "outputs": [
        {
          "output_type": "stream",
          "name": "stdout",
          "text": [
            "+----------------+----------------+\n",
            "|  stddev(salary)|var_samp(salary)|\n",
            "+----------------+----------------+\n",
            "|5700.87712549569|          3.25E7|\n",
            "+----------------+----------------+\n",
            "\n"
          ]
        }
      ]
    },
    {
      "cell_type": "markdown",
      "source": [
        "**Explanation:**\n",
        "* stddev: Calculates the standard deviation of column.\n",
        "* variance: Calculates the variance of column."
      ],
      "metadata": {
        "id": "tDlCDYC4rJzv"
      }
    },
    {
      "cell_type": "markdown",
      "source": [
        "### 6. Aggregation with Alias"
      ],
      "metadata": {
        "id": "VuNChlA0rP0t"
      }
    },
    {
      "cell_type": "code",
      "source": [
        "df.agg(\n",
        "    sum(\"salary\").alias(\"Total_Salary\"),\n",
        "    avg(\"salary\").alias(\"Avarage_Salary\")\n",
        ").show()"
      ],
      "metadata": {
        "id": "U8h4-Z-FrTDc",
        "outputId": "e5a51840-f4b8-440b-ae5c-330302d75dbb",
        "colab": {
          "base_uri": "https://localhost:8080/"
        }
      },
      "execution_count": 18,
      "outputs": [
        {
          "output_type": "stream",
          "name": "stdout",
          "text": [
            "+------------+--------------+\n",
            "|Total_Salary|Avarage_Salary|\n",
            "+------------+--------------+\n",
            "|       90000|       18000.0|\n",
            "+------------+--------------+\n",
            "\n"
          ]
        }
      ]
    },
    {
      "cell_type": "markdown",
      "source": [
        "**Explanation:**\n",
        "* alias(): Used to rename the resulting columns from the aggregation."
      ],
      "metadata": {
        "id": "RQEiNmixrxKQ"
      }
    },
    {
      "cell_type": "markdown",
      "source": [
        "### 7. Sum of Distinct Values"
      ],
      "metadata": {
        "id": "mDm6dj9trw5o"
      }
    },
    {
      "cell_type": "code",
      "source": [
        "df.select(\n",
        "    sum_distinct(\"salary\")\n",
        ").show()"
      ],
      "metadata": {
        "id": "RYJlyn5crwaA",
        "outputId": "9ce4554d-84fa-49ed-f52b-f989f21dd08c",
        "colab": {
          "base_uri": "https://localhost:8080/"
        }
      },
      "execution_count": 20,
      "outputs": [
        {
          "output_type": "stream",
          "name": "stdout",
          "text": [
            "+--------------------+\n",
            "|sum(DISTINCT salary)|\n",
            "+--------------------+\n",
            "|               70000|\n",
            "+--------------------+\n",
            "\n"
          ]
        }
      ]
    },
    {
      "cell_type": "markdown",
      "source": [
        "**Explanation:**\n",
        "* sum_distinct: Sums only the distinct values in column. This avoids counting duplicates"
      ],
      "metadata": {
        "id": "W5xUrrISsQyy"
      }
    }
  ],
  "metadata": {
    "colab": {
      "provenance": []
    },
    "kernelspec": {
      "display_name": "Python 3",
      "name": "python3"
    },
    "language_info": {
      "name": "python"
    }
  },
  "nbformat": 4,
  "nbformat_minor": 0
}