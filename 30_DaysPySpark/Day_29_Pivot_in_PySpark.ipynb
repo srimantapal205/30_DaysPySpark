{
  "cells": [
    {
      "cell_type": "markdown",
      "source": [
        "# Pivot in PySpark"
      ],
      "metadata": {
        "id": "Xq9finA0CveE"
      }
    },
    {
      "cell_type": "markdown",
      "source": [
        "The pivot operation in PySpark is used to transpose rows into columns based on a specified column's unique values. It's particularly useful for creating wide-format data where values in one column become new column headers, and corresponding values from another column fill those headers."
      ],
      "metadata": {
        "id": "hACnNFZCC10l"
      }
    },
    {
      "cell_type": "markdown",
      "source": [
        "```\n",
        "dataframae.groupBy(\"group_column\").pivot(\"pivot_column\").agg(aggregation_function)\n",
        "```\n",
        "\n"
      ],
      "metadata": {
        "id": "DTVBM92IC8Td"
      }
    },
    {
      "cell_type": "code",
      "execution_count": 8,
      "metadata": {
        "id": "K9R9pyy1gU2Z"
      },
      "outputs": [],
      "source": [
        "from pyspark.sql import SparkSession\n",
        "from pyspark.sql.types import *\n",
        "from pyspark.sql.functions import *  # Import the function\n",
        "spark = SparkSession.builder.getOrCreate()\n",
        "from pyspark.sql.functions import regexp_replace, col\n",
        "from google.colab import drive\n"
      ]
    },
    {
      "cell_type": "markdown",
      "source": [
        "#### Code Implementation"
      ],
      "metadata": {
        "id": "qOuBgPmkQglz"
      }
    },
    {
      "cell_type": "code",
      "source": [
        "#Create Data\n",
        "data =[\n",
        "    (\"A\", \"North\", 1000),\n",
        "    (\"A\", \"South\", 1500),\n",
        "    (\"B\", \"North\", 2000),\n",
        "    (\"B\", \"South\", 1250),\n",
        "    (\"C\", \"North\", 3000)\n",
        "    ]\n",
        "#Create Schema\n",
        "columns = [\"Product\", \"Region\", \"Sales\"]\n",
        "\n",
        "#Create DataFrame\n",
        "df = spark.createDataFrame(data, columns)\n",
        "\n",
        "# Disply the Data\n",
        "df.show()\n",
        "\n",
        "# Create Pivode data frame\n",
        "pivot_df = df.groupBy(\"Product\").pivot(\"Region\").agg(sum(\"Sales\"))\n",
        "\n",
        "#Disply pivot data freame\n",
        "pivot_df.show()\n",
        "\n"
      ],
      "metadata": {
        "id": "a3RlXYjSQdRY",
        "outputId": "e483169a-fb01-4975-f7eb-b825a583c077",
        "colab": {
          "base_uri": "https://localhost:8080/"
        }
      },
      "execution_count": 10,
      "outputs": [
        {
          "output_type": "stream",
          "name": "stdout",
          "text": [
            "+-------+------+-----+\n",
            "|Product|Region|Sales|\n",
            "+-------+------+-----+\n",
            "|      A| North| 1000|\n",
            "|      A| South| 1500|\n",
            "|      B| North| 2000|\n",
            "|      B| South| 1250|\n",
            "|      C| North| 3000|\n",
            "+-------+------+-----+\n",
            "\n",
            "+-------+-----+-----+\n",
            "|Product|North|South|\n",
            "+-------+-----+-----+\n",
            "|      B| 2000| 1250|\n",
            "|      C| 3000| NULL|\n",
            "|      A| 1000| 1500|\n",
            "+-------+-----+-----+\n",
            "\n"
          ]
        }
      ]
    },
    {
      "cell_type": "code",
      "source": [],
      "metadata": {
        "id": "XX0nP-JcRMGv"
      },
      "execution_count": 2,
      "outputs": []
    }
  ],
  "metadata": {
    "colab": {
      "provenance": []
    },
    "kernelspec": {
      "display_name": "Python 3",
      "name": "python3"
    },
    "language_info": {
      "name": "python"
    }
  },
  "nbformat": 4,
  "nbformat_minor": 0
}