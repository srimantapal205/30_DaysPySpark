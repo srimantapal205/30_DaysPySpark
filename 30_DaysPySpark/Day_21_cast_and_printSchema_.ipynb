{
  "cells": [
    {
      "cell_type": "markdown",
      "source": [
        "# Key Notes on cast() and printSchema()"
      ],
      "metadata": {
        "id": "45Ni3JSb-YYU"
      }
    },
    {
      "cell_type": "markdown",
      "source": [
        "In PySpark, the cast() function is used to change the data type of a column within a DataFrame. This is helpful when you need to standardize column data types for data processing, schema consistency, or compatibility with other operations.\n",
        "\n",
        "* Basic Syntax for cast()\n",
        "\n",
        "```\n",
        "# This is formatted as code\n",
        "from pyspark.sql.functions import col\n",
        "\n",
        "# Single column cast\n",
        "df = df.withColumn(\"column_name\", col(\"column_name\").cast(\"target_data_type\"))\n",
        "\n",
        "# Multiple columns cast with select\n",
        "cast_expr = [ col(\"column1_name\").cast(\"target_data_type1\"),\n",
        "col(\"column2_name\").cast(\"target_data_type2\"),\n",
        "# More columns and data types as needed\n",
        "]\n",
        "\n",
        "\n",
        "df = df.select(*cast_expr)\n",
        "\n",
        "\n",
        "```\n",
        "\n"
      ],
      "metadata": {
        "id": "COHjapM0-eB3"
      }
    },
    {
      "cell_type": "code",
      "execution_count": 1,
      "metadata": {
        "id": "K9R9pyy1gU2Z"
      },
      "outputs": [],
      "source": [
        "from pyspark.sql import SparkSession\n",
        "from pyspark.sql.types import *\n",
        "from pyspark.sql.functions import *  # Import the function\n",
        "spark = SparkSession.builder.getOrCreate()\n",
        "from pyspark.sql.functions import regexp_replace, col\n",
        "from google.colab import drive\n"
      ]
    },
    {
      "cell_type": "markdown",
      "source": [
        "### Example\n",
        "Let's create a dataset and apply cast() to change the data types of multiple columns"
      ],
      "metadata": {
        "id": "kSTxfG_QALs8"
      }
    },
    {
      "cell_type": "code",
      "source": [
        "#Defimne the schema for the dataset\n",
        "schema = StructType([\n",
        "    StructField(\"name\", StringType(), True),\n",
        "    StructField(\"age\", StringType(), True), # Storage as StringType initially\n",
        "    StructField(\"height\", StringType(), True) # Stored as StringType initially\n",
        "])\n",
        "\n",
        "# Create Sample dataset\n",
        "data = [\n",
        "    (\"Alice\", \"25\", \"160.5\"),\n",
        "    (\"Bob\", \"30\", \"175.2\"),\n",
        "    (\"Charlie\", \"22\", \"180\")\n",
        "]\n",
        "\n",
        "#Create DataFrame\n",
        "df = spark.createDataFrame(data, schema)\n",
        "\n",
        "#Print the schema and  display the data\n",
        "df.printSchema()\n",
        "df.show()\n",
        "\n",
        "\n",
        "\n"
      ],
      "metadata": {
        "id": "xHkS7Hsj-dRw",
        "outputId": "32e549fd-4cd8-4485-a649-27222b7bb63c",
        "colab": {
          "base_uri": "https://localhost:8080/"
        }
      },
      "execution_count": 5,
      "outputs": [
        {
          "output_type": "stream",
          "name": "stdout",
          "text": [
            "root\n",
            " |-- name: string (nullable = true)\n",
            " |-- age: string (nullable = true)\n",
            " |-- height: string (nullable = true)\n",
            "\n",
            "+-------+---+------+\n",
            "|   name|age|height|\n",
            "+-------+---+------+\n",
            "|  Alice| 25| 160.5|\n",
            "|    Bob| 30| 175.2|\n",
            "|Charlie| 22|   180|\n",
            "+-------+---+------+\n",
            "\n"
          ]
        }
      ]
    },
    {
      "cell_type": "code",
      "source": [
        "# Define cast expression for multiple column\n",
        "cast_expr = [\n",
        "    col(\"name\").cast('string'),\n",
        "    col(\"age\").cast(\"int\"), # casting age to integertype\n",
        "    col(\"height\").cast(\"double\") # casting height to doubletype\n",
        "\n",
        "]\n",
        "\n",
        "#Apply the cast expressions to the Dataframe\n",
        "df = df.select(*cast_expr)\n",
        "\n",
        "#Show the result\n",
        "df.printSchema()\n",
        "df.show()\n",
        "\n"
      ],
      "metadata": {
        "id": "RC8Gqu-5CKl-",
        "outputId": "c41d3314-e7ae-4873-f47c-9cabed6aad0b",
        "colab": {
          "base_uri": "https://localhost:8080/"
        }
      },
      "execution_count": 6,
      "outputs": [
        {
          "output_type": "stream",
          "name": "stdout",
          "text": [
            "root\n",
            " |-- name: string (nullable = true)\n",
            " |-- age: integer (nullable = true)\n",
            " |-- height: double (nullable = true)\n",
            "\n",
            "+-------+---+------+\n",
            "|   name|age|height|\n",
            "+-------+---+------+\n",
            "|  Alice| 25| 160.5|\n",
            "|    Bob| 30| 175.2|\n",
            "|Charlie| 22| 180.0|\n",
            "+-------+---+------+\n",
            "\n"
          ]
        }
      ]
    },
    {
      "cell_type": "code",
      "source": [],
      "metadata": {
        "id": "sp7pA8PLEBm-"
      },
      "execution_count": null,
      "outputs": []
    },
    {
      "cell_type": "markdown",
      "source": [
        "### Advantages of Using cast()\n",
        "* Schema Alignment: Ensures data types in different tables or DataFrames are compatible for joining or union operations.\n",
        "* Data Consistency: Ensures all columns conform to expected data types for downstream data processing.\n",
        "* Error Reduction: Minimizes issues arising from mismatched data types in computations or transformations."
      ],
      "metadata": {
        "id": "s8HLdxFHEV5j"
      }
    },
    {
      "cell_type": "code",
      "source": [],
      "metadata": {
        "id": "RD_DNnb8Ecxv"
      },
      "execution_count": null,
      "outputs": []
    }
  ],
  "metadata": {
    "colab": {
      "provenance": []
    },
    "kernelspec": {
      "display_name": "Python 3",
      "name": "python3"
    },
    "language_info": {
      "name": "python"
    }
  },
  "nbformat": 4,
  "nbformat_minor": 0
}