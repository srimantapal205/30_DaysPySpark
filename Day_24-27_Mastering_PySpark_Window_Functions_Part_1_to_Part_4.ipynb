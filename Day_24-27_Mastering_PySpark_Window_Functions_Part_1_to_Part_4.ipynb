{
  "cells": [
    {
      "cell_type": "markdown",
      "source": [
        "# Windows Function in PySpark"
      ],
      "metadata": {
        "id": "Xq9finA0CveE"
      }
    },
    {
      "cell_type": "markdown",
      "source": [
        "Window functions allow you to perform calculations across a set of rows related to the current row within a specified partition. Unlike groupBy functions, window functions do not reduce the number of rows in the result; instead, they calculate a value for each row based on the specified window.\n",
        "\n",
        "\n"
      ],
      "metadata": {
        "id": "4Z8l7lqBVWFg"
      }
    },
    {
      "cell_type": "code",
      "execution_count": 4,
      "metadata": {
        "id": "K9R9pyy1gU2Z"
      },
      "outputs": [],
      "source": [
        "from pyspark.sql import SparkSession\n",
        "from pyspark.sql.types import *\n",
        "from pyspark.sql.functions import *  # Import the function\n",
        "spark = SparkSession.builder.getOrCreate()\n",
        "from pyspark.sql.functions import regexp_replace, col\n",
        "from pyspark.sql.window import Window\n",
        "from google.colab import drive\n"
      ]
    },
    {
      "cell_type": "markdown",
      "source": [
        "## Window Specification\n",
        "A window specification defines how the rows will be grouped (partitioned) and ordered within each group.\n",
        "\n",
        "**Example:**\n",
        "```\n",
        "windowSpec = Window.partitionBy(\"category\").orderBy(\"timestamp\")\n",
        "```\n",
        "\n",
        "```\n",
        "windowSpec = Window.partitionBy(\"category\", \"sub_category\").orderBy(col(\"timeStamp\"), col(\"score\"))\n",
        "\n",
        "```"
      ],
      "metadata": {
        "id": "uSU5x58QVjvb"
      }
    },
    {
      "cell_type": "markdown",
      "source": [
        "## List of Window Functon\n",
        "\n",
        "* Row Number : row_number()\n",
        "```\n",
        "df = df.withColumn(\"row_number\", F.row_number().over(window_spec))\n",
        "```\n",
        "\n",
        "* Rank: rank()\n",
        "Assigns the same rank to rows with the same values in the order criteria. The next rank has a gap.\n",
        "```\n",
        "df = df.withColumn(\"rank\", rank().over(window_spec))\n",
        "```\n",
        "\n",
        "* Dense Rank : dense_rank()\n",
        "Similar to rank(), but does not leave gaps in the ranking.\n",
        "```\n",
        "df.withColumn(\"dense_rank\",dense_rank().over(window_spec))\n",
        "```\n",
        "\n",
        "* Lead and Lag Functions : lead(), lag()\n",
        "  * **lead()**:  Returns the value of the next row within the window.\n",
        "  * **lag()**: Returns the value of the previous row.\n",
        "\n",
        "```\n",
        "df = df.withColumn(\"next_value\", F.lead(\"value\").over(window_spec))\n",
        "\n",
        "df = df.withColumn(\"previous_value\", F.lag(\"value\").over(window_spec))\n",
        "```\n",
        "\n",
        "\n",
        "* Aggregation Functions\n",
        "Window functions can also be used to compute aggregated values over a specified window.\n",
        "  * Sum: F.sum(\"column_name\").over(window_spec)\n",
        "  * Min: F.min(\"column_name\").over(window_spec)\n",
        "  * Max: F.max(\"column_name\").over(window_spec)\n",
        "\n",
        "```\n",
        "df = df.withColumn(\"avg_value\", F.avg(\"value\").over(window_spec))\n",
        "```\n",
        "\n",
        "\n",
        "\n",
        "\n"
      ],
      "metadata": {
        "id": "vl95N-jJXpfA"
      }
    },
    {
      "cell_type": "code",
      "source": [
        "# Create Dtafreame with data\n",
        "data = [\n",
        "    (\"A\", \"X\", 1, \"2023-01-01\"),\n",
        "    (\"A\", \"X\", 2, \"2023-01-02\"),\n",
        "    (\"A\", \"Y\", 3, \"2023-01-01\"),\n",
        "    (\"A\", \"Y\", 3, \"2023-01-02\"),\n",
        "    (\"B\", \"X\", 5, \"2023-01-01\"),\n",
        "    (\"B\", \"X\", 4, \"2023-01-02\"),\n",
        "    ]\n",
        "columns = [\"category\", \"sub_category\", \"value\", \"timestamp\"]\n",
        "df = spark.createDataFrame(data, columns)\n",
        "df.show()\n"
      ],
      "metadata": {
        "id": "F7NiRcU5XbBb",
        "outputId": "52463505-3788-4c8b-82fd-f1e8bda86e3c",
        "colab": {
          "base_uri": "https://localhost:8080/"
        }
      },
      "execution_count": 5,
      "outputs": [
        {
          "output_type": "stream",
          "name": "stdout",
          "text": [
            "+--------+------------+-----+----------+\n",
            "|category|sub_category|value| timestamp|\n",
            "+--------+------------+-----+----------+\n",
            "|       A|           X|    1|2023-01-01|\n",
            "|       A|           X|    2|2023-01-02|\n",
            "|       A|           Y|    3|2023-01-01|\n",
            "|       A|           Y|    3|2023-01-02|\n",
            "|       B|           X|    5|2023-01-01|\n",
            "|       B|           X|    4|2023-01-02|\n",
            "+--------+------------+-----+----------+\n",
            "\n"
          ]
        }
      ]
    },
    {
      "cell_type": "code",
      "source": [
        "# Define the window specification\n",
        "window_spec = Window.partitionBy(\"category\", \"sub_category\").orderBy(col(\"timestamp\"), col(\"value\"))\n",
        "\n",
        "#Apply window function\n",
        "df= df.withColumn(\"row_number\", row_number().over(window_spec))\\\n",
        "      .withColumn(\"rank\", rank().over(window_spec))\\\n",
        "      .withColumn(\"dense_rank\", dense_rank().over(window_spec))\\\n",
        "      .withColumn(\"next_value\", lead(\"value\").over(window_spec))\\\n",
        "      .withColumn(\"previous_value\", lag(\"value\").over(window_spec))\\\n",
        "      .withColumn(\"avg_value\", avg(\"value\").over(window_spec))\n",
        "\n",
        "df.show()\n"
      ],
      "metadata": {
        "id": "wewy-4qKarsm",
        "outputId": "b0b5e531-a7c0-4be0-fc4f-0db9ff2a4169",
        "colab": {
          "base_uri": "https://localhost:8080/"
        }
      },
      "execution_count": 11,
      "outputs": [
        {
          "output_type": "stream",
          "name": "stdout",
          "text": [
            "+--------+------------+-----+----------+----------+----+----------+----------+--------------+---------+\n",
            "|category|sub_category|value| timestamp|row_number|rank|dense_rank|next_value|previous_value|avg_value|\n",
            "+--------+------------+-----+----------+----------+----+----------+----------+--------------+---------+\n",
            "|       A|           X|    1|2023-01-01|         1|   1|         1|         2|          NULL|      1.0|\n",
            "|       A|           X|    2|2023-01-02|         2|   2|         2|      NULL|             1|      1.5|\n",
            "|       A|           Y|    3|2023-01-01|         1|   1|         1|         3|          NULL|      3.0|\n",
            "|       A|           Y|    3|2023-01-02|         2|   2|         2|      NULL|             3|      3.0|\n",
            "|       B|           X|    5|2023-01-01|         1|   1|         1|         4|          NULL|      5.0|\n",
            "|       B|           X|    4|2023-01-02|         2|   2|         2|      NULL|             5|      4.5|\n",
            "+--------+------------+-----+----------+----------+----+----------+----------+--------------+---------+\n",
            "\n"
          ]
        }
      ]
    },
    {
      "cell_type": "markdown",
      "source": [
        "## Windows Function in PySpark Part 2"
      ],
      "metadata": {
        "id": "HfxNreMKeHvP"
      }
    },
    {
      "cell_type": "code",
      "source": [
        "#Sample Data\n",
        "data = [\n",
        "    (\"Alice\", 100),\n",
        "    (\"Bob\", 200),\n",
        "    (\"Charlie\", 200),\n",
        "    (\"David\", 300),\n",
        "    (\"Eve\", 400),\n",
        "    (\"Frank\", 500),\n",
        "    (\"Grace\", 500),\n",
        "    (\"Hank\", 600),\n",
        "    (\"Ivy\", 700),\n",
        "    (\"Jack\", 800)\n",
        "]\n",
        "columns = [\"Name\", \"Score\"]\n",
        "\n",
        "# Create a DataFrame\n",
        "df = spark.createDataFrame(data, columns)\n",
        "df.show()\n",
        "\n"
      ],
      "metadata": {
        "id": "qZYAD4lJa1Ez",
        "outputId": "530acf94-dac2-4f8e-e61e-3c9556ab151b",
        "colab": {
          "base_uri": "https://localhost:8080/"
        }
      },
      "execution_count": 13,
      "outputs": [
        {
          "output_type": "stream",
          "name": "stdout",
          "text": [
            "+-------+-----+\n",
            "|   Name|Score|\n",
            "+-------+-----+\n",
            "|  Alice|  100|\n",
            "|    Bob|  200|\n",
            "|Charlie|  200|\n",
            "|  David|  300|\n",
            "|    Eve|  400|\n",
            "|  Frank|  500|\n",
            "|  Grace|  500|\n",
            "|   Hank|  600|\n",
            "|    Ivy|  700|\n",
            "|   Jack|  800|\n",
            "+-------+-----+\n",
            "\n"
          ]
        }
      ]
    },
    {
      "cell_type": "markdown",
      "source": [
        "### Define a window specification"
      ],
      "metadata": {
        "id": "Q7HlLIwve7tg"
      }
    },
    {
      "cell_type": "code",
      "source": [
        "window_spec = Window.orderBy(\"Score\")"
      ],
      "metadata": {
        "id": "7cFXxYNRe51W"
      },
      "execution_count": 14,
      "outputs": []
    },
    {
      "cell_type": "markdown",
      "source": [
        "### Using rank() to calculate rank"
      ],
      "metadata": {
        "id": "vhKLVxWdfI7W"
      }
    },
    {
      "cell_type": "code",
      "source": [
        "df1 = df.withColumn(\"Rank\", rank().over(window_spec))\n",
        "df1.show()"
      ],
      "metadata": {
        "id": "W3PXSenjeVR2",
        "outputId": "b0f20593-a177-441c-c5c4-b77ca48b168e",
        "colab": {
          "base_uri": "https://localhost:8080/"
        }
      },
      "execution_count": 15,
      "outputs": [
        {
          "output_type": "stream",
          "name": "stdout",
          "text": [
            "+-------+-----+----+\n",
            "|   Name|Score|Rank|\n",
            "+-------+-----+----+\n",
            "|  Alice|  100|   1|\n",
            "|    Bob|  200|   2|\n",
            "|Charlie|  200|   2|\n",
            "|  David|  300|   4|\n",
            "|    Eve|  400|   5|\n",
            "|  Frank|  500|   6|\n",
            "|  Grace|  500|   6|\n",
            "|   Hank|  600|   8|\n",
            "|    Ivy|  700|   9|\n",
            "|   Jack|  800|  10|\n",
            "+-------+-----+----+\n",
            "\n"
          ]
        }
      ]
    },
    {
      "cell_type": "markdown",
      "source": [
        "### Using dense_rank() to calculate dense rank"
      ],
      "metadata": {
        "id": "dRUo8tf0ffii"
      }
    },
    {
      "cell_type": "code",
      "source": [
        "df2 = df.withColumn(\"DenseRank\", dense_rank().over(window_spec))\n",
        "df2.show()"
      ],
      "metadata": {
        "id": "LjHqmUfofafI",
        "outputId": "142911c5-2b64-47b0-a79c-ad0167e9e83f",
        "colab": {
          "base_uri": "https://localhost:8080/"
        }
      },
      "execution_count": 16,
      "outputs": [
        {
          "output_type": "stream",
          "name": "stdout",
          "text": [
            "+-------+-----+---------+\n",
            "|   Name|Score|DenseRank|\n",
            "+-------+-----+---------+\n",
            "|  Alice|  100|        1|\n",
            "|    Bob|  200|        2|\n",
            "|Charlie|  200|        2|\n",
            "|  David|  300|        3|\n",
            "|    Eve|  400|        4|\n",
            "|  Frank|  500|        5|\n",
            "|  Grace|  500|        5|\n",
            "|   Hank|  600|        6|\n",
            "|    Ivy|  700|        7|\n",
            "|   Jack|  800|        8|\n",
            "+-------+-----+---------+\n",
            "\n"
          ]
        }
      ]
    },
    {
      "cell_type": "markdown",
      "source": [
        "### Using row_number() to calculate row number"
      ],
      "metadata": {
        "id": "_A0Q7jCbf-k4"
      }
    },
    {
      "cell_type": "code",
      "source": [
        "df3 = df.withColumn(\"Row_Number\", row_number().over(window_spec))\n",
        "df3.show()"
      ],
      "metadata": {
        "id": "1zKPz0a-f0UK",
        "outputId": "2d97775e-b7d2-43b6-d640-cab456ddadb5",
        "colab": {
          "base_uri": "https://localhost:8080/"
        }
      },
      "execution_count": 19,
      "outputs": [
        {
          "output_type": "stream",
          "name": "stdout",
          "text": [
            "+-------+-----+----------+\n",
            "|   Name|Score|Row_Number|\n",
            "+-------+-----+----------+\n",
            "|  Alice|  100|         1|\n",
            "|    Bob|  200|         2|\n",
            "|Charlie|  200|         3|\n",
            "|  David|  300|         4|\n",
            "|    Eve|  400|         5|\n",
            "|  Frank|  500|         6|\n",
            "|  Grace|  500|         7|\n",
            "|   Hank|  600|         8|\n",
            "|    Ivy|  700|         9|\n",
            "|   Jack|  800|        10|\n",
            "+-------+-----+----------+\n",
            "\n"
          ]
        }
      ]
    },
    {
      "cell_type": "markdown",
      "source": [
        "### Using lead() to calculate the difference with the next row"
      ],
      "metadata": {
        "id": "yOF4Iy-IggGD"
      }
    },
    {
      "cell_type": "code",
      "source": [
        "df4 = df.withColumn(\"ScoreDifferenceWithNext\", lead(\"Score\").over(window_spec) - df[\"Score\"])\n",
        "df4.show()"
      ],
      "metadata": {
        "id": "Um9AmZg9gP-m",
        "outputId": "4ca548ca-7dfd-4800-ce7c-6241a0623a86",
        "colab": {
          "base_uri": "https://localhost:8080/"
        }
      },
      "execution_count": 21,
      "outputs": [
        {
          "output_type": "stream",
          "name": "stdout",
          "text": [
            "+-------+-----+-----------------------+\n",
            "|   Name|Score|ScoreDifferenceWithNext|\n",
            "+-------+-----+-----------------------+\n",
            "|  Alice|  100|                    100|\n",
            "|    Bob|  200|                      0|\n",
            "|Charlie|  200|                    100|\n",
            "|  David|  300|                    100|\n",
            "|    Eve|  400|                    100|\n",
            "|  Frank|  500|                      0|\n",
            "|  Grace|  500|                    100|\n",
            "|   Hank|  600|                    100|\n",
            "|    Ivy|  700|                    100|\n",
            "|   Jack|  800|                   NULL|\n",
            "+-------+-----+-----------------------+\n",
            "\n"
          ]
        }
      ]
    },
    {
      "cell_type": "markdown",
      "source": [
        "### Using lag() to calculate the difference with the previous row"
      ],
      "metadata": {
        "id": "jz2vy-Q8hSd9"
      }
    },
    {
      "cell_type": "code",
      "source": [
        "df5 = df.withColumn(\"ScoreDifferenceWithNext\", df[\"Score\"] - lag(\"Score\").over(window_spec))\n",
        "df5.show()"
      ],
      "metadata": {
        "id": "x1e-v3kFg-SB",
        "outputId": "963141b2-194f-4ff0-c9b6-9cd92304c44b",
        "colab": {
          "base_uri": "https://localhost:8080/"
        }
      },
      "execution_count": 26,
      "outputs": [
        {
          "output_type": "stream",
          "name": "stdout",
          "text": [
            "+-------+-----+-----------------------+\n",
            "|   Name|Score|ScoreDifferenceWithNext|\n",
            "+-------+-----+-----------------------+\n",
            "|  Alice|  100|                   NULL|\n",
            "|    Bob|  200|                    100|\n",
            "|Charlie|  200|                      0|\n",
            "|  David|  300|                    100|\n",
            "|    Eve|  400|                    100|\n",
            "|  Frank|  500|                    100|\n",
            "|  Grace|  500|                      0|\n",
            "|   Hank|  600|                    100|\n",
            "|    Ivy|  700|                    100|\n",
            "|   Jack|  800|                    100|\n",
            "+-------+-----+-----------------------+\n",
            "\n"
          ]
        }
      ]
    },
    {
      "cell_type": "markdown",
      "source": [],
      "metadata": {
        "id": "CMTB5blIkanY"
      }
    },
    {
      "cell_type": "code",
      "source": [],
      "metadata": {
        "id": "fsKvOWgFhtBH"
      },
      "execution_count": null,
      "outputs": []
    }
  ],
  "metadata": {
    "colab": {
      "provenance": []
    },
    "kernelspec": {
      "display_name": "Python 3",
      "name": "python3"
    },
    "language_info": {
      "name": "python"
    }
  },
  "nbformat": 4,
  "nbformat_minor": 0
}