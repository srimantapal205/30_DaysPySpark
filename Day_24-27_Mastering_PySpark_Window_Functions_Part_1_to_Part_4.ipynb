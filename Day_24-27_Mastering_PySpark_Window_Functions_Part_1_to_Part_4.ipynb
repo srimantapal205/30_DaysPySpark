{
  "cells": [
    {
      "cell_type": "markdown",
      "source": [
        "# Windows Function in PySpark"
      ],
      "metadata": {
        "id": "Xq9finA0CveE"
      }
    },
    {
      "cell_type": "markdown",
      "source": [
        "Window functions allow you to perform calculations across a set of rows related to the current row within a specified partition. Unlike groupBy functions, window functions do not reduce the number of rows in the result; instead, they calculate a value for each row based on the specified window.\n",
        "\n",
        "\n"
      ],
      "metadata": {
        "id": "4Z8l7lqBVWFg"
      }
    },
    {
      "cell_type": "code",
      "execution_count": 1,
      "metadata": {
        "id": "K9R9pyy1gU2Z"
      },
      "outputs": [],
      "source": [
        "from pyspark.sql import SparkSession\n",
        "from pyspark.sql.types import *\n",
        "from pyspark.sql.functions import *  # Import the function\n",
        "spark = SparkSession.builder.getOrCreate()\n",
        "from pyspark.sql.functions import regexp_replace, col\n",
        "from pyspark.sql.window import Window\n",
        "from google.colab import drive\n"
      ]
    },
    {
      "cell_type": "markdown",
      "source": [
        "## Window Specification\n",
        "A window specification defines how the rows will be grouped (partitioned) and ordered within each group.\n",
        "\n",
        "**Example:**\n",
        "```\n",
        "windowSpec = Window.partitionBy(\"category\").orderBy(\"timestamp\")\n",
        "```\n",
        "\n",
        "```\n",
        "windowSpec = Window.partitionBy(\"category\", \"sub_category\").orderBy(col(\"timeStamp\"), col(\"score\"))\n",
        "\n",
        "```"
      ],
      "metadata": {
        "id": "uSU5x58QVjvb"
      }
    },
    {
      "cell_type": "markdown",
      "source": [
        "## List of Window Functon\n",
        "\n",
        "* Row Number : row_number()\n",
        "```\n",
        "df = df.withColumn(\"row_number\", F.row_number().over(window_spec))\n",
        "```\n",
        "\n",
        "* Rank: rank()\n",
        "Assigns the same rank to rows with the same values in the order criteria. The next rank has a gap.\n",
        "```\n",
        "df = df.withColumn(\"rank\", rank().over(window_spec))\n",
        "```\n",
        "\n",
        "* Dense Rank : dense_rank()\n",
        "Similar to rank(), but does not leave gaps in the ranking.\n",
        "```\n",
        "df.withColumn(\"dense_rank\",dense_rank().over(window_spec))\n",
        "```\n",
        "\n",
        "* Lead and Lag Functions : lead(), lag()\n",
        "  * **lead()**:  Returns the value of the next row within the window.\n",
        "  * **lag()**: Returns the value of the previous row.\n",
        "\n",
        "```\n",
        "df = df.withColumn(\"next_value\", F.lead(\"value\").over(window_spec))\n",
        "\n",
        "df = df.withColumn(\"previous_value\", F.lag(\"value\").over(window_spec))\n",
        "```\n",
        "\n",
        "\n",
        "* Aggregation Functions\n",
        "Window functions can also be used to compute aggregated values over a specified window.\n",
        "  * Sum: F.sum(\"column_name\").over(window_spec)\n",
        "  * Min: F.min(\"column_name\").over(window_spec)\n",
        "  * Max: F.max(\"column_name\").over(window_spec)\n",
        "\n",
        "```\n",
        "df = df.withColumn(\"avg_value\", F.avg(\"value\").over(window_spec))\n",
        "```\n",
        "\n",
        "\n",
        "\n",
        "\n"
      ],
      "metadata": {
        "id": "vl95N-jJXpfA"
      }
    },
    {
      "cell_type": "code",
      "source": [
        "# Create Dtafreame with data\n",
        "data = [\n",
        "    (\"A\", \"X\", 1, \"2023-01-01\"),\n",
        "    (\"A\", \"X\", 2, \"2023-01-02\"),\n",
        "    (\"A\", \"Y\", 3, \"2023-01-01\"),\n",
        "    (\"A\", \"Y\", 3, \"2023-01-02\"),\n",
        "    (\"B\", \"X\", 5, \"2023-01-01\"),\n",
        "    (\"B\", \"X\", 4, \"2023-01-02\"),\n",
        "    ]\n",
        "columns = [\"category\", \"sub_category\", \"value\", \"timestamp\"]\n",
        "df = spark.createDataFrame(data, columns)\n",
        "df.show()\n"
      ],
      "metadata": {
        "id": "F7NiRcU5XbBb",
        "outputId": "4bb5ffd0-1ad5-40ba-8e38-5165b0a6aa82",
        "colab": {
          "base_uri": "https://localhost:8080/"
        }
      },
      "execution_count": 2,
      "outputs": [
        {
          "output_type": "stream",
          "name": "stdout",
          "text": [
            "+--------+------------+-----+----------+\n",
            "|category|sub_category|value| timestamp|\n",
            "+--------+------------+-----+----------+\n",
            "|       A|           X|    1|2023-01-01|\n",
            "|       A|           X|    2|2023-01-02|\n",
            "|       A|           Y|    3|2023-01-01|\n",
            "|       A|           Y|    3|2023-01-02|\n",
            "|       B|           X|    5|2023-01-01|\n",
            "|       B|           X|    4|2023-01-02|\n",
            "+--------+------------+-----+----------+\n",
            "\n"
          ]
        }
      ]
    },
    {
      "cell_type": "code",
      "source": [
        "# Define the window specification\n",
        "window_spec = Window.partitionBy(\"category\", \"sub_category\").orderBy(col(\"timestamp\"), col(\"value\"))\n",
        "\n",
        "#Apply window function\n",
        "df= df.withColumn(\"row_number\", row_number().over(window_spec))\\\n",
        "      .withColumn(\"rank\", rank().over(window_spec))\\\n",
        "      .withColumn(\"dense_rank\", dense_rank().over(window_spec))\\\n",
        "      .withColumn(\"next_value\", lead(\"value\").over(window_spec))\\\n",
        "      .withColumn(\"previous_value\", lag(\"value\").over(window_spec))\\\n",
        "      .withColumn(\"avg_value\", avg(\"value\").over(window_spec))\n",
        "\n",
        "df.show()\n"
      ],
      "metadata": {
        "id": "wewy-4qKarsm",
        "outputId": "3e91b821-439b-4267-fb5a-29e731159907",
        "colab": {
          "base_uri": "https://localhost:8080/"
        }
      },
      "execution_count": 3,
      "outputs": [
        {
          "output_type": "stream",
          "name": "stdout",
          "text": [
            "+--------+------------+-----+----------+----------+----+----------+----------+--------------+---------+\n",
            "|category|sub_category|value| timestamp|row_number|rank|dense_rank|next_value|previous_value|avg_value|\n",
            "+--------+------------+-----+----------+----------+----+----------+----------+--------------+---------+\n",
            "|       A|           X|    1|2023-01-01|         1|   1|         1|         2|          NULL|      1.0|\n",
            "|       A|           X|    2|2023-01-02|         2|   2|         2|      NULL|             1|      1.5|\n",
            "|       A|           Y|    3|2023-01-01|         1|   1|         1|         3|          NULL|      3.0|\n",
            "|       A|           Y|    3|2023-01-02|         2|   2|         2|      NULL|             3|      3.0|\n",
            "|       B|           X|    5|2023-01-01|         1|   1|         1|         4|          NULL|      5.0|\n",
            "|       B|           X|    4|2023-01-02|         2|   2|         2|      NULL|             5|      4.5|\n",
            "+--------+------------+-----+----------+----------+----+----------+----------+--------------+---------+\n",
            "\n"
          ]
        }
      ]
    },
    {
      "cell_type": "markdown",
      "source": [
        "## Windows Function in PySpark Part 2"
      ],
      "metadata": {
        "id": "HfxNreMKeHvP"
      }
    },
    {
      "cell_type": "code",
      "source": [
        "#Sample Data\n",
        "data = [\n",
        "    (\"Alice\", 100),\n",
        "    (\"Bob\", 200),\n",
        "    (\"Charlie\", 200),\n",
        "    (\"David\", 300),\n",
        "    (\"Eve\", 400),\n",
        "    (\"Frank\", 500),\n",
        "    (\"Grace\", 500),\n",
        "    (\"Hank\", 600),\n",
        "    (\"Ivy\", 700),\n",
        "    (\"Jack\", 800)\n",
        "]\n",
        "columns = [\"Name\", \"Score\"]\n",
        "\n",
        "# Create a DataFrame\n",
        "df = spark.createDataFrame(data, columns)\n",
        "df.show()\n",
        "\n"
      ],
      "metadata": {
        "id": "qZYAD4lJa1Ez",
        "outputId": "88cbd562-78e7-4857-9d83-aee3376756cc",
        "colab": {
          "base_uri": "https://localhost:8080/"
        }
      },
      "execution_count": 4,
      "outputs": [
        {
          "output_type": "stream",
          "name": "stdout",
          "text": [
            "+-------+-----+\n",
            "|   Name|Score|\n",
            "+-------+-----+\n",
            "|  Alice|  100|\n",
            "|    Bob|  200|\n",
            "|Charlie|  200|\n",
            "|  David|  300|\n",
            "|    Eve|  400|\n",
            "|  Frank|  500|\n",
            "|  Grace|  500|\n",
            "|   Hank|  600|\n",
            "|    Ivy|  700|\n",
            "|   Jack|  800|\n",
            "+-------+-----+\n",
            "\n"
          ]
        }
      ]
    },
    {
      "cell_type": "markdown",
      "source": [
        "### Define a window specification"
      ],
      "metadata": {
        "id": "Q7HlLIwve7tg"
      }
    },
    {
      "cell_type": "code",
      "source": [
        "window_spec = Window.orderBy(\"Score\")"
      ],
      "metadata": {
        "id": "7cFXxYNRe51W"
      },
      "execution_count": 5,
      "outputs": []
    },
    {
      "cell_type": "markdown",
      "source": [
        "### Using rank() to calculate rank"
      ],
      "metadata": {
        "id": "vhKLVxWdfI7W"
      }
    },
    {
      "cell_type": "code",
      "source": [
        "df1 = df.withColumn(\"Rank\", rank().over(window_spec))\n",
        "df1.show()"
      ],
      "metadata": {
        "id": "W3PXSenjeVR2",
        "outputId": "ce363a9b-bba4-4a91-db4c-a2baf182ec61",
        "colab": {
          "base_uri": "https://localhost:8080/"
        }
      },
      "execution_count": 6,
      "outputs": [
        {
          "output_type": "stream",
          "name": "stdout",
          "text": [
            "+-------+-----+----+\n",
            "|   Name|Score|Rank|\n",
            "+-------+-----+----+\n",
            "|  Alice|  100|   1|\n",
            "|    Bob|  200|   2|\n",
            "|Charlie|  200|   2|\n",
            "|  David|  300|   4|\n",
            "|    Eve|  400|   5|\n",
            "|  Frank|  500|   6|\n",
            "|  Grace|  500|   6|\n",
            "|   Hank|  600|   8|\n",
            "|    Ivy|  700|   9|\n",
            "|   Jack|  800|  10|\n",
            "+-------+-----+----+\n",
            "\n"
          ]
        }
      ]
    },
    {
      "cell_type": "markdown",
      "source": [
        "### Using dense_rank() to calculate dense rank"
      ],
      "metadata": {
        "id": "dRUo8tf0ffii"
      }
    },
    {
      "cell_type": "code",
      "source": [
        "df2 = df.withColumn(\"DenseRank\", dense_rank().over(window_spec))\n",
        "df2.show()"
      ],
      "metadata": {
        "id": "LjHqmUfofafI",
        "outputId": "81ae14e0-8863-4c7b-b041-4c8c756fa55c",
        "colab": {
          "base_uri": "https://localhost:8080/"
        }
      },
      "execution_count": 7,
      "outputs": [
        {
          "output_type": "stream",
          "name": "stdout",
          "text": [
            "+-------+-----+---------+\n",
            "|   Name|Score|DenseRank|\n",
            "+-------+-----+---------+\n",
            "|  Alice|  100|        1|\n",
            "|    Bob|  200|        2|\n",
            "|Charlie|  200|        2|\n",
            "|  David|  300|        3|\n",
            "|    Eve|  400|        4|\n",
            "|  Frank|  500|        5|\n",
            "|  Grace|  500|        5|\n",
            "|   Hank|  600|        6|\n",
            "|    Ivy|  700|        7|\n",
            "|   Jack|  800|        8|\n",
            "+-------+-----+---------+\n",
            "\n"
          ]
        }
      ]
    },
    {
      "cell_type": "markdown",
      "source": [
        "### Using row_number() to calculate row number"
      ],
      "metadata": {
        "id": "_A0Q7jCbf-k4"
      }
    },
    {
      "cell_type": "code",
      "source": [
        "df3 = df.withColumn(\"Row_Number\", row_number().over(window_spec))\n",
        "df3.show()"
      ],
      "metadata": {
        "id": "1zKPz0a-f0UK",
        "outputId": "92893bcf-779c-42bb-f7fa-69993e13a1b4",
        "colab": {
          "base_uri": "https://localhost:8080/"
        }
      },
      "execution_count": 8,
      "outputs": [
        {
          "output_type": "stream",
          "name": "stdout",
          "text": [
            "+-------+-----+----------+\n",
            "|   Name|Score|Row_Number|\n",
            "+-------+-----+----------+\n",
            "|  Alice|  100|         1|\n",
            "|    Bob|  200|         2|\n",
            "|Charlie|  200|         3|\n",
            "|  David|  300|         4|\n",
            "|    Eve|  400|         5|\n",
            "|  Frank|  500|         6|\n",
            "|  Grace|  500|         7|\n",
            "|   Hank|  600|         8|\n",
            "|    Ivy|  700|         9|\n",
            "|   Jack|  800|        10|\n",
            "+-------+-----+----------+\n",
            "\n"
          ]
        }
      ]
    },
    {
      "cell_type": "markdown",
      "source": [
        "### Using lead() to calculate the difference with the next row"
      ],
      "metadata": {
        "id": "yOF4Iy-IggGD"
      }
    },
    {
      "cell_type": "code",
      "source": [
        "df4 = df.withColumn(\"ScoreDifferenceWithNext\", lead(\"Score\").over(window_spec) - df[\"Score\"])\n",
        "df4.show()"
      ],
      "metadata": {
        "id": "Um9AmZg9gP-m",
        "outputId": "8a6919da-1849-436e-e5fb-13ab8c10a11f",
        "colab": {
          "base_uri": "https://localhost:8080/"
        }
      },
      "execution_count": 9,
      "outputs": [
        {
          "output_type": "stream",
          "name": "stdout",
          "text": [
            "+-------+-----+-----------------------+\n",
            "|   Name|Score|ScoreDifferenceWithNext|\n",
            "+-------+-----+-----------------------+\n",
            "|  Alice|  100|                    100|\n",
            "|    Bob|  200|                      0|\n",
            "|Charlie|  200|                    100|\n",
            "|  David|  300|                    100|\n",
            "|    Eve|  400|                    100|\n",
            "|  Frank|  500|                      0|\n",
            "|  Grace|  500|                    100|\n",
            "|   Hank|  600|                    100|\n",
            "|    Ivy|  700|                    100|\n",
            "|   Jack|  800|                   NULL|\n",
            "+-------+-----+-----------------------+\n",
            "\n"
          ]
        }
      ]
    },
    {
      "cell_type": "markdown",
      "source": [
        "### Using lag() to calculate the difference with the previous row"
      ],
      "metadata": {
        "id": "jz2vy-Q8hSd9"
      }
    },
    {
      "cell_type": "code",
      "source": [
        "df5 = df.withColumn(\"ScoreDifferenceWithNext\", df[\"Score\"] - lag(\"Score\").over(window_spec))\n",
        "df5.show()"
      ],
      "metadata": {
        "id": "x1e-v3kFg-SB",
        "outputId": "bf016da9-43ac-47a4-91a7-c78db069971f",
        "colab": {
          "base_uri": "https://localhost:8080/"
        }
      },
      "execution_count": 10,
      "outputs": [
        {
          "output_type": "stream",
          "name": "stdout",
          "text": [
            "+-------+-----+-----------------------+\n",
            "|   Name|Score|ScoreDifferenceWithNext|\n",
            "+-------+-----+-----------------------+\n",
            "|  Alice|  100|                   NULL|\n",
            "|    Bob|  200|                    100|\n",
            "|Charlie|  200|                      0|\n",
            "|  David|  300|                    100|\n",
            "|    Eve|  400|                    100|\n",
            "|  Frank|  500|                    100|\n",
            "|  Grace|  500|                      0|\n",
            "|   Hank|  600|                    100|\n",
            "|    Ivy|  700|                    100|\n",
            "|   Jack|  800|                    100|\n",
            "+-------+-----+-----------------------+\n",
            "\n"
          ]
        }
      ]
    },
    {
      "cell_type": "markdown",
      "source": [
        "## Part 3"
      ],
      "metadata": {
        "id": "CMTB5blIkanY"
      }
    },
    {
      "cell_type": "code",
      "source": [
        "data6 = [\n",
        "    (\"Alice\", \"Math\", 90, 1),\n",
        "    (\"Alice\", \"Science\", 85, 1),\n",
        "    (\"Alice\", \"History\", 78, 1),\n",
        "    (\"Bob\", \"Math\", 80, 1),\n",
        "    (\"Bob\", \"Science\", 81, 1),\n",
        "    (\"Bob\", \"History\", 77, 1),\n",
        "    (\"Charlie\", \"Math\", 75, 1),\n",
        "    (\"Charlie\", \"Science\", 82, 1),\n",
        "    (\"Charlie\", \"History\", 79, 1),\n",
        "    (\"Alice\", \"Physics\", 86, 2),\n",
        "    (\"Alice\", \"Chemistry\", 92, 2),\n",
        "    (\"Alice\", \"Biology\", 80, 2),\n",
        "    (\"Bob\", \"Physics\", 94, 2),\n",
        "    (\"Bob\", \"Chemistry\", 91, 2),\n",
        "    (\"Bob\", \"Biology\", 96, 2),\n",
        "    (\"Charlie\", \"Physics\", 89, 2),\n",
        "    (\"Charlie\", \"Chemistry\", 88, 2),\n",
        "    (\"Charlie\", \"Biology\", 85, 2),\n",
        "    (\"Alice\", \"Computer Science\", 95, 3),\n",
        "    (\"Alice\", \"Electronics\", 91, 3),\n",
        "    (\"Alice\", \"Geography\", 97, 3),\n",
        "    (\"Bob\", \"Computer Science\", 88, 3),\n",
        "    (\"Bob\", \"Electronics\", 66, 3),\n",
        "    (\"Bob\", \"Geography\", 92, 3),\n",
        "    (\"Charlie\", \"Computer Science\", 92, 3),\n",
        "    (\"Charlie\", \"Electronics\", 97, 3),\n",
        "    (\"Charlie\", \"Geography\", 99, 3)\n",
        "  ]\n",
        "columns = [\"First Name\", \"Subject\", \"Marks\", \"Semester\"]\n",
        "#Craete DataFrame\n",
        "df7 = spark.createDataFrame(data6, columns)\n",
        "df7.show(100)\n"
      ],
      "metadata": {
        "id": "fsKvOWgFhtBH",
        "outputId": "c4d2775d-6435-440b-a94f-9d3e8437eaba",
        "colab": {
          "base_uri": "https://localhost:8080/"
        }
      },
      "execution_count": 21,
      "outputs": [
        {
          "output_type": "stream",
          "name": "stdout",
          "text": [
            "+----------+----------------+-----+--------+\n",
            "|First Name|         Subject|Marks|Semester|\n",
            "+----------+----------------+-----+--------+\n",
            "|     Alice|            Math|   90|       1|\n",
            "|     Alice|         Science|   85|       1|\n",
            "|     Alice|         History|   78|       1|\n",
            "|       Bob|            Math|   80|       1|\n",
            "|       Bob|         Science|   81|       1|\n",
            "|       Bob|         History|   77|       1|\n",
            "|   Charlie|            Math|   75|       1|\n",
            "|   Charlie|         Science|   82|       1|\n",
            "|   Charlie|         History|   79|       1|\n",
            "|     Alice|         Physics|   86|       2|\n",
            "|     Alice|       Chemistry|   92|       2|\n",
            "|     Alice|         Biology|   80|       2|\n",
            "|       Bob|         Physics|   94|       2|\n",
            "|       Bob|       Chemistry|   91|       2|\n",
            "|       Bob|         Biology|   96|       2|\n",
            "|   Charlie|         Physics|   89|       2|\n",
            "|   Charlie|       Chemistry|   88|       2|\n",
            "|   Charlie|         Biology|   85|       2|\n",
            "|     Alice|Computer Science|   95|       3|\n",
            "|     Alice|     Electronics|   91|       3|\n",
            "|     Alice|       Geography|   97|       3|\n",
            "|       Bob|Computer Science|   88|       3|\n",
            "|       Bob|     Electronics|   66|       3|\n",
            "|       Bob|       Geography|   92|       3|\n",
            "|   Charlie|Computer Science|   92|       3|\n",
            "|   Charlie|     Electronics|   97|       3|\n",
            "|   Charlie|       Geography|   99|       3|\n",
            "+----------+----------------+-----+--------+\n",
            "\n"
          ]
        }
      ]
    },
    {
      "cell_type": "markdown",
      "source": [
        "### # 1. Which student scored max marks in each semester considering all subjects"
      ],
      "metadata": {
        "id": "2KDx__j3xXqT"
      }
    },
    {
      "cell_type": "code",
      "source": [
        "window_spec_max_marks = Window.partitionBy(\"Semester\").orderBy(desc(\"Marks\"))\n",
        "max_mark_df = df7.withColumn(\"Rank\", rank().over(window_spec_max_marks))\n",
        "max_mark_df.show(100)\n",
        "top_scorer = max_mark_df.filter(col(\"Rank\") == 1)\n",
        "print('Top Scorer Each Semester')\n",
        "top_scorer.show()"
      ],
      "metadata": {
        "id": "p1-SBorBxZK-",
        "outputId": "97df2867-07c8-41c1-c3fb-45460d0dea9e",
        "colab": {
          "base_uri": "https://localhost:8080/"
        }
      },
      "execution_count": 22,
      "outputs": [
        {
          "output_type": "stream",
          "name": "stdout",
          "text": [
            "+----------+----------------+-----+--------+----+\n",
            "|First Name|         Subject|Marks|Semester|Rank|\n",
            "+----------+----------------+-----+--------+----+\n",
            "|     Alice|            Math|   90|       1|   1|\n",
            "|     Alice|         Science|   85|       1|   2|\n",
            "|   Charlie|         Science|   82|       1|   3|\n",
            "|       Bob|         Science|   81|       1|   4|\n",
            "|       Bob|            Math|   80|       1|   5|\n",
            "|   Charlie|         History|   79|       1|   6|\n",
            "|     Alice|         History|   78|       1|   7|\n",
            "|       Bob|         History|   77|       1|   8|\n",
            "|   Charlie|            Math|   75|       1|   9|\n",
            "|       Bob|         Biology|   96|       2|   1|\n",
            "|       Bob|         Physics|   94|       2|   2|\n",
            "|     Alice|       Chemistry|   92|       2|   3|\n",
            "|       Bob|       Chemistry|   91|       2|   4|\n",
            "|   Charlie|         Physics|   89|       2|   5|\n",
            "|   Charlie|       Chemistry|   88|       2|   6|\n",
            "|     Alice|         Physics|   86|       2|   7|\n",
            "|   Charlie|         Biology|   85|       2|   8|\n",
            "|     Alice|         Biology|   80|       2|   9|\n",
            "|   Charlie|       Geography|   99|       3|   1|\n",
            "|     Alice|       Geography|   97|       3|   2|\n",
            "|   Charlie|     Electronics|   97|       3|   2|\n",
            "|     Alice|Computer Science|   95|       3|   4|\n",
            "|       Bob|       Geography|   92|       3|   5|\n",
            "|   Charlie|Computer Science|   92|       3|   5|\n",
            "|     Alice|     Electronics|   91|       3|   7|\n",
            "|       Bob|Computer Science|   88|       3|   8|\n",
            "|       Bob|     Electronics|   66|       3|   9|\n",
            "+----------+----------------+-----+--------+----+\n",
            "\n",
            "Top Scorer Each Semester\n",
            "+----------+---------+-----+--------+----+\n",
            "|First Name|  Subject|Marks|Semester|Rank|\n",
            "+----------+---------+-----+--------+----+\n",
            "|     Alice|     Math|   90|       1|   1|\n",
            "|       Bob|  Biology|   96|       2|   1|\n",
            "|   Charlie|Geography|   99|       3|   1|\n",
            "+----------+---------+-----+--------+----+\n",
            "\n"
          ]
        }
      ]
    },
    {
      "cell_type": "markdown",
      "source": [
        "### 2. Percentage of each student considering all subjects"
      ],
      "metadata": {
        "id": "fYrCugHx0V0h"
      }
    },
    {
      "cell_type": "code",
      "source": [
        "window_spec_total_marks = Window.partitionBy(\"First Name\", \"Semester\")\n",
        "\n",
        "df8 = df7.withColumn(\"Total_Marks\", sum(\"Marks\").over(window_spec_total_marks))\n",
        "df8 = df8.withColumn(\"Percentage\", (col(\"Total_Marks\")/(3*100)).cast(\"decimal(5,2)\")*100)\n",
        "\n",
        "df9 = df8.groupBy(\"First Name\", \"Semester\").agg(max(\"Total_Marks\"), max(\"Percentage\"))\n",
        "df9.show()"
      ],
      "metadata": {
        "id": "kVOAWgzdyeF3",
        "outputId": "f5014c81-74ae-4da2-9e11-b1ebb663e898",
        "colab": {
          "base_uri": "https://localhost:8080/"
        }
      },
      "execution_count": 20,
      "outputs": [
        {
          "output_type": "stream",
          "name": "stdout",
          "text": [
            "+----------+--------+----------------+---------------+\n",
            "|First Name|Semester|max(Total_Marks)|max(Percentage)|\n",
            "+----------+--------+----------------+---------------+\n",
            "|     Alice|       1|             253|          84.00|\n",
            "|     Alice|       2|             258|          86.00|\n",
            "|     Alice|       3|             283|          94.00|\n",
            "|       Bob|       1|             238|          79.00|\n",
            "|       Bob|       2|             281|          94.00|\n",
            "|       Bob|       3|             246|          82.00|\n",
            "|   Charlie|       1|             236|          79.00|\n",
            "|   Charlie|       2|             262|          87.00|\n",
            "|   Charlie|       3|             288|          96.00|\n",
            "+----------+--------+----------------+---------------+\n",
            "\n"
          ]
        }
      ]
    },
    {
      "cell_type": "markdown",
      "source": [
        "### 3. Who is the top rank holder in each semester considering all subjects"
      ],
      "metadata": {
        "id": "weFO4rZM3V8z"
      }
    },
    {
      "cell_type": "code",
      "source": [
        "window_spec_rank = Window.partitionBy(\"Semester\").orderBy(desc(\"Percentage\"))\n",
        "rank_df = df8.withColumn(\"Rank\", dense_rank().over(window_spec_rank))\n",
        "\n",
        "top_rank_holder = rank_df.filter(col(\"Rank\") == 1).select(\"First Name\", \"Semester\", \"Percentage\", \"Rank\" ).distinct()\n",
        "print('Top Rank Holder Each Semester')\n",
        "top_rank_holder.show()"
      ],
      "metadata": {
        "id": "eGyAhvk9z28d",
        "outputId": "a7bf6644-d31e-4ca2-866d-1561364de190",
        "colab": {
          "base_uri": "https://localhost:8080/"
        }
      },
      "execution_count": 31,
      "outputs": [
        {
          "output_type": "stream",
          "name": "stdout",
          "text": [
            "Top Rank Holder Each Semester\n",
            "+----------+--------+----------+----+\n",
            "|First Name|Semester|Percentage|Rank|\n",
            "+----------+--------+----------+----+\n",
            "|     Alice|       1|     84.00|   1|\n",
            "|       Bob|       2|     94.00|   1|\n",
            "|   Charlie|       3|     96.00|   1|\n",
            "+----------+--------+----------+----+\n",
            "\n"
          ]
        }
      ]
    },
    {
      "cell_type": "markdown",
      "source": [
        "### # 4. Who scored max marks in each subject in each semester"
      ],
      "metadata": {
        "id": "KcjtEgqj7N9y"
      }
    },
    {
      "cell_type": "code",
      "source": [
        "window_spec_max_subject_marks = Window.partitionBy(\"Semester\", \"Subject\").orderBy(desc(\"Marks\"))\n",
        "max_subject_mark_df = df8.withColumn(\"Rank\", rank().over(window_spec_max_subject_marks))\n",
        "\n",
        "\n",
        "max_subject_scorer = max_subject_mark_df.filter(col(\"Rank\") == 1)\n",
        "print(\"Max Subject Scorer\")\n",
        "max_subject_scorer.show()"
      ],
      "metadata": {
        "id": "Cp99-Amt35gq",
        "outputId": "cc17a9f0-a5dc-4812-dad1-31b3c5b713cb",
        "colab": {
          "base_uri": "https://localhost:8080/"
        }
      },
      "execution_count": 37,
      "outputs": [
        {
          "output_type": "stream",
          "name": "stdout",
          "text": [
            "Max Subject Scorer\n",
            "+----------+----------------+-----+--------+-----------+----------+----+\n",
            "|First Name|         Subject|Marks|Semester|Total_Marks|Percentage|Rank|\n",
            "+----------+----------------+-----+--------+-----------+----------+----+\n",
            "|   Charlie|         History|   79|       1|        236|     79.00|   1|\n",
            "|     Alice|            Math|   90|       1|        253|     84.00|   1|\n",
            "|     Alice|         Science|   85|       1|        253|     84.00|   1|\n",
            "|       Bob|         Biology|   96|       2|        281|     94.00|   1|\n",
            "|     Alice|       Chemistry|   92|       2|        258|     86.00|   1|\n",
            "|       Bob|         Physics|   94|       2|        281|     94.00|   1|\n",
            "|     Alice|Computer Science|   95|       3|        283|     94.00|   1|\n",
            "|   Charlie|     Electronics|   97|       3|        288|     96.00|   1|\n",
            "|   Charlie|       Geography|   99|       3|        288|     96.00|   1|\n",
            "+----------+----------------+-----+--------+-----------+----------+----+\n",
            "\n"
          ]
        }
      ]
    },
    {
      "cell_type": "code",
      "source": [],
      "metadata": {
        "id": "2pfBnxq87hox"
      },
      "execution_count": null,
      "outputs": []
    }
  ],
  "metadata": {
    "colab": {
      "provenance": []
    },
    "kernelspec": {
      "display_name": "Python 3",
      "name": "python3"
    },
    "language_info": {
      "name": "python"
    }
  },
  "nbformat": 4,
  "nbformat_minor": 0
}